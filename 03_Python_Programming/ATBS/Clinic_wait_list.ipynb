{
 "cells": [
  {
   "cell_type": "code",
   "execution_count": 3,
   "id": "32953ca2-7bcd-4e79-804a-b3e19ba3706f",
   "metadata": {},
   "outputs": [
    {
     "name": "stdout",
     "output_type": "stream",
     "text": [
      "Now serving (on time): Patient 7\n",
      "Now serving (late): Patient 3\n",
      "Now serving (on time): Patient 8\n",
      "Now serving (late): Patient 5\n",
      "Now serving (on time): Patient 9\n",
      "Now serving (on time): Patient 10\n"
     ]
    }
   ],
   "source": [
    "# 1. Handle a main queue of patients (1 to 10)\n",
    "# 2. Track late arrivals who missed their turn.\n",
    "# 3. Serve patients alternating between the main queue and the latecomers.\n",
    "# 4. Serve late comers in the order of their original number. (e.g. 3 before 5)\n",
    "\n",
    "from collections import deque\n",
    "\n",
    "# Initial list of patients\n",
    "all_patients = list(range(1,11))\n",
    "\n",
    "# Let's say patients 1 to 6 were already called\n",
    "served = set(range(1,7))\n",
    "\n",
    "# The current number is 7\n",
    "normal_queue = deque(range(7,11)) # patient 7-10\n",
    "\n",
    "# Late arrivals \n",
    "late_arrivals = [3, 5]\n",
    "late_queue = deque(sorted(late_arrivals)) # sort to prioritise lower numbers\n",
    "\n",
    "# Start serving with turn number 0\n",
    "turn = 0\n",
    "\n",
    "# Serve patients alternatively\n",
    "while normal_queue or late_queue:\n",
    "    if turn %2 == 0 and normal_queue:\n",
    "        patient = normal_queue.popleft()\n",
    "        print(f\"Now serving (on time): Patient {patient}\")\n",
    "    elif late_queue:\n",
    "        patient = late_queue.popleft()\n",
    "        print(f\"Now serving (late): Patient {patient}\")\n",
    "    elif normal_queue:\n",
    "        patient = normal_queue.popleft()\n",
    "        print(f\"Now serving (on time): Patient {patient}\")\n",
    "    turn += 1\n",
    "    \n",
    "\n"
   ]
  },
  {
   "cell_type": "code",
   "execution_count": 6,
   "id": "bc6a59ee-9101-4a12-b15a-fd095e66b084",
   "metadata": {},
   "outputs": [
    {
     "name": "stdout",
     "output_type": "stream",
     "text": [
      "Now serving (on time): Patient 7\n",
      "Now serving (late): Patient 3\n",
      "Now serving (on time): Patient 8\n",
      "Now serving (late): Patient 5\n",
      "Now serving (on time): Patient 9\n",
      "Now serving (on time): Patient 10\n"
     ]
    }
   ],
   "source": [
    "# Simple Version: Alternating Main and Late Queues\n",
    "# # List of patients on time (already in order)\n",
    "main_queue = [7, 8, 9, 10]\n",
    "\n",
    "# Late arrivals who missed their earlier turn\n",
    "late_queue = [3, 5]\n",
    "\n",
    "# Track whose turn it is\n",
    "turn = 0\n",
    "\n",
    "# Continue while there's anyone left in either list\n",
    "while main_queue or late_queue:\n",
    "    if turn % 2 == 0 and main_queue:\n",
    "        # Serve a patient from the main queue\n",
    "        patient = main_queue.pop(0)\n",
    "        print(f\"Now serving (on time): Patient {patient}\")\n",
    "    elif late_queue:\n",
    "        # Serve a late patient if any\n",
    "        patient = late_queue.pop(0)\n",
    "        print(f\"Now serving (late): Patient {patient}\")\n",
    "    elif main_queue:\n",
    "        # If late queue is empty, serve from main\n",
    "        patient = main_queue.pop(0)\n",
    "        print(f\"Now serving (on time): Patient {patient}\")\n",
    "    \n",
    "    turn += 1\n"
   ]
  },
  {
   "cell_type": "code",
   "execution_count": 5,
   "id": "41a68b12-2d45-4db2-a7dc-280682c78b82",
   "metadata": {},
   "outputs": [
    {
     "name": "stdout",
     "output_type": "stream",
     "text": [
      "Now serving (on time): Patient 7\n",
      "Now serving (late): Patient 5\n",
      "Now serving (on time): Patient 8\n",
      "Now serving (late): Patient 3\n",
      "Now serving (on time): Patient 9\n",
      "Now serving (late): Patient 2\n",
      "Now serving (on time): Patient 10\n",
      "Now serving (late): Patient 4\n",
      "Now serving (late): Patient 6\n"
     ]
    }
   ],
   "source": [
    "# the list of late arrivals can change over time — like they’re showing up while the serving is happening.\n",
    "#  simulate that by checking each turn whether any new late arrivals have shown up, and update the late_queue accordingly.\n",
    "\n",
    "\n",
    "from collections import deque\n",
    "\n",
    "# Initial patients\n",
    "all_patients = list(range(1, 11))\n",
    "served = set(range(1, 7))  # Already called 1 to 6\n",
    "\n",
    "normal_queue = deque(range(7, 11))  # 7 to 10\n",
    "\n",
    "# New arrivals might show up late during these turns\n",
    "late_arrival_schedule = {\n",
    "    1: [5],     # Patient 5 arrives late at turn 1\n",
    "    2: [3],     # Patient 3 arrives late at turn 2\n",
    "    5: [2],     # Patient 2 arrives late at turn 5\n",
    "    6: [4, 6],  # Patients 4 and 6 arrive late at turn 6\n",
    "}\n",
    "\n",
    "late_queue = deque()\n",
    "late_seen = set()  # To avoid duplicate entries\n",
    "\n",
    "turn = 0\n",
    "\n",
    "while normal_queue or late_queue or late_arrival_schedule:\n",
    "    # Check for new late arrivals this turn\n",
    "    if turn in late_arrival_schedule:\n",
    "        for p in late_arrival_schedule[turn]:\n",
    "            if p not in late_seen:\n",
    "                late_seen.add(p)\n",
    "                late_queue.append(p)\n",
    "        # Sort the queue after adding to maintain order by patient number\n",
    "        late_queue = deque(sorted(late_queue))\n",
    "        del late_arrival_schedule[turn]\n",
    "\n",
    "    # Serve a patient\n",
    "    if turn % 2 == 0 and normal_queue:\n",
    "        patient = normal_queue.popleft()\n",
    "        print(f\"Now serving (on time): Patient {patient}\")\n",
    "    elif late_queue:\n",
    "        patient = late_queue.popleft()\n",
    "        print(f\"Now serving (late): Patient {patient}\")\n",
    "    elif normal_queue:\n",
    "        patient = normal_queue.popleft()\n",
    "        print(f\"Now serving (on time): Patient {patient}\")\n",
    "\n",
    "    turn += 1\n"
   ]
  },
  {
   "cell_type": "code",
   "execution_count": 7,
   "id": "ec2323ef-e4ee-41c6-b142-734c51c937ee",
   "metadata": {},
   "outputs": [
    {
     "name": "stdout",
     "output_type": "stream",
     "text": [
      "Alice\n",
      "Bob\n"
     ]
    }
   ],
   "source": [
    "from collections import deque\n",
    "\n",
    "queue = deque()\n",
    "\n",
    "# Add people to the queue\n",
    "queue.append(\"Alice\")\n",
    "queue.append(\"Bob\")\n",
    "queue.append(\"Carol\")\n",
    "\n",
    "# Serve them in order\n",
    "print(queue.popleft())  # Alice\n",
    "print(queue.popleft())  # Bob\n"
   ]
  },
  {
   "cell_type": "code",
   "execution_count": 8,
   "id": "6ee46eb0-908a-462c-88b5-9d43e3cef841",
   "metadata": {},
   "outputs": [
    {
     "name": "stdout",
     "output_type": "stream",
     "text": [
      "Page2\n",
      "Page1\n"
     ]
    }
   ],
   "source": [
    "from collections import deque\n",
    "\n",
    "stack = deque()\n",
    "\n",
    "# Push items\n",
    "stack.append(\"Page1\")\n",
    "stack.append(\"Page2\")\n",
    "\n",
    "# Pop last item\n",
    "print(stack.pop())  # Page2\n",
    "print(stack.pop())  # Page1\n"
   ]
  },
  {
   "cell_type": "code",
   "execution_count": 9,
   "id": "b84bf89c-ff64-4500-8df0-9df2d3b9e828",
   "metadata": {},
   "outputs": [
    {
     "name": "stdout",
     "output_type": "stream",
     "text": [
      "deque(['start', 'end'])\n"
     ]
    },
    {
     "data": {
      "text/plain": [
       "'start'"
      ]
     },
     "execution_count": 9,
     "metadata": {},
     "output_type": "execute_result"
    }
   ],
   "source": [
    "from collections import deque\n",
    "\n",
    "d = deque()\n",
    "\n",
    "d.append(\"end\")         # Add to right\n",
    "d.appendleft(\"start\")   # Add to left\n",
    "\n",
    "print(d)  # deque(['start', 'end'])\n",
    "\n",
    "d.pop()       # Removes 'end'\n",
    "d.popleft()   # Removes 'start'\n"
   ]
  },
  {
   "cell_type": "code",
   "execution_count": 10,
   "id": "fb5dcfa1-8b33-403e-9789-4d6883dc79fc",
   "metadata": {},
   "outputs": [
    {
     "name": "stdout",
     "output_type": "stream",
     "text": [
      "Tom\n",
      "Jerry\n"
     ]
    }
   ],
   "source": [
    "from collections import deque\n",
    "\n",
    "queue = deque()\n",
    "queue.append(\"Tom\")\n",
    "queue.append(\"Jerry\")\n",
    "queue.append(\"Spike\")\n",
    "\n",
    "print(queue.popleft())\n",
    "print(queue.popleft())\n"
   ]
  },
  {
   "cell_type": "code",
   "execution_count": 11,
   "id": "5efad50d-a4ee-484b-8679-6f3e9fba1773",
   "metadata": {},
   "outputs": [
    {
     "name": "stdout",
     "output_type": "stream",
     "text": [
      "['-1', '0', '1', '2']\n"
     ]
    }
   ],
   "source": [
    "from collections import deque\n",
    "\n",
    "d = deque()\n",
    "d.append(\"1\")\n",
    "d.appendleft(\"0\")\n",
    "d.append(\"2\")\n",
    "d.appendleft(\"-1\")\n",
    "\n",
    "print(list(d))\n"
   ]
  },
  {
   "cell_type": "code",
   "execution_count": null,
   "id": "93bc855f-2d5e-464e-b36b-35a0ecbad254",
   "metadata": {},
   "outputs": [],
   "source": [
    "from collections import deque\n",
    "\n",
    "d = deque([\"a\", \"b\", \"c\", \"d\"])\n",
    "d.pop()\n",
    "d.popleft()\n",
    "\n",
    "print(list(d))\n"
   ]
  }
 ],
 "metadata": {
  "kernelspec": {
   "display_name": "Python 3 (ipykernel)",
   "language": "python",
   "name": "python3"
  },
  "language_info": {
   "codemirror_mode": {
    "name": "ipython",
    "version": 3
   },
   "file_extension": ".py",
   "mimetype": "text/x-python",
   "name": "python",
   "nbconvert_exporter": "python",
   "pygments_lexer": "ipython3",
   "version": "3.12.7"
  }
 },
 "nbformat": 4,
 "nbformat_minor": 5
}

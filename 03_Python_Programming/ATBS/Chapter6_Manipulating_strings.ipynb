{
 "cells": [
  {
   "cell_type": "code",
   "execution_count": 1,
   "id": "56101b46-2f1a-4ae4-b2f0-ab01452a9ed0",
   "metadata": {},
   "outputs": [],
   "source": [
    "spam = \"That is Alice's cat.\""
   ]
  },
  {
   "cell_type": "code",
   "execution_count": 2,
   "id": "173f5cd6-17de-4732-a09b-0814a472e4d4",
   "metadata": {},
   "outputs": [
    {
     "name": "stdout",
     "output_type": "stream",
     "text": [
      "Say hi to Bob's mother.\n"
     ]
    }
   ],
   "source": [
    "spam = 'Say hi to Bob\\'s mother.'\n",
    "print(spam)"
   ]
  },
  {
   "cell_type": "code",
   "execution_count": 3,
   "id": "6546ffbe-334d-4460-b8ed-9fd134b1a186",
   "metadata": {},
   "outputs": [
    {
     "name": "stdout",
     "output_type": "stream",
     "text": [
      "Hello there!\n",
      "How are you?\n",
      "I'm doing fine.\n"
     ]
    }
   ],
   "source": [
    "print(\"Hello there!\\nHow are you?\\nI\\'m doing fine.\")"
   ]
  },
  {
   "cell_type": "code",
   "execution_count": 6,
   "id": "a0b7d0ec-05a4-4777-8d88-334650de5cb7",
   "metadata": {},
   "outputs": [
    {
     "name": "stdout",
     "output_type": "stream",
     "text": [
      "That is Carol\\'s cat.\n"
     ]
    }
   ],
   "source": [
    "print(r'That is Carol\\'s cat.')"
   ]
  },
  {
   "cell_type": "code",
   "execution_count": 7,
   "id": "d5d6a21a-b2eb-4e5c-bd45-02ad668cddb5",
   "metadata": {},
   "outputs": [
    {
     "name": "stdout",
     "output_type": "stream",
     "text": [
      "Dear Alice,\n",
      "\n",
      "Eve's cat has been arrested for catnapping, cat burglary, and extortion.\n",
      "\n",
      "Sincerely,\n",
      "Bob\n"
     ]
    }
   ],
   "source": [
    "print('''Dear Alice,\n",
    "\n",
    "Eve's cat has been arrested for catnapping, cat burglary, and extortion.\n",
    "\n",
    "Sincerely,\n",
    "Bob''')"
   ]
  },
  {
   "cell_type": "code",
   "execution_count": 10,
   "id": "20ab1899-40d8-45b9-9214-3bf43c29effb",
   "metadata": {},
   "outputs": [
    {
     "name": "stdout",
     "output_type": "stream",
     "text": [
      "Function body\n",
      "\n",
      "        This is a\n",
      "        multiline\n",
      "          string.\n",
      "        \n"
     ]
    }
   ],
   "source": [
    "def my_function():\n",
    "    if True:\n",
    "        my_string = \"\"\"\n",
    "        This is a\n",
    "        multiline\n",
    "          string.\n",
    "        \"\"\"\n",
    "        print(\"Function body\")\n",
    "        print(my_string)\n",
    "\n",
    "my_function()"
   ]
  },
  {
   "cell_type": "code",
   "execution_count": 14,
   "id": "b28c54f7-3e69-4a52-9939-14f69af04856",
   "metadata": {},
   "outputs": [
    {
     "name": "stdout",
     "output_type": "stream",
     "text": [
      "Dear Alice,\n",
      "\n",
      "Eve's cat has been arrested for catnapping, cat burglary, and extortion.\n",
      "\n",
      "Sincerely,\n",
      "Bob\n"
     ]
    }
   ],
   "source": [
    "print('Dear Alice,\\n\\nEve\\'s cat has been arrested for catnapping, cat burglary, and extortion.\\n\\nSincerely,\\nBob')"
   ]
  },
  {
   "cell_type": "code",
   "execution_count": 16,
   "id": "179d653a-aee4-4716-ba9e-d67fa0d128b4",
   "metadata": {},
   "outputs": [
    {
     "name": "stdout",
     "output_type": "stream",
     "text": [
      "Hello!\n"
     ]
    }
   ],
   "source": [
    "\"\"\"This is a test Python program.\n",
    "Written by Al Sweigart al@inventwithpython.com\n",
    "\n",
    "This program was designed for Python 3, not Python 2.\n",
    "\"\"\"\n",
    "\n",
    "def spam():\n",
    "    \"\"\"This is a multiline comment to help\n",
    "    explain what the spam() function does.\"\"\"\n",
    "    print('Hello!')\n",
    "\n",
    "spam()"
   ]
  },
  {
   "cell_type": "code",
   "execution_count": 17,
   "id": "541e046d-0ee3-453c-86f3-644b02037404",
   "metadata": {},
   "outputs": [
    {
     "data": {
      "text/plain": [
       "'Hello, my name is Al. I am 4000 years old.'"
      ]
     },
     "execution_count": 17,
     "metadata": {},
     "output_type": "execute_result"
    }
   ],
   "source": [
    "name = 'Al'\n",
    "age = 4000\n",
    "'Hello, my name is ' + name + '. I am ' + str(age) + ' years old.'"
   ]
  },
  {
   "cell_type": "code",
   "execution_count": 18,
   "id": "868cc63e-f43e-4b24-a101-ec5b0d1998e5",
   "metadata": {},
   "outputs": [
    {
     "data": {
      "text/plain": [
       "'My name is Al. Next year I will be 4001.'"
      ]
     },
     "execution_count": 18,
     "metadata": {},
     "output_type": "execute_result"
    }
   ],
   "source": [
    "name = 'Al'\n",
    "age = 4000\n",
    "f'My name is {name}. Next year I will be {age + 1}.'"
   ]
  },
  {
   "cell_type": "code",
   "execution_count": 19,
   "id": "60932627-f4bb-4a5c-b745-0dbc955e73ba",
   "metadata": {},
   "outputs": [
    {
     "name": "stdout",
     "output_type": "stream",
     "text": [
      "How are you?\n"
     ]
    },
    {
     "name": "stdin",
     "output_type": "stream",
     "text": [
      " shit\n"
     ]
    },
    {
     "name": "stdout",
     "output_type": "stream",
     "text": [
      "I hope the rest of your day is good.\n"
     ]
    }
   ],
   "source": [
    "print('How are you?')\n",
    "feeling = input()\n",
    "if feeling.lower() == 'great':\n",
    "    print('I feel great too.')\n",
    "else:\n",
    "    print('I hope the rest of your day is good.')"
   ]
  },
  {
   "cell_type": "code",
   "execution_count": 20,
   "id": "cc448e95-dbc9-4fa1-abea-2fcd3b82c8d2",
   "metadata": {},
   "outputs": [
    {
     "data": {
      "text/plain": [
       "True"
      ]
     },
     "execution_count": 20,
     "metadata": {},
     "output_type": "execute_result"
    }
   ],
   "source": [
    "'hello123'.isalnum()\n",
    "'hello'.isalnum()\n",
    "'123'.isdecimal()"
   ]
  },
  {
   "cell_type": "code",
   "execution_count": 21,
   "id": "b3c15f42-c3e2-45f8-b24b-b34071d1e53a",
   "metadata": {},
   "outputs": [
    {
     "data": {
      "text/plain": [
       "True"
      ]
     },
     "execution_count": 21,
     "metadata": {},
     "output_type": "execute_result"
    }
   ],
   "source": [
    "'    '.isspace()"
   ]
  },
  {
   "cell_type": "code",
   "execution_count": 22,
   "id": "547c76a6-5b78-4f56-9d16-7d15a16f3f18",
   "metadata": {},
   "outputs": [
    {
     "data": {
      "text/plain": [
       "True"
      ]
     },
     "execution_count": 22,
     "metadata": {},
     "output_type": "execute_result"
    }
   ],
   "source": [
    "'This Is Title Case 123'.istitle()"
   ]
  },
  {
   "cell_type": "code",
   "execution_count": 23,
   "id": "111def66-9e04-4f44-ae29-c60a87ef9cdd",
   "metadata": {},
   "outputs": [
    {
     "data": {
      "text/plain": [
       "False"
      ]
     },
     "execution_count": 23,
     "metadata": {},
     "output_type": "execute_result"
    }
   ],
   "source": [
    "'This Is not Title Case'.istitle()"
   ]
  },
  {
   "cell_type": "code",
   "execution_count": 24,
   "id": "7a5109ac-0f35-41be-a7c8-113867b271f5",
   "metadata": {},
   "outputs": [
    {
     "data": {
      "text/plain": [
       "False"
      ]
     },
     "execution_count": 24,
     "metadata": {},
     "output_type": "execute_result"
    }
   ],
   "source": [
    "'This Is NOT Title Case Either'.istitle()"
   ]
  },
  {
   "cell_type": "code",
   "execution_count": 26,
   "id": "c9443830-8adf-45ab-b2e6-7d687e60f780",
   "metadata": {},
   "outputs": [
    {
     "name": "stdout",
     "output_type": "stream",
     "text": [
      "Enter your age:\n"
     ]
    },
    {
     "name": "stdin",
     "output_type": "stream",
     "text": [
      " f\n"
     ]
    },
    {
     "name": "stdout",
     "output_type": "stream",
     "text": [
      "Please enter a number for your age.\n",
      "Enter your age:\n"
     ]
    },
    {
     "name": "stdin",
     "output_type": "stream",
     "text": [
      " 29\n"
     ]
    }
   ],
   "source": [
    "while True:\n",
    "    print('Enter your age:')\n",
    "    age = input()\n",
    "    if age.isdecimal():\n",
    "        break\n",
    "    print('Please enter a number for your age.')"
   ]
  },
  {
   "cell_type": "code",
   "execution_count": 27,
   "id": "558f0f59-2d5b-42a2-848a-813ff47434e9",
   "metadata": {},
   "outputs": [
    {
     "name": "stdout",
     "output_type": "stream",
     "text": [
      "Select a new password (letters and numbers only):\n"
     ]
    },
    {
     "name": "stdin",
     "output_type": "stream",
     "text": [
      " slam\n"
     ]
    }
   ],
   "source": [
    "while True:\n",
    "    print('Select a new password (letters and numbers only):')\n",
    "    password = input()\n",
    "    if password.isalnum():\n",
    "        break\n",
    "    print('Passwords can only have letters and numbers.')"
   ]
  },
  {
   "cell_type": "code",
   "execution_count": 28,
   "id": "0710a596-e413-49d7-ae60-7cfec8dc1ac3",
   "metadata": {},
   "outputs": [
    {
     "name": "stdout",
     "output_type": "stream",
     "text": [
      "Enter your age:\n"
     ]
    },
    {
     "name": "stdin",
     "output_type": "stream",
     "text": [
      " 29\n"
     ]
    },
    {
     "name": "stdout",
     "output_type": "stream",
     "text": [
      "Select a new password (letters and numbers only):\n"
     ]
    },
    {
     "name": "stdin",
     "output_type": "stream",
     "text": [
      " slam\n"
     ]
    }
   ],
   "source": [
    "while True:\n",
    "    print('Enter your age:')\n",
    "    age = input()\n",
    "    if age.isdecimal():\n",
    "        break\n",
    "    print('Please enter a number for your age.')\n",
    "\n",
    "while True:\n",
    "    print('Select a new password (letters and numbers only):')\n",
    "    password = input()\n",
    "    if password.isalnum():\n",
    "        break\n",
    "    print('Passwords can only have letters and numbers.')"
   ]
  },
  {
   "cell_type": "code",
   "execution_count": 29,
   "id": "bad98af3-2317-4923-89c2-2dd27006ba4e",
   "metadata": {},
   "outputs": [
    {
     "data": {
      "text/plain": [
       "'cats, rats, bats'"
      ]
     },
     "execution_count": 29,
     "metadata": {},
     "output_type": "execute_result"
    }
   ],
   "source": [
    "', '.join(['cats', 'rats', 'bats'])"
   ]
  },
  {
   "cell_type": "code",
   "execution_count": 30,
   "id": "4a764fbe-3df1-4257-8121-17a37405a228",
   "metadata": {},
   "outputs": [
    {
     "data": {
      "text/plain": [
       "'My name is Simon'"
      ]
     },
     "execution_count": 30,
     "metadata": {},
     "output_type": "execute_result"
    }
   ],
   "source": [
    "' '.join(['My', 'name', 'is', 'Simon'])"
   ]
  },
  {
   "cell_type": "code",
   "execution_count": 31,
   "id": "12a3b92f-7947-44c6-8fb7-f23f26961f2c",
   "metadata": {},
   "outputs": [
    {
     "data": {
      "text/plain": [
       "'MyABCnameABCisABCSimon'"
      ]
     },
     "execution_count": 31,
     "metadata": {},
     "output_type": "execute_result"
    }
   ],
   "source": [
    "'ABC'.join(['My', 'name', 'is', 'Simon'])"
   ]
  },
  {
   "cell_type": "code",
   "execution_count": 32,
   "id": "8a45d2f7-2c0f-4af7-b9e5-73683deaf7e1",
   "metadata": {},
   "outputs": [
    {
     "data": {
      "text/plain": [
       "['My', 'name', 'is', 'Simon']"
      ]
     },
     "execution_count": 32,
     "metadata": {},
     "output_type": "execute_result"
    }
   ],
   "source": [
    "'My name is Simon'.split()"
   ]
  },
  {
   "cell_type": "code",
   "execution_count": 33,
   "id": "cb1f7d9e-48fa-4296-8fbd-ff066a12f6df",
   "metadata": {},
   "outputs": [
    {
     "data": {
      "text/plain": [
       "['My', 'name', 'is', 'Simon']"
      ]
     },
     "execution_count": 33,
     "metadata": {},
     "output_type": "execute_result"
    }
   ],
   "source": [
    "'MyABCnameABCisABCSimon'.split('ABC')"
   ]
  },
  {
   "cell_type": "code",
   "execution_count": 34,
   "id": "e02ad81d-3813-420c-9b89-ddc29ea58fd8",
   "metadata": {},
   "outputs": [
    {
     "data": {
      "text/plain": [
       "['My na', 'e is Si', 'on']"
      ]
     },
     "execution_count": 34,
     "metadata": {},
     "output_type": "execute_result"
    }
   ],
   "source": [
    "'My name is Simon'.split('m')"
   ]
  },
  {
   "cell_type": "code",
   "execution_count": 35,
   "id": "00be7029-f1a1-4878-b52d-4b007ca4f139",
   "metadata": {},
   "outputs": [
    {
     "data": {
      "text/plain": [
       "['Dear Alice,',\n",
       " 'How have you been? I am fine.',\n",
       " 'There is a container in the fridge',\n",
       " 'that is labeled \"Milk Experiment.\"',\n",
       " '',\n",
       " 'Please do not drink it.',\n",
       " 'Sincerely,',\n",
       " 'Bob']"
      ]
     },
     "execution_count": 35,
     "metadata": {},
     "output_type": "execute_result"
    }
   ],
   "source": [
    "spam = '''Dear Alice,\n",
    "How have you been? I am fine.\n",
    "There is a container in the fridge\n",
    "that is labeled \"Milk Experiment.\"\n",
    "\n",
    "Please do not drink it.\n",
    "Sincerely,\n",
    "Bob'''\n",
    "spam.split('\\n')"
   ]
  },
  {
   "cell_type": "code",
   "execution_count": 37,
   "id": "534152de-848e-4292-81bc-e916ee88f0a1",
   "metadata": {},
   "outputs": [
    {
     "name": "stdout",
     "output_type": "stream",
     "text": [
      "Hello,\n",
      " \n",
      "world!\n"
     ]
    }
   ],
   "source": [
    "before, sep, after = 'Hello, world!'.partition(' ')\n",
    "print(before)\n",
    "print(sep)\n",
    "print(after)"
   ]
  },
  {
   "cell_type": "code",
   "execution_count": 39,
   "id": "b9f220d9-17d5-43c8-a6d0-375b101a5960",
   "metadata": {},
   "outputs": [
    {
     "data": {
      "text/plain": [
       "'               Hello'"
      ]
     },
     "execution_count": 39,
     "metadata": {},
     "output_type": "execute_result"
    }
   ],
   "source": [
    "'Hello'.rjust(20)"
   ]
  },
  {
   "cell_type": "code",
   "execution_count": 40,
   "id": "a6abfc60-c98a-48e7-bf58-e7f705a2bc9a",
   "metadata": {},
   "outputs": [
    {
     "data": {
      "text/plain": [
       "'        Hello, World'"
      ]
     },
     "execution_count": 40,
     "metadata": {},
     "output_type": "execute_result"
    }
   ],
   "source": [
    "'Hello, World'.rjust(20)"
   ]
  },
  {
   "cell_type": "code",
   "execution_count": 41,
   "id": "4b62fc47-06e5-4a43-8cad-9d621c802d18",
   "metadata": {},
   "outputs": [
    {
     "data": {
      "text/plain": [
       "'Hello     '"
      ]
     },
     "execution_count": 41,
     "metadata": {},
     "output_type": "execute_result"
    }
   ],
   "source": [
    "'Hello'.ljust(10)"
   ]
  },
  {
   "cell_type": "code",
   "execution_count": 42,
   "id": "95759121-67ca-436c-a727-2a7feb47d238",
   "metadata": {},
   "outputs": [
    {
     "data": {
      "text/plain": [
       "'***************Hello'"
      ]
     },
     "execution_count": 42,
     "metadata": {},
     "output_type": "execute_result"
    }
   ],
   "source": [
    "'Hello'.rjust(20, '*')"
   ]
  },
  {
   "cell_type": "code",
   "execution_count": 52,
   "id": "331ea06b-3fb0-4e4e-b5de-e55f64c1fab7",
   "metadata": {},
   "outputs": [
    {
     "data": {
      "text/plain": [
       "' Hello '"
      ]
     },
     "execution_count": 52,
     "metadata": {},
     "output_type": "execute_result"
    }
   ],
   "source": [
    "'Hello'.center(7)"
   ]
  },
  {
   "cell_type": "code",
   "execution_count": 46,
   "id": "12ac1657-a9c0-4526-aaa4-43ce8e9015c8",
   "metadata": {},
   "outputs": [
    {
     "name": "stdout",
     "output_type": "stream",
     "text": [
      "---PICNIC ITEMS--\n",
      "sandwiches..    4\n",
      "apples......   12\n",
      "cups........    4\n",
      "cookies..... 8000\n",
      "-------PICNIC ITEMS-------\n",
      "sandwiches..........     4\n",
      "apples..............    12\n",
      "cups................     4\n",
      "cookies.............  8000\n"
     ]
    }
   ],
   "source": [
    "def printPicnic(itemsDict, leftWidth, rightWidth):\n",
    "    print('PICNIC ITEMS'.center(leftWidth + rightWidth, '-'))\n",
    "    for k, v in itemsDict.items():\n",
    "        print(k.ljust(leftWidth, '.') + str(v).rjust(rightWidth))\n",
    "\n",
    "picnicItems = {'sandwiches': 4, 'apples': 12, 'cups': 4, 'cookies': 8000}\n",
    "printPicnic(picnicItems, 12, 5)\n",
    "printPicnic(picnicItems, 20, 6)"
   ]
  },
  {
   "cell_type": "code",
   "execution_count": 58,
   "id": "19a04ff9-025a-452d-97db-bd4a65f17c88",
   "metadata": {},
   "outputs": [
    {
     "name": "stdout",
     "output_type": "stream",
     "text": [
      "====== STOCK INVENTORY =======\n",
      "laptop         15      $899.99\n",
      "mouse          42       $24.50\n",
      "keyboard       23       $49.99\n"
     ]
    }
   ],
   "source": [
    "def printInventory(stockDict, nameWidth, qtyWidth, priceWidth):\n",
    "    print(' STOCK INVENTORY '.center(nameWidth + qtyWidth + priceWidth, '='))\n",
    "    for item, details in stockDict.items():\n",
    "        line = (item.ljust(nameWidth) + \n",
    "               str(details['quantity']).center(qtyWidth) +\n",
    "               f\"${details['price']:.2f}\".rjust(priceWidth))\n",
    "        print(line)\n",
    "\n",
    "inventory = {\n",
    "    'laptop': {'quantity': 15, 'price': 899.99},\n",
    "    'mouse': {'quantity': 42, 'price': 24.50},\n",
    "    'keyboard': {'quantity': 23, 'price': 49.99}\n",
    "}\n",
    "\n",
    "printInventory(inventory, 12, 8, 10)"
   ]
  },
  {
   "cell_type": "code",
   "execution_count": 61,
   "id": "6274de4f-9ac1-4656-b873-1931f896a3ba",
   "metadata": {},
   "outputs": [
    {
     "name": "stdout",
     "output_type": "stream",
     "text": [
      "Name              Phone              Email          \n",
      "****************************************************\n",
      "Alice            555-1234          alice@example.com\n",
      "Bob              555-5678               bob@work.org\n",
      "Charlie          555-9012           charlie@home.net\n"
     ]
    }
   ],
   "source": [
    "def printContacts(contactsDict, nameWidth, phoneWidth, emailWidth):\n",
    "    print(f\"{'Name':<{nameWidth}}{'Phone':^{phoneWidth}}{'Email':^{emailWidth}}\")\n",
    "    print(\"*\" * (nameWidth + phoneWidth + emailWidth))\n",
    "    for name, info in contactsDict.items():\n",
    "        print(f\"{name:<{nameWidth}}{info['phone']:^{phoneWidth}}{info['email']:>{emailWidth}}\")\n",
    "\n",
    "contacts = {\n",
    "    'Alice': {'phone': '555-1234', 'email': 'alice@example.com'},\n",
    "    'Bob': {'phone': '555-5678', 'email': 'bob@work.org'},\n",
    "    'Charlie': {'phone': '555-9012', 'email': 'charlie@home.net'}\n",
    "}\n",
    "\n",
    "printContacts(contacts, 15, 12, 25)\n",
    "    "
   ]
  },
  {
   "cell_type": "code",
   "execution_count": 79,
   "id": "28517bc9-5185-4d90-b31b-81f63f3feb9b",
   "metadata": {},
   "outputs": [
    {
     "name": "stdout",
     "output_type": "stream",
     "text": [
      "\n",
      "                   BOOK CATALOG                    \n",
      "Title                    Author                Year\n",
      "───────────────────────────────────────────────────\n",
      "To Kill a Mockingbird    Harper Lee            1960\n",
      "1984                     George Orwell         1949\n",
      "The Great Gatsby         F. Scott Fitzgerald   1925\n"
     ]
    }
   ],
   "source": [
    "def printCatalog(booksDict, col1, col2, col3):\n",
    "    print(f\"\\n{'BOOK CATALOG':^{col1+col2+col3}}\")  # Fixed \\n\n",
    "    print(f\"{'Title':<{col1}}{'Author':<{col2}}{'Year':>{col3}}\")  # Made Year right-aligned\n",
    "    print('─' * (col1 + col2 + col3))\n",
    "    for title, info in booksDict.items():  # Fixed variable name\n",
    "        print(f\"{title[:col1-1]:<{col1}}{info[0]:<{col2}}{info[1]:>{col3}}\")\n",
    "\n",
    "booksDict = {\n",
    "    'To Kill a Mockingbird': ('Harper Lee', 1960),\n",
    "    '1984': ('George Orwell', 1949),\n",
    "    'The Great Gatsby': ('F. Scott Fitzgerald', 1925)\n",
    "}\n",
    "\n",
    "printCatalog(booksDict, 25, 20, 6)  # Fixed variable name"
   ]
  },
  {
   "cell_type": "code",
   "execution_count": 73,
   "id": "2151f798-4107-4403-a21c-bb0471544460",
   "metadata": {},
   "outputs": [
    {
     "name": "stdout",
     "output_type": "stream",
     "text": [
      "\n",
      "--- PICNIC ITEMS ---\n",
      "sandwiches: 4\n",
      "apples: 12\n",
      "cups: 4\n",
      "cookies: 8000\n"
     ]
    }
   ],
   "source": [
    "def printPicnicSimple(items):\n",
    "    print(\"\\n--- PICNIC ITEMS ---\")\n",
    "    for item, quantity in items.items():\n",
    "        print(f\"{item}: {quantity}\")\n",
    "\n",
    "picnicItems = {'sandwiches': 4, 'apples': 12, 'cups': 4, 'cookies': 8000}\n",
    "printPicnicSimple(picnicItems)"
   ]
  },
  {
   "cell_type": "code",
   "execution_count": 74,
   "id": "49645cc0-9708-436f-8963-08d06a56928a",
   "metadata": {},
   "outputs": [
    {
     "name": "stdout",
     "output_type": "stream",
     "text": [
      "\n",
      "--- ITEMS LIST ---\n",
      "sandwiches -> 4\n",
      "apples -> 12\n",
      "cups -> 4\n",
      "cookies -> 8000\n"
     ]
    }
   ],
   "source": [
    "def print_items_simple(items):\n",
    "    print(\"\\n--- ITEMS LIST ---\")\n",
    "    for item, quantity in items.items():\n",
    "        print(item, \"->\", quantity)\n",
    "\n",
    "picnic_items = {'sandwiches': 4, 'apples': 12, 'cups': 4, 'cookies': 8000}\n",
    "print_items_simple(picnic_items)\n",
    "    "
   ]
  },
  {
   "cell_type": "code",
   "execution_count": 90,
   "id": "6ad98a42-65b1-4750-b997-d7199c789164",
   "metadata": {},
   "outputs": [
    {
     "name": "stdout",
     "output_type": "stream",
     "text": [
      "Enter your age:\n"
     ]
    },
    {
     "name": "stdin",
     "output_type": "stream",
     "text": [
      " 29\n"
     ]
    },
    {
     "name": "stdout",
     "output_type": "stream",
     "text": [
      "Please select your password\n"
     ]
    },
    {
     "name": "stdin",
     "output_type": "stream",
     "text": [
      " Password1996!!\n"
     ]
    },
    {
     "name": "stdout",
     "output_type": "stream",
     "text": [
      "Please enter only alphabets and numbers.\n",
      "Please select your password\n"
     ]
    },
    {
     "name": "stdin",
     "output_type": "stream",
     "text": [
      " Password\n"
     ]
    }
   ],
   "source": [
    "while True:\n",
    "    print('Enter your age:')\n",
    "    age = input()\n",
    "    if age.isdecimal():\n",
    "        break\n",
    "    print('Please enter a number for your age.')\n",
    "\n",
    "while True:\n",
    "    print('Please select your password')\n",
    "    password = input()\n",
    "    if password.isalnum():\n",
    "        break\n",
    "    print('Please enter only alphabets and numbers.')"
   ]
  },
  {
   "cell_type": "code",
   "execution_count": 91,
   "id": "98694158-ac8e-420c-9215-4a5ac4632efe",
   "metadata": {},
   "outputs": [
    {
     "name": "stdout",
     "output_type": "stream",
     "text": [
      "Select a new password (letters, numbers, and ! only):\n"
     ]
    },
    {
     "name": "stdin",
     "output_type": "stream",
     "text": [
      " Password1996!!\n"
     ]
    }
   ],
   "source": [
    "while True:\n",
    "    print('Select a new password (letters, numbers, and ! only):')\n",
    "    password = input()\n",
    "    if all(c.isalnum() or c == '!' for c in password):\n",
    "        break\n",
    "    print('Password can only contain letters, numbers, and !')"
   ]
  },
  {
   "cell_type": "code",
   "execution_count": 94,
   "id": "600c32bf-c8ba-4af3-93a5-c8d1b42bd624",
   "metadata": {},
   "outputs": [
    {
     "name": "stdout",
     "output_type": "stream",
     "text": [
      "Select a new password (min 8 chars, no spaces):\n"
     ]
    },
    {
     "name": "stdin",
     "output_type": "stream",
     "text": [
      " Password1996!!\n"
     ]
    }
   ],
   "source": [
    "while True:\n",
    "    print('Select a new password (min 8 chars, no spaces):')\n",
    "    password = input()\n",
    "    if (len(password) >= 8 and \n",
    "        not any(c.isspace() for c in password)):\n",
    "        break\n",
    "    print('Password must be 8+ characters with no spaces.')"
   ]
  },
  {
   "cell_type": "code",
   "execution_count": 1,
   "id": "e93bc0dd-de52-4ffe-b347-e6d4722ca535",
   "metadata": {},
   "outputs": [
    {
     "name": "stdout",
     "output_type": "stream",
     "text": [
      "\n",
      "Create a password with:\n",
      "- 8+ characters\n",
      "- At least one letter\n",
      "- At least one number\n",
      "- Special characters allowed\n",
      "- No spaces\n"
     ]
    },
    {
     "name": "stdin",
     "output_type": "stream",
     "text": [
      "Your password:  slampig\n"
     ]
    },
    {
     "name": "stdout",
     "output_type": "stream",
     "text": [
      "✖ Password must be at least 8 characters long. Please try again.\n",
      "\n",
      "Create a password with:\n",
      "- 8+ characters\n",
      "- At least one letter\n",
      "- At least one number\n",
      "- Special characters allowed\n",
      "- No spaces\n"
     ]
    },
    {
     "name": "stdin",
     "output_type": "stream",
     "text": [
      "Your password:  slamjockfistpig\n"
     ]
    },
    {
     "name": "stdout",
     "output_type": "stream",
     "text": [
      "✖ Password must contain at least one number. Please try again.\n",
      "\n",
      "Create a password with:\n",
      "- 8+ characters\n",
      "- At least one letter\n",
      "- At least one number\n",
      "- Special characters allowed\n",
      "- No spaces\n"
     ]
    },
    {
     "name": "stdin",
     "output_type": "stream",
     "text": [
      "Your password:  slam0.5jockfistpig\n"
     ]
    },
    {
     "name": "stdout",
     "output_type": "stream",
     "text": [
      "✔ Password accepted!\n"
     ]
    }
   ],
   "source": [
    "import re\n",
    "\n",
    "def validate_password(password):\n",
    "    \"\"\"Check password against multiple criteria\"\"\"\n",
    "    if len(password) < 8:\n",
    "        return \"Password must be at least 8 characters long\"\n",
    "    if not re.search(r'[A-Za-z]', password):\n",
    "        return \"Password must contain at least one letter\"\n",
    "    if not re.search(r'[0-9]', password):\n",
    "        return \"Password must contain at least one number\"\n",
    "    if re.search(r'\\s', password):\n",
    "        return \"Password cannot contain spaces\"\n",
    "    return None  # No errors\n",
    "\n",
    "while True:\n",
    "    print('\\nCreate a password with:')\n",
    "    print('- 8+ characters')\n",
    "    print('- At least one letter')\n",
    "    print('- At least one number')\n",
    "    print('- Special characters allowed')\n",
    "    print('- No spaces')\n",
    "    \n",
    "    password = input(\"Your password: \")\n",
    "    \n",
    "    error = validate_password(password)\n",
    "    if not error:\n",
    "        print(\"✔ Password accepted!\")\n",
    "        break\n",
    "    print(f\"✖ {error}. Please try again.\")"
   ]
  },
  {
   "cell_type": "code",
   "execution_count": 2,
   "id": "d6195b87-8652-4079-aa8e-2c57550f6c41",
   "metadata": {},
   "outputs": [
    {
     "name": "stdout",
     "output_type": "stream",
     "text": [
      "\n",
      "Create a username with:\n",
      "- 5+ characters\n",
      "- Only letters, numbers, and underscores\n",
      "- Must start with a letter\n"
     ]
    },
    {
     "name": "stdin",
     "output_type": "stream",
     "text": [
      "Your username: Dantsai123\n"
     ]
    },
    {
     "name": "stdout",
     "output_type": "stream",
     "text": [
      "Username accepted\n"
     ]
    }
   ],
   "source": [
    "import re\n",
    "\n",
    "def validate_username(username):\n",
    "    \"\"\"Check username against advanced criteria\"\"\"\n",
    "\n",
    "    if len(username) < 5:\n",
    "        return \"Username must be at least 5 characters long\"\n",
    "    # First, check for allowed characters\n",
    "    if not re.match(r'^[a-zA-Z0-9_]+$', username):\n",
    "        return \"Username can only contain letters, numbers, and underscores\"\n",
    "    # Then, check if it starts with a letter\n",
    "    if re.match(r'^[0-9_]+$', username):\n",
    "        return \"Username must start with a letter\"\n",
    "    return None\n",
    "\n",
    "while True:\n",
    "    print('\\nCreate a username with:')\n",
    "    print('- 5+ characters')\n",
    "    print('- Only letters, numbers, and underscores')\n",
    "    print('- Must start with a letter')\n",
    "\n",
    "    username = input(\"Your username:\")\n",
    "    error = validate_username(username)\n",
    "    if not error:\n",
    "        print(\"Username accepted\")\n",
    "        break\n",
    "    print(f\"✖ {error}. Please try again.\")"
   ]
  },
  {
   "cell_type": "code",
   "execution_count": 102,
   "id": "26dba897-6968-4dd1-84f1-cc347d3f738f",
   "metadata": {},
   "outputs": [
    {
     "name": "stdout",
     "output_type": "stream",
     "text": [
      "\n",
      "Create a strong password with:\n",
      "- 12+ characters\n",
      "- Uppercase and lowercase letters\n",
      "- At least one number\n",
      "- At least one special character: !@#$%^&* etc.\n",
      "- No spaces or tabs\n"
     ]
    },
    {
     "name": "stdin",
     "output_type": "stream",
     "text": [
      "Your password:  Password1996!!\n"
     ]
    },
    {
     "name": "stdout",
     "output_type": "stream",
     "text": [
      "✔ Excellent password! Successfully set.\n"
     ]
    }
   ],
   "source": [
    "import re\n",
    "\n",
    "def validate_password(password):\n",
    "    \"\"\"Check password against advanced criteria\"\"\"\n",
    "    errors = []  # Missing initialization\n",
    "    \n",
    "    # Length check\n",
    "    if len(password) < 12:\n",
    "        errors.append(\"Be at least 12 characters long\")\n",
    "\n",
    "    # Character diversitu checks\n",
    "    if not re.search(r'[A-Z]', password):\n",
    "        errors.append(\"contain at least one uppercase letter\")\n",
    "    if not re.search(r'[a-z]', password):\n",
    "        errors.append(\"contain at least one lowercase letter\")\n",
    "    if not re.search(r'[0-9]', password):\n",
    "        errors.append(\"contain at least one number\")\n",
    "    if not re.search(r'[^A-Za-z0-9]', password):\n",
    "        errors.append(\"contain at least one special character\")\n",
    "    if re.search(r'\\s', password):\n",
    "        errors.append(\"not contain spaces\")\n",
    "\n",
    "    # Common password check (optional)\n",
    "    common_passwords = [\"password\", \"123456\", \"qwerty\"]\n",
    "    if password.lower() in common_passwords:\n",
    "        errors.append(\"not be a common password\")\n",
    "\n",
    "    return errors if errors else None\n",
    "                      \n",
    "while True:\n",
    "    print('\\nCreate a strong password with:')\n",
    "    print('- 12+ characters')\n",
    "    print('- Uppercase and lowercase letters')\n",
    "    print('- At least one number')\n",
    "    print('- At least one special character: !@#$%^&* etc.')\n",
    "    print('- No spaces or tabs')\n",
    "    \n",
    "    password = input(\"Your password: \")\n",
    "    \n",
    "    errors = validate_password(password)\n",
    "    if not errors:\n",
    "        print(\"✔ Excellent password! Successfully set.\")\n",
    "        break\n",
    "        \n",
    "    print(\"\\n✖ Password must:\")\n",
    "    for error in errors:\n",
    "        print(f\"   - {error}\")\n",
    "    print(\"Please try again.\\n\")"
   ]
  },
  {
   "cell_type": "code",
   "execution_count": 5,
   "id": "f8b8967f-3ee2-4ea3-8875-d77f84c7d4f8",
   "metadata": {},
   "outputs": [
    {
     "name": "stdout",
     "output_type": "stream",
     "text": [
      "\n",
      "Enter your email address:\n",
      "- Must contain one \"@\" symbol\n",
      "- Basic valid format (local-part@domain)\n"
     ]
    },
    {
     "name": "stdin",
     "output_type": "stream",
     "text": [
      "Your email:  dantsai123@gmail.com\n"
     ]
    },
    {
     "name": "stdout",
     "output_type": "stream",
     "text": [
      "✔ Email accepted!\n"
     ]
    }
   ],
   "source": [
    "import re\n",
    "\n",
    "def validate_email(email):\n",
    "    \"\"\"Check email against basic criteria\"\"\"\n",
    "    if \"@\" not in email:\n",
    "        return \"Email must contain an @ symbol\"\n",
    "    if email.count(\"@\") > 1:\n",
    "        return \"Email can only contain one '@' symbol\"\n",
    "    if not re.match(r'^[a-zA-Z0-9._%+-]+@[a-zA-Z0-9.-]+\\.[a-zA-Z]{2,}$', email):\n",
    "        return \"Invalid email format\"\n",
    "    return None\n",
    "\n",
    "while True:\n",
    "    print('\\nEnter your email address:')\n",
    "    print('- Must contain one \"@\" symbol')\n",
    "    print('- Basic valid format (local-part@domain)')\n",
    "\n",
    "    email = input(\"Your email: \")\n",
    "    error = validate_email(email)\n",
    "    if not error:\n",
    "        print(\"✔ Email accepted!\")\n",
    "        break\n",
    "    print(f\"✖ {error}. Please try again.\")"
   ]
  },
  {
   "cell_type": "code",
   "execution_count": 7,
   "id": "8d9ac31e-e721-462c-9081-c64193f9d45f",
   "metadata": {},
   "outputs": [
    {
     "name": "stdout",
     "output_type": "stream",
     "text": [
      "\n",
      "Enter your age:\n",
      "- Must be a whole number\n",
      "- Must be a positive number\n",
      "- Must be a realistic age (e.g., not over 150)\n"
     ]
    },
    {
     "name": "stdin",
     "output_type": "stream",
     "text": [
      "Your age:  29\n"
     ]
    },
    {
     "name": "stdout",
     "output_type": "stream",
     "text": [
      "✔ Age accepted: 29\n"
     ]
    }
   ],
   "source": [
    "def validate_age(age_str):\n",
    "    \"\"\"Check if the input is a valid age (positive integer)\"\"\"\n",
    "    if not age_str.isdigit():\n",
    "        return \"Age must be a whole number\"\n",
    "    age = int(age_str)\n",
    "    if age <= 0:\n",
    "        return \"Age must be a positive number\"\n",
    "    if age > 150:\n",
    "        return \"That seems unlikely! Please enter a realistic age.\"\n",
    "    return None\n",
    "\n",
    "while True:\n",
    "    print('\\nEnter your age:')\n",
    "    print('- Must be a whole number')\n",
    "    print('- Must be a positive number')\n",
    "    print('- Must be a realistic age (e.g., not over 150)')\n",
    "\n",
    "    age_input = input(\"Your age: \")\n",
    "    error = validate_age(age_input)\n",
    "    if not error:\n",
    "        print(f\"✔ Age accepted: {age_input}\")\n",
    "        break\n",
    "    print(f\"✖ {error}. Please try again.\")\n",
    "    \n",
    "    "
   ]
  },
  {
   "cell_type": "code",
   "execution_count": 9,
   "id": "7648e1b2-2c49-4e46-9353-567af0508c28",
   "metadata": {},
   "outputs": [
    {
     "name": "stdout",
     "output_type": "stream",
     "text": [
      "\n",
      "Enter your phone number (in XXX-XXX-XXXX format):\n"
     ]
    },
    {
     "name": "stdin",
     "output_type": "stream",
     "text": [
      "Your phone:  000-000-0000\n"
     ]
    },
    {
     "name": "stdout",
     "output_type": "stream",
     "text": [
      "✔ Phone number accepted: 000-000-0000\n"
     ]
    }
   ],
   "source": [
    "def validate_phone_number(phone):\n",
    "    \"\"\"Check if the input is a basic US phone number format (XXX-XXX-XXXX)\"\"\"\n",
    "    if not re.match(r'^\\d{3}-\\d{3}-\\d{4}$', phone):\n",
    "        return \"Invalid phone number format. Please use XXX-XXX-XXXX\"\n",
    "    return None\n",
    "\n",
    "while True:\n",
    "    print('\\nEnter your phone number (in XXX-XXX-XXXX format):')\n",
    "    phone_number = input(\"Your phone: \")\n",
    "    error = validate_phone_number(phone_number)\n",
    "    if not error:\n",
    "        print(f\"✔ Phone number accepted: {phone_number}\")\n",
    "        break\n",
    "    print(f\"✖ {error}. Please try again.\")"
   ]
  },
  {
   "cell_type": "code",
   "execution_count": 10,
   "id": "09710aa2-74c6-4f72-9cc7-3a884034cd6e",
   "metadata": {},
   "outputs": [
    {
     "name": "stdout",
     "output_type": "stream",
     "text": [
      "\n",
      "Choose a colour: \n",
      "Valid options: Red, Blue, Green, Yellow\n"
     ]
    },
    {
     "name": "stdin",
     "output_type": "stream",
     "text": [
      "Your choice:  Yellow\n"
     ]
    },
    {
     "name": "stdout",
     "output_type": "stream",
     "text": [
      "✔ You chose: Yellow\n"
     ]
    }
   ],
   "source": [
    "def validate_choice(choice, valid_options):\n",
    "    \"\"\"Check if the input is one of the valid options\"\"\"\n",
    "    if choice.lower() not in [option.lower() for option in valid_options]:\n",
    "         return f\"Invalid choice. Please select from: {', '.join(valid_options)}\"\n",
    "    return None\n",
    "\n",
    "valid_colors = [\"Red\", \"Blue\", \"Green\", \"Yellow\"]\n",
    "\n",
    "while True:\n",
    "    print(\"\\nChoose a colour: \")\n",
    "    print(f\"Valid options: {', '.join(valid_colors) }\")\n",
    "    user_choice = input(\"Your choice: \")\n",
    "    error = validate_choice(user_choice, valid_colors)\n",
    "    if not error:\n",
    "        print(f\"✔ You chose: {user_choice}\")\n",
    "        break\n",
    "    print(f\"✖ {error}. Please try again.\")\n",
    "    "
   ]
  },
  {
   "cell_type": "code",
   "execution_count": 103,
   "id": "24aef15d-2bb4-4329-85c7-421b00828b24",
   "metadata": {},
   "outputs": [
    {
     "data": {
      "text/plain": [
       "'cats, rats, bats'"
      ]
     },
     "execution_count": 103,
     "metadata": {},
     "output_type": "execute_result"
    }
   ],
   "source": [
    "', '.join(['cats', 'rats', 'bats'])"
   ]
  },
  {
   "cell_type": "code",
   "execution_count": 104,
   "id": "cc1aedc3-8e3e-47c0-b4ab-9ed636d90060",
   "metadata": {},
   "outputs": [
    {
     "data": {
      "text/plain": [
       "'My name is Simon'"
      ]
     },
     "execution_count": 104,
     "metadata": {},
     "output_type": "execute_result"
    }
   ],
   "source": [
    "' '.join(['My', 'name', 'is', 'Simon'])"
   ]
  },
  {
   "cell_type": "code",
   "execution_count": 105,
   "id": "73ceedad-07da-4312-8a6d-a0a6f8efa616",
   "metadata": {},
   "outputs": [
    {
     "data": {
      "text/plain": [
       "'MyABCnameABCisABCSimon'"
      ]
     },
     "execution_count": 105,
     "metadata": {},
     "output_type": "execute_result"
    }
   ],
   "source": [
    "'ABC'.join(['My', 'name', 'is', 'Simon'])"
   ]
  },
  {
   "cell_type": "code",
   "execution_count": 106,
   "id": "45c48a4b-0360-46e8-8b27-0cb58bbeb571",
   "metadata": {},
   "outputs": [
    {
     "data": {
      "text/plain": [
       "['My', 'name', 'is', 'Simon']"
      ]
     },
     "execution_count": 106,
     "metadata": {},
     "output_type": "execute_result"
    }
   ],
   "source": [
    "'MyABCnameABCisABCSimon'.split('ABC')"
   ]
  },
  {
   "cell_type": "code",
   "execution_count": 111,
   "id": "1f11e203-efdd-4ee1-9aae-d404093dce23",
   "metadata": {},
   "outputs": [
    {
     "name": "stdout",
     "output_type": "stream",
     "text": [
      "['Dear Alice,', 'How have you been? I am fine.', 'There is a container in the fridge', 'that is labeled \"Milk Experiment.\"', 'Please do not drink it.', 'Sincerely,', 'Bob']\n"
     ]
    }
   ],
   "source": [
    "spam = '''Dear Alice,\n",
    "How have you been? I am fine.\n",
    "There is a container in the fridge\n",
    "that is labeled \"Milk Experiment.\"\n",
    "\n",
    "Please do not drink it.\n",
    "Sincerely,\n",
    "Bob'''\n",
    "\n",
    "# result = spam.split('\\n')\n",
    "result = [line for line in spam.split('\\n') if line.strip() != '']\n",
    "# Removes the empty string entry\n",
    "print(result)"
   ]
  },
  {
   "cell_type": "code",
   "execution_count": 122,
   "id": "c527a53f-c96c-4d94-84e8-0ef6bc87966e",
   "metadata": {},
   "outputs": [
    {
     "name": "stdout",
     "output_type": "stream",
     "text": [
      "Hello,\n",
      "world!\n"
     ]
    }
   ],
   "source": [
    "before, sep, after = 'Hello, world!'.partition(' ')\n",
    "print(before)\n",
    "print(after)"
   ]
  },
  {
   "cell_type": "code",
   "execution_count": 117,
   "id": "39b5ac97-31be-48be-b9bc-2f7dd89d2f3d",
   "metadata": {},
   "outputs": [
    {
     "name": "stdout",
     "output_type": "stream",
     "text": [
      "Hour: 12\n",
      "Separator: ':'\n",
      "Rest: 30 PM\n"
     ]
    }
   ],
   "source": [
    "time, sep, meridium = \"12:30 PM\".partition(':')\n",
    "print(f\"Hour: {time}\")      # 12\n",
    "print(f\"Separator: '{sep}'\") # ':'\n",
    "print(f\"Rest: {meridiem}\")  # 30 PM\n",
    "\n"
   ]
  },
  {
   "cell_type": "code",
   "execution_count": 124,
   "id": "3e57cb9d-0073-4c9f-8b03-673dfaa0bcdf",
   "metadata": {},
   "outputs": [
    {
     "name": "stdout",
     "output_type": "stream",
     "text": [
      "Filename: report-2023\n",
      "Seperator: '.'\n",
      "Extension: pdf\n"
     ]
    }
   ],
   "source": [
    "filename, sep, extension = \"report-2023.pdf\".partition('.')\n",
    "print(f\"Filename: {filename}\")\n",
    "print(f\"Seperator: '{sep}'\") \n",
    "print(f\"Extension: {extension}\")"
   ]
  },
  {
   "cell_type": "code",
   "execution_count": 132,
   "id": "05e53eb0-84d8-4764-b176-90181628a40c",
   "metadata": {},
   "outputs": [
    {
     "name": "stdout",
     "output_type": "stream",
     "text": [
      "***************Hello\n",
      "Hello---------------\n",
      "       Hello        \n",
      "=======Hello========\n",
      "=======Hello========\n"
     ]
    }
   ],
   "source": [
    "print('Hello'.rjust(20, '*'))\n",
    "print('Hello'.ljust(20, '-'))\n",
    "print('Hello'.center(20))\n",
    "print('Hello'.center(20, '='))\n"
   ]
  },
  {
   "cell_type": "code",
   "execution_count": 133,
   "id": "2e1a52fb-ad36-43c8-bdf2-ad696c4b9142",
   "metadata": {},
   "outputs": [
    {
     "name": "stdout",
     "output_type": "stream",
     "text": [
      "---PICNIC ITEMS--\n",
      "sandwiches..    4\n",
      "apples......   12\n",
      "cups........    4\n",
      "cookies..... 8000\n",
      "-------PICNIC ITEMS-------\n",
      "sandwiches..........     4\n",
      "apples..............    12\n",
      "cups................     4\n",
      "cookies.............  8000\n"
     ]
    }
   ],
   "source": [
    "def printPicnic(itemsDict, leftWidth, rightWidth):\n",
    "    print('PICNIC ITEMS'.center(leftWidth + rightWidth, '-'))\n",
    "    for k, v in itemsDict.items():\n",
    "        print(k.ljust(leftWidth, '.') + str(v).rjust(rightWidth))\n",
    "\n",
    "picnicItems = {'sandwiches': 4, 'apples': 12, 'cups': 4, 'cookies': 8000}\n",
    "printPicnic(picnicItems, 12, 5)\n",
    "printPicnic(picnicItems, 20, 6)"
   ]
  },
  {
   "cell_type": "code",
   "execution_count": 138,
   "id": "adbf989d-2509-4e37-a3d5-5a0d6e24a3b6",
   "metadata": {},
   "outputs": [
    {
     "name": "stdout",
     "output_type": "stream",
     "text": [
      "\n",
      "--- Example 1 ---\n",
      "------PICNIC ITEMS-----\n",
      "tacos..........       3\n",
      "salsa..........   a lot\n",
      "guacamole......    some\n",
      "tortillas......      10\n",
      "\n",
      "--- Example 2 ---\n",
      "--------PICNIC ITEMS-------\n",
      "lemonade............      2\n",
      "iced tea............      5\n",
      "sparkling water.....      1\n",
      "fruit punch.........      3\n",
      "\n",
      "--- Example 3 ---\n",
      "-PICNIC ITEMS-\n",
      "blanket...   1\n",
      "sunscreen.   1\n",
      "hat.......   2\n"
     ]
    }
   ],
   "source": [
    "def printPicnic(itemsDict, leftWidth, rightWidth):\n",
    "    print('PICNIC ITEMS'.center(leftWidth + rightWidth, '-'))\n",
    "    for k, v in itemsDict.items():\n",
    "        print(k.ljust(leftWidth, '.') + str(v).rjust(rightWidth))\n",
    "        \n",
    "\n",
    "# Example 1: Different items and widths\n",
    "foodItems = {'tacos': 3, 'salsa': 'a lot', 'guacamole': 'some', 'tortillas': 10}\n",
    "print(\"\\n--- Example 1 ---\")\n",
    "printPicnic(foodItems, 15, 8)\n",
    "\n",
    "# Example 2: Items with longer names\n",
    "drinkItems = {'lemonade': 2, 'iced tea': 5, 'sparkling water': 1, 'fruit punch': 3}\n",
    "print(\"\\n--- Example 2 ---\")\n",
    "printPicnic(drinkItems, 20, 7)\n",
    "\n",
    "# Example 3: Fewer items and smaller widths\n",
    "gearItems = {'blanket': 1, 'sunscreen': 1, 'hat': 2}\n",
    "print(\"\\n--- Example 3 ---\")\n",
    "printPicnic(gearItems, 10, 4)"
   ]
  },
  {
   "cell_type": "code",
   "execution_count": 141,
   "id": "1ce317a7-dcd8-449a-a710-3bba28de2577",
   "metadata": {},
   "outputs": [
    {
     "name": "stdout",
     "output_type": "stream",
     "text": [
      "===== Inventory =====\n",
      "laptops........     15\n",
      "mice...........     42\n",
      "keyboards......     23\n",
      "monitors.......      9\n"
     ]
    }
   ],
   "source": [
    "def printInventory(ItemDict, leftWidth, rightWidth):\n",
    "    print(' Inventory '.center(leftWidth + rightWidth, '='))\n",
    "    for item, quantity in ItemDict.items():\n",
    "        print(item.ljust(leftWidth, '.'), str(quantity).rjust(rightWidth))\n",
    "        \n",
    "inventory = {'laptops': 15, 'mice': 42, 'keyboards': 23, 'monitors': 9}\n",
    "printInventory(inventory, 15, 6)  "
   ]
  },
  {
   "cell_type": "code",
   "execution_count": 144,
   "id": "8626b6ee-9c92-4696-ac4a-2cec12323187",
   "metadata": {},
   "outputs": [
    {
     "name": "stdout",
     "output_type": "stream",
     "text": [
      "============== Book =============\n",
      "Python Crash Course......    29.99\n",
      "Deep Learning............    89.99\n",
      "Algorithms...............     49.5\n"
     ]
    }
   ],
   "source": [
    "def printBooks(ItemDict, leftWidth, rightWidth):\n",
    "    print(' Book '.center(leftWidth + rightWidth, '='))\n",
    "    for book, price in ItemDict.items():\n",
    "        print(book.ljust(leftWidth, '.'), str(price).rjust(rightWidth))\n",
    "              \n",
    "books = {'Python Crash Course': 29.99, 'Deep Learning': 89.99, 'Algorithms': 49.50}\n",
    "printBooks(books, 25, 8)"
   ]
  },
  {
   "cell_type": "code",
   "execution_count": 147,
   "id": "e146331e-bc71-4567-8274-f8cac61c2824",
   "metadata": {},
   "outputs": [
    {
     "name": "stdout",
     "output_type": "stream",
     "text": [
      "======== Exercise =======\n",
      "Push-ups.......         50\n",
      "Squats.........         75\n",
      "Pull-ups.......         12\n",
      "Plank (sec)....        120\n"
     ]
    }
   ],
   "source": [
    "def printProgress(progressDict, leftWidth, rightWidth):\n",
    "    print(' Exercise '.center(leftWidth + rightWidth, '='))\n",
    "    for exercise, numbers in progressDict.items():\n",
    "        print(exercise.ljust(leftWidth, '.'), str(numbers).rjust(rightWidth))\n",
    "\n",
    "progress = {'Push-ups': 50, 'Squats': 75, 'Pull-ups': 12, 'Plank (sec)': 120}\n",
    "printProgress(progress, 15, 10)"
   ]
  },
  {
   "cell_type": "code",
   "execution_count": 148,
   "id": "c9d4a2b3-3f23-4c6e-ae8a-85ff4c1f3a13",
   "metadata": {},
   "outputs": [
    {
     "name": "stdout",
     "output_type": "stream",
     "text": [
      "+===============+==========+\n",
      "|      ITEM     |   QTY    |\n",
      "+===============+==========+\n",
      "|sandwiches     |    4     |\n",
      "+---------------+----------+\n",
      "|apples         |    12    |\n",
      "+---------------+----------+\n",
      "|cups           |    4     |\n",
      "+---------------+----------+\n",
      "|cookies        |   8000   |\n",
      "+---------------+----------+\n"
     ]
    }
   ],
   "source": [
    "def print_border_table(items, col1_width, col2_width):\n",
    "    # Create border strings\n",
    "    border = '+' + '-'*col1_width + '+' + '-'*col2_width + '+'\n",
    "    header_border = '+' + '='*col1_width + '+' + '='*col2_width + '+'\n",
    "    \n",
    "    print(header_border)\n",
    "    print(f\"|{'ITEM'.center(col1_width)}|{'QTY'.center(col2_width)}|\")\n",
    "    print(header_border)\n",
    "    \n",
    "    for item, qty in items.items():\n",
    "        print(f\"|{item.ljust(col1_width)}|{str(qty).center(col2_width)}|\")\n",
    "        print(border)\n",
    "\n",
    "# Test\n",
    "picnic = {'sandwiches':4, 'apples':12, 'cups':4, 'cookies':8000}\n",
    "print_border_table(picnic, 15, 10)"
   ]
  },
  {
   "cell_type": "code",
   "execution_count": 151,
   "id": "5674afe1-3af6-4757-a378-143a7c24d7d0",
   "metadata": {},
   "outputs": [
    {
     "name": "stdout",
     "output_type": "stream",
     "text": [
      "╔════════════════════╦══════════╗\n",
      "║      CATEGORY      ║  COUNT   ║\n",
      "╠════════════════════╬══════════╣\n",
      "║Laptops             ║        15║\n",
      "╟────────────────────╫──────────╢\n",
      "║Mice                ║        42║\n",
      "╟────────────────────╫──────────╢\n",
      "║Keyboards           ║        23║\n",
      "╚════════════════════╩══════════╝\n"
     ]
    }
   ],
   "source": [
    "def print_fancy_table(data, widths):\n",
    "    top_border    = '╔' + '═'*widths[0] + '╦' + '═'*widths[1] + '╗'\n",
    "    middle_border = '╠' + '═'*widths[0] + '╬' + '═'*widths[1] + '╣'\n",
    "    bottom_border = '╚' + '═'*widths[0] + '╩' + '═'*widths[1] + '╝'\n",
    "    row_border    = '╟' + '─'*widths[0] + '╫' + '─'*widths[1] + '╢'\n",
    "    \n",
    "    print(top_border)\n",
    "    print(f\"║{'CATEGORY'.center(widths[0])}║{'COUNT'.center(widths[1])}║\")\n",
    "    print(middle_border)\n",
    "\n",
    "    for i, (k, v) in enumerate(data.items()):\n",
    "        print(f\"║{k.ljust(widths[0])}║{str(v).rjust(widths[1])}║\")\n",
    "        print(row_border if i < len(data)-1 else bottom_border)\n",
    "\n",
    "# Test\n",
    "inventory = {'Laptops':15, 'Mice':42, 'Keyboards':23}\n",
    "print_fancy_table(inventory, [20,10])"
   ]
  },
  {
   "cell_type": "code",
   "execution_count": 152,
   "id": "6afa195d-5587-47a8-b7dc-ced2abaab0a7",
   "metadata": {},
   "outputs": [
    {
     "name": "stdout",
     "output_type": "stream",
     "text": [
      "+==========+==============================+\n",
      "|          |  Day 1   |  Day 2   |  Day 3   |\n",
      "+----------+------------------------------+\n",
      "|Exercise  | Push-ups |  Squats  |  Plank   |\n",
      "+----------+------------------------------+\n",
      "|Mon       |    50    |    30    |    60    |\n",
      "+----------+------------------------------+\n",
      "|Tue       |    55    |    35    |    65    |\n",
      "+----------+------------------------------+\n",
      "|Wed       |    60    |    40    |    70    |\n",
      "+----------+------------------------------+\n"
     ]
    }
   ],
   "source": [
    "def print_dynamic_borders(data, padding=2):\n",
    "    cols = list(data.keys())\n",
    "    rows = list(data.values())\n",
    "    col_width = max(len(str(x)) for x in cols) + padding\n",
    "    val_width = max(len(str(x)) for row in rows for x in row) + padding\n",
    "    \n",
    "    # Dynamic border builder\n",
    "    def make_border(symbol):\n",
    "        return '+' + symbol*col_width + '+' + symbol*val_width*len(rows[0]) + '+'\n",
    "    \n",
    "    print(make_border('='))\n",
    "    print(f\"|{' '.ljust(col_width)}|\", end='')\n",
    "    for i in range(len(rows[0])):\n",
    "        print(f\" Day {i+1} \".center(val_width) + '|', end='')\n",
    "    print('\\n' + make_border('-'))\n",
    "    \n",
    "    for col, vals in data.items():\n",
    "        print(f\"|{col.ljust(col_width)}|\", end='')\n",
    "        for v in vals:\n",
    "            print(f\"{str(v).center(val_width)}|\", end='')\n",
    "        print('\\n' + make_border('-'))\n",
    "\n",
    "# Test data\n",
    "progress = {\n",
    "    'Exercise': ['Push-ups', 'Squats', 'Plank'],\n",
    "    'Mon': [50, 30, 60],\n",
    "    'Tue': [55, 35, 65],\n",
    "    'Wed': [60, 40, 70]\n",
    "}\n",
    "print_dynamic_borders(progress)"
   ]
  },
  {
   "cell_type": "code",
   "execution_count": 153,
   "id": "b2041081-e3fd-4b43-922b-b414e576b370",
   "metadata": {},
   "outputs": [
    {
     "name": "stdout",
     "output_type": "stream",
     "text": [
      "[1, 4, 9, 16, 25]\n"
     ]
    }
   ],
   "source": [
    "# nested generator expression\n",
    "# example 1\n",
    "list_of_lists = [[1, 2], [3, 4], [5]]\n",
    "\n",
    "squared_numbers = [x**2 for row in list_of_lists for x in row]\n",
    "\n",
    "print(squared_numbers)"
   ]
  },
  {
   "cell_type": "code",
   "execution_count": 154,
   "id": "4437de7c-0fe9-4492-a097-9537489346b7",
   "metadata": {},
   "outputs": [
    {
     "name": "stdout",
     "output_type": "stream",
     "text": [
      "['h', 'e', 'l', 'l', 'o', 'w', 'o', 'r', 'l', 'd', 'p', 'y', 't', 'h', 'o', 'n']\n"
     ]
    }
   ],
   "source": [
    "list_of_strings = [\"hello\", \"world\", \"python\"]\n",
    "\n",
    "all_characters = [char for word in list_of_strings for char in word]\n",
    "\n",
    "print(all_characters)"
   ]
  },
  {
   "cell_type": "code",
   "execution_count": 155,
   "id": "0fee8d8b-3588-4a61-b72c-f982babcace3",
   "metadata": {},
   "outputs": [
    {
     "name": "stdout",
     "output_type": "stream",
     "text": [
      "[2, 4, 6, 8]\n"
     ]
    }
   ],
   "source": [
    "numbers = [[1, 2, 3], [4, 5, 6], [7, 8]]\n",
    "\n",
    "even_numbers = [num for row in numbers for num in row if num % 2 == 0]\n",
    "\n",
    "print(even_numbers)"
   ]
  },
  {
   "cell_type": "code",
   "execution_count": 156,
   "id": "1870467e-4436-4b67-86ee-114868850884",
   "metadata": {},
   "outputs": [
    {
     "name": "stdout",
     "output_type": "stream",
     "text": [
      "[[0, 0], [0, 1], [0, 2], [1, 0], [1, 1], [1, 2], [2, 0], [2, 1], [2, 2]]\n"
     ]
    }
   ],
   "source": [
    "coordinates = [[x, y] for x in range(3) for y in range(3)]\n",
    "print(coordinates)"
   ]
  },
  {
   "cell_type": "code",
   "execution_count": 157,
   "id": "078f1dde-82e6-4cf3-8e27-6196dd9b2886",
   "metadata": {},
   "outputs": [
    {
     "name": "stdout",
     "output_type": "stream",
     "text": [
      "[10, 20, 30, 40, 50, 60]\n"
     ]
    }
   ],
   "source": [
    "list_of_lists = [[10, 20], [30, 40, 50], [60]]\n",
    "flat_list = [number for inner_list in list_of_lists for number in inner_list]\n",
    "\n",
    "print(flat_list)"
   ]
  },
  {
   "cell_type": "code",
   "execution_count": 158,
   "id": "be819896-fdf4-4d9b-b972-6e5e75d789bd",
   "metadata": {},
   "outputs": [
    {
     "name": "stdout",
     "output_type": "stream",
     "text": [
      "[[1, 2, 3], [2, 4, 6], [3, 6, 9]]\n"
     ]
    }
   ],
   "source": [
    "multiplication_table = [[i * j for j in range(1, 4)] for i in range(1, 4)]\n",
    "print(multiplication_table)"
   ]
  },
  {
   "cell_type": "code",
   "execution_count": 159,
   "id": "3a327c23-15de-4ce1-9ecd-8326d512479a",
   "metadata": {},
   "outputs": [
    {
     "name": "stdout",
     "output_type": "stream",
     "text": [
      "[(0, 'apple'), (0, 'banana'), (0, 'cherry')]\n"
     ]
    }
   ],
   "source": [
    "items = ['apple', 'banana', 'cherry']\n",
    "\n",
    "indexed_items = [(index, item) for index, sublist in enumerate([items]) for item in sublist]\n",
    "print(indexed_items)"
   ]
  },
  {
   "cell_type": "code",
   "execution_count": 163,
   "id": "a2b0d0ea-257f-42be-aeb0-979600c1ae7e",
   "metadata": {},
   "outputs": [
    {
     "name": "stdout",
     "output_type": "stream",
     "text": [
      "[(0, 'h'), (1, 'w'), (2, 'p')]\n"
     ]
    }
   ],
   "source": [
    "words = [\"hello\", \"world\", \"python\"]\n",
    "indexed_first_letters = [(index, word[0]) for index, word in enumerate(words)]\n",
    "print(indexed_first_letters)"
   ]
  },
  {
   "cell_type": "code",
   "execution_count": 164,
   "id": "10d70bdd-d40c-44cb-85cd-2a6f25e9648b",
   "metadata": {},
   "outputs": [
    {
     "name": "stdout",
     "output_type": "stream",
     "text": [
      "[(1, 'a'), (1, 'b'), (1, 'c'), (2, 'a'), (2, 'b'), (2, 'c'), (3, 'a'), (3, 'b'), (3, 'c')]\n"
     ]
    }
   ],
   "source": [
    "list1 = [1, 2, 3]\n",
    "list2 = ['a', 'b', 'c']\n",
    "pairs = [(x, y) for x in list1 for y in list2]\n",
    "print(pairs)"
   ]
  },
  {
   "cell_type": "code",
   "execution_count": 165,
   "id": "76abdc44-a531-473b-92b4-6b432357cccf",
   "metadata": {},
   "outputs": [
    {
     "name": "stdout",
     "output_type": "stream",
     "text": [
      "[4, 16, 36]\n"
     ]
    }
   ],
   "source": [
    "nested_numbers = [[1, 2], [3, 4, 5], [6]]\n",
    "even_squares = [num**2 for inner_list in nested_numbers for num in inner_list if num % 2 == 0]\n",
    "print(even_squares)"
   ]
  },
  {
   "cell_type": "code",
   "execution_count": 166,
   "id": "ee564d1f-5ed2-4345-8c51-1bddf2d066ab",
   "metadata": {},
   "outputs": [
    {
     "ename": "NameError",
     "evalue": "name 'outer_iterable' is not defined",
     "output_type": "error",
     "traceback": [
      "\u001b[0;31m---------------------------------------------------------------------------\u001b[0m",
      "\u001b[0;31mNameError\u001b[0m                                 Traceback (most recent call last)",
      "Cell \u001b[0;32mIn[166], line 2\u001b[0m\n\u001b[1;32m      1\u001b[0m \u001b[38;5;66;03m# Nested list comprehension\u001b[39;00m\n\u001b[0;32m----> 2\u001b[0m [expression \u001b[38;5;28;01mfor\u001b[39;00m outer_item \u001b[38;5;129;01min\u001b[39;00m outer_iterable \u001b[38;5;28;01mfor\u001b[39;00m inner_item \u001b[38;5;129;01min\u001b[39;00m inner_iterable]\n\u001b[1;32m      4\u001b[0m \u001b[38;5;66;03m# Equivalent nested for loops\u001b[39;00m\n\u001b[1;32m      5\u001b[0m result \u001b[38;5;241m=\u001b[39m []\n",
      "\u001b[0;31mNameError\u001b[0m: name 'outer_iterable' is not defined"
     ]
    }
   ],
   "source": [
    "# Nested list comprehension\n",
    "[expression for outer_item in outer_iterable for inner_item in inner_iterable]\n",
    "\n",
    "# Equivalent nested for loops\n",
    "result = []\n",
    "for outer_item in outer_iterable:\n",
    "    for inner_item in inner_iterable:\n",
    "        result.append(expression)"
   ]
  },
  {
   "cell_type": "code",
   "execution_count": 168,
   "id": "7aecc067-5bff-4aa2-a009-3176757a7e71",
   "metadata": {},
   "outputs": [
    {
     "name": "stdout",
     "output_type": "stream",
     "text": [
      "List comprehension result: [1, 4, 9, 16, 25]\n",
      "Nested for loops result: [1, 4, 9, 16, 25]\n"
     ]
    }
   ],
   "source": [
    "# Nested list comprehension example:\n",
    "list_of_lists = [[1, 2], [3, 4], [5]]\n",
    "squared_numbers_comp = [num**2 for inner_list in list_of_lists for num in inner_list]\n",
    "print(f\"List comprehension result: {squared_numbers_comp}\")\n",
    "\n",
    "# Equivalent nested for loops:\n",
    "list_of_lists = [[1, 2], [3, 4], [5]]\n",
    "squared_numbers_loop = []\n",
    "for inner_list in list_of_lists:\n",
    "    for num in inner_list:\n",
    "        squared_numbers_loop.append(num**2)\n",
    "print(f\"Nested for loops result: {squared_numbers_loop}\")"
   ]
  },
  {
   "cell_type": "code",
   "execution_count": 171,
   "id": "00b3c7c2-6163-47d5-a511-2d6b243c2de8",
   "metadata": {},
   "outputs": [
    {
     "name": "stdout",
     "output_type": "stream",
     "text": [
      "['BANANA', 'CHERRY', 'ELDERBERRY']\n"
     ]
    }
   ],
   "source": [
    "words = [\"apple\", \"banana\", \"cherry\", \"date\", \"elderberry\"]\n",
    "long_upper_case = [word.upper() for word in words if len(word)>5]\n",
    "print(long_upper_case)"
   ]
  },
  {
   "cell_type": "code",
   "execution_count": 172,
   "id": "9d626e71-1307-46d7-ace5-a28106f24566",
   "metadata": {},
   "outputs": [
    {
     "name": "stdout",
     "output_type": "stream",
     "text": [
      "[(0, 'a'), (1, 'b'), (2, 'c'), (3, 'd')]\n"
     ]
    }
   ],
   "source": [
    "items = ['a', 'b', 'c', 'd']\n",
    "indexed_item = [(index, item) for index, item in enumerate(items)]\n",
    "print(indexed_item)"
   ]
  },
  {
   "cell_type": "code",
   "execution_count": 173,
   "id": "3c57e870-83cc-40fa-a5dc-6cea0a0dc754",
   "metadata": {},
   "outputs": [
    {
     "name": "stdout",
     "output_type": "stream",
     "text": [
      "[0, 2, 4, 6, 8]\n"
     ]
    }
   ],
   "source": [
    "even_numbers = [num for num in range(10) if num % 2 == 0]\n",
    "print(even_numbers)"
   ]
  },
  {
   "cell_type": "code",
   "execution_count": 174,
   "id": "ca028eb6-1c81-492a-8ac9-8d51ac035b91",
   "metadata": {},
   "outputs": [
    {
     "name": "stdout",
     "output_type": "stream",
     "text": [
      "[5, 5, 6, 4]\n"
     ]
    }
   ],
   "source": [
    "# [expression for item in iterable if condition]\n",
    "words = [\"hello\", \"world\", \"python\", \"code\"]\n",
    "word_lengths = [len(word) for word in words]\n",
    "print(word_lengths)"
   ]
  },
  {
   "cell_type": "code",
   "execution_count": 175,
   "id": "9c8af938-81f5-4e58-b1cf-2b272d8e2541",
   "metadata": {},
   "outputs": [
    {
     "name": "stdout",
     "output_type": "stream",
     "text": [
      "[32.0, 50.0, 68.0, 86.0, 104.0]\n"
     ]
    }
   ],
   "source": [
    "celsius_temps = [0, 10, 20, 30, 40]\n",
    "fahrenheit_temps = [(c* 9/5) + 32 for c in celsius_temps]\n",
    "print(fahrenheit_temps)"
   ]
  },
  {
   "cell_type": "code",
   "execution_count": 176,
   "id": "86e141ad-3baa-4dc9-872f-803c3b82829c",
   "metadata": {},
   "outputs": [
    {
     "name": "stdout",
     "output_type": "stream",
     "text": [
      "[False, False, False, True, True]\n"
     ]
    }
   ],
   "source": [
    "numbers = [1, 5, 10, 15, 20]\n",
    "is_greater_than_10 = [num > 10 for num in numbers]\n",
    "print(is_greater_than_10)"
   ]
  },
  {
   "cell_type": "code",
   "execution_count": 177,
   "id": "62f029c3-78b6-486d-9652-d1f3182b49ff",
   "metadata": {},
   "outputs": [
    {
     "name": "stdout",
     "output_type": "stream",
     "text": [
      "[15, 20]\n"
     ]
    }
   ],
   "source": [
    "numbers = [1, 5, 10, 15, 20]\n",
    "greater_than_10 = [num for num in numbers if num > 10]\n",
    "print(greater_than_10)"
   ]
  },
  {
   "cell_type": "code",
   "execution_count": 182,
   "id": "5ec9238d-0022-4076-aa68-6be4bd0f40e1",
   "metadata": {},
   "outputs": [
    {
     "name": "stdout",
     "output_type": "stream",
     "text": [
      "['A.S', 'B.J', 'C.B']\n"
     ]
    }
   ],
   "source": [
    "names = [\"alice smith\", \"bob johnson\", \"charlie brown\"]\n",
    "initials = [name.split()[0][0].upper() + '.' + name.split()[-1][0].upper() for name in names]\n",
    "print(initials)"
   ]
  },
  {
   "cell_type": "code",
   "execution_count": 184,
   "id": "b8d7f462-0f62-4b81-8691-cc14a6872bb2",
   "metadata": {},
   "outputs": [
    {
     "name": "stdout",
     "output_type": "stream",
     "text": [
      "[(0, 0), (2, 4), (4, 16), (6, 36), (8, 64), (10, 100)]\n"
     ]
    }
   ],
   "source": [
    "numbers = range(11)  # Numbers from 0 to 10\n",
    "even_square_tuples = [(num, num**2) for num in numbers if num % 2 == 0]\n",
    "print(even_square_tuples)"
   ]
  },
  {
   "cell_type": "code",
   "execution_count": 187,
   "id": "8f233485-fa6f-4486-b291-3b056ea54e88",
   "metadata": {},
   "outputs": [
    {
     "name": "stdout",
     "output_type": "stream",
     "text": [
      "\n",
      "--- Example 1 ---\n",
      "--Picnic Items-\n",
      "milk           1\n",
      "eggs          12\n",
      "bread          2\n",
      "cheese         1\n",
      "\n",
      "--- Example 2 ---\n",
      "-----------Picnic Items----------\n",
      "The Hitchhiker's Guide to the Galaxy   1\n",
      "Pride and Prejudice              2\n",
      "To Kill a Mockingbird            1\n",
      "\n",
      "--- Example 3 ---\n",
      "------------Picnic Items-----------\n",
      "Laundry                        To Do\n",
      "Grocery Shopping                Done\n",
      "Book Reading              In Progress\n"
     ]
    }
   ],
   "source": [
    "def printPicnic(itemsDict, leftWidth, rightWidth):\n",
    "    print('Picnic Items'.center(leftWidth + rightWidth, '-'))\n",
    "    for k, v in itemsDict.items():\n",
    "        print(k.ljust(leftWidth), str(v).rjust(rightWidth))\n",
    "\n",
    "# Example 1: Different items and widths\n",
    "grocery_list = {'milk': 1, 'eggs': 12, 'bread': 2, 'cheese': 1}\n",
    "print(\"\\n--- Example 1 ---\")\n",
    "printPicnic(grocery_list, 10, 5)\n",
    "\n",
    "# Example 2: Items with varying length keys\n",
    "book_counts = {'The Hitchhiker\\'s Guide to the Galaxy': 1, 'Pride and Prejudice': 2, 'To Kill a Mockingbird': 1}\n",
    "print(\"\\n--- Example 2 ---\")\n",
    "printPicnic(book_counts, 30, 3)\n",
    "\n",
    "# Example 3: Items with string values\n",
    "task_status = {'Laundry': 'To Do', 'Grocery Shopping': 'Done', 'Book Reading': 'In Progress'}\n",
    "print(\"\\n--- Example 3 ---\")\n",
    "printPicnic(task_status, 25, 10)\n"
   ]
  },
  {
   "cell_type": "code",
   "execution_count": 188,
   "id": "0187b14f-6862-47a1-ac48-0d1bf842441a",
   "metadata": {},
   "outputs": [
    {
     "name": "stdout",
     "output_type": "stream",
     "text": [
      "\n",
      "--- Example 2 (Fixed) ---\n",
      "-----------PICNIC ITEMS----------\n",
      "The Hitchhiker's Guide to the   1\n",
      "Galaxy........................\n",
      "Pride and Prejudice...........  2\n",
      "To Kill a Mockingbird.........  1\n"
     ]
    }
   ],
   "source": [
    "def printPicnic(itemsDict, leftWidth, rightWidth):\n",
    "    print('PICNIC ITEMS'.center(leftWidth + rightWidth, '-'))\n",
    "    for k, v in itemsDict.items():\n",
    "        # Handle long keys by splitting into multiple lines\n",
    "        if len(k) > leftWidth:\n",
    "            lines = [k[i:i + leftWidth] for i in range(0, len(k), leftWidth)]\n",
    "            print(lines[0].ljust(leftWidth, '.') + str(v).rjust(rightWidth))\n",
    "            for line in lines[1:]:\n",
    "                print(line.ljust(leftWidth, '.')) # No value for subsequent lines\n",
    "        else:\n",
    "            print(k.ljust(leftWidth, '.') + str(v).rjust(rightWidth))\n",
    "\n",
    "# Example 2: Items with varying length keys (with fix)\n",
    "book_counts = {'The Hitchhiker\\'s Guide to the Galaxy': 1, 'Pride and Prejudice': 2, 'To Kill a Mockingbird': 1}\n",
    "print(\"\\n--- Example 2 (Fixed) ---\")\n",
    "printPicnic(book_counts, 30, 3)"
   ]
  },
  {
   "cell_type": "code",
   "execution_count": 189,
   "id": "8c6de88c-8e60-4686-aae3-a5d8cf2f71a5",
   "metadata": {},
   "outputs": [
    {
     "data": {
      "text/plain": [
       "'BaconSpamEggs'"
      ]
     },
     "execution_count": 189,
     "metadata": {},
     "output_type": "execute_result"
    }
   ],
   "source": [
    "spam = 'SpamSpamBaconSpamEggsSpamSpam'\n",
    "spam.strip('ampS')"
   ]
  },
  {
   "cell_type": "code",
   "execution_count": 190,
   "id": "e4e331fb-7bd0-4cce-bd9a-ff5a40320f1a",
   "metadata": {},
   "outputs": [
    {
     "name": "stdout",
     "output_type": "stream",
     "text": [
      "Original text: '***Hello, World!***'\n",
      "Cleaned text: 'Hello, World'\n",
      "\n",
      "Original text: '  leading and trailing spaces  '\n",
      "Cleaned text: 'leading and trailing spaces'\n",
      "\n",
      "Original text: ',,,Python,,,is,,,fun!!!'\n",
      "Cleaned text: 'Python,,,is,,,fun'\n"
     ]
    }
   ],
   "source": [
    "text = \"***Hello, World!***\"\n",
    "cleaned_text = text.strip(\"*!\")\n",
    "print(f\"Original text: '{text}'\")\n",
    "print(f\"Cleaned text: '{cleaned_text}'\")\n",
    "\n",
    "text2 = \"  leading and trailing spaces  \"\n",
    "cleaned_text2 = text2.strip()\n",
    "print(f\"\\nOriginal text: '{text2}'\")\n",
    "print(f\"Cleaned text: '{cleaned_text2}'\")\n",
    "\n",
    "text3 = \",,,Python,,,is,,,fun!!!\"\n",
    "cleaned_text3 = text3.strip(\",!\")\n",
    "print(f\"\\nOriginal text: '{text3}'\")\n",
    "print(f\"Cleaned text: '{cleaned_text3}'\")"
   ]
  },
  {
   "cell_type": "code",
   "execution_count": 201,
   "id": "bddb2236-f3a8-486d-9e1a-877cc58adc29",
   "metadata": {},
   "outputs": [
    {
     "name": "stdout",
     "output_type": "stream",
     "text": [
      "97\n",
      "65\n",
      "A\n",
      "66\n",
      "True\n",
      "A\n",
      "B\n"
     ]
    }
   ],
   "source": [
    "print(ord('a'))\n",
    "print(ord('A'))\n",
    "print(chr(65))\n",
    "print(ord('B'))\n",
    "print(ord('B') >ord('A'))\n",
    "print(chr(ord('A')))\n",
    "print(chr(ord('A') + 1))"
   ]
  },
  {
   "cell_type": "code",
   "execution_count": 202,
   "id": "feacdf3d-0058-4b4b-9657-c6d276b3a170",
   "metadata": {},
   "outputs": [
    {
     "ename": "ModuleNotFoundError",
     "evalue": "No module named 'pyperclip'",
     "output_type": "error",
     "traceback": [
      "\u001b[0;31m---------------------------------------------------------------------------\u001b[0m",
      "\u001b[0;31mModuleNotFoundError\u001b[0m                       Traceback (most recent call last)",
      "Cell \u001b[0;32mIn[202], line 1\u001b[0m\n\u001b[0;32m----> 1\u001b[0m \u001b[38;5;28;01mimport\u001b[39;00m \u001b[38;5;21;01mpyperclip\u001b[39;00m\n\u001b[1;32m      2\u001b[0m pyperclip\u001b[38;5;241m.\u001b[39mcopy(\u001b[38;5;124m'\u001b[39m\u001b[38;5;124mHello, world!\u001b[39m\u001b[38;5;124m'\u001b[39m)\n\u001b[1;32m      3\u001b[0m pyperclip\u001b[38;5;241m.\u001b[39mpaste()\n",
      "\u001b[0;31mModuleNotFoundError\u001b[0m: No module named 'pyperclip'"
     ]
    }
   ],
   "source": [
    "import pyperclip\n",
    "pyperclip.copy('Hello, world!')\n",
    "pyperclip.paste()"
   ]
  },
  {
   "cell_type": "code",
   "execution_count": 11,
   "id": "753945a8-b9ae-464b-b025-2cb7598cb7d2",
   "metadata": {},
   "outputs": [],
   "source": [
    "TEXT = {'agree': \"\"\"Yes, I agree. That sounds fine to me.\"\"\",\n",
    "        'busy': \"\"\"Sorry, can we do this later this week or next week?\"\"\",\n",
    "        'upsell': \"\"\"Would you consider making this a monthly donation?\"\"\"}"
   ]
  },
  {
   "cell_type": "code",
   "execution_count": 14,
   "id": "63a2eb73-7fe7-4be9-b73c-a766d9a2422f",
   "metadata": {},
   "outputs": [
    {
     "name": "stdout",
     "output_type": "stream",
     "text": [
      "Copied to clipboard: Sorry, can we do this later this week or next week?\n"
     ]
    }
   ],
   "source": [
    "# Multi-clipboard program (adapted for Jupyter Notebook)\n",
    "TEXT = {\n",
    "    'agree': \"\"\"Yes, I agree. That sounds fine to me.\"\"\",\n",
    "    'busy': \"\"\"Sorry, can we do this later this week or next week?\"\"\",\n",
    "    'upsell': \"\"\"Would you consider making this a monthly donation?\"\"\"\n",
    "}\n",
    "\n",
    "# Simulate command-line argument\n",
    "keyphrase = 'busy'  # Change this to test\n",
    "\n",
    "if keyphrase in TEXT:\n",
    "    # Copy to clipboard (requires pyperclip)\n",
    "    import pyperclip\n",
    "    pyperclip.copy(TEXT[keyphrase])\n",
    "    print(f\"Copied to clipboard: {TEXT[keyphrase]}\")\n",
    "else:\n",
    "    print(f\"Error: Key phrase '{keyphrase}' not found.\")"
   ]
  },
  {
   "cell_type": "code",
   "execution_count": 22,
   "id": "f935958d-d794-4b4e-9fe9-5e277a2ada35",
   "metadata": {},
   "outputs": [
    {
     "name": "stdout",
     "output_type": "stream",
     "text": [
      "📋 Copied to clipboard: Thank you for your email. I appreciate your message!\n"
     ]
    }
   ],
   "source": [
    "# Multi-clipboard for email responses\n",
    "TEXT = {\n",
    "    'thanks': \"\"\"Thank you for your email. I appreciate your message!\"\"\",\n",
    "    'followup': \"\"\"I'll look into this and get back to you by tomorrow.\"\"\",\n",
    "    'outofoffice': \"\"\"I'm currently out of the office and will respond when I return.\"\"\"\n",
    "}\n",
    "\n",
    "# Simulate command-line argument\n",
    "keyphrase = 'thanks'\n",
    "\n",
    "if keyphrase in TEXT:\n",
    "    import pyperclip\n",
    "    pyperclip.copy(TEXT[keyphrase])\n",
    "    print(f\"📋 Copied to clipboard: {TEXT[keyphrase]}\")\n",
    "else:\n",
    "    print(f\"❌ Error: Key phrase '{keyphrase}' not found.\")"
   ]
  },
  {
   "cell_type": "code",
   "execution_count": 23,
   "id": "eabc981c-7267-4a88-a3d4-209ab24ec901",
   "metadata": {},
   "outputs": [
    {
     "name": "stdout",
     "output_type": "stream",
     "text": [
      "💻 Copied to clipboard:\n",
      "[x*2 for x in range(5)]\n"
     ]
    }
   ],
   "source": [
    "# Multi-clipboard for common code snippets\n",
    "TEXT = {\n",
    "    'forloop': \"\"\"for i in range(10):\\n    print(i)\"\"\",\n",
    "    'ifelse': \"\"\"if condition:\\n    print(\"True\")\\nelse:\\n    print(\"False\")\"\"\",\n",
    "    'listcomp': \"\"\"[x*2 for x in range(5)]\"\"\"\n",
    "}\n",
    "\n",
    "# Simulate command-line argument\n",
    "keyphrase = 'listcomp'  # Try 'forloop' or 'ifelse'\n",
    "\n",
    "if keyphrase in TEXT:\n",
    "    import pyperclip\n",
    "    pyperclip.copy(TEXT[keyphrase])\n",
    "    print(f\"💻 Copied to clipboard:\\n{TEXT[keyphrase]}\")\n",
    "else:\n",
    "    print(f\"❌ Error: Key phrase '{keyphrase}' not found.\")"
   ]
  },
  {
   "cell_type": "code",
   "execution_count": 24,
   "id": "4768b62b-6a96-45a1-90c8-7dee17049699",
   "metadata": {},
   "outputs": [
    {
     "name": "stdout",
     "output_type": "stream",
     "text": [
      "Copied to clipboard: \n",
      " I really appreciate your support! 🙌\n"
     ]
    }
   ],
   "source": [
    "# Multi-clipboard for social media replies\n",
    "TEXT = {\n",
    "    'greeting': \"\"\"Hey! Thanks for reaching out. How can I help?\"\"\",\n",
    "    'grateful': \"\"\"I really appreciate your support! 🙌\"\"\",\n",
    "    'busy': \"\"\"Sorry for the delay—I’ll respond properly soon!\"\"\"\n",
    "}\n",
    "\n",
    "# Simulate command-line argument\n",
    "keyphrase = 'grateful'  # Try 'greeting' or 'busy'\n",
    "\n",
    "if keyphrase in TEXT:\n",
    "    import pyperclip\n",
    "    pyperclip.copy(TEXT[keyphrase])\n",
    "    print(f\"Copied to clipboard: \\n {TEXT[keyphrase]}\")\n",
    "else:\n",
    "    print(f\"❌ Error: Key phrase '{keyphrase}' not found.\")"
   ]
  },
  {
   "cell_type": "code",
   "execution_count": 26,
   "id": "6e60016c-4b84-4b25-83c3-e2502495a85b",
   "metadata": {},
   "outputs": [
    {
     "name": "stdout",
     "output_type": "stream",
     "text": [
      "=== Multi-Clipboard Program ===\n",
      "Available keyphrases: ['agree', 'busy', 'upsell']\n",
      "Example usage: multi_clipboard('agree')\n",
      "📋 Text for 'busy' copied to clipboard:\n",
      "Sorry, can we do this later this week or next week?\n"
     ]
    }
   ],
   "source": [
    "# Multi-Clipboard Program for Jupyter Notebook\n",
    "# This version simulates command-line arguments and provides interactive usage\n",
    "\n",
    "# 1. Define our text snippets in a dictionary (same as original)\n",
    "TEXT = {\n",
    "    'agree': \"\"\"Yes, I agree. That sounds fine to me.\"\"\",\n",
    "    'busy': \"\"\"Sorry, can we do this later this week or next week?\"\"\",\n",
    "    'upsell': \"\"\"Would you consider making this a monthly donation?\"\"\",\n",
    "    # Add more key-phrase pairs as needed\n",
    "}\n",
    "\n",
    "# 2. Create a function to simulate command-line behavior\n",
    "def multi_clipboard(keyphrase):\n",
    "    \"\"\"\n",
    "    Simulates the mclip.py functionality in Jupyter Notebook.\n",
    "    Copies the text associated with 'keyphrase' to clipboard.\n",
    "    \"\"\"\n",
    "    # First check if pyperclip is installed\n",
    "    try:\n",
    "        import pyperclip\n",
    "    except ImportError:\n",
    "        print(\"Error: pyperclip not installed. Please run:\")\n",
    "        print(\"!pip install pyperclip\")\n",
    "        return\n",
    "    \n",
    "    # Check if keyphrase exists in our dictionary\n",
    "    if keyphrase in TEXT:\n",
    "        pyperclip.copy(TEXT[keyphrase])\n",
    "        print(f\"📋 Text for '{keyphrase}' copied to clipboard:\")\n",
    "        print(TEXT[keyphrase])\n",
    "    else:\n",
    "        print(f\"❌ No text found for '{keyphrase}'\")\n",
    "        print(\"Available keyphrases:\", list(TEXT.keys()))\n",
    "\n",
    "# 3. Interactive usage example\n",
    "print(\"=== Multi-Clipboard Program ===\")\n",
    "print(\"Available keyphrases:\", list(TEXT.keys()))\n",
    "print(\"Example usage: multi_clipboard('agree')\")\n",
    "\n",
    "# 4. Uncomment to test immediately:\n",
    "multi_clipboard('busy')"
   ]
  },
  {
   "cell_type": "code",
   "execution_count": 27,
   "id": "09288d78-f6cc-42bc-a46e-ab5c32d66e26",
   "metadata": {},
   "outputs": [
    {
     "name": "stdout",
     "output_type": "stream",
     "text": [
      "✉️ Copied 'thanks' template to clipboard!\n"
     ]
    }
   ],
   "source": [
    "# Professional Email Templates\n",
    "EMAIL_TEMPLATES = {\n",
    "    'thanks': \"\"\"Dear [Name],\\n\\nThank you for your email. I appreciate your message and will respond shortly.\\n\\nBest regards,\\n[Your Name]\"\"\",\n",
    "    'meeting': \"\"\"Hi [Name],\\n\\nWould you be available for a meeting on [date] at [time]?\\n\\nRegards,\\n[Your Name]\"\"\",\n",
    "    'followup': \"\"\"Hello [Name],\\n\\nJust following up on my previous email. Please let me know if you need any additional information.\\n\\nBest,\\n[Your Name]\"\"\"\n",
    "}\n",
    "\n",
    "def email_clipboard(keyphrase):\n",
    "    \"\"\"Copies professional email templates to clipboard.\"\"\"\n",
    "    try:\n",
    "        import pyperclip\n",
    "        if keyphrase in EMAIL_TEMPLATES:\n",
    "            pyperclip.copy(EMAIL_TEMPLATES[keyphrase])\n",
    "            print(f\"✉️ Copied '{keyphrase}' template to clipboard!\")\n",
    "        else:\n",
    "            print(f\"❌ Template not found. Available options: {list(EMAIL_TEMPLATES.keys())}\")\n",
    "    except ImportError:\n",
    "        print(\"Error: Install pyperclip first: !pip install pyperclip\")\n",
    "\n",
    "# Example usage:\n",
    "email_clipboard('thanks')  # Change to 'meeting' or 'followup'"
   ]
  },
  {
   "cell_type": "code",
   "execution_count": 29,
   "id": "f1ab1acd-6aeb-48a7-945d-af70b1aca1d3",
   "metadata": {},
   "outputs": [
    {
     "name": "stdout",
     "output_type": "stream",
     "text": [
      "=== SMART CLIPBOARD ===\n",
      "Available Templates: ['email_meeting', 'social_collab', 'code_json']\n",
      "\n",
      "Example Usage:\n",
      "smart_clipboard('email_meeting', name='Alice', date='tomorrow')\n",
      "smart_clipboard('social_collab', username='@data_scientist', topic='AI')\n"
     ]
    }
   ],
   "source": [
    "#! python3\n",
    "# Enhanced Multi-Clipboard with Auto-Replacement\n",
    "import pyperclip\n",
    "\n",
    "# 1. Define Templates with Placeholders\n",
    "TEMPLATES = {\n",
    "    # Email Templates\n",
    "    'email_meeting': \"\"\"Hi [name],\\n\\nWould you be available for a meeting on [date] at [time]?\\n\\nBest,\\n[your_name]\"\"\",\n",
    "    \n",
    "    # Social Media Templates\n",
    "    'social_collab': \"\"\"Hey [username]! Loved your post about [topic]. Let's collab! 🚀\"\"\",\n",
    "    \n",
    "    # Code Templates\n",
    "    'code_json': \"\"\"import json\\ndata = {'[key]': '[value]'}\\njson_str = json.dumps(data)\"\"\"\n",
    "}\n",
    "\n",
    "# 2. Clipboard Function with Auto-Replacement\n",
    "def smart_clipboard(template_key, **placeholders):\n",
    "    \"\"\"\n",
    "    Copies a template to clipboard with automatic placeholder replacement.\n",
    "    \n",
    "    Args:\n",
    "        template_key (str): Key from TEMPLATES dictionary\n",
    "        **placeholders: Key-value pairs to replace (e.g., name=\"Alice\")\n",
    "    \n",
    "    Example:\n",
    "        smart_clipboard('email_meeting', name=\"Alice\", date=\"June 10\")\n",
    "    \"\"\"\n",
    "    try:\n",
    "        if template_key not in TEMPLATES:\n",
    "            available = list(TEMPLATES.keys())\n",
    "            print(f\"❌ Template not found. Available:\\n{available}\")\n",
    "            return\n",
    "            \n",
    "        text = TEMPLATES[template_key]\n",
    "        \n",
    "        # Replace all placeholders\n",
    "        for placeholder, value in placeholders.items():\n",
    "            text = text.replace(f\"[{placeholder}]\", value)\n",
    "        \n",
    "        # Highlight remaining placeholders\n",
    "        remaining = [word for word in text.split() if word.startswith('[') and word.endswith(']')]\n",
    "        if remaining:\n",
    "            print(f\"⚠️ Remaining placeholders: {', '.join(remaining)}\")\n",
    "        \n",
    "        pyperclip.copy(text)\n",
    "        print(f\"📋 Copied '{template_key}' to clipboard:\\n{text}\")\n",
    "        \n",
    "    except Exception as e:\n",
    "        print(f\"Error: {str(e)}\")\n",
    "        print(\"Ensure pyperclip is installed: !pip install pyperclip\")\n",
    "\n",
    "# 3. Interactive Usage Demo\n",
    "print(\"=== SMART CLIPBOARD ===\")\n",
    "print(\"Available Templates:\", list(TEMPLATES.keys()))\n",
    "print(\"\\nExample Usage:\")\n",
    "print(\"smart_clipboard('email_meeting', name='Alice', date='tomorrow')\")\n",
    "print(\"smart_clipboard('social_collab', username='@data_scientist', topic='AI')\")"
   ]
  },
  {
   "cell_type": "code",
   "execution_count": 30,
   "id": "d3bdef7e-0de9-4d60-a9f2-0cebaf552a25",
   "metadata": {},
   "outputs": [
    {
     "name": "stdout",
     "output_type": "stream",
     "text": [
      "⚠️ Remaining placeholders: [your_name]\n",
      "📋 Copied 'email_meeting' to clipboard:\n",
      "Hi Dr. Smith,\n",
      "\n",
      "Would you be available for a meeting on June 15th at [time]?\n",
      "\n",
      "Best,\n",
      "[your_name]\n"
     ]
    }
   ],
   "source": [
    "smart_clipboard('email_meeting', name=\"Dr. Smith\", date=\"June 15th\")"
   ]
  },
  {
   "cell_type": "code",
   "execution_count": 31,
   "id": "9ccd8cd9-4fb3-4719-84f2-b65bd966352d",
   "metadata": {},
   "outputs": [
    {
     "name": "stdout",
     "output_type": "stream",
     "text": [
      "📋 Copied 'social_collab' to clipboard:\n",
      "Hey @tech_guru! Loved your post about LLMs. Let's collab! 🚀\n"
     ]
    }
   ],
   "source": [
    "smart_clipboard('social_collab', username=\"@tech_guru\", topic=\"LLMs\")"
   ]
  },
  {
   "cell_type": "code",
   "execution_count": 33,
   "id": "aaca444f-342a-4faa-960e-8167d682b0ff",
   "metadata": {},
   "outputs": [
    {
     "name": "stdout",
     "output_type": "stream",
     "text": [
      "📋 Copied: Can't talk now\n"
     ]
    }
   ],
   "source": [
    "# 1. Install once (run this cell once)\n",
    "#!pip install pyperclip\n",
    "\n",
    "# 2. The EASIEST clipboard tool\n",
    "import pyperclip\n",
    "\n",
    "messages = {\n",
    "    'agree': \"Yes, I agree!\",  # Add your own here\n",
    "    'busy': \"Can't talk now\",\n",
    "    'thanks': \"Thank you! 🙏\"\n",
    "}\n",
    "\n",
    "# 3. How to use:\n",
    "#    Just type: copy('key') \n",
    "def copy(key):\n",
    "    if key in messages:\n",
    "        pyperclip.copy(messages[key])\n",
    "        print(f\"📋 Copied: {messages[key]}\")\n",
    "    else:\n",
    "        print(f\"❌ Key not found. Try: {list(messages.keys())}\")\n",
    "\n",
    "# 4. Example test:\n",
    "copy('busy')  # ← Change this and re-run!"
   ]
  },
  {
   "cell_type": "code",
   "execution_count": 41,
   "id": "662807d0-e7e3-473d-9eab-f51f8f36e184",
   "metadata": {},
   "outputs": [
    {
     "name": "stdout",
     "output_type": "stream",
     "text": [
      "Original clipboard contents:\n",
      "'Apples\\nBananas\\nOranges'\n",
      "\n",
      "Final result copied to clipboard:\n",
      "Apples, Bananas, Oranges\n"
     ]
    }
   ],
   "source": [
    "# CELL 2: Run this AFTER copying your text\n",
    "import pyperclip\n",
    "\n",
    "# Get what you copied\n",
    "raw_text = pyperclip.paste()\n",
    "print(\"Original clipboard contents:\")\n",
    "print(repr(raw_text))  # Shows hidden characters\n",
    "\n",
    "# Clean it up\n",
    "lines = [line.strip() for line in raw_text.splitlines() if line.strip()]\n",
    "result = \", \".join(lines)\n",
    "\n",
    "# Copy back\n",
    "pyperclip.copy(result)\n",
    "print(\"\\nFinal result copied to clipboard:\")\n",
    "print(result)"
   ]
  },
  {
   "cell_type": "code",
   "execution_count": 34,
   "id": "bdfaa4f9-1c3c-4157-9b16-07c0f6dd206b",
   "metadata": {},
   "outputs": [
    {
     "name": "stdout",
     "output_type": "stream",
     "text": [
      "Requirement already satisfied: pyperclip in /opt/anaconda3/lib/python3.12/site-packages (1.9.0)\n"
     ]
    }
   ],
   "source": [
    "# 1. Install Required Library\n",
    "\n",
    "!pip install pyperclip\n",
    "\n",
    "# 2. Define the Bullet Point Adder Function\n",
    "\n",
    "import pyperclip\n",
    "\n",
    "def add_bullets():\n",
    "    \"\"\"\n",
    "    Adds Wikipedia-style bullet points (* ) to each line of text from the clipboard.\n",
    "    \"\"\"\n",
    "    # Get text from clipboard\n",
    "    text = pyperclip.paste()\n",
    "    \n",
    "    if not text.strip():  # Check if clipboard is empty\n",
    "        print(\"⚠️ Clipboard is empty! Copy some text first.\")\n",
    "        return\n",
    "    \n",
    "    # Split into lines and add bullets\n",
    "    lines = text.split('\\n')\n",
    "    bulleted_lines = ['* ' + line.strip() for line in lines if line.strip()]\n",
    "    \n",
    "    # Join back into a single string\n",
    "    bulleted_text = '\\n'.join(bulleted_lines)\n",
    "    \n",
    "    # Copy back to clipboard\n",
    "    pyperclip.copy(bulleted_text)\n",
    "    \n",
    "    print(\"✅ Bullet points added! Paste (Ctrl+V) to see the result.\")\n",
    "    print(\"\\nPreview:\")\n",
    "    print(bulleted_text)"
   ]
  },
  {
   "cell_type": "code",
   "execution_count": 35,
   "id": "e627ea74-b555-4ede-9819-ea4ec2123216",
   "metadata": {},
   "outputs": [
    {
     "name": "stdout",
     "output_type": "stream",
     "text": [
      "✅ Bullet points added! Paste (Ctrl+V) to see the result.\n",
      "\n",
      "Preview:\n",
      "* add_bullets()\n"
     ]
    }
   ],
   "source": [
    "add_bullets()"
   ]
  },
  {
   "cell_type": "code",
   "execution_count": 36,
   "id": "96fdeed8-333f-44ad-b518-a318867002c5",
   "metadata": {},
   "outputs": [
    {
     "name": "stdout",
     "output_type": "stream",
     "text": [
      "✅ Bullet points added! Paste (Ctrl+V) to see the result.\n",
      "\n",
      "Preview:\n",
      "* Lists of animals\n",
      "* Lists of aquarium life\n",
      "* Lists of biologists\n",
      "* Lists of cultivars\n"
     ]
    }
   ],
   "source": [
    "# Simulate clipboard content (for testing)\n",
    "test_text = \"\"\"Lists of animals\n",
    "Lists of aquarium life\n",
    "Lists of biologists\n",
    "Lists of cultivars\"\"\"\n",
    "\n",
    "# Copy test text to clipboard (optional)\n",
    "pyperclip.copy(test_text)\n",
    "\n",
    "# Run the function\n",
    "add_bullets()"
   ]
  },
  {
   "cell_type": "code",
   "execution_count": 43,
   "id": "910b1e68-0b28-4afd-b2e8-4914b21ae0de",
   "metadata": {},
   "outputs": [
    {
     "name": "stdout",
     "output_type": "stream",
     "text": [
      "Enter the English message to translate into Pig Latin:\n"
     ]
    },
    {
     "name": "stdin",
     "output_type": "stream",
     "text": [
      " \"Hello! Can you help me?\"\n"
     ]
    },
    {
     "name": "stdout",
     "output_type": "stream",
     "text": [
      "\"Ellohay! Ancay youyay elphay emay?\"\n"
     ]
    }
   ],
   "source": [
    "# English to Pig Latin\n",
    "print('Enter the English message to translate into Pig Latin:')\n",
    "message = input()\n",
    "\n",
    "VOWELS = ('a', 'e', 'i', 'o', 'u', 'y')\n",
    "\n",
    "pigLatin = [] # A list of the words in Pig Latin.\n",
    "for word in message.split():\n",
    "    # Separate the non-letters at the start of this word:\n",
    "    prefixNonLetters = ''\n",
    "    while len(word) > 0 and not word[0].isalpha():\n",
    "        prefixNonLetters += word[0]\n",
    "        word = word[1:]\n",
    "    if len(word) == 0:\n",
    "        pigLatin.append(prefixNonLetters)\n",
    "        continue\n",
    "\n",
    "    # Separate the non-letters at the end of this word:\n",
    "    suffixNonLetters = ''\n",
    "    while not word[-1].isalpha():\n",
    "        suffixNonLetters = word[-1] + suffixNonLetters\n",
    "        word = word[:-1]\n",
    "\n",
    "    # Remember if the word was in uppercase or title case.\n",
    "    wasUpper = word.isupper()\n",
    "    wasTitle = word.istitle()\n",
    "\n",
    "    word = word.lower() # Make the word lowercase for translation.\n",
    "\n",
    "    # Separate the consonants at the start of this word:\n",
    "    prefixConsonants = ''\n",
    "    while len(word) > 0 and not word[0] in VOWELS:\n",
    "        prefixConsonants += word[0]\n",
    "        word = word[1:]\n",
    "\n",
    "    # Add the Pig Latin ending to the word:\n",
    "    if prefixConsonants != '':\n",
    "        word += prefixConsonants + 'ay'\n",
    "    else:\n",
    "        word += 'yay'\n",
    "\n",
    "    # Set the word back to uppercase or title case:\n",
    "    if wasUpper:\n",
    "        word = word.upper()\n",
    "    if wasTitle:\n",
    "        word = word.title()\n",
    "\n",
    "    # Add the non-letters back to the start or end of the word.\n",
    "    pigLatin.append(prefixNonLetters + word + suffixNonLetters)\n",
    "\n",
    "# Join all the words back together into a single string:\n",
    "print(' '.join(pigLatin))"
   ]
  },
  {
   "cell_type": "code",
   "execution_count": 49,
   "id": "d5c60b75-0f57-467d-96bf-73c11663c0c3",
   "metadata": {},
   "outputs": [
    {
     "name": "stdout",
     "output_type": "stream",
     "text": [
      "Enter a sentence:\n"
     ]
    },
    {
     "name": "stdin",
     "output_type": "stream",
     "text": [
      " Hello! World!\n"
     ]
    },
    {
     "name": "stdout",
     "output_type": "stream",
     "text": [
      "ello!hay orld!way\n"
     ]
    }
   ],
   "source": [
    "VOWELS = ('a', 'e', 'i', 'o', 'u')\n",
    "\n",
    "print(\"Enter a sentence:\")\n",
    "message = input()\n",
    "\n",
    "words = message.split()\n",
    "pig_latin_words = []\n",
    "\n",
    "for word in words:\n",
    "    word = word.lower()\n",
    "    if word[0] in VOWELS:\n",
    "        pig_word = word + \"yay\"\n",
    "    else:\n",
    "        pig_word = word[1:] + word[0] + \"ay\"\n",
    "    pig_latin_words.append(pig_word)\n",
    "\n",
    "print(\" \".join(pig_latin_words))\n"
   ]
  },
  {
   "cell_type": "code",
   "execution_count": 47,
   "id": "8f627710-b726-499c-8a17-e0fbb7517a41",
   "metadata": {},
   "outputs": [
    {
     "name": "stdout",
     "output_type": "stream",
     "text": [
      "Enter a sentence:\n"
     ]
    },
    {
     "name": "stdin",
     "output_type": "stream",
     "text": [
      " hello world\n"
     ]
    },
    {
     "name": "stdout",
     "output_type": "stream",
     "text": [
      "ellohay orldway\n"
     ]
    }
   ],
   "source": [
    "VOWELS = ('a', 'e', 'i', 'o', 'u')\n",
    "\n",
    "print(\"Enter a sentence:\")\n",
    "message = input()\n",
    "\n",
    "words = message.split()\n",
    "pig_latin_words = []\n",
    "\n",
    "for word in words:\n",
    "    was_title = word.istitle()  # Save if word was capitalized\n",
    "    word = word.lower()         # Make lowercase for processing\n",
    "\n",
    "    if word[0] in VOWELS:\n",
    "        pig_word = word + \"yay\"\n",
    "    else:\n",
    "        pig_word = word[1:] + word[0] + \"ay\"\n",
    "\n",
    "    if was_title:\n",
    "        pig_word = pig_word.capitalize()  # Capitalize if original word was capitalized\n",
    "\n",
    "    pig_latin_words.append(pig_word)\n",
    "\n",
    "print(\" \".join(pig_latin_words))\n"
   ]
  },
  {
   "cell_type": "code",
   "execution_count": 50,
   "id": "94ca19cd-7427-4e5f-bda0-37b2aa5a0408",
   "metadata": {},
   "outputs": [
    {
     "name": "stdout",
     "output_type": "stream",
     "text": [
      "This is a string with a 'single quote' inside.\n"
     ]
    }
   ],
   "source": [
    "print('This is a string with a \\'single quote\\' inside.')"
   ]
  },
  {
   "cell_type": "code",
   "execution_count": 51,
   "id": "76771348-8615-4569-9b5e-63066838880e",
   "metadata": {},
   "outputs": [
    {
     "name": "stdout",
     "output_type": "stream",
     "text": [
      "This is a string with a \"double quote\" inside.\n"
     ]
    }
   ],
   "source": [
    "print(\"This is a string with a \\\"double quote\\\" inside.\")\n"
   ]
  },
  {
   "cell_type": "code",
   "execution_count": 52,
   "id": "99d28c37-2945-432a-bd01-5378f534c824",
   "metadata": {},
   "outputs": [
    {
     "name": "stdout",
     "output_type": "stream",
     "text": [
      "This is a string with a backslash: \\\n"
     ]
    }
   ],
   "source": [
    "print(\"This is a string with a backslash: \\\\\")"
   ]
  },
  {
   "cell_type": "code",
   "execution_count": 53,
   "id": "e4f69634-226c-4ffc-b0b5-e70e4d88879b",
   "metadata": {},
   "outputs": [
    {
     "name": "stdout",
     "output_type": "stream",
     "text": [
      "This is the first line.\n",
      "This is the second line.\n"
     ]
    }
   ],
   "source": [
    "print(\"This is the first line.\\nThis is the second line.\")"
   ]
  },
  {
   "cell_type": "code",
   "execution_count": 88,
   "id": "65243909-c93b-40c3-8b5d-b2f374dc3326",
   "metadata": {},
   "outputs": [
    {
     "name": "stdout",
     "output_type": "stream",
     "text": [
      "She said, \"It's a beautiful day!\"\n"
     ]
    }
   ],
   "source": [
    "print(\"She said, \\\"It's a beautiful day!\\\"\")"
   ]
  },
  {
   "cell_type": "code",
   "execution_count": 92,
   "id": "f849e057-0312-4d10-9caa-3b6e7c1a5616",
   "metadata": {},
   "outputs": [
    {
     "name": "stdout",
     "output_type": "stream",
     "text": [
      "This is a backslash: \\\n",
      "This is a single quote: '\n",
      "This is a double quote: \"\n"
     ]
    }
   ],
   "source": [
    "print(\"This is a backslash: \\\\\")\n",
    "print(\"This is a single quote: \\'\")\n",
    "print(\"This is a double quote: \\\"\")"
   ]
  },
  {
   "cell_type": "code",
   "execution_count": 93,
   "id": "b010ac85-e959-4a9b-bf24-5aa8b11fbc9d",
   "metadata": {},
   "outputs": [
    {
     "name": "stdout",
     "output_type": "stream",
     "text": [
      "First line\n",
      "    Second line (indented)\n",
      "Third line\\nFourth line (literally)\n"
     ]
    }
   ],
   "source": [
    "print(\"First line\\n    Second line (indented)\\nThird line\\\\nFourth line (literally)\")"
   ]
  },
  {
   "cell_type": "code",
   "execution_count": 94,
   "id": "1f10a77c-0c63-41b7-a596-10abfe436696",
   "metadata": {},
   "outputs": [
    {
     "name": "stdout",
     "output_type": "stream",
     "text": [
      "C:\\Users\\Documents\\file.txt\n"
     ]
    }
   ],
   "source": [
    "print(\"C:\\\\Users\\\\Documents\\\\file.txt\")"
   ]
  },
  {
   "cell_type": "code",
   "execution_count": 100,
   "id": "9f05a4fa-63c7-4840-9921-217dd7ea964e",
   "metadata": {},
   "outputs": [
    {
     "name": "stdout",
     "output_type": "stream",
     "text": [
      "Name: \"John\"\n",
      "Age: 25\n",
      "Path: C:\\Program Files\\Python\n",
      "Special chars: \\t\\n\\'\n"
     ]
    }
   ],
   "source": [
    "print(\"Name: \\\"John\\\"\")\n",
    "print(\"Age: 25\")\n",
    "print(\"Path: C:\\\\Program Files\\\\Python\")\n",
    "print(\"Special chars: \\\\t\\\\n\\\\'\")"
   ]
  },
  {
   "cell_type": "code",
   "execution_count": 54,
   "id": "d1923ebd-00fb-4c4c-b891-2c4a084323fd",
   "metadata": {},
   "outputs": [
    {
     "name": "stdout",
     "output_type": "stream",
     "text": [
      "Item\tQuantity\tPrice\n"
     ]
    }
   ],
   "source": [
    "print(\"Item\\tQuantity\\tPrice\")"
   ]
  },
  {
   "cell_type": "code",
   "execution_count": 55,
   "id": "56209196-6392-4d69-93d9-bb55e16085ac",
   "metadata": {},
   "outputs": [
    {
     "name": "stdout",
     "output_type": "stream",
     "text": [
      "World\n"
     ]
    }
   ],
   "source": [
    "print(\"Hello\\rWorld\") # Output might be \"World\" or something similar"
   ]
  },
  {
   "cell_type": "code",
   "execution_count": 56,
   "id": "e74064d9-50b7-4ef2-a1ea-1977f56270b4",
   "metadata": {},
   "outputs": [
    {
     "name": "stdout",
     "output_type": "stream",
     "text": [
      "HellWorld\n"
     ]
    }
   ],
   "source": [
    "print(\"Hello\\bWorld\") # Output might be \"HellWorld\""
   ]
  },
  {
   "cell_type": "code",
   "execution_count": 57,
   "id": "6d3cd2c2-78df-4833-a42a-58f8ec0c8ad8",
   "metadata": {},
   "outputs": [],
   "source": [
    "# Why are escape characters necessary?\n",
    "\n",
    "# Ambiguity Resolution: They allow you to include characters that would \n",
    "# otherwise be interpreted as the start or end of the string literal itself \n",
    "# (like single and double quotes).\n",
    "\n",
    "# Representing Non-Printable Characters: They provide a way to represent \n",
    "# characters that don't have a standard printable representation (like newline, \n",
    "# tab, carriage return).\n",
    "\n",
    "# Special Control Sequences: Some escape sequences are used for specific \n",
    "# formatting or control purposes in output"
   ]
  },
  {
   "cell_type": "code",
   "execution_count": 58,
   "id": "34d8b242-4693-450c-a201-283946e6f4ce",
   "metadata": {},
   "outputs": [
    {
     "name": "stdout",
     "output_type": "stream",
     "text": [
      "This string contains a backslash: \\\n",
      "Here's a path: C:\\Users\\Public\\Documents\n"
     ]
    }
   ],
   "source": [
    "my_string = \"This string contains a backslash: \\\\\"\n",
    "print(my_string)  # Output: This string contains a backslash: \\\n",
    "\n",
    "another_string = \"Here's a path: C:\\\\Users\\\\Public\\\\Documents\"\n",
    "print(another_string) # Output: Here's a path: C:\\Users\\Public\\Documents"
   ]
  },
  {
   "cell_type": "code",
   "execution_count": 59,
   "id": "90099f22-747e-4bd8-8248-10036fec6651",
   "metadata": {},
   "outputs": [
    {
     "name": "stdout",
     "output_type": "stream",
     "text": [
      "This is another\n",
      "multiline\n",
      "string.\n"
     ]
    }
   ],
   "source": [
    "another_string = '''This is another\n",
    "multiline\n",
    "string.'''\n",
    "print(another_string)"
   ]
  },
  {
   "cell_type": "code",
   "execution_count": 60,
   "id": "37774b49-68fa-4c9c-9d30-7c1ab113995f",
   "metadata": {},
   "outputs": [
    {
     "name": "stdout",
     "output_type": "stream",
     "text": [
      "This is a string\n",
      "that spans multiple\n",
      "lines.\n"
     ]
    }
   ],
   "source": [
    "my_string = \"\"\"This is a string\n",
    "that spans multiple\n",
    "lines.\"\"\"\n",
    "print(my_string)"
   ]
  },
  {
   "cell_type": "code",
   "execution_count": 61,
   "id": "1f92f7f8-0c29-44d9-81dd-b7067204be9e",
   "metadata": {},
   "outputs": [
    {
     "name": "stdout",
     "output_type": "stream",
     "text": [
      "This is a very long string that I want to break across multiple lines for readability.\n"
     ]
    }
   ],
   "source": [
    "long_string = (\"This is a very long string that \"\n",
    "               \"I want to break across \"\n",
    "               \"multiple lines for readability.\")\n",
    "print(long_string)"
   ]
  },
  {
   "cell_type": "code",
   "execution_count": 62,
   "id": "7026aff4-1769-49df-95d2-e08521f88943",
   "metadata": {},
   "outputs": [
    {
     "name": "stdout",
     "output_type": "stream",
     "text": [
      "This is a string.\n",
      "On a new line.\n",
      "And another.\n"
     ]
    }
   ],
   "source": [
    "multiline_string_implicit = (\"This is a string.\\n\"\n",
    "                             \"On a new line.\\n\"\n",
    "                             \"And another.\")\n",
    "print(multiline_string_implicit)"
   ]
  },
  {
   "cell_type": "code",
   "execution_count": 67,
   "id": "6fbbfbc9-54e0-4dae-82e3-5a038d219ccf",
   "metadata": {},
   "outputs": [
    {
     "name": "stdout",
     "output_type": "stream",
     "text": [
      "e\n",
      "Hello\n",
      "Hello\n",
      "lo, world!\n"
     ]
    }
   ],
   "source": [
    "print('Hello, world!'[1])\n",
    "print('Hello, world!'[0:5])\n",
    "print('Hello, world!'[:5])\n",
    "print('Hello, world!'[3:])"
   ]
  },
  {
   "cell_type": "code",
   "execution_count": 70,
   "id": "f8eabc7d-98e7-46e5-95f9-b3d57660d692",
   "metadata": {},
   "outputs": [
    {
     "name": "stdout",
     "output_type": "stream",
     "text": [
      "HELLO\n",
      "True\n",
      "hello\n"
     ]
    }
   ],
   "source": [
    "print('Hello'.upper())\n",
    "print('Hello'.upper().isupper())\n",
    "print('Hello'.upper().lower())"
   ]
  },
  {
   "cell_type": "code",
   "execution_count": 71,
   "id": "ac4c710a-0900-4782-8b4a-fb3eaae85c41",
   "metadata": {},
   "outputs": [
    {
     "name": "stdout",
     "output_type": "stream",
     "text": [
      "['Remember,', 'remember,', 'the', 'fifth', 'of', 'November.']\n"
     ]
    }
   ],
   "source": [
    "print('Remember, remember, the fifth of November.'.split())"
   ]
  },
  {
   "cell_type": "code",
   "execution_count": 72,
   "id": "0dbdc510-e7e7-4daf-8b91-5ba4066c3e51",
   "metadata": {},
   "outputs": [
    {
     "name": "stdout",
     "output_type": "stream",
     "text": [
      "There-can-be-only-one.\n"
     ]
    }
   ],
   "source": [
    "print('-'.join('There can be only one.'.split()))"
   ]
  },
  {
   "cell_type": "code",
   "execution_count": 73,
   "id": "9320766c-d8ac-48bf-85fe-f9514c59cf59",
   "metadata": {},
   "outputs": [
    {
     "name": "stdout",
     "output_type": "stream",
     "text": [
      "'          Hello'\n",
      "'**********Hello'\n",
      "'Hello          '\n",
      "'Hello**********'\n",
      "'     Hello     '\n",
      "'*****Hello*****'\n",
      "'Hello'\n"
     ]
    }
   ],
   "source": [
    "text = \"Hello\"\n",
    "width = 15\n",
    "fill_char = \"*\"\n",
    "\n",
    "# Right-justify\n",
    "right_justified = text.rjust(width)\n",
    "print(f\"'{right_justified}'\")  # Output: '          Hello'\n",
    "\n",
    "right_justified_filled = text.rjust(width, fill_char)\n",
    "print(f\"'{right_justified_filled}'\")  # Output: '**********Hello'\n",
    "\n",
    "# Left-justify\n",
    "left_justified = text.ljust(width)\n",
    "print(f\"'{left_justified}'\")  # Output: 'Hello          '\n",
    "\n",
    "left_justified_filled = text.ljust(width, fill_char)\n",
    "print(f\"'{left_justified_filled}'\")  # Output: 'Hello**********'\n",
    "\n",
    "# Center\n",
    "centered = text.center(width)\n",
    "print(f\"'{centered}'\")  # Output: '      Hello      '\n",
    "\n",
    "centered_filled = text.center(width, fill_char)\n",
    "print(f\"'{centered_filled}'\")  # Output: '******Hello******'\n",
    "\n",
    "# Example where width is smaller than string length\n",
    "shorter_width = 3\n",
    "not_justified = text.rjust(shorter_width)\n",
    "print(f\"'{not_justified}'\")  # Output: 'Hello'"
   ]
  },
  {
   "cell_type": "code",
   "execution_count": 77,
   "id": "928c9ab3-6e75-46f8-b3c0-8346d2a18941",
   "metadata": {},
   "outputs": [
    {
     "name": "stdout",
     "output_type": "stream",
     "text": [
      "'Hello, World!'\n",
      "'   Hello, World!'\n",
      "'Leading tab\n",
      "Trailing newline'\n"
     ]
    }
   ],
   "source": [
    "text_with_whitespace = \"   Hello, World!   \\t\\n\"\n",
    "\n",
    "# Using strip()\n",
    "trimmed_text = text_with_whitespace.strip()\n",
    "print(f\"'{trimmed_text}'\")  # Output: 'Hello, World!'\n",
    "\n",
    "# Using lstrip()\n",
    "left_trimmed_text = text_with_whitespace.lstrip()\n",
    "#print(f\"'{left_trimmed_text}'\")  # Output: 'Hello, World!   \\t\\n'\n",
    "\n",
    "# Using rstrip()\n",
    "right_trimmed_text = text_with_whitespace.rstrip()\n",
    "print(f\"'{right_trimmed_text}'\")  # Output: '   Hello, World!'\n",
    "\n",
    "# Applying them to different types of whitespace\n",
    "text_with_tabs_newlines = \"\\tLeading tab\\nTrailing newline\\n\"\n",
    "trimmed_tabs_newlines = text_with_tabs_newlines.strip()\n",
    "print(f\"'{trimmed_tabs_newlines}'\")  # Output: 'Leading tab\\nTrailing newline'"
   ]
  },
  {
   "cell_type": "code",
   "execution_count": 78,
   "id": "9a4f151a-1c4d-4ec0-a7ed-1580cb433383",
   "metadata": {},
   "outputs": [
    {
     "name": "stdout",
     "output_type": "stream",
     "text": [
      "  apples Alice  dogs  oranges   Bob  cats cherries Carol moose   banana David goose "
     ]
    }
   ],
   "source": [
    "def printTable(tableData):\n",
    "    colWidths = [0] * len(tableData)\n",
    "\n",
    "    # Find the longest string in each inner list\n",
    "    for i in range(len(tableData)):\n",
    "        longest_width = 0\n",
    "        for string in tableData[i]:\n",
    "            if len(string) > longest_width:\n",
    "                longest_width = len(string)\n",
    "        colWidths[i] = longest_width\n",
    "\n",
    "    # Print the table\n",
    "    num_rows = len(tableData[0])\n",
    "    num_cols = len(tableData)\n",
    "\n",
    "    for i in range(num_rows):\n",
    "        for j in range(num_cols):\n",
    "            print(tableData[j][i].rjust(colWidths[j]), end = ' ')\n",
    "\n",
    "tableData = [['apples', 'oranges', 'cherries', 'banana'],\n",
    "             ['Alice', 'Bob', 'Carol', 'David'],\n",
    "             ['dogs', 'cats', 'moose', 'goose']]\n",
    "\n",
    "printTable(tableData)\n",
    "    "
   ]
  },
  {
   "cell_type": "code",
   "execution_count": 79,
   "id": "e4b5956b-0a2f-4fde-a9af-be9b2d64410a",
   "metadata": {},
   "outputs": [
    {
     "name": "stdout",
     "output_type": "stream",
     "text": [
      "  apples Alice  dogs\n",
      " oranges   Bob  cats\n",
      "cherries Carol moose\n",
      "  banana David goose\n"
     ]
    }
   ],
   "source": [
    "def printTable(tableData):\n",
    "    # Step 1: Determine the maximum width for each column\n",
    "    colWidths = [0] * len(tableData) # Initialize: [0, 0, 0]\n",
    "    for i in range(len(tableData)):\n",
    "        max_length = 0\n",
    "        for item in tableData[i]:\n",
    "            if len(item) > max_length:\n",
    "                max_length = len(item)\n",
    "        colWidths[i] = max_length\n",
    "\n",
    "    # Step 2: Transpose the table (rows → columns) for vertical printing\n",
    "    transposed = list(zip(*tableData))\n",
    "\n",
    "    # Step 3: Print each row with right-justified columns\n",
    "    for row in transposed:\n",
    "        formatted_row = []\n",
    "        for i in range(len(row)):\n",
    "            formatted_row.append(row[i].rjust(colWidths[i]))\n",
    "        print(' '.join(formatted_row))\n",
    "\n",
    "# Example usage\n",
    "tableData = [\n",
    "    ['apples', 'oranges', 'cherries', 'banana'],\n",
    "    ['Alice', 'Bob', 'Carol', 'David'],\n",
    "    ['dogs', 'cats', 'moose', 'goose']\n",
    "]\n",
    "printTable(tableData)"
   ]
  },
  {
   "cell_type": "code",
   "execution_count": 105,
   "id": "98fb212e-3982-4d56-b05f-b8787dcb9941",
   "metadata": {},
   "outputs": [
    {
     "name": "stdout",
     "output_type": "stream",
     "text": [
      "+------------+----------+----------+---------+\n",
      "| Name       | Alice    | Bob      | Carol   |\n",
      "+------------+----------+----------+---------+\n",
      "| Age        | 30       | 25       | 35      |\n",
      "+------------+----------+----------+---------+\n",
      "| Occupation | Engineer | Designer | Manager |\n",
      "+------------+----------+----------+---------+\n"
     ]
    }
   ],
   "source": [
    "# Example 1: Left-Justified Table with Borders\n",
    "\n",
    "def print_bordered_table(table_data):\n",
    "    # Step 1: Determine column widths\n",
    "    col_widths = [max(len(item) for item in column) for column in table_data]\n",
    "    \n",
    "    # Step 2: Print the header border (e.g., \"|-------|--------|\")\n",
    "    border = \"+\" + \"+\".join(\"-\" * (width + 2) for width in col_widths) + \"+\"\n",
    "    print(border)\n",
    "    \n",
    "    # Step 3: Print each row with left-justified columns and borders\n",
    "    transposed = list(zip(*table_data))\n",
    "    for row in transposed:\n",
    "        cells = []\n",
    "        for i, item in enumerate(row):\n",
    "            cells.append(f\" {item.ljust(col_widths[i])} \")\n",
    "        print(\"|\" + \"|\".join(cells) + \"|\")\n",
    "        print(border)\n",
    "\n",
    "# Example usage\n",
    "table_data = [\n",
    "    [\"Name\", \"Age\", \"Occupation\"],\n",
    "    [\"Alice\", \"30\", \"Engineer\"],\n",
    "    [\"Bob\", \"25\", \"Designer\"],\n",
    "    [\"Carol\", \"35\", \"Manager\"]\n",
    "]\n",
    "print_bordered_table(table_data)\n",
    "    "
   ]
  },
  {
   "cell_type": "code",
   "execution_count": 113,
   "id": "0d53c152-f547-4c1e-9a4f-056258a4f2ef",
   "metadata": {},
   "outputs": [
    {
     "name": "stdout",
     "output_type": "stream",
     "text": [
      "Item  | Apple | Banana | Cherry\n",
      "Price | 2.99  | 1.5    | 4.75  \n",
      "Stock |   100 |    150 |     80\n"
     ]
    }
   ],
   "source": [
    "# Example 2: Dynamic Column Alignment (Numbers Right, Text Left)\n",
    "def print_aligned_table(table_data):\n",
    "    col_widths = [max(len(str(item)) for item in column) for column in table_data]\n",
    "    transposed = list(zip(*table_data))\n",
    "    \n",
    "    for row in transposed:\n",
    "        formatted_row = []\n",
    "        for i, item in enumerate(row):\n",
    "            # Right-align if numeric, left-align otherwise\n",
    "            if str(item).isdigit():\n",
    "                formatted_row.append(str(item).rjust(col_widths[i]))\n",
    "            else:\n",
    "                formatted_row.append(str(item).ljust(col_widths[i]))\n",
    "        print(\" | \".join(formatted_row))\n",
    "\n",
    "# Example usage\n",
    "table_data = [\n",
    "    [\"Item\", \"Price\", \"Stock\"],\n",
    "    [\"Apple\", 2.99, 100],\n",
    "    [\"Banana\", 1.50, 150],\n",
    "    [\"Cherry\", 4.75, 80]\n",
    "]\n",
    "print_aligned_table(table_data)"
   ]
  },
  {
   "cell_type": "code",
   "execution_count": 121,
   "id": "8470fe8d-e8b1-4221-88e9-69aaaf1f39dd",
   "metadata": {},
   "outputs": [
    {
     "name": "stdout",
     "output_type": "stream",
     "text": [
      "Product |   Category  | Price \n",
      "--------+-------------+-------\n",
      "Laptop  | Electronics | $999  \n",
      "Coffee  | Beverages   | $4.99 \n",
      "Book    | Education   | $19.99\n"
     ]
    }
   ],
   "source": [
    "def print_fancy_table(table_data):\n",
    "    # Ensure no empty rows/columns\n",
    "    table_data = [row for row in table_data if any(row)]\n",
    "    \n",
    "    # Calculate column widths\n",
    "    col_widths = [max(len(str(item)) for item in column) for column in zip(*table_data)]\n",
    "    \n",
    "    # Header and rows\n",
    "    header = table_data[0]\n",
    "    rows = table_data[1:]\n",
    "    \n",
    "    # Centered header\n",
    "    header_row = [item.center(width) for item, width in zip(header, col_widths)]\n",
    "    print(\" | \".join(header_row))\n",
    "    \n",
    "    # Dashed underline (exactly matching columns)\n",
    "    underline = [\"-\" * width for width in col_widths]\n",
    "    print(\"-+-\".join(underline))\n",
    "    \n",
    "    # Left-aligned rows\n",
    "    for row in rows:\n",
    "        row_str = [str(item).ljust(width) for item, width in zip(row, col_widths)]\n",
    "        print(\" | \".join(row_str))\n",
    "\n",
    "# Example usage\n",
    "table_data = [\n",
    "    [\"Product\", \"Category\", \"Price\"],\n",
    "    [\"Laptop\", \"Electronics\", \"$999\"],\n",
    "    [\"Coffee\", \"Beverages\", \"$4.99\"],\n",
    "    [\"Book\", \"Education\", \"$19.99\"]\n",
    "]\n",
    "print_fancy_table(table_data)\n",
    "#print(table_data)\n"
   ]
  },
  {
   "cell_type": "code",
   "execution_count": 122,
   "id": "1a010cf5-266c-46cd-8d8a-c30c7bc882f3",
   "metadata": {},
   "outputs": [
    {
     "name": "stdout",
     "output_type": "stream",
     "text": [
      "+-----------+-------------+---------+\n",
      "| Product   | Category    | Price   |\n",
      "+===========+=============+=========+\n",
      "| Laptop    | Electronics | $999    |\n",
      "+-----------+-------------+---------+\n",
      "| Coffee    | Beverages   | $4.99   |\n",
      "+-----------+-------------+---------+\n",
      "| Book      | Education   | $19.99  |\n",
      "+-----------+-------------+---------+\n"
     ]
    }
   ],
   "source": [
    "import pandas as pd\n",
    "\n",
    "table_data = [\n",
    "    [\"Product\", \"Category\", \"Price\"],\n",
    "    [\"Laptop\", \"Electronics\", \"$999\"],\n",
    "    [\"Coffee\", \"Beverages\", \"$4.99\"],\n",
    "    [\"Book\", \"Education\", \"$19.99\"]\n",
    "]\n",
    "\n",
    "# Convert to DataFrame\n",
    "df = pd.DataFrame(table_data[1:], columns=table_data[0])\n",
    "\n",
    "# Print as a formatted table\n",
    "print(df.to_markdown(tablefmt=\"grid\", index=False))"
   ]
  },
  {
   "cell_type": "code",
   "execution_count": 86,
   "id": "9ac25445-7381-4baa-b1cc-7b219611db92",
   "metadata": {},
   "outputs": [
    {
     "name": "stdout",
     "output_type": "stream",
     "text": [
      "3\n"
     ]
    },
    {
     "data": {
      "text/plain": [
       "range(0, 3)"
      ]
     },
     "execution_count": 86,
     "metadata": {},
     "output_type": "execute_result"
    }
   ],
   "source": [
    "print(len(tableData))\n",
    "range(len(tableData)))"
   ]
  },
  {
   "cell_type": "code",
   "execution_count": 87,
   "id": "dc80c3b1-16a7-41be-8352-ceb50ea87714",
   "metadata": {},
   "outputs": [
    {
     "name": "stdout",
     "output_type": "stream",
     "text": [
      "A BB \n",
      "CCC D \n"
     ]
    }
   ],
   "source": [
    "data = [['A', 'BB'], ['CCC', 'D']]\n",
    "for row in data:\n",
    "    for item in row:\n",
    "        print(item, end=' ')  # Print all items in row on one line\n",
    "    print()                   # New line after each row"
   ]
  },
  {
   "cell_type": "code",
   "execution_count": 82,
   "id": "2943d670-748b-40ab-9263-4d3c89876d05",
   "metadata": {},
   "outputs": [
    {
     "name": "stdout",
     "output_type": "stream",
     "text": [
      "apples    Alice  dogs\n",
      "oranges   Bob    cats\n",
      "cherries  Carol  moose\n",
      "banana    David  goose\n"
     ]
    }
   ],
   "source": [
    "from tabulate import tabulate\n",
    "\n",
    "tableData = [\n",
    "    ['apples', 'oranges', 'cherries', 'banana'],\n",
    "    ['Alice', 'Bob', 'Carol', 'David'],\n",
    "    ['dogs', 'cats', 'moose', 'goose']\n",
    "]\n",
    "\n",
    "# Transpose the table (swap rows/columns)\n",
    "transposed = list(zip(*tableData))\n",
    "print(tabulate(transposed, tablefmt=\"plain\"))"
   ]
  },
  {
   "cell_type": "code",
   "execution_count": 83,
   "id": "8824fa62-b0fa-4779-971d-96c121e06845",
   "metadata": {},
   "outputs": [
    {
     "name": "stdout",
     "output_type": "stream",
     "text": [
      "  apples Alice  dogs\n",
      " oranges   Bob  cats\n",
      "cherries Carol moose\n",
      "  banana David goose\n"
     ]
    }
   ],
   "source": [
    "import pandas as pd\n",
    "\n",
    "tableData = [\n",
    "    ['apples', 'oranges', 'cherries', 'banana'],\n",
    "    ['Alice', 'Bob', 'Carol', 'David'],\n",
    "    ['dogs', 'cats', 'moose', 'goose']\n",
    "]\n",
    "\n",
    "df = pd.DataFrame(tableData).T  # .T transposes the table\n",
    "print(df.to_string(index=False, header=False))"
   ]
  },
  {
   "cell_type": "code",
   "execution_count": null,
   "id": "02c69ce6-521e-4429-84c8-d6f3e7c40692",
   "metadata": {},
   "outputs": [],
   "source": [
    "#!pip install zombiedice\n",
    "\n",
    "import zombiedice\n",
    "\n",
    "class MyZombie:\n",
    "    def __init__(self, name):\n",
    "        self.name = name\n",
    "\n",
    "    def turn(self, gameState):\n",
    "        brains = 0\n",
    "        shotguns = 0\n",
    "        while True:\n",
    "            diceRollResults = zombiedice.roll()\n",
    "            if diceRollResults is None:  # No more dice to roll\n",
    "                break\n",
    "                \n",
    "            brains += diceRollResults['brains']\n",
    "            shotguns += diceRollResults['shotgun']\n",
    "            \n",
    "            # Stop conditions:\n",
    "            if shotguns >= 3:  # 3 shotguns means you lose your turn\n",
    "                break\n",
    "            if brains >= 2:  # Our strategy: stop after 2 brains\n",
    "                break\n",
    "\n",
    "zombies = (\n",
    "    zombiedice.examples.RandomCoinFlipZombie(name='Random'),\n",
    "    zombiedice.examples.RollsUntilInTheLeadZombie(name='Until Leading'),\n",
    "    zombiedice.examples.MinNumShotgunsThenStopsZombie(name='Stop at 2 Shotguns', minShotguns=2),\n",
    "    zombiedice.examples.MinNumShotgunsThenStopsZombie(name='Stop at 1 Shotgun', minShotguns=1),\n",
    "    MyZombie(name='My Zombie Bot'),\n",
    ")\n",
    "\n",
    "# Uncomment one of these to run:\n",
    "zombiedice.runTournament(zombies=zombies, numGames=1000)\n",
    "#zombiedice.runWebGui(zombies=zombies, numGames=1000)"
   ]
  },
  {
   "cell_type": "code",
   "execution_count": null,
   "id": "e81dc7c8-44ff-4fa5-b681-722d432c83fb",
   "metadata": {},
   "outputs": [],
   "source": []
  }
 ],
 "metadata": {
  "kernelspec": {
   "display_name": "Python 3 (ipykernel)",
   "language": "python",
   "name": "python3"
  },
  "language_info": {
   "codemirror_mode": {
    "name": "ipython",
    "version": 3
   },
   "file_extension": ".py",
   "mimetype": "text/x-python",
   "name": "python",
   "nbconvert_exporter": "python",
   "pygments_lexer": "ipython3",
   "version": "3.12.7"
  }
 },
 "nbformat": 4,
 "nbformat_minor": 5
}

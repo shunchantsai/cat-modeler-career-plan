{
 "cells": [
  {
   "cell_type": "code",
   "execution_count": 2,
   "id": "502038dd-384c-4078-8eaf-8e5fa9458cd9",
   "metadata": {},
   "outputs": [
    {
     "data": {
      "text/plain": [
       "'My cat has gray fur.'"
      ]
     },
     "execution_count": 2,
     "metadata": {},
     "output_type": "execute_result"
    }
   ],
   "source": [
    "myCat = {'size': 'fat', 'color': 'gray', 'disposition': 'loud'}\n",
    "myCat['size']\n",
    "'My cat has ' + myCat['color'] + ' fur.'"
   ]
  },
  {
   "cell_type": "code",
   "execution_count": 3,
   "id": "e86f7527-1630-4db4-a1c1-dba29ad27eee",
   "metadata": {},
   "outputs": [],
   "source": [
    "spam = {12345: 'Luggage Combination', 42: 'The Answer'}"
   ]
  },
  {
   "cell_type": "code",
   "execution_count": 4,
   "id": "b4352681-499e-42d8-bf9a-92989e19f3e8",
   "metadata": {},
   "outputs": [
    {
     "data": {
      "text/plain": [
       "False"
      ]
     },
     "execution_count": 4,
     "metadata": {},
     "output_type": "execute_result"
    }
   ],
   "source": [
    "spam = ['cats', 'dogs', 'moose']\n",
    "bacon = ['dogs', 'moose', 'cats']\n",
    "spam == bacon"
   ]
  },
  {
   "cell_type": "code",
   "execution_count": 5,
   "id": "2bb41da0-de01-4696-8bdd-a47521821488",
   "metadata": {},
   "outputs": [
    {
     "data": {
      "text/plain": [
       "True"
      ]
     },
     "execution_count": 5,
     "metadata": {},
     "output_type": "execute_result"
    }
   ],
   "source": [
    "eggs = {'name': 'Zophie', 'species': 'cat', 'age': '8'}\n",
    "ham = {'species': 'cat', 'age': '8', 'name': 'Zophie'}\n",
    "eggs == ham"
   ]
  },
  {
   "cell_type": "code",
   "execution_count": 6,
   "id": "99f74c3f-9cdb-48d0-9161-e89e1234b1b9",
   "metadata": {},
   "outputs": [
    {
     "ename": "KeyError",
     "evalue": "'color'",
     "output_type": "error",
     "traceback": [
      "\u001b[0;31m---------------------------------------------------------------------------\u001b[0m",
      "\u001b[0;31mKeyError\u001b[0m                                  Traceback (most recent call last)",
      "Cell \u001b[0;32mIn[6], line 2\u001b[0m\n\u001b[1;32m      1\u001b[0m spam \u001b[38;5;241m=\u001b[39m {\u001b[38;5;124m'\u001b[39m\u001b[38;5;124mname\u001b[39m\u001b[38;5;124m'\u001b[39m: \u001b[38;5;124m'\u001b[39m\u001b[38;5;124mZophie\u001b[39m\u001b[38;5;124m'\u001b[39m, \u001b[38;5;124m'\u001b[39m\u001b[38;5;124mage\u001b[39m\u001b[38;5;124m'\u001b[39m: \u001b[38;5;241m7\u001b[39m}\n\u001b[0;32m----> 2\u001b[0m spam[\u001b[38;5;124m'\u001b[39m\u001b[38;5;124mcolor\u001b[39m\u001b[38;5;124m'\u001b[39m]\n",
      "\u001b[0;31mKeyError\u001b[0m: 'color'"
     ]
    }
   ],
   "source": [
    "# Trying to access a key that does not exist in a dictionary will result in a KeyError error message\n",
    "spam = {'name': 'Zophie', 'age': 7}\n",
    "spam['color']"
   ]
  },
  {
   "cell_type": "code",
   "execution_count": 1,
   "id": "136427cf-dc7c-4c81-b17f-17cb84a6e13b",
   "metadata": {},
   "outputs": [
    {
     "name": "stdout",
     "output_type": "stream",
     "text": [
      "Enter a name: (blank to quit)\n"
     ]
    },
    {
     "name": "stdin",
     "output_type": "stream",
     "text": [
      " Dan\n"
     ]
    },
    {
     "name": "stdout",
     "output_type": "stream",
     "text": [
      "I do not have birthday information for Dan.\n",
      "What is their birthday?\n"
     ]
    },
    {
     "name": "stdin",
     "output_type": "stream",
     "text": [
      " May 31\n"
     ]
    },
    {
     "name": "stdout",
     "output_type": "stream",
     "text": [
      "Birthday database updated.\n",
      "Enter a name: (blank to quit)\n"
     ]
    },
    {
     "name": "stdin",
     "output_type": "stream",
     "text": [
      " Dan\n"
     ]
    },
    {
     "name": "stdout",
     "output_type": "stream",
     "text": [
      "May 31 is the birthday of Dan\n",
      "Enter a name: (blank to quit)\n"
     ]
    },
    {
     "name": "stdin",
     "output_type": "stream",
     "text": [
      " Justin\n"
     ]
    },
    {
     "name": "stdout",
     "output_type": "stream",
     "text": [
      "I do not have birthday information for Justin.\n",
      "What is their birthday?\n"
     ]
    },
    {
     "name": "stdin",
     "output_type": "stream",
     "text": [
      " Dec 3\n"
     ]
    },
    {
     "name": "stdout",
     "output_type": "stream",
     "text": [
      "Birthday database updated.\n",
      "Enter a name: (blank to quit)\n"
     ]
    },
    {
     "name": "stdin",
     "output_type": "stream",
     "text": [
      " Justin\n"
     ]
    },
    {
     "name": "stdout",
     "output_type": "stream",
     "text": [
      "Dec 3 is the birthday of Justin\n",
      "Enter a name: (blank to quit)\n"
     ]
    },
    {
     "name": "stdin",
     "output_type": "stream",
     "text": [
      " \n"
     ]
    },
    {
     "name": "stdout",
     "output_type": "stream",
     "text": [
      "Quitting now.\n"
     ]
    }
   ],
   "source": [
    "birthdays = {'alice': 'Apr 1', 'bob': 'Dec 12', 'carol': 'Mar 4'}\n",
    "\n",
    "while True:\n",
    "    print('Enter a name: (blank to quit)')\n",
    "    name = input().strip()\n",
    "    if name == '':\n",
    "        print('Quitting now.')\n",
    "        break\n",
    "    \n",
    "    name_key = name.lower()  # normalize input\n",
    "    \n",
    "    if name in birthdays:\n",
    "        print(f\"{birthdays[name]} is the birthday of {name}\")\n",
    "    else:\n",
    "        print(f\"I do not have birthday information for {name}.\")\n",
    "        print(\"What is their birthday?\")\n",
    "        bday = input().strip()\n",
    "        birthdays[name] = bday\n",
    "        print(\"Birthday database updated.\")\n"
   ]
  },
  {
   "cell_type": "code",
   "execution_count": 30,
   "id": "d1788883-378e-47a1-84ec-e62297c4e2ce",
   "metadata": {},
   "outputs": [
    {
     "name": "stdout",
     "output_type": "stream",
     "text": [
      "Enter a name to get their emergency contact (blank to quit):\n"
     ]
    },
    {
     "name": "stdin",
     "output_type": "stream",
     "text": [
      " Dan\n"
     ]
    },
    {
     "name": "stdout",
     "output_type": "stream",
     "text": [
      "No contact info for Dan.\n",
      "Please enter their emergency number:\n"
     ]
    },
    {
     "name": "stdin",
     "output_type": "stream",
     "text": [
      " 07923696900\n"
     ]
    },
    {
     "name": "stdout",
     "output_type": "stream",
     "text": [
      "Contact list updated.\n",
      "Enter a name to get their emergency contact (blank to quit):\n"
     ]
    },
    {
     "name": "stdin",
     "output_type": "stream",
     "text": [
      " \n"
     ]
    },
    {
     "name": "stdout",
     "output_type": "stream",
     "text": [
      "Quitting now.\n"
     ]
    }
   ],
   "source": [
    "contacts = {'alice': '555-1234', 'bob': '555-5678'}\n",
    "\n",
    "while True:\n",
    "    print('Enter a name to get their emergency contact (blank to quit):')\n",
    "    name = input().strip()\n",
    "    if name == '':\n",
    "        print(\"Quitting now.\")\n",
    "        break\n",
    "\n",
    "    key = name.lower()\n",
    "    \n",
    "    if key in contacts:\n",
    "        print(f\"{name.title()}'s contact number is {contacts[key]}\")\n",
    "    else:\n",
    "        print(f\"No contact info for {name.title()}.\")\n",
    "        print(\"Please enter their emergency number:\")\n",
    "        number = input().strip()\n",
    "        contacts[key] = number\n",
    "        print(\"Contact list updated.\")\n"
   ]
  },
  {
   "cell_type": "code",
   "execution_count": 26,
   "id": "fdcddbdd-75ed-48df-9bf3-9f747e211edc",
   "metadata": {},
   "outputs": [
    {
     "name": "stdout",
     "output_type": "stream",
     "text": [
      "Enter a name: \n"
     ]
    },
    {
     "name": "stdin",
     "output_type": "stream",
     "text": [
      " \n"
     ]
    },
    {
     "name": "stdout",
     "output_type": "stream",
     "text": [
      "Over now.\n"
     ]
    }
   ],
   "source": [
    "favorite_colors = {'alice':'blue', 'bob':'green', 'carol':'red'}\n",
    "\n",
    "while True:\n",
    "    print(\"Enter a name: \")\n",
    "    name = input().strip()\n",
    "    if name == '':\n",
    "        print(f\"Over now.\")\n",
    "        break\n",
    "\n",
    "    name_key = name.lower()\n",
    "\n",
    "    if name_key in favorite_colors:\n",
    "        print(f\"{name.title()}'s favorite color is {favorite_colors[name_key]}.\")\n",
    "    else:\n",
    "        print(f\"I dont know {name.title()}'s favorite color.\")\n",
    "        print(f\"What is their favorite color?\")\n",
    "        color = input().strip()\n",
    "        favorite_colors[name_key] = color\n",
    "        print(\"Favorite color database updated.\")\n",
    "    "
   ]
  },
  {
   "cell_type": "code",
   "execution_count": 32,
   "id": "2cd2bc15-0561-4436-a664-01f9abd5fc08",
   "metadata": {},
   "outputs": [
    {
     "name": "stdout",
     "output_type": "stream",
     "text": [
      "Enter a name: \n"
     ]
    },
    {
     "name": "stdin",
     "output_type": "stream",
     "text": [
      " Dan\n"
     ]
    },
    {
     "name": "stdout",
     "output_type": "stream",
     "text": [
      "I dont know Dan's grade.\n",
      "What is their grade?\n"
     ]
    },
    {
     "name": "stdin",
     "output_type": "stream",
     "text": [
      " A*\n"
     ]
    },
    {
     "name": "stdout",
     "output_type": "stream",
     "text": [
      "Gradde database updated.\n",
      "Enter a name: \n"
     ]
    },
    {
     "name": "stdin",
     "output_type": "stream",
     "text": [
      " Dan\n"
     ]
    },
    {
     "name": "stdout",
     "output_type": "stream",
     "text": [
      "Dan's grade is A*.\n",
      "Enter a name: \n"
     ]
    },
    {
     "name": "stdin",
     "output_type": "stream",
     "text": [
      " \n"
     ]
    },
    {
     "name": "stdout",
     "output_type": "stream",
     "text": [
      "Quitting now\n"
     ]
    }
   ],
   "source": [
    "grades = {'alice': 'a', 'bob':'b+'}\n",
    "\n",
    "while True:\n",
    "    print(\"Enter a name: \")\n",
    "    name = input().strip()\n",
    "    if name == '':\n",
    "        print(\"Quitting now\")\n",
    "        break\n",
    "\n",
    "    name_key = name.lower()\n",
    "\n",
    "    if name_key in grades:\n",
    "        print(f\"{name.title()}'s grade is {grades[name_key]}.\")\n",
    "    else:\n",
    "        print(f\"I dont know {name.title()}'s grade.\")\n",
    "        print(f\"What is their grade?\")\n",
    "        grade = input().strip()\n",
    "        grades[name_key] = grade\n",
    "        print(\"Gradde database updated.\")\n",
    "    "
   ]
  },
  {
   "cell_type": "code",
   "execution_count": 2,
   "id": "b0c44693-32c9-4ab2-baa9-8a25d463f1d5",
   "metadata": {},
   "outputs": [
    {
     "data": {
      "text/plain": [
       "['name', 'species', 'age']"
      ]
     },
     "execution_count": 2,
     "metadata": {},
     "output_type": "execute_result"
    }
   ],
   "source": [
    "eggs = {'name': 'Zophie', 'species': 'cat', 'age': '8'}\n",
    "list(eggs)"
   ]
  },
  {
   "cell_type": "code",
   "execution_count": 6,
   "id": "2d44386f-4ee9-4757-9643-45fff99c5690",
   "metadata": {},
   "outputs": [
    {
     "data": {
      "text/plain": [
       "['first key', 'seocnd key', 'third key']"
      ]
     },
     "execution_count": 6,
     "metadata": {},
     "output_type": "execute_result"
    }
   ],
   "source": [
    "spam = {}\n",
    "spam['first key'] = 'value'\n",
    "spam['seocnd key'] = 'value'\n",
    "spam['third key'] = 'value'\n",
    "list(spam)"
   ]
  },
  {
   "cell_type": "code",
   "execution_count": 121,
   "id": "2deb9b39-bfff-45e5-9162-ccb61e4d8442",
   "metadata": {},
   "outputs": [
    {
     "name": "stdout",
     "output_type": "stream",
     "text": [
      "red\n",
      "42\n"
     ]
    }
   ],
   "source": [
    "spam = {'color': 'red', 'age': 42}\n",
    "for v in spam.values():\n",
    "    print(v)"
   ]
  },
  {
   "cell_type": "code",
   "execution_count": 34,
   "id": "84c573f9-4e38-4f1c-86d7-9a11dfc34dd7",
   "metadata": {},
   "outputs": [
    {
     "name": "stdout",
     "output_type": "stream",
     "text": [
      "meow\n",
      "bark\n",
      "moo\n"
     ]
    }
   ],
   "source": [
    "animals = {'cat': 'meow', 'dog': 'bark', 'cow': 'moo'}\n",
    "\n",
    "for sound in animals.values():\n",
    "    print(sound)\n"
   ]
  },
  {
   "cell_type": "code",
   "execution_count": 35,
   "id": "9f7b9251-5e4b-40ef-ad1c-b4224d672f17",
   "metadata": {},
   "outputs": [
    {
     "name": "stdout",
     "output_type": "stream",
     "text": [
      "Total cost: 2.5\n"
     ]
    }
   ],
   "source": [
    "items = {'apple': 1.2, 'banana': 0.5, 'orange': 0.8}\n",
    "\n",
    "total_cost = 0\n",
    "for price in items.values():\n",
    "    total_cost += price\n",
    "\n",
    "print(\"Total cost:\", total_cost)\n"
   ]
  },
  {
   "cell_type": "code",
   "execution_count": 36,
   "id": "c5a0d888-c98a-4745-aa0e-217bfe591882",
   "metadata": {},
   "outputs": [
    {
     "name": "stdout",
     "output_type": "stream",
     "text": [
      "Someone is 25 years old.\n"
     ]
    }
   ],
   "source": [
    "people = {'alice': 30, 'bob': 25, 'carol': 35}\n",
    "\n",
    "age_to_check = 25\n",
    "if age_to_check in people.values():\n",
    "    print(f\"Someone is {age_to_check} years old.\")\n",
    "else:\n",
    "    print(f\"No one is {age_to_check} years old.\")\n"
   ]
  },
  {
   "cell_type": "code",
   "execution_count": 39,
   "id": "7b872d65-2d15-4c1f-af37-6e095b861143",
   "metadata": {},
   "outputs": [
    {
     "name": "stdout",
     "output_type": "stream",
     "text": [
      "There are 30 apples in the inventory\n",
      "There are 75 bananas in the inventory\n",
      "There are 30 cherrys in the inventory\n"
     ]
    }
   ],
   "source": [
    "inventory = {'apple':30, 'banana':75, 'cherry':30}\n",
    "\n",
    "for fruit, quantity in inventory.items():\n",
    "    print(f\"There are {quantity} {fruit}s in the inventory\")"
   ]
  },
  {
   "cell_type": "code",
   "execution_count": 40,
   "id": "922beb7a-d82f-48a0-bbd6-1ea0ab21ab53",
   "metadata": {},
   "outputs": [
    {
     "name": "stdout",
     "output_type": "stream",
     "text": [
      "2000\n",
      "There are 1500 product1 in sales\n",
      "There are 2000 product2 in sales\n",
      "There are 1800 product3 in sales\n"
     ]
    }
   ],
   "source": [
    "sales = {'product1': 1500, 'product2': 2000, 'product3': 1800}\n",
    "\n",
    "# Find the highest sales value\n",
    "max_sales = max(sales.values())\n",
    "print(max_sales)\n",
    "\n",
    "for product, quantity in sales.items():\n",
    "    print(f\"There are {quantity} {product} in sales\")"
   ]
  },
  {
   "cell_type": "code",
   "execution_count": 41,
   "id": "64111a55-7190-4b8f-aee3-45648d9fe682",
   "metadata": {},
   "outputs": [
    {
     "name": "stdout",
     "output_type": "stream",
     "text": [
      "{'Alice': 30, 'Bob': 26, 'Carol': 35}\n"
     ]
    }
   ],
   "source": [
    "people_ages = {'Alice': 30, 'Bob': 25, 'Carol': 35}\n",
    "\n",
    "# Bob had a birthday\n",
    "people_ages['Bob'] += 1\n",
    "\n",
    "print(people_ages)\n"
   ]
  },
  {
   "cell_type": "code",
   "execution_count": 42,
   "id": "69cad7e8-1095-492d-80db-c774ab2bd27e",
   "metadata": {},
   "outputs": [
    {
     "name": "stdout",
     "output_type": "stream",
     "text": [
      "{'Alice': 90, 'Bob': 85}\n"
     ]
    }
   ],
   "source": [
    "scores = {'Alice': 90, 'Bob': 85, 'Carol': 88}\n",
    "\n",
    "# Remove Carol's score\n",
    "del scores['Carol']\n",
    "\n",
    "print(scores)\n"
   ]
  },
  {
   "cell_type": "code",
   "execution_count": 44,
   "id": "3e457292-e5a4-4d5b-8e18-07b4592b2566",
   "metadata": {},
   "outputs": [
    {
     "name": "stdout",
     "output_type": "stream",
     "text": [
      "We have 5 copies of Python 101s in stock.\n",
      "We have 8 copies of Data Science for Alls in stock.\n",
      "We have 2 copies of Learning Javas in stock.\n"
     ]
    }
   ],
   "source": [
    "book_inventory = {'Python 101': 5, 'Data Science for All': 8, 'Learning Java': 2}\n",
    "\n",
    "for book, quantity in book_inventory.items():\n",
    "    print(f\"We have {quantity} copies of {book}s in stock.\")"
   ]
  },
  {
   "cell_type": "code",
   "execution_count": 48,
   "id": "72a75f19-0670-4fdd-8416-07362358850c",
   "metadata": {},
   "outputs": [
    {
     "name": "stdout",
     "output_type": "stream",
     "text": [
      "Total cost: 6.7\n"
     ]
    }
   ],
   "source": [
    "product_prices = {'apple': 2.5, 'banana': 1.2, 'cherry': 3.0}\n",
    "total_cost = 0\n",
    "\n",
    "for product, price in product_prices.items():\n",
    "    total_cost += price\n",
    "\n",
    "print(f\"Total cost: {total_cost}\")"
   ]
  },
  {
   "cell_type": "code",
   "execution_count": 51,
   "id": "92cd4c79-1a31-4613-8ca2-2e70447ee00e",
   "metadata": {},
   "outputs": [
    {
     "name": "stdout",
     "output_type": "stream",
     "text": [
      "{'apples': 15, 'bananas': 15, 'oranges': 20}\n"
     ]
    }
   ],
   "source": [
    "inventory = {'apples': 10, 'bananas': 15, 'oranges': 20}\n",
    "\n",
    "for fruit, quantity in inventory.items():\n",
    "    if quantity < 15:\n",
    "        inventory[fruit] += 5\n",
    "\n",
    "print(inventory)\n"
   ]
  },
  {
   "cell_type": "code",
   "execution_count": 122,
   "id": "2a53ab23-b7fc-40b8-87b9-359da7614d25",
   "metadata": {},
   "outputs": [
    {
     "name": "stdout",
     "output_type": "stream",
     "text": [
      "{'a': 1, 'b': 2, 'c': 3, 'd': 4}\n"
     ]
    }
   ],
   "source": [
    "dict1 = {'a': 1, 'b': 2}\n",
    "dict2 = {'c': 3, 'd': 4}\n",
    "\n",
    "combined = {**dict1, **dict2}\n",
    "print(combined)\n"
   ]
  },
  {
   "cell_type": "code",
   "execution_count": 123,
   "id": "0811bc21-1a5a-4483-bc65-60db84ba0814",
   "metadata": {},
   "outputs": [
    {
     "name": "stdout",
     "output_type": "stream",
     "text": [
      "Alice's contact exists.\n"
     ]
    }
   ],
   "source": [
    "contacts = {'Alice': '555-1234', 'Bob': '555-5678'}\n",
    "if 'Alice' in contacts:\n",
    "    print(\"Alice's contact exists.\")\n",
    "else:\n",
    "    print(\"Alice's contact does not exist.\")"
   ]
  },
  {
   "cell_type": "code",
   "execution_count": 56,
   "id": "09d06dc2-f912-439f-9402-9117a2c2b053",
   "metadata": {},
   "outputs": [
    {
     "name": "stdout",
     "output_type": "stream",
     "text": [
      "['Alice', 'Carol']\n"
     ]
    }
   ],
   "source": [
    "grades = {'Alice': 'A', 'Bob': 'B', 'Carol': 'A'}\n",
    "\n",
    "# Find all students with grade 'A'\n",
    "students_with_A = [name for name, grade in grades.items() if grade == 'A']\n",
    "print(students_with_A)\n"
   ]
  },
  {
   "cell_type": "code",
   "execution_count": 126,
   "id": "71724158-058a-471a-953e-277412a47b61",
   "metadata": {},
   "outputs": [
    {
     "data": {
      "text/plain": [
       "{'blue', 'green'}"
      ]
     },
     "execution_count": 126,
     "metadata": {},
     "output_type": "execute_result"
    }
   ],
   "source": [
    "colors = {'Alice': 'blue', 'Bob': 'green', 'Carol': 'blue'}\n",
    "set(colors.values())\n",
    "#len(set(colors.values()))\n"
   ]
  },
  {
   "cell_type": "code",
   "execution_count": 127,
   "id": "be075ee4-2e3a-4c62-a8d8-e41c657f30f1",
   "metadata": {},
   "outputs": [
    {
     "name": "stdout",
     "output_type": "stream",
     "text": [
      "{'banana', 'apple'}\n"
     ]
    }
   ],
   "source": [
    "favorites = {'John': 'apple', 'Emma': 'banana', 'Liam': 'apple'}\n",
    "print(set(favorites.values()))\n"
   ]
  },
  {
   "cell_type": "code",
   "execution_count": 128,
   "id": "17ffb594-ecee-4a8b-8b53-daba6ee96616",
   "metadata": {},
   "outputs": [
    {
     "name": "stdout",
     "output_type": "stream",
     "text": [
      "{'Honda', 'Toyota', 'Ford'}\n"
     ]
    }
   ],
   "source": [
    "cars = {'Anna': 'Toyota', 'Ben': 'Honda', 'Cara': 'Toyota', 'Dan': 'Ford'}\n",
    "print(set(cars.values()))\n"
   ]
  },
  {
   "cell_type": "code",
   "execution_count": 129,
   "id": "cd4d9e61-f632-449a-98b8-da3f93a4df42",
   "metadata": {},
   "outputs": [
    {
     "name": "stdout",
     "output_type": "stream",
     "text": [
      "{'cat', 'dog'}\n"
     ]
    }
   ],
   "source": [
    "pets = {'Max': 'dog', 'Molly': 'cat', 'Buddy': 'dog', 'Luna': 'cat'}\n",
    "print(set(pets.values()))\n"
   ]
  },
  {
   "cell_type": "code",
   "execution_count": 130,
   "id": "7690a4a1-4830-42c0-804d-68ca96f66f1d",
   "metadata": {},
   "outputs": [
    {
     "name": "stdout",
     "output_type": "stream",
     "text": [
      "{'chocolate', 'strawberry', 'vanilla'}\n"
     ]
    }
   ],
   "source": [
    "flavors = {'Alice': 'chocolate', 'Bob': 'vanilla', 'Eve': 'chocolate', 'Tom': 'strawberry'}\n",
    "print(set(flavors.values()))\n"
   ]
  },
  {
   "cell_type": "code",
   "execution_count": 131,
   "id": "8660a893-8dce-4660-8608-1610bc97125e",
   "metadata": {},
   "outputs": [
    {
     "name": "stdout",
     "output_type": "stream",
     "text": [
      "{'Italy', 'Japan', 'Mexico'}\n"
     ]
    }
   ],
   "source": [
    "origins = {'Sushi': 'Japan', 'Pizza': 'Italy', 'Tacos': 'Mexico', 'Ramen': 'Japan'}\n",
    "print(set(origins.values()))\n"
   ]
  },
  {
   "cell_type": "code",
   "execution_count": 132,
   "id": "d69df031-e924-4271-be74-f275a4027876",
   "metadata": {},
   "outputs": [
    {
     "name": "stdout",
     "output_type": "stream",
     "text": [
      "{'apple': 250, 'banana': 200, 'orange': 300}\n"
     ]
    }
   ],
   "source": [
    "sales_q1 = {'apple': 100, 'banana': 200}\n",
    "sales_q2 = {'apple': 150, 'orange': 300}\n",
    "\n",
    "# Merge the dictionaries and sum the sales for the same fruit\n",
    "merged_sales = sales_q1.copy()\n",
    "\n",
    "for fruit, sales in sales_q2.items():\n",
    "    merged_sales[fruit] = merged_sales.get(fruit, 0) + sales\n",
    "\n",
    "print(merged_sales)"
   ]
  },
  {
   "cell_type": "code",
   "execution_count": null,
   "id": "cd7a006d-7d78-4095-916d-308b0e0a3ca7",
   "metadata": {},
   "outputs": [],
   "source": []
  },
  {
   "cell_type": "code",
   "execution_count": 134,
   "id": "8f383b39-56f6-404a-9011-c884c5e6f685",
   "metadata": {},
   "outputs": [
    {
     "name": "stdout",
     "output_type": "stream",
     "text": [
      "{'home': 2200, 'about': 300, 'contact': 500}\n"
     ]
    }
   ],
   "source": [
    "visitors_jan = {'home': 1000, 'about': 300}\n",
    "visitors_feb = {'home': 1200, 'contact': 500}\n",
    "\n",
    "merged_visitors = visitors_jan.copy()\n",
    "\n",
    "for page, count in visitors_feb.items():\n",
    "    merged_visitors[page] = merged_visitors.get(page, 0) + count\n",
    "\n",
    "print(merged_visitors)"
   ]
  },
  {
   "cell_type": "code",
   "execution_count": 136,
   "id": "2d40433b-6f1b-4c31-9cda-556a794f9d88",
   "metadata": {},
   "outputs": [
    {
     "name": "stdout",
     "output_type": "stream",
     "text": [
      "{'pen': 70, 'notebook': 30, 'eraser': 15}\n"
     ]
    }
   ],
   "source": [
    "stock_week1 = {'pen': 50, 'notebook': 30}\n",
    "stock_week2 = {'pen': 20, 'eraser': 15}\n",
    "\n",
    "merged_stock = stock_week1.copy()\n",
    "\n",
    "for item, count in stock_week2.items():\n",
    "    merged_stock[item] = merged_stock.get(item,0) + count\n",
    "\n",
    "print(merged_stock)"
   ]
  },
  {
   "cell_type": "code",
   "execution_count": 137,
   "id": "121a01e2-d206-4032-86a8-1a8f2e95f223",
   "metadata": {},
   "outputs": [
    {
     "name": "stdout",
     "output_type": "stream",
     "text": [
      "{'HR': 250, 'Tech': 300, 'Marketing': 200}\n"
     ]
    }
   ],
   "source": [
    "donations_day1 = {'HR': 100, 'Tech': 300}\n",
    "donations_day2 = {'HR': 150, 'Marketing': 200}\n",
    "\n",
    "total_donations = donations_day1.copy()\n",
    "\n",
    "for dept, amount in donations_day2.items():\n",
    "    total_donations[dept] = total_donations.get(dept,0) + amount\n",
    "\n",
    "print(total_donations)"
   ]
  },
  {
   "cell_type": "code",
   "execution_count": 138,
   "id": "d5c09ae5-1499-46a0-8b86-a981c3523bed",
   "metadata": {},
   "outputs": [
    {
     "name": "stdout",
     "output_type": "stream",
     "text": [
      "{'Alice': 9000, 'Bob': 6000, 'Carol': 3000}\n"
     ]
    }
   ],
   "source": [
    "steps_monday = {'Alice': 4000, 'Bob': 6000}\n",
    "steps_tuesday = {'Alice': 5000, 'Carol': 3000}\n",
    "\n",
    "total_steps = steps_monday.copy()\n",
    "\n",
    "for name, steps in steps_tuesday.items():\n",
    "    total_steps[name] = total_steps.get(name, 0) + steps\n",
    "\n",
    "print(total_steps)"
   ]
  },
  {
   "cell_type": "code",
   "execution_count": 67,
   "id": "de1667b5-81e1-4fa7-bc8b-ea4be1f8e787",
   "metadata": {},
   "outputs": [
    {
     "name": "stdout",
     "output_type": "stream",
     "text": [
      "{'apple': 400, 'banana': 700, 'orange': 200, 'grape': 300}\n",
      "{'apple': 300, 'banana': 500, 'orange': 200}\n"
     ]
    }
   ],
   "source": [
    "profits_q1 = {'apple': 300, 'banana': 500, 'orange': 200}\n",
    "profits_q2 = {'apple': 100, 'banana': 200, 'grape': 300}\n",
    "\n",
    "# Merge the dictionaries and subtract the values for the same fruit\n",
    "merged_profits = profits_q1.copy()\n",
    "\n",
    "for fruit, profit in profits_q2.items():\n",
    "    merged_profits[fruit] = merged_profits.get(fruit, 0) + profit\n",
    "\n",
    "print(merged_profits)\n",
    "print(profits_q1)"
   ]
  },
  {
   "cell_type": "code",
   "execution_count": 69,
   "id": "2ad5969d-182b-451e-aced-0a9454ba8c0e",
   "metadata": {},
   "outputs": [
    {
     "name": "stdout",
     "output_type": "stream",
     "text": [
      "{'Alice': 88.5, 'Bob': 88.5, 'Carol': 88, 'David': 39.0}\n"
     ]
    },
    {
     "data": {
      "text/plain": [
       "39.0"
      ]
     },
     "execution_count": 69,
     "metadata": {},
     "output_type": "execute_result"
    }
   ],
   "source": [
    "scores_q1 = {'Alice': 85, 'Bob': 90, 'Carol': 88}\n",
    "scores_q2 = {'Alice': 92, 'Bob': 87, 'David': 78}\n",
    "\n",
    "# Merge the dictionaries and calculate the average score for the same person\n",
    "merged_scores = scores_q1.copy()\n",
    "\n",
    "for person, score in scores_q2.items():\n",
    "    merged_scores[person] = (merged_scores.get(person, 0) + score) / 2\n"
   ]
  },
  {
   "cell_type": "code",
   "execution_count": 139,
   "id": "b252f7da-c74c-4c60-af25-25d6b4eada6b",
   "metadata": {},
   "outputs": [
    {
     "name": "stdout",
     "output_type": "stream",
     "text": [
      "{'Mon': 21, 'Tue': 45, 'Wed': 48, 'Thu': 24}\n"
     ]
    }
   ],
   "source": [
    "temps_week1 = {'Mon':21, 'Tue':22, 'Wed':23}\n",
    "temps_week2 = {'Tue':23, 'Wed':25, 'Thu':24}\n",
    "\n",
    "merged_temps = temps_week1.copy()\n",
    "for day, temp in temps_week2.items():\n",
    "    merged_temps[day] = merged_temps.get(day, 0) + temp\n",
    "\n",
    "print(merged_temps)"
   ]
  },
  {
   "cell_type": "code",
   "execution_count": 140,
   "id": "239aa045-0f75-49de-914e-c44df2c25a3b",
   "metadata": {},
   "outputs": [
    {
     "name": "stdout",
     "output_type": "stream",
     "text": [
      "{'Alice': 165, 'Bob': 75, 'Carol': 90}\n"
     ]
    }
   ],
   "source": [
    "scores_exam1 = {'Alice': 80, 'Bob': 75}\n",
    "scores_exam2 = {'Alice': 85, 'Carol': 90}\n",
    "\n",
    "merged_scores = scores_exam1.copy()\n",
    "for name, score in scores_exam2.items():\n",
    "    merged_scores[name] = merged_scores.get(name, 0) + score\n",
    "\n",
    "print(merged_scores)\n"
   ]
  },
  {
   "cell_type": "code",
   "execution_count": 141,
   "id": "e49fe22d-5f38-4548-9179-ae8c99ff893b",
   "metadata": {},
   "outputs": [
    {
     "name": "stdout",
     "output_type": "stream",
     "text": [
      "{'pens': 80, 'notebooks': 20, 'erasers': 15}\n"
     ]
    }
   ],
   "source": [
    "stock_warehouse1 = {'pens': 50, 'notebooks': 20}\n",
    "stock_warehouse2 = {'pens': 30, 'erasers': 15}\n",
    "\n",
    "total_stock = stock_warehouse1.copy()\n",
    "for item, qty in stock_warehouse2.items():\n",
    "    total_stock[item] = total_stock.get(item, 0) + qty\n",
    "\n",
    "print(total_stock)"
   ]
  },
  {
   "cell_type": "code",
   "execution_count": 80,
   "id": "ff6af979-cf4a-4305-aade-849887a787ab",
   "metadata": {},
   "outputs": [
    {
     "name": "stdout",
     "output_type": "stream",
     "text": [
      "{'John': 100, 'Emma': 350, 'Liam': 50}\n"
     ]
    }
   ],
   "source": [
    "donations_day1 = {'John': 100, 'Emma': 150}\n",
    "donations_day2 = {'Emma': 200, 'Liam': 50}\n",
    "\n",
    "total_donations = donations_day1.copy()\n",
    "for donor, amount in donations_day2.items():\n",
    "    total_donations[donor] = total_donations.get(donor, 0) + amount\n",
    "\n",
    "print(total_donations)"
   ]
  },
  {
   "cell_type": "code",
   "execution_count": 81,
   "id": "148ff5c4-2a24-4243-b81a-a9a7fb59ef6a",
   "metadata": {},
   "outputs": [
    {
     "name": "stdout",
     "output_type": "stream",
     "text": [
      "{'the': 5, 'dog': 3, 'ran': 3, 'fast': 3}\n"
     ]
    }
   ],
   "source": [
    "doc1 = {'the': 5, 'dog': 2, 'ran': 1}\n",
    "doc2 = {'dog': 1, 'ran': 2, 'fast': 3}\n",
    "\n",
    "word_counts = doc1.copy()\n",
    "for word, count in doc2.items():\n",
    "    word_counts[word] = word_counts.get(word, 0) + count\n",
    "\n",
    "print(word_counts)"
   ]
  },
  {
   "cell_type": "code",
   "execution_count": 83,
   "id": "abaa41c8-e389-468f-82da-bfb1d0d593f6",
   "metadata": {},
   "outputs": [
    {
     "name": "stdout",
     "output_type": "stream",
     "text": [
      "{'projectA': 10, 'projectB': 5, 'projectC': 12}\n"
     ]
    }
   ],
   "source": [
    "time_week1 = {'projectA': 10, 'projectB': 8}\n",
    "time_week2 = {'projectB': 5, 'projectC': 12}\n",
    "\n",
    "total_time = time_week1.copy()\n",
    "for project, time in time_week2.items():\n",
    "    total_time[project] = total_time.get(time, 0) + time\n",
    "\n",
    "print(total_time)"
   ]
  },
  {
   "cell_type": "code",
   "execution_count": 142,
   "id": "02d24e83-490c-4dba-86a0-99fc5c046776",
   "metadata": {},
   "outputs": [
    {
     "name": "stdout",
     "output_type": "stream",
     "text": [
      "{'milk': 3, 'bread': 1, 'eggs': 12}\n"
     ]
    }
   ],
   "source": [
    "cart1 = {'milk': 2, 'bread': 1}\n",
    "cart2 = {'milk': 1, 'eggs': 12}\n",
    "\n",
    "final_cart = cart1.copy()\n",
    "for item, count in cart2.items():\n",
    "    final_cart[item] = final_cart.get(item, 0) + count\n",
    "\n",
    "print(final_cart)"
   ]
  },
  {
   "cell_type": "code",
   "execution_count": 95,
   "id": "7460345a-1832-4856-8e54-f19255dabb40",
   "metadata": {},
   "outputs": [
    {
     "name": "stdout",
     "output_type": "stream",
     "text": [
      "{'Sara': 3, 'Tom': 6, 'Lucy': 1}\n"
     ]
    }
   ],
   "source": [
    "participation_morning = {'Sara': 3, 'Tom': 2}\n",
    "participation_afternoon = {'Tom': 4, 'Lucy': 1}\n",
    "\n",
    "total_participation = participation_morning.copy()\n",
    "for student, count in participation_afternoon.items():\n",
    "    total_participation[student] = total_participation.get(student, 0) + count\n",
    "\n",
    "print(total_participation)"
   ]
  },
  {
   "cell_type": "code",
   "execution_count": 97,
   "id": "83a3a223-e08d-43d7-acf3-bbae59144a5d",
   "metadata": {},
   "outputs": [
    {
     "name": "stdout",
     "output_type": "stream",
     "text": [
      "{'Player1': 10, 'Player2': 20, 'Player3': 7}\n"
     ]
    }
   ],
   "source": [
    "round1 = {'Player1': 10, 'Player2': 8}\n",
    "round2 = {'Player2': 12, 'Player3': 7}\n",
    "\n",
    "total_points = round1.copy()\n",
    "for player, points in round2.items():\n",
    "    total_points[player] = total_points.get(player, 0) + points\n",
    "\n",
    "print(total_points)"
   ]
  },
  {
   "cell_type": "code",
   "execution_count": 98,
   "id": "bc3f4391-f568-43a2-b668-62be266dd8d1",
   "metadata": {},
   "outputs": [
    {
     "name": "stdout",
     "output_type": "stream",
     "text": [
      "{'fruits': 50, 'vegetables': 45, 'drinks': 25}\n"
     ]
    }
   ],
   "source": [
    "expenses_food = {'fruits': 30, 'vegetables': 45}\n",
    "expenses_other = {'fruits': 20, 'drinks': 25}\n",
    "\n",
    "total_expenses = expenses_food.copy()\n",
    "for category, amount in expenses_other.items():\n",
    "    total_expenses[category] = total_expenses.get(category, 0) + amount\n",
    "\n",
    "print(total_expenses)"
   ]
  },
  {
   "cell_type": "code",
   "execution_count": 143,
   "id": "e2d2378d-6f2a-4742-a4e8-43d660249d2f",
   "metadata": {},
   "outputs": [
    {
     "name": "stdout",
     "output_type": "stream",
     "text": [
      "{'fiction': 65, 'non-fiction': 60, 'movies': 50}\n"
     ]
    }
   ],
   "source": [
    "expenses_books = {'fiction': 40, 'non-fiction': 60}\n",
    "expenses_entertainment = {'fiction': 25, 'movies': 50}\n",
    "\n",
    "total_expenses = expenses_books.copy()\n",
    "for genre, copies in expenses_entertainment.items():\n",
    "    total_expenses[genre] = total_expenses.get(genre, 0) + copies\n",
    "\n",
    "print(total_expenses)"
   ]
  },
  {
   "cell_type": "code",
   "execution_count": 144,
   "id": "e21533f9-1b86-4621-b9e3-bf5c50cb50c2",
   "metadata": {},
   "outputs": [
    {
     "name": "stdout",
     "output_type": "stream",
     "text": [
      "red\n",
      "42\n"
     ]
    }
   ],
   "source": [
    "spam = {'color': 'red', 'age': 42}\n",
    "for v in spam.values():\n",
    "    print(v)"
   ]
  },
  {
   "cell_type": "code",
   "execution_count": 145,
   "id": "5d569d68-4d65-4f46-835b-89818a770a5d",
   "metadata": {},
   "outputs": [
    {
     "name": "stdout",
     "output_type": "stream",
     "text": [
      "color\n",
      "age\n"
     ]
    }
   ],
   "source": [
    "for i in spam.keys():\n",
    "    print(i)"
   ]
  },
  {
   "cell_type": "code",
   "execution_count": 146,
   "id": "a8f0aa10-3a52-47a1-9ce4-77e3246ad11e",
   "metadata": {},
   "outputs": [
    {
     "name": "stdout",
     "output_type": "stream",
     "text": [
      "['apple', 'banana', 'cherry']\n",
      "[1, 2, 3]\n",
      "[('apple', 1), ('banana', 2), ('cherry', 3)]\n"
     ]
    },
    {
     "data": {
      "text/plain": [
       "list"
      ]
     },
     "execution_count": 146,
     "metadata": {},
     "output_type": "execute_result"
    }
   ],
   "source": [
    "my_dict = {}\n",
    "my_dict['apple'] = 1\n",
    "my_dict['banana'] = 2\n",
    "my_dict['cherry'] = 3\n",
    "\n",
    "print(list(my_dict.keys()))   # ['apple', 'banana', 'cherry']\n",
    "print(list(my_dict.values())) # [1, 2, 3]\n",
    "print(list(my_dict.items()))  # [('apple', 1), ('banana', 2), ('cherry', 3)]\n",
    "type(list(my_dict.items()))"
   ]
  },
  {
   "cell_type": "code",
   "execution_count": 147,
   "id": "87f3471f-2507-41bc-811c-0f20aba78e26",
   "metadata": {},
   "outputs": [
    {
     "name": "stdout",
     "output_type": "stream",
     "text": [
      "{'banana', 'apple', 'cherry'}\n"
     ]
    }
   ],
   "source": [
    "my_set = {'apple', 'banana', 'cherry'}\n",
    "print(my_set)\n"
   ]
  },
  {
   "cell_type": "code",
   "execution_count": 148,
   "id": "38724f3c-2e0c-49df-915c-55db6a654e1c",
   "metadata": {},
   "outputs": [
    {
     "name": "stdout",
     "output_type": "stream",
     "text": [
      "['a', 'b', 'c']\n"
     ]
    }
   ],
   "source": [
    "my_dict = {'a': 1, 'b': 2, 'c': 3}\n",
    "print(list(my_dict.keys()))  # ['a', 'b', 'c']\n"
   ]
  },
  {
   "cell_type": "code",
   "execution_count": 17,
   "id": "a23b3927-d082-4985-b611-a5a3c30fd911",
   "metadata": {},
   "outputs": [
    {
     "name": "stdout",
     "output_type": "stream",
     "text": [
      "[('apple', 5), ('banana', 3), ('cherry', 2)]\n"
     ]
    }
   ],
   "source": [
    "class SortedDict(dict):\n",
    "    def items(self):\n",
    "        return [(k, self[k]) for k in sorted(super().keys())]\n",
    "\n",
    "sd = SortedDict()\n",
    "sd['banana'] = 3\n",
    "sd['apple'] = 5\n",
    "sd['cherry'] = 2\n",
    "\n",
    "print(list(sd.items())) \n",
    "    "
   ]
  },
  {
   "cell_type": "code",
   "execution_count": 149,
   "id": "64808142-66fe-43f9-b149-2dbbea1ddc73",
   "metadata": {},
   "outputs": [
    {
     "name": "stdout",
     "output_type": "stream",
     "text": [
      "[('cherry', 2), ('banana', 3), ('apple', 5)]\n"
     ]
    }
   ],
   "source": [
    "class SortedDict(dict):\n",
    "    def items(self):\n",
    "        return sorted(super().items(), key=lambda item: item[1])\n",
    "\n",
    "sd = SortedDict()\n",
    "sd['banana'] = 3\n",
    "sd['apple'] = 5\n",
    "sd['cherry'] = 2\n",
    "\n",
    "print(list(sd.items())) "
   ]
  },
  {
   "cell_type": "code",
   "execution_count": 150,
   "id": "399714c7-fc65-4cc9-a168-22aa9b6146a1",
   "metadata": {},
   "outputs": [
    {
     "name": "stdout",
     "output_type": "stream",
     "text": [
      "[('date', 2), ('banana', 3), ('cherry', 3), ('apple', 5)]\n"
     ]
    }
   ],
   "source": [
    "# break ties by keys\n",
    "class SortedDict(dict):\n",
    "    def items(self):\n",
    "        return sorted(super().items(), key=lambda item: (item[1], item[0]))\n",
    "\n",
    "sd = SortedDict()\n",
    "sd['banana'] = 3\n",
    "sd['apple'] = 5\n",
    "sd['cherry'] = 3\n",
    "sd['date'] = 2\n",
    "\n",
    "print(list(sd.items()))\n"
   ]
  },
  {
   "cell_type": "code",
   "execution_count": null,
   "id": "813dd908-f77e-476e-b070-65f14386284d",
   "metadata": {},
   "outputs": [],
   "source": [
    "# a descending sort by value, and still break ties alphabetically by key (ascending)\n",
    "class SortedDict(dict):\n",
    "    def items(self):\n",
    "        return sorted(super().items(), key=lambda item: (-item[1], item[0]))\n",
    "\n",
    "sd = SortedDict()\n",
    "sd['banana'] = 3\n",
    "sd['apple'] = 5\n",
    "sd['cherry'] = 3\n",
    "sd['date'] = 2\n",
    "\n",
    "print(list(sd.items()))"
   ]
  },
  {
   "cell_type": "markdown",
   "id": "ac60ee46-9733-4680-919e-a831cc572500",
   "metadata": {},
   "source": [
    "# using sorted(..., key=lambda item: item[1]) "
   ]
  },
  {
   "cell_type": "code",
   "execution_count": 156,
   "id": "325a5bb3-2493-49be-86d7-4683181275a6",
   "metadata": {},
   "outputs": [
    {
     "name": "stdout",
     "output_type": "stream",
     "text": [
      "[('Bob', 75), ('Alice', 88), ('Charlie', 93)]\n"
     ]
    }
   ],
   "source": [
    "# 1. Sorting student grades\n",
    "\n",
    "grades = {'Alice': 88, 'Bob': 75, 'Charlie': 93}\n",
    "sorted_grades = sorted(grades.items(), key=lambda item: item[1])\n",
    "print(sorted_grades)"
   ]
  },
  {
   "cell_type": "code",
   "execution_count": 158,
   "id": "f6540a22-691e-409e-8049-5eb3ef3abee6",
   "metadata": {},
   "outputs": [
    {
     "name": "stdout",
     "output_type": "stream",
     "text": [
      "[('mouse', 25), ('keyboard', 45), ('laptop', 1200)]\n"
     ]
    }
   ],
   "source": [
    "products = {'laptop': 1200, 'mouse': 25, 'keyboard': 45}\n",
    "sorted_products = sorted(products.items(), key=lambda item: item[1])\n",
    "print(sorted_products)"
   ]
  },
  {
   "cell_type": "code",
   "execution_count": 159,
   "id": "ce66e552-e5b9-4765-ae41-5ae5b48422f0",
   "metadata": {},
   "outputs": [
    {
     "name": "stdout",
     "output_type": "stream",
     "text": [
      "[('Canada', 38), ('Mexico', 126), ('USA', 331)]\n"
     ]
    }
   ],
   "source": [
    "population = {'USA': 331, 'Canada': 38, 'Mexico': 126}\n",
    "sorted_population = sorted(population.items(), key=lambda item: item[1])\n",
    "print(sorted_population)"
   ]
  },
  {
   "cell_type": "code",
   "execution_count": 160,
   "id": "80a8b09e-c2aa-4cb1-ac42-700f1d873ce8",
   "metadata": {},
   "outputs": [
    {
     "name": "stdout",
     "output_type": "stream",
     "text": [
      "[('Jerry', 150), ('Tom', 200), ('Spike', 250)]\n"
     ]
    }
   ],
   "source": [
    "scores = {'Tom': 200, 'Jerry': 150, 'Spike': 250}\n",
    "sorted_scores = sorted(scores.items(), key=lambda item: item[1])\n",
    "print(sorted_scores)"
   ]
  },
  {
   "cell_type": "code",
   "execution_count": 161,
   "id": "8268f783-a18b-4545-98f7-aa248bc486e6",
   "metadata": {},
   "outputs": [
    {
     "name": "stdout",
     "output_type": "stream",
     "text": [
      "[('apple', 5), ('date', 5), ('banana', 3), ('cherry', 3)]\n"
     ]
    }
   ],
   "source": [
    "data = {\n",
    "    'apple': 5,\n",
    "    'banana': 3,\n",
    "    'cherry': 3,\n",
    "    'date': 5\n",
    "}\n",
    "\n",
    "sorted_items = sorted(data.items(), key=lambda item: (-item[1], item[0]))\n",
    "print(sorted_items)\n"
   ]
  },
  {
   "cell_type": "code",
   "execution_count": 162,
   "id": "6a5700d0-4f11-46f9-9aeb-c3c37201c810",
   "metadata": {},
   "outputs": [
    {
     "data": {
      "text/plain": [
       "[('Alice', 95), ('Charlie', 95), ('Bob', 80), ('Dave', 70)]"
      ]
     },
     "execution_count": 162,
     "metadata": {},
     "output_type": "execute_result"
    }
   ],
   "source": [
    "scores = {'Alice': 95, 'Bob': 80, 'Charlie': 95, 'Dave': 70}\n",
    "\n",
    "sorted(scores.items(), key=lambda item: (-item[1], item[0]))\n"
   ]
  },
  {
   "cell_type": "code",
   "execution_count": 171,
   "id": "6ea96b11-968c-4d54-81a9-8c85910ce396",
   "metadata": {},
   "outputs": [
    {
     "name": "stdout",
     "output_type": "stream",
     "text": [
      "\n",
      "🏆 Leaderboard (High Score First):\n",
      "1. Alice - 150 points\n",
      "1. Charlie - 150 points\n",
      "3. Bob - 120 points\n",
      "4. Diana - 90 points\n"
     ]
    }
   ],
   "source": [
    "# Sample data\n",
    "scores = {\n",
    "    'Alice': 150,\n",
    "    'Bob': 120,\n",
    "    'Charlie': 150,\n",
    "    'Diana': 90\n",
    "}\n",
    "\n",
    "def print_leaderboard(scores):\n",
    "    sorted_scores = sorted(scores.items(), key=lambda item: (-item[1], item[0]))\n",
    "    \n",
    "    print(\"\\n🏆 Leaderboard (High Score First):\")\n",
    "    \n",
    "    rank = 1\n",
    "    prev_score = None\n",
    "    ties = 0  # Number of people sharing the previous score\n",
    "\n",
    "    for i, (name, score) in enumerate(sorted_scores):\n",
    "        if score == prev_score:\n",
    "            ties += 1  # Same score → same rank\n",
    "        else:\n",
    "            rank += ties  # Skip ranks based on previous ties\n",
    "            ties = 1      # Start counting ties for this score\n",
    "\n",
    "        print(f\"{rank}. {name} - {score} points\")\n",
    "        prev_score = score\n",
    "\n",
    "print_leaderboard(scores)"
   ]
  },
  {
   "cell_type": "code",
   "execution_count": 175,
   "id": "7884bc70-60c4-4b77-8412-9db2df8b83d6",
   "metadata": {},
   "outputs": [
    {
     "name": "stdout",
     "output_type": "stream",
     "text": [
      "A - 19 - David\n",
      "A - 20 - Alice\n",
      "A - 20 - Frank\n",
      "B - 18 - Charlie\n",
      "B - 18 - Eve\n",
      "C - 19 - Bob\n"
     ]
    }
   ],
   "source": [
    "students = [\n",
    "    {'name': 'Charlie', 'grade': 'B', 'age': 18},\n",
    "    {'name': 'Alice', 'grade': 'A', 'age': 20},\n",
    "    {'name': 'Bob', 'grade': 'C', 'age': 19},\n",
    "    {'name': 'David', 'grade': 'A', 'age': 19},\n",
    "    {'name': 'Eve', 'grade': 'B', 'age': 18},\n",
    "    {'name': 'Frank', 'grade': 'A', 'age': 20},\n",
    "]\n",
    "\n",
    "sorted_students = sorted(students, key=lambda student: (student['grade'], \n",
    "                                                        student['age'], \n",
    "                                                        student['name']))\n",
    "\n",
    "for student in sorted_students:\n",
    "    print(f\"{student['grade']} - {student['age']} - {student['name']}\")"
   ]
  },
  {
   "cell_type": "code",
   "execution_count": 179,
   "id": "a09b502a-6470-458e-8bea-3ee1706077a7",
   "metadata": {},
   "outputs": [
    {
     "name": "stdout",
     "output_type": "stream",
     "text": [
      "HR - 55000 - 5 years - Eve\n",
      "HR - 55000 - 8 years - Bob\n",
      "Marketing - 70000 - 7 years - Frank\n",
      "Sales - 70000 - 5 years - Charlie\n",
      "Sales - 70000 - 5 years - Grace\n",
      "Sales - 60000 - 3 years - David\n",
      "Sales - 60000 - 5 years - Alice\n"
     ]
    }
   ],
   "source": [
    "employees = [\n",
    "    {'name': 'Alice', 'salary': 60000, 'department': 'Sales', 'years_of_service': 5},\n",
    "    {'name': 'Bob', 'salary': 55000, 'department': 'HR', 'years_of_service': 8},\n",
    "    {'name': 'Charlie', 'salary': 70000, 'department': 'Sales', 'years_of_service': 5},\n",
    "    {'name': 'David', 'salary': 60000, 'department': 'Sales', 'years_of_service': 3},\n",
    "    {'name': 'Eve', 'salary': 55000, 'department': 'HR', 'years_of_service': 5},\n",
    "    {'name': 'Frank', 'salary': 70000, 'department': 'Marketing', 'years_of_service': 7},\n",
    "    {'name': 'Grace', 'salary': 70000, 'department': 'Sales', 'years_of_service': 5},\n",
    "]\n",
    "\n",
    "sorted_employees = sorted(\n",
    "    employees,\n",
    "    key=lambda employee: (\n",
    "        employee['department'],\n",
    "        -employee['salary'],\n",
    "        employee['years_of_service'],\n",
    "        employee['name']\n",
    "    )\n",
    ")\n",
    "\n",
    "for emp in sorted_employees:\n",
    "    print(\n",
    "        f\"{emp['department']} - {emp['salary']} - {emp['years_of_service']} years - {emp['name']}\"\n",
    "    )"
   ]
  },
  {
   "cell_type": "code",
   "execution_count": 180,
   "id": "76b3899b-3d8a-40dc-9e8e-681f57c136e9",
   "metadata": {},
   "outputs": [
    {
     "name": "stdout",
     "output_type": "stream",
     "text": [
      "AVAILABLE - Charger - Price: $20 - Rating: 4.7 - Sold: 250\n",
      "AVAILABLE - Laptop - Price: $1200 - Rating: 4.5 - Sold: 150\n",
      "AVAILABLE - Keyboard - Price: $75 - Rating: 4.5 - Sold: 50\n",
      "AVAILABLE - Headphones - Price: $100 - Rating: 4.5 - Sold: 50\n",
      "AVAILABLE - Phone - Price: $800 - Rating: 4.2 - Sold: 200\n",
      "OUT OF STOCK - Camera - Price: $500 - Rating: 4.2 - Sold: 200\n",
      "OUT OF STOCK - Tablet - Price: $300 - Rating: 4.0 - Sold: 100\n"
     ]
    }
   ],
   "source": [
    "products = [\n",
    "    {'name': 'Laptop', 'price': 1200, 'rating': 4.5, 'units_sold': 150, 'available': True},\n",
    "    {'name': 'Phone', 'price': 800, 'rating': 4.2, 'units_sold': 200, 'available': True},\n",
    "    {'name': 'Headphones', 'price': 100, 'rating': 4.5, 'units_sold': 50, 'available': True},\n",
    "    {'name': 'Tablet', 'price': 300, 'rating': 4.0, 'units_sold': 100, 'available': False},\n",
    "    {'name': 'Charger', 'price': 20, 'rating': 4.7, 'units_sold': 250, 'available': True},\n",
    "    {'name': 'Camera', 'price': 500, 'rating': 4.2, 'units_sold': 200, 'available': False},\n",
    "    {'name': 'Keyboard', 'price': 75, 'rating': 4.5, 'units_sold': 50, 'available': True},\n",
    "]\n",
    "\n",
    "sorted_products = sorted(\n",
    "    products,\n",
    "    key=lambda product: (\n",
    "        not product['available'],  # Invert boolean for sorting False first\n",
    "        -product['rating'],\n",
    "        -product['units_sold'],\n",
    "        product['price'],\n",
    "        product['name']\n",
    "    )\n",
    ")\n",
    "\n",
    "for prod in sorted_products:\n",
    "    print(\n",
    "        f\"{'AVAILABLE' if prod['available'] else 'OUT OF STOCK'} - {prod['name']} - Price: ${prod['price']} - Rating: {prod['rating']} - Sold: {prod['units_sold']}\"\n",
    "    )"
   ]
  },
  {
   "cell_type": "code",
   "execution_count": 187,
   "id": "6e53c179-9ff9-4bb7-a5e2-954ffc0dc62a",
   "metadata": {},
   "outputs": [
    {
     "name": "stdout",
     "output_type": "stream",
     "text": [
      "Grunge - Nirvana - Smells Like Teen Spirit - Duration: 300s - Plays: 900\n",
      "Pop - The Beatles - Yesterday - Duration: 120s - Plays: 2200\n",
      "Pop - John Lennon - Imagine - Duration: 180s - Plays: 2000\n",
      "Pop - The Beatles - Hey Jude - Duration: 420s - Plays: 1800\n",
      "Rock - Queen - Bohemian Rhapsody - Duration: 360s - Plays: 1500\n",
      "Rock - Bob Dylan - Like a Rolling Stone - Duration: 360s - Plays: 1200\n",
      "Rock - Led Zeppelin - Stairway to Heaven - Duration: 480s - Plays: 1000\n"
     ]
    }
   ],
   "source": [
    "songs = [\n",
    "    {'title': 'Stairway to Heaven', 'artist': 'Led Zeppelin', 'genre': 'Rock', 'duration': 480, 'play_count': 1000},\n",
    "    {'title': 'Bohemian Rhapsody', 'artist': 'Queen', 'genre': 'Rock', 'duration': 360, 'play_count': 1500},\n",
    "    {'title': 'Imagine', 'artist': 'John Lennon', 'genre': 'Pop', 'duration': 180, 'play_count': 2000},\n",
    "    {'title': 'Like a Rolling Stone', 'artist': 'Bob Dylan', 'genre': 'Rock', 'duration': 360, 'play_count': 1200},\n",
    "    {'title': 'Hey Jude', 'artist': 'The Beatles', 'genre': 'Pop', 'duration': 420, 'play_count': 1800},\n",
    "    {'title': 'Smells Like Teen Spirit', 'artist': 'Nirvana', 'genre': 'Grunge', 'duration': 300, 'play_count': 900},\n",
    "    {'title': 'Yesterday', 'artist': 'The Beatles', 'genre': 'Pop', 'duration': 120, 'play_count': 2200},\n",
    "]\n",
    "\n",
    "sorted_songs = sorted(\n",
    "    songs,\n",
    "    key=lambda song: (\n",
    "        song['genre'],\n",
    "        -song['play_count'],\n",
    "        #song['duration'],\n",
    "        #song['artist'],\n",
    "        #song['title']\n",
    "    )\n",
    ")\n",
    "\n",
    "for s in sorted_songs:\n",
    "    print(\n",
    "        f\"{s['genre']} - {s['artist']} - {s['title']} - Duration: {s['duration']}s - Plays: {s['play_count']}\"\n",
    "    )"
   ]
  },
  {
   "cell_type": "code",
   "execution_count": 188,
   "id": "c6768c53-fff5-4723-bde9-6bdecaa94a26",
   "metadata": {},
   "outputs": [
    {
     "name": "stdout",
     "output_type": "stream",
     "text": [
      "(1, 2)\n",
      "(1, 8)\n",
      "(2, 1)\n",
      "(2, 5)\n",
      "(3, 1)\n"
     ]
    }
   ],
   "source": [
    "# You want to sort these points:\n",
    "#First by their x-coordinate (ascending order).\n",
    "# Then, if the x-coordinates are the same, sort by their y-coordinate (ascending order).\n",
    "\n",
    "points = [(2, 5), (1, 2), (3, 1), (1, 8), (2, 1)]\n",
    "\n",
    "sorted_points = sorted(points, key=lambda point: (point[0],point[1]))\n",
    "\n",
    "for point in sorted_points:\n",
    "    print(point)"
   ]
  },
  {
   "cell_type": "code",
   "execution_count": 189,
   "id": "6bdeb2f3-86a1-4ca5-83d6-69983500510a",
   "metadata": {},
   "outputs": [
    {
     "name": "stdout",
     "output_type": "stream",
     "text": [
      "Sorted Dates:\n",
      "2022-12-20\n",
      "2023-09-15\n",
      "2023-10-25\n",
      "2023-10-26\n",
      "2024-01-05\n"
     ]
    }
   ],
   "source": [
    "dates = [\"2023-10-26\", \"2023-09-15\", \"2024-01-05\", \"2023-10-25\", \"2022-12-20\"]\n",
    "\n",
    "sorted_dates = sorted(dates)  # Simple sorting works for YYYY-MM-DD format!\n",
    "\n",
    "print(\"Sorted Dates:\")\n",
    "for date in sorted_dates:\n",
    "    print(date)"
   ]
  },
  {
   "cell_type": "code",
   "execution_count": 194,
   "id": "c19d1e96-d8ae-42c6-b957-c52aca0bd363",
   "metadata": {},
   "outputs": [
    {
     "name": "stdout",
     "output_type": "stream",
     "text": [
      "Sorted Dates:\n",
      "12/20/2022\n",
      "09/15/2023\n",
      "10/25/2023\n",
      "10/26/2023\n",
      "01/05/2024\n"
     ]
    }
   ],
   "source": [
    "from datetime import datetime\n",
    "\n",
    "dates = [\"10/26/2023\", \"09/15/2023\", \"01/05/2024\", \"10/25/2023\", \"12/20/2022\"]\n",
    "\n",
    "sorted_dates = sorted(dates, key=lambda date_str: datetime.strptime(date_str, \"%m/%d/%Y\"))\n",
    "\n",
    "print(\"Sorted Dates:\")\n",
    "for date in sorted_dates:\n",
    "    print(date)"
   ]
  },
  {
   "cell_type": "code",
   "execution_count": 103,
   "id": "93b7cd27-3c71-4a1b-901f-4f08a6581c4c",
   "metadata": {},
   "outputs": [
    {
     "name": "stdout",
     "output_type": "stream",
     "text": [
      "[('Anna', 95), ('Mike', 76), ('Zoe', 88)]\n"
     ]
    }
   ],
   "source": [
    "class SortedDict(dict):\n",
    "    def items(self):\n",
    "        return [(k, self[k]) for k in sorted(super().keys())]\n",
    "\n",
    "grades = SortedDict()\n",
    "grades['Zoe'] = 88\n",
    "grades['Anna'] = 95\n",
    "grades['Mike'] = 76\n",
    "\n",
    "print(list(grades.items()))"
   ]
  },
  {
   "cell_type": "code",
   "execution_count": 108,
   "id": "b308c4bd-ab38-473b-8f51-2b37caebe049",
   "metadata": {},
   "outputs": [
    {
     "name": "stdout",
     "output_type": "stream",
     "text": [
      "[('Nairobi', 'Kenya'), ('Paris', 'France'), ('Tokyo', 'Japan')]\n"
     ]
    }
   ],
   "source": [
    "class SortedDict(dict):\n",
    "    def items(self):\n",
    "        return [(k, self[k]) for k in sorted(super().keys())]\n",
    "\n",
    "cities = SortedDict()\n",
    "cities['Tokyo'] = 'Japan'\n",
    "cities['Paris'] = 'France'\n",
    "cities['Nairobi'] = 'Kenya'\n",
    "\n",
    "print(list(cities.items()))"
   ]
  },
  {
   "cell_type": "code",
   "execution_count": 113,
   "id": "c8fd5576-6584-4a45-a8bb-d99bce1de72a",
   "metadata": {},
   "outputs": [
    {
     "name": "stdout",
     "output_type": "stream",
     "text": [
      "[('adapter', 15), ('keyboard', 25), ('monitor', 20)]\n"
     ]
    }
   ],
   "source": [
    "class SortedDict(dict):\n",
    "    def items(self):\n",
    "        return [(k, self[k]) for k in sorted(super().keys())]\n",
    "\n",
    "prices = SortedDict()\n",
    "prices['keyboard'] = 25\n",
    "prices['monitor'] = 20\n",
    "prices['adapter'] = 15\n",
    "\n",
    "print(list(prices.items()))\n",
    "    "
   ]
  },
  {
   "cell_type": "code",
   "execution_count": 115,
   "id": "0c7a2aca-df4a-40bb-9292-a8762e5ee5a4",
   "metadata": {},
   "outputs": [
    {
     "name": "stdout",
     "output_type": "stream",
     "text": [
      "[('Alpha Tales', 90), ('Mystery Island', 150), ('Zoo Adventures', 120)]\n"
     ]
    }
   ],
   "source": [
    "class SortedDict(dict):\n",
    "    def items(self):\n",
    "        return [(k, self[k]) for k in sorted(super().keys())]\n",
    "\n",
    "books = SortedDict()\n",
    "books['Zoo Adventures'] = 120\n",
    "books['Alpha Tales'] = 90\n",
    "books['Mystery Island'] = 150\n",
    "\n",
    "print(list(books.items()))"
   ]
  },
  {
   "cell_type": "code",
   "execution_count": 117,
   "id": "d06610fc-ee09-4e1f-828b-5671a9da745d",
   "metadata": {},
   "outputs": [
    {
     "name": "stdout",
     "output_type": "stream",
     "text": [
      "[('Alice', 25), ('Bob', 28), ('Charlie', 30)]\n"
     ]
    }
   ],
   "source": [
    "class SortedDict(dict):\n",
    "    def items(self):\n",
    "        return [(k, self[k]) for k in sorted(super().keys())]\n",
    "\n",
    "people = SortedDict()\n",
    "people['Charlie'] = 30\n",
    "people['Alice'] = 25\n",
    "people['Bob'] = 28\n",
    "\n",
    "print(list(people.items()))"
   ]
  },
  {
   "cell_type": "code",
   "execution_count": 118,
   "id": "47ffeb08-19db-4cac-89b4-79b98a16e0a5",
   "metadata": {},
   "outputs": [
    {
     "name": "stdout",
     "output_type": "stream",
     "text": [
      "[('ant', 3), ('monkey', 2), ('zebra', 1)]\n"
     ]
    }
   ],
   "source": [
    "sd = SortedDict()\n",
    "sd['zebra'] = 1\n",
    "sd['monkey'] = 2\n",
    "sd['ant'] = 3\n",
    "\n",
    "print(list(sd.items()))\n"
   ]
  },
  {
   "cell_type": "code",
   "execution_count": 119,
   "id": "0e260989-aef4-491b-863e-adb10d63aa81",
   "metadata": {},
   "outputs": [
    {
     "name": "stdout",
     "output_type": "stream",
     "text": [
      "[('1', 'one'), ('10', 'ten'), ('2', 'two')]\n"
     ]
    }
   ],
   "source": [
    "sd = SortedDict()\n",
    "sd['10'] = 'ten'\n",
    "sd['2'] = 'two'\n",
    "sd['1'] = 'one'\n",
    "\n",
    "print(list(sd.items()))\n"
   ]
  },
  {
   "cell_type": "code",
   "execution_count": 120,
   "id": "a1160f12-c4ad-41c4-894f-090d590d1479",
   "metadata": {},
   "outputs": [
    {
     "name": "stdout",
     "output_type": "stream",
     "text": [
      "20\n",
      "[30, 10, 20]\n",
      "[('a', 10), ('b', 20), ('c', 30)]\n"
     ]
    }
   ],
   "source": [
    "sd = SortedDict()\n",
    "sd['c'] = 30\n",
    "sd['a'] = 10\n",
    "sd['b'] = 20\n",
    "\n",
    "print(sd.get('b'))             # Regular dict method\n",
    "print(list(sd.values()))       # Inherited from dict\n",
    "print(list(sd.items()))        # Overridden and sorted\n"
   ]
  },
  {
   "cell_type": "code",
   "execution_count": 201,
   "id": "0146f297-0c8c-402f-9837-7ef6719abc29",
   "metadata": {},
   "outputs": [
    {
     "name": "stdout",
     "output_type": "stream",
     "text": [
      "True\n",
      "True\n",
      "False\n",
      "True\n"
     ]
    }
   ],
   "source": [
    "spam = {'name': 'Zophie', 'age': 7}\n",
    "print('name' in spam.keys())\n",
    "print('Zophie' in spam.values())\n",
    "print('color' in spam.keys())\n",
    "print('name' in spam)"
   ]
  },
  {
   "cell_type": "code",
   "execution_count": 204,
   "id": "b00f89e8-3a1d-44eb-b040-94daaa444659",
   "metadata": {},
   "outputs": [
    {
     "name": "stdout",
     "output_type": "stream",
     "text": [
      "I am bringing 2 cups.\n",
      "I am bringing 0 eggs.\n"
     ]
    }
   ],
   "source": [
    "picnicItems = {'apples': 5, 'cups': 2}\n",
    "print('I am bringing ' + str(picnicItems.get('cups', 0)) + ' cups.')\n",
    "print('I am bringing ' + str(picnicItems.get('eggs', 0)) + ' eggs.')"
   ]
  },
  {
   "cell_type": "code",
   "execution_count": 205,
   "id": "5fd1c5eb-61aa-4930-88cc-396a4e8c3618",
   "metadata": {},
   "outputs": [
    {
     "name": "stdout",
     "output_type": "stream",
     "text": [
      "Unknown\n"
     ]
    }
   ],
   "source": [
    "person = {\"name\": \"Alice\", \"city\": \"London\"}\n",
    "# Your code here\n",
    "print(person.get(\"age\", \"Unknown\"))  # Output: Unknown"
   ]
  },
  {
   "cell_type": "code",
   "execution_count": 206,
   "id": "0fbf382d-341a-4666-8498-dfde5df2f312",
   "metadata": {},
   "outputs": [
    {
     "name": "stdout",
     "output_type": "stream",
     "text": [
      "0\n"
     ]
    }
   ],
   "source": [
    "countries = {\"USA\": {\"capital\": \"DC\", \"population\": 331}, \"France\": {\"capital\": \"Paris\"}}\n",
    "# Your code here\n",
    "print(countries.get(\"France\", {}).get(\"population\", 0))  # Output: 0"
   ]
  },
  {
   "cell_type": "code",
   "execution_count": 210,
   "id": "895de4cf-e409-4716-b09e-67e434264969",
   "metadata": {},
   "outputs": [
    {
     "name": "stdout",
     "output_type": "stream",
     "text": [
      "123-4567\n"
     ]
    }
   ],
   "source": [
    "user = {\"name\": \"Bob\", \"phone\": \"123-4567\"}\n",
    "# Your code here\n",
    "print(user.get(\"email\", user.get(\"phone\", \"N/A\")))  # Output: 123-4567"
   ]
  },
  {
   "cell_type": "code",
   "execution_count": 211,
   "id": "476f9a5b-9dab-4a36-a3dc-f9e60ec1ca09",
   "metadata": {},
   "outputs": [
    {
     "name": "stdout",
     "output_type": "stream",
     "text": [
      "None\n"
     ]
    }
   ],
   "source": [
    "data = {\"temperature\": 25, \"humidity\": 60}\n",
    "key = \"pressure\"\n",
    "# Your code here\n",
    "print(data.get(key))  # Output: None"
   ]
  },
  {
   "cell_type": "code",
   "execution_count": 214,
   "id": "64ddc88b-7ce1-4dd2-be8d-59ef1761b25b",
   "metadata": {},
   "outputs": [
    {
     "name": "stdout",
     "output_type": "stream",
     "text": [
      "80\n"
     ]
    }
   ],
   "source": [
    "inventory = {\"apples\": 50, \"bananas\": 30}\n",
    "query_keys = [\"apples\", \"oranges\", \"bananas\"]\n",
    "# Your code here\n",
    "total = sum(inventory.get(key, 0) for key in query_keys)\n",
    "print(total)  # Output: 80 (50 + 0 + 30)"
   ]
  },
  {
   "cell_type": "code",
   "execution_count": 215,
   "id": "a657f3d5-db40-45ef-9920-279f7a5f6c00",
   "metadata": {},
   "outputs": [
    {
     "name": "stdout",
     "output_type": "stream",
     "text": [
      "[]\n"
     ]
    }
   ],
   "source": [
    "student = {\"name\": \"Charlie\", \"grades\": [85, 90]}  \n",
    "# Your code here  \n",
    "print(student.get(\"scores\", []))  # Output: []  "
   ]
  },
  {
   "cell_type": "code",
   "execution_count": 216,
   "id": "27dfcb16-ccd2-4fb7-bac6-53773558bc01",
   "metadata": {},
   "outputs": [
    {
     "name": "stdout",
     "output_type": "stream",
     "text": [
      "No manager assigned\n"
     ]
    }
   ],
   "source": [
    "company = {\"name\": \"Tech Corp\", \"department\": {\"hr\": {\"employees\": 10}}}  \n",
    "# Your code here  \n",
    "manager = company.get(\"department\", {}).get(\"manager\", \"No manager assigned\")  \n",
    "print(manager)  # Output: No manager assigned  "
   ]
  },
  {
   "cell_type": "code",
   "execution_count": 217,
   "id": "0a56fd4a-8ef5-4dad-a6f8-5cf4cda3a989",
   "metadata": {},
   "outputs": [
    {
     "name": "stdout",
     "output_type": "stream",
     "text": [
      "apple\n"
     ]
    }
   ],
   "source": [
    "market = {\"vegetables\": [\"carrot\", \"broccoli\"], \"fruits\": [\"apple\", \"banana\"]}  \n",
    "# Your code here  \n",
    "first_fruit = market.get(\"fruits\", [\"N/A\"])[0]  \n",
    "print(first_fruit)  # Output: apple  "
   ]
  },
  {
   "cell_type": "code",
   "execution_count": 218,
   "id": "ad4c4635-f042-4efd-abd0-3d6bee6e9bf9",
   "metadata": {},
   "outputs": [
    {
     "name": "stdout",
     "output_type": "stream",
     "text": [
      "20\n"
     ]
    }
   ],
   "source": [
    "item1 = {\"name\": \"book\", \"price\": 20}  \n",
    "item2 = {\"name\": \"pen\"}  \n",
    "# Your code here  \n",
    "total_price = item1.get(\"price\", 0) + item2.get(\"price\", 0)  \n",
    "print(total_price)  # Output: 20  "
   ]
  },
  {
   "cell_type": "code",
   "execution_count": 223,
   "id": "73c4474e-6040-4e16-9ce1-2bac9a4f74f2",
   "metadata": {},
   "outputs": [
    {
     "name": "stdout",
     "output_type": "stream",
     "text": [
      "100.0\n"
     ]
    }
   ],
   "source": [
    "product = {\"name\": \"laptop\", \"price\": 1000}  \n",
    "# Your code here  \n",
    "discount = product.get(\"discount\", lambda: 0.1 * product[\"price\"])()  \n",
    "print(discount)  # Output: 100.0  "
   ]
  },
  {
   "cell_type": "code",
   "execution_count": 228,
   "id": "64bfb4b3-b430-4146-bd39-d78e285f059e",
   "metadata": {},
   "outputs": [
    {
     "data": {
      "text/plain": [
       "{'name': 'Pooka', 'age': 5, 'color': 'black'}"
      ]
     },
     "execution_count": 228,
     "metadata": {},
     "output_type": "execute_result"
    }
   ],
   "source": [
    "spam = {'name': 'Pooka', 'age': 5}\n",
    "spam.setdefault('color', 'black')\n",
    "spam"
   ]
  },
  {
   "cell_type": "code",
   "execution_count": 229,
   "id": "a8d0619d-2e78-4817-b1f6-6a17854b733d",
   "metadata": {},
   "outputs": [
    {
     "data": {
      "text/plain": [
       "{'name': 'Pooka', 'age': 5, 'color': 'black'}"
      ]
     },
     "execution_count": 229,
     "metadata": {},
     "output_type": "execute_result"
    }
   ],
   "source": [
    "spam.setdefault('color', 'white')\n",
    "spam"
   ]
  },
  {
   "cell_type": "code",
   "execution_count": 232,
   "id": "2c5ac133-73bb-4af7-93df-f3f010014f73",
   "metadata": {},
   "outputs": [
    {
     "name": "stdout",
     "output_type": "stream",
     "text": [
      "{'I': 1, 't': 6, ' ': 13, 'w': 2, 'a': 4, 's': 3, 'b': 1, 'r': 5, 'i': 6, 'g': 2, 'h': 3, 'c': 3, 'o': 2, 'l': 3, 'd': 3, 'y': 1, 'n': 4, 'A': 1, 'p': 1, ',': 1, 'e': 5, 'k': 2, '.': 1}\n"
     ]
    }
   ],
   "source": [
    "message = 'It was a bright cold day in April, and the clocks were striking thirteen.'\n",
    "count = {}\n",
    "\n",
    "for character in message:\n",
    "    count.setdefault(character, 0)\n",
    "    count[character] = count[character] + 1\n",
    "\n",
    "print(count)    "
   ]
  },
  {
   "cell_type": "code",
   "execution_count": 233,
   "id": "5c0f00f8-84c5-4e49-8f78-64547ec38cd5",
   "metadata": {},
   "outputs": [
    {
     "name": "stdout",
     "output_type": "stream",
     "text": [
      "{'h': 1, 'e': 1, 'l': 3, 'o': 2, ' ': 1, 'w': 1, 'r': 1, 'd': 1}\n"
     ]
    }
   ],
   "source": [
    "message = \"Hello World\"\n",
    "count = {}\n",
    "\n",
    "for char in message.lower():  # Convert to lowercase\n",
    "    count.setdefault(char, 0)\n",
    "    count[char] += 1\n",
    "\n",
    "print(count)\n"
   ]
  },
  {
   "cell_type": "code",
   "execution_count": 234,
   "id": "e1edbc69-0431-4aad-bf87-572153321635",
   "metadata": {},
   "outputs": [
    {
     "name": "stdout",
     "output_type": "stream",
     "text": [
      "{'h': 1, 'e': 1, 'l': 3, 'o': 2, 'w': 1, 'r': 1, 'd': 1}\n"
     ]
    }
   ],
   "source": [
    "message = \"Hello, World!\"\n",
    "count = {}\n",
    "\n",
    "for char in message.lower():\n",
    "    if char.isalpha():\n",
    "        count.setdefault(char,0)\n",
    "        count[char] += 1\n",
    "\n",
    "print(count)"
   ]
  },
  {
   "cell_type": "code",
   "execution_count": 235,
   "id": "6f1bd81e-3812-4eb7-b8fe-ad0a6f036d75",
   "metadata": {},
   "outputs": [
    {
     "name": "stdout",
     "output_type": "stream",
     "text": [
      "{'a': 5, 'b': 2, 'r': 2, 'c': 1, 'd': 1}\n"
     ]
    }
   ],
   "source": [
    "from collections import defaultdict\n",
    "\n",
    "message = \"abracadabra\"\n",
    "count = defaultdict(int)  # Default value 0 for new keys\n",
    "\n",
    "for char in message:\n",
    "    count[char] += 1\n",
    "\n",
    "print(dict(count))\n",
    "# Output: {'a': 5, 'b': 2, 'r': 2, 'c': 1, 'd': 1}"
   ]
  },
  {
   "cell_type": "code",
   "execution_count": 236,
   "id": "cb4a720a-88c8-4fd1-b68c-12cf306a423a",
   "metadata": {},
   "outputs": [
    {
     "name": "stdout",
     "output_type": "stream",
     "text": [
      "{'apple': 3, 'banana': 2, 'orange': 1}\n"
     ]
    }
   ],
   "source": [
    "sentence = \"apple banana apple orange banana apple\"\n",
    "word_count = {}\n",
    "\n",
    "for word in sentence.split():  # Split by spaces\n",
    "    word_count.setdefault(word, 0)\n",
    "    word_count[word] += 1\n",
    "\n",
    "print(word_count)\n",
    "# Output: {'apple': 3, 'banana': 2, 'orange': 1}"
   ]
  },
  {
   "cell_type": "code",
   "execution_count": 237,
   "id": "9f4c14f9-3abd-41b2-83ab-9267a8cead79",
   "metadata": {},
   "outputs": [
    {
     "name": "stdout",
     "output_type": "stream",
     "text": [
      "Counter({'i': 4, 's': 4, 'p': 2, 'm': 1})\n"
     ]
    }
   ],
   "source": [
    "from collections import Counter\n",
    "\n",
    "message = \"mississippi\"\n",
    "count = Counter(message)  # Automatically counts all characters\n",
    "\n",
    "print(count)\n",
    "# Output: Counter({'m': 1, 'i': 4, 's': 4, 'p': 2})"
   ]
  },
  {
   "cell_type": "code",
   "execution_count": 238,
   "id": "ed507b1d-9f1e-4e3e-a8ef-ad011e7acf6f",
   "metadata": {},
   "outputs": [
    {
     "name": "stdout",
     "output_type": "stream",
     "text": [
      "{'1': 2, '0': 3, '3': 1, '7': 1}\n"
     ]
    }
   ],
   "source": [
    "text = \"Room 101 is at floor 3, code 007\"\n",
    "digit_count = {}\n",
    "\n",
    "for char in text:\n",
    "    if char.isdigit():\n",
    "        digit_count.setdefault(char,0)\n",
    "        digit_count[char] += 1\n",
    "\n",
    "print(digit_count)"
   ]
  },
  {
   "cell_type": "code",
   "execution_count": 239,
   "id": "e017697f-73a1-443e-9678-4f7855723b6e",
   "metadata": {},
   "outputs": [
    {
     "name": "stdout",
     "output_type": "stream",
     "text": [
      "{'e': 3, 'o': 4, 'i': 1, 'a': 1}\n"
     ]
    }
   ],
   "source": [
    "sentence = \"Hello WORLD, Python is AWESOME!\"\n",
    "vowels = {'a', 'e', 'i', 'o', 'u'}\n",
    "vowel_count = {}\n",
    "\n",
    "for char in sentence.lower():\n",
    "    if char in vowels:\n",
    "        vowel_count.setdefault(char,0)\n",
    "        vowel_count[char] += 1\n",
    "\n",
    "print(vowel_count)"
   ]
  },
  {
   "cell_type": "code",
   "execution_count": 240,
   "id": "f6847021-c695-4d40-9a8e-37384d71987b",
   "metadata": {},
   "outputs": [
    {
     "name": "stdout",
     "output_type": "stream",
     "text": [
      "{'apple': 2, 'banana': 2, 'cherry': 1}\n"
     ]
    }
   ],
   "source": [
    "lines = [\"apple\", \"banana\", \"apple\", \"cherry\", \"banana\"]\n",
    "line_count = {}\n",
    "\n",
    "for line in lines:\n",
    "    line_count.setdefault(line, 0)\n",
    "    line_count[line] += 1\n",
    "\n",
    "print(line_count)\n",
    "    "
   ]
  },
  {
   "cell_type": "code",
   "execution_count": 241,
   "id": "a8e57b6e-826d-4641-960e-8ba1f3198511",
   "metadata": {},
   "outputs": [
    {
     "name": "stdout",
     "output_type": "stream",
     "text": [
      "{'quick': 1, 'brown': 1, 'jumps': 1, 'over': 1, 'lazy': 1}\n"
     ]
    }
   ],
   "source": [
    "sentence = \"The quick brown fox jumps over the lazy dog\"\n",
    "word_count = {}\n",
    "\n",
    "for word in sentence.split():\n",
    "    if len(word) > 3:\n",
    "        word_count.setdefault(word, 0)\n",
    "        word_count[word] += 1\n",
    "\n",
    "print(word_count)"
   ]
  },
  {
   "cell_type": "code",
   "execution_count": 246,
   "id": "ef66eac3-d243-4342-84a8-887eb2101653",
   "metadata": {},
   "outputs": [
    {
     "name": "stdout",
     "output_type": "stream",
     "text": [
      "{'😊': 2, '🚀': 2}\n"
     ]
    }
   ],
   "source": [
    "import emoji\n",
    "\n",
    "text = \"Python is fun! 😊🚀 Let's code! 🚀😊\"\n",
    "emoji_count = {}\n",
    "\n",
    "for char in text:\n",
    "    if char in emoji.EMOJI_DATA:\n",
    "        emoji_count.setdefault(char, 0)  # Fixed: Use setdefault (not set_default)\n",
    "        emoji_count[char] += 1           # Fixed: Increment 'char' (not 'emoji')\n",
    "\n",
    "print(emoji_count)"
   ]
  },
  {
   "cell_type": "code",
   "execution_count": 247,
   "id": "ffcf3842-c6a9-4841-ac0d-ab0fbea05783",
   "metadata": {},
   "outputs": [
    {
     "name": "stdout",
     "output_type": "stream",
     "text": [
      "{'the': {1, 2, 3}, 'quick': {1}, 'brown': {1}, 'fox': {1, 3}, 'lazy': {2}, 'dog': {2}, 'jumps': {2, 3}, 'over': {3}}\n"
     ]
    }
   ],
   "source": [
    "documents = {\n",
    "    1: \"the quick brown fox\",\n",
    "    2: \"the lazy dog jumps\",\n",
    "    3: \"the fox jumps over\"\n",
    "}\n",
    "inverted_index = {}\n",
    "\n",
    "for doc_id, text in documents.items():\n",
    "    for word in text.split():\n",
    "        inverted_index.setdefault(word, set()).add(doc_id)\n",
    "\n",
    "print(inverted_index)\n",
    "    "
   ]
  },
  {
   "cell_type": "code",
   "execution_count": 248,
   "id": "6007fb35-5af5-4802-8ac4-15ffeb69f24d",
   "metadata": {},
   "outputs": [
    {
     "name": "stdout",
     "output_type": "stream",
     "text": [
      "{'food': 70, 'transport': 30, 'entertainment': 40}\n"
     ]
    }
   ],
   "source": [
    "expenses = [('food', 50), ('transport', 30), ('food', 20), ('entertainment', 40)]\n",
    "category_totals = {}\n",
    "\n",
    "for category, amount in expenses:\n",
    "    category_totals.setdefault(category, 0)\n",
    "    category_totals[category] += amount\n",
    "\n",
    "print(category_totals)"
   ]
  },
  {
   "cell_type": "code",
   "execution_count": 249,
   "id": "1c18da0e-67cb-4a53-aa6e-d303bc782a41",
   "metadata": {},
   "outputs": [
    {
     "name": "stdout",
     "output_type": "stream",
     "text": [
      "{'A': ['B', 'C'], 'B': ['C'], 'C': ['D']}\n"
     ]
    }
   ],
   "source": [
    "edges = [('A', 'B'), ('B', 'C'), ('A', 'C'), ('C', 'D')]\n",
    "graph = {}\n",
    "\n",
    "for src, dest in edges:\n",
    "    graph.setdefault(src, []).append(dest)  # Initialize neighbor list\n",
    "\n",
    "print(graph)"
   ]
  },
  {
   "cell_type": "code",
   "execution_count": 250,
   "id": "3f567e5f-23f4-49f8-aa80-9b4854161ab0",
   "metadata": {},
   "outputs": [
    {
     "name": "stdout",
     "output_type": "stream",
     "text": [
      "{'he': 1, 'el': 1, 'll': 1, 'lo': 1}\n"
     ]
    }
   ],
   "source": [
    "text = \"hello\"\n",
    "bigram_counts = {}\n",
    "\n",
    "for i in range(len(text) - 1):\n",
    "    bigram = text[i] + text[i+1]\n",
    "    bigram_counts.setdefault(bigram, 0)  # Initialize bigram counter\n",
    "    bigram_counts[bigram] += 1\n",
    "\n",
    "print(bigram_counts)"
   ]
  },
  {
   "cell_type": "code",
   "execution_count": 253,
   "id": "c85fdcab-72f8-49f1-8c24-b2632fcddf54",
   "metadata": {},
   "outputs": [
    {
     "name": "stdout",
     "output_type": "stream",
     "text": [
      "{'North': {'clothing': 200, 'electronics': 500}, 'South': {'electronics': 400, 'clothing': 300}}\n"
     ]
    }
   ],
   "source": [
    "sales = {\n",
    "    ('North', 'electronics', 500),\n",
    "    ('South', 'clothing', 300),\n",
    "    ('North', 'clothing', 200),\n",
    "    ('South', 'electronics', 400)\n",
    "}\n",
    "\n",
    "sales_report = {}\n",
    "\n",
    "for region, category, amount in sales:\n",
    "    sales_report.setdefault(region, {}).setdefault(category, 0)\n",
    "    sales_report[region][category] += amount\n",
    "\n",
    "print(sales_report)"
   ]
  },
  {
   "cell_type": "code",
   "execution_count": 254,
   "id": "695c1d15-5076-4c15-95df-fa1d5d9bca64",
   "metadata": {},
   "outputs": [
    {
     "name": "stdout",
     "output_type": "stream",
     "text": [
      "{'Alice': ['Python', 'SQL'], 'Bob': ['Java', 'JavaScript'], 'Charlie': ['Python']}\n"
     ]
    }
   ],
   "source": [
    "employees = [\n",
    "    (\"Alice\", \"Python\"),\n",
    "    (\"Bob\", \"Java\"),\n",
    "    (\"Alice\", \"SQL\"),\n",
    "    (\"Charlie\", \"Python\"),\n",
    "    (\"Bob\", \"JavaScript\")\n",
    "]\n",
    "\n",
    "skill_map = {}\n",
    "\n",
    "for employee, skill in employees:\n",
    "    skill_map.setdefault(employee, []).append(skill)\n",
    "\n",
    "print(skill_map)"
   ]
  },
  {
   "cell_type": "code",
   "execution_count": 259,
   "id": "42def448-c950-4881-b9de-0348440764a7",
   "metadata": {},
   "outputs": [
    {
     "name": "stdout",
     "output_type": "stream",
     "text": [
      "{'quick': 1, 'fox': 2, 'brown': 2, 'the': 3, 'dog': 2, 'lazy': 1, 'over': 1, 'jumps': 1}\n"
     ]
    }
   ],
   "source": [
    "docs = [\n",
    "    \"the quick brown fox\",\n",
    "    \"the lazy brown dog\",\n",
    "    \"the fox jumps over the dog\"\n",
    "]\n",
    "\n",
    "doc_word_counts = {}\n",
    "\n",
    "for doc_id, text in enumerate(docs,1):\n",
    "    words = set(text.split())\n",
    "    for word in words:\n",
    "        doc_word_counts.setdefault(word, 0)\n",
    "        doc_word_counts[word] += 1\n",
    "        \n",
    "print(doc_word_counts)"
   ]
  },
  {
   "cell_type": "code",
   "execution_count": 260,
   "id": "9a249c20-31dc-4871-9072-33013069ae6a",
   "metadata": {},
   "outputs": [
    {
     "name": "stdout",
     "output_type": "stream",
     "text": [
      "{'Alice': 3, 'Bob': 2, 'Charlie': 1}\n"
     ]
    }
   ],
   "source": [
    "votes = [\"Alice\", \"Bob\", \"Alice\", \"Charlie\", \"Bob\", \"Alice\"]\n",
    "vote_count = {}\n",
    "\n",
    "for cand in votes:\n",
    "    vote_count.setdefault(cand, 0)\n",
    "    vote_count[cand] += 1\n",
    "\n",
    "print(vote_count)"
   ]
  },
  {
   "cell_type": "code",
   "execution_count": 261,
   "id": "4ced16fc-a123-403f-b41e-4995c3a102f5",
   "metadata": {},
   "outputs": [
    {
     "name": "stdout",
     "output_type": "stream",
     "text": [
      "{'Math': ['A', 'C'], 'Science': ['B', 'A']}\n"
     ]
    }
   ],
   "source": [
    "grades = [(\"Math\", \"A\"), (\"Science\", \"B\"), (\"Math\", \"C\"), (\"Science\", \"A\")]\n",
    "subject_grades = {}\n",
    "\n",
    "for subject, grade in grades:\n",
    "    subject_grades.setdefault(subject, []).append(grade)\n",
    "\n",
    "print(subject_grades)"
   ]
  },
  {
   "cell_type": "code",
   "execution_count": 262,
   "id": "7e1e35a4-7685-4238-9046-91d2eda7f141",
   "metadata": {},
   "outputs": [
    {
     "name": "stdout",
     "output_type": "stream",
     "text": [
      "{'pdf': 2, 'xlsx': 1, 'txt': 1}\n"
     ]
    }
   ],
   "source": [
    "files = [\"report.pdf\", \"data.xlsx\", \"notes.txt\", \"slides.pdf\"]\n",
    "ext_counts = {}\n",
    "\n",
    "for file in files:\n",
    "    ext = file.split(\".\")[-1]\n",
    "    ext_counts.setdefault(ext, 0)\n",
    "    ext_counts[ext] += 1\n",
    "\n",
    "print(ext_counts)"
   ]
  },
  {
   "cell_type": "code",
   "execution_count": 263,
   "id": "7ffc4ef6-0a75-4229-972e-5bc86f132ba4",
   "metadata": {},
   "outputs": [
    {
     "name": "stdout",
     "output_type": "stream",
     "text": [
      "{'Alice': {'theme': 'dark', 'font': 'medium'}, 'Bob': {'font': 'large'}}\n"
     ]
    }
   ],
   "source": [
    "prefs = [(\"Alice\", \"theme\", \"dark\"), (\"Bob\", \"font\", \"large\"), (\"Alice\", \"font\", \"medium\")]\n",
    "user_prefs = {}\n",
    "\n",
    "for user, key, value in prefs:\n",
    "    user_prefs.setdefault(user, {}).setdefault(key, value)\n",
    "\n",
    "print(user_prefs)"
   ]
  },
  {
   "cell_type": "code",
   "execution_count": 264,
   "id": "0a64d2b3-8bcb-4807-bcb0-21fbb184ee24",
   "metadata": {},
   "outputs": [
    {
     "name": "stdout",
     "output_type": "stream",
     "text": [
      "{'the': [0, 3], 'cat': [1], 'chased': [2], 'dog': [4]}\n"
     ]
    }
   ],
   "source": [
    "sentence = \"the cat chased the dog\"\n",
    "word_positions = {}\n",
    "\n",
    "for position, word in enumerate(sentence.split()):\n",
    "    word_positions.setdefault(word, []).append(position)  # Record positions\n",
    "\n",
    "print(word_positions)"
   ]
  },
  {
   "cell_type": "code",
   "execution_count": 266,
   "id": "b7f5db4f-ac18-4df8-9b3d-7a487ed725da",
   "metadata": {},
   "outputs": [
    {
     "name": "stdout",
     "output_type": "stream",
     "text": [
      "{'h': 1, 'e': 1, 'l': 3, 'o': 2, ' ': 1, 'w': 1, 'r': 1, 'd': 1}\n"
     ]
    }
   ],
   "source": [
    "text = \"hello world\"\n",
    "char_counts = {}\n",
    "\n",
    "for char in text:\n",
    "    char_counts[char] = char_counts.get(char, 0) + 1\n",
    "\n",
    "print(char_counts)"
   ]
  },
  {
   "cell_type": "code",
   "execution_count": 268,
   "id": "18493856-1425-48a2-96d8-5005b7c2d2e6",
   "metadata": {},
   "outputs": [
    {
     "name": "stdout",
     "output_type": "stream",
     "text": [
      "{'even': [2, 4, 6, 8, 10], 'odd': [1, 3, 5, 7, 9]}\n"
     ]
    }
   ],
   "source": [
    "numbers = [1, 2, 3, 4, 5, 6, 7, 8, 9, 10]\n",
    "grouped_numbers = {'even': [], 'odd': []}\n",
    "\n",
    "for num in numbers:\n",
    "    if num % 2 == 0:\n",
    "        grouped_numbers['even'].append(num)\n",
    "    else:\n",
    "        grouped_numbers['odd'].append(num)\n",
    "\n",
    "print(grouped_numbers)"
   ]
  },
  {
   "cell_type": "code",
   "execution_count": 270,
   "id": "f037ec4f-45b9-445a-b2b0-d70e6ea97444",
   "metadata": {},
   "outputs": [
    {
     "name": "stdout",
     "output_type": "stream",
     "text": [
      "{' ': 13,\n",
      " ',': 1,\n",
      " '.': 1,\n",
      " 'A': 1,\n",
      " 'I': 1,\n",
      " 'a': 4,\n",
      " 'b': 1,\n",
      " 'c': 3,\n",
      " 'd': 3,\n",
      " 'e': 5,\n",
      " 'g': 2,\n",
      " 'h': 3,\n",
      " 'i': 6,\n",
      " 'k': 2,\n",
      " 'l': 3,\n",
      " 'n': 4,\n",
      " 'o': 2,\n",
      " 'p': 1,\n",
      " 'r': 5,\n",
      " 's': 3,\n",
      " 't': 6,\n",
      " 'w': 2,\n",
      " 'y': 1}\n"
     ]
    }
   ],
   "source": [
    "import pprint\n",
    "message = 'It was a bright cold day in April, and the clocks were striking thirteen.'\n",
    "count = {}\n",
    "\n",
    "for character in message:\n",
    "    count.setdefault(character, 0)\n",
    "    count[character] = count[character] + 1\n",
    "\n",
    "pprint.pprint(count)"
   ]
  },
  {
   "cell_type": "code",
   "execution_count": 273,
   "id": "9eea4671-51a4-40ab-a5c7-48903db042bf",
   "metadata": {},
   "outputs": [
    {
     "name": "stdout",
     "output_type": "stream",
     "text": [
      "{'consonants': 13, 'others': 5, 'vowels': 8}\n"
     ]
    }
   ],
   "source": [
    "# Example 1: Counting Vowels and Consonants\n",
    "\n",
    "text = \"This is a simple sentence.\"\n",
    "\n",
    "vowels = \"aeiouAEIOU\"\n",
    "vowel_consonant_count = {'vowels': 0, 'consonants': 0, 'others':0}\n",
    "\n",
    "for char in text:\n",
    "    if char in vowels:\n",
    "        vowel_consonant_count['vowels'] += 1\n",
    "    elif char.isalpha():\n",
    "        vowel_consonant_count['consonants'] += 1\n",
    "    else:\n",
    "        vowel_consonant_count['others'] += 1\n",
    "\n",
    "import pprint\n",
    "pprint.pprint(vowel_consonant_count)\n"
   ]
  },
  {
   "cell_type": "code",
   "execution_count": 275,
   "id": "d1dbd232-6abf-411f-a2b7-45140eb9b2ff",
   "metadata": {},
   "outputs": [
    {
     "name": "stdout",
     "output_type": "stream",
     "text": [
      "{3: 4, 4: 2, 5: 3}\n"
     ]
    }
   ],
   "source": [
    "# Example 2: Counting Word Lengths\n",
    "phrase = \"the quick brown fox jumps over the lazy dog\"\n",
    "word_lengths = {}\n",
    "\n",
    "for word in phrase.split():\n",
    "    length = len(word)\n",
    "    word_lengths.setdefault(length, 0)\n",
    "    word_lengths[length] += 1\n",
    "\n",
    "import pprint\n",
    "pprint.pprint(word_lengths)"
   ]
  },
  {
   "cell_type": "code",
   "execution_count": 276,
   "id": "f84bc74d-6a82-4104-94e3-495d37b99f9d",
   "metadata": {},
   "outputs": [
    {
     "name": "stdout",
     "output_type": "stream",
     "text": [
      "{'apple': 3, 'banana': 2, 'orange': 1}\n"
     ]
    }
   ],
   "source": [
    "# Example 3: Counting the Frequency of Items in a List\n",
    "\n",
    "items = ['apple', 'banana', 'apple', 'orange', 'banana', 'apple']\n",
    "item_counts = {}\n",
    "\n",
    "for item in items:\n",
    "    item_counts.setdefault(item, 0)\n",
    "    item_counts[item] += 1\n",
    "\n",
    "import pprint\n",
    "pprint.pprint(item_counts)"
   ]
  },
  {
   "cell_type": "code",
   "execution_count": 277,
   "id": "a1d35ec6-b472-49e1-92e3-65c5dc1586d0",
   "metadata": {},
   "outputs": [
    {
     "name": "stdout",
     "output_type": "stream",
     "text": [
      "{'a': ['apple', 'apricot'], 'b': ['banana', 'blueberry'], 'c': ['cherry']}\n"
     ]
    }
   ],
   "source": [
    "# Example 4: Grouping Words by Their First Letter\n",
    "\n",
    "word_list = [\"apple\", \"banana\", \"apricot\", \"cherry\", \"blueberry\"]\n",
    "first_letter_groups = {}\n",
    "\n",
    "for word in word_list:\n",
    "    first_letter = word[0].lower()\n",
    "    first_letter_groups.setdefault(first_letter, []).append(word)\n",
    "\n",
    "import pprint\n",
    "pprint.pprint(first_letter_groups)"
   ]
  },
  {
   "cell_type": "code",
   "execution_count": 278,
   "id": "5616467e-bfd1-46a3-8f86-5f127765e890",
   "metadata": {},
   "outputs": [
    {
     "name": "stdout",
     "output_type": "stream",
     "text": [
      "{'1': 1, '2': 1, '3': 1, '4': 1, '5': 1, '6': 1}\n"
     ]
    }
   ],
   "source": [
    "# Example 5: Counting Digits in a String\n",
    "\n",
    "data_string = \"abc123def45ghi6\"\n",
    "digit_counts = {}\n",
    "\n",
    "for char in data_string:\n",
    "    if char.isdigit():\n",
    "        digit_counts.setdefault(char, 0)\n",
    "        digit_counts[char] += 1\n",
    "\n",
    "import pprint\n",
    "pprint.pprint(digit_counts)"
   ]
  },
  {
   "cell_type": "code",
   "execution_count": 279,
   "id": "3e5e6505-b7fe-43d0-84c3-c72a00d94842",
   "metadata": {},
   "outputs": [
    {
     "name": "stdout",
     "output_type": "stream",
     "text": [
      "{'lower': 8, 'other': 6, 'upper': 2}\n"
     ]
    }
   ],
   "source": [
    "text = \"Hello World 123!\"\n",
    "case_counts = {'upper': 0, 'lower': 0, 'other': 0}\n",
    "\n",
    "for char in text:\n",
    "    if char.isupper():\n",
    "        case_counts['upper'] += 1\n",
    "    elif char.islower():\n",
    "        case_counts['lower'] += 1\n",
    "    else:\n",
    "        case_counts['other'] += 1\n",
    "\n",
    "import pprint\n",
    "pprint.pprint(case_counts)"
   ]
  },
  {
   "cell_type": "code",
   "execution_count": 280,
   "id": "25f7bbad-7824-4511-83f2-19ac5f877300",
   "metadata": {},
   "outputs": [
    {
     "name": "stdout",
     "output_type": "stream",
     "text": [
      "{'b': 1, 'd': 1, 'f': 1, 'j': 1, 'l': 1, 'o': 1, 'q': 1, 't': 2}\n"
     ]
    }
   ],
   "source": [
    "phrase = \"the quick brown fox jumps over the lazy dog\"\n",
    "first_letter_frequency = {}\n",
    "\n",
    "for word in phrase.split():\n",
    "    first_letter = word[0].lower()\n",
    "    first_letter_frequency[first_letter] = first_letter_frequency.get(first_letter, 0) + 1\n",
    "    \n",
    "import pprint\n",
    "pprint.pprint(first_letter_frequency)"
   ]
  },
  {
   "cell_type": "code",
   "execution_count": 283,
   "id": "524b6a6f-a316-48e9-8f81-6e2eec26db95",
   "metadata": {},
   "outputs": [
    {
     "name": "stdout",
     "output_type": "stream",
     "text": [
      "{1: 3, 2: 2, 3: 1, 4: 1, 5: 3}\n"
     ]
    }
   ],
   "source": [
    "data = [1, 5, 2, 5, 1, 3, 5, 2, 4, 1]\n",
    "number_counts = {}\n",
    "\n",
    "for num in data:\n",
    "    number_counts[num] = number_counts.get(num, 0) + 1\n",
    "\n",
    "import pprint\n",
    "pprint.pprint(number_counts)"
   ]
  },
  {
   "cell_type": "code",
   "execution_count": 284,
   "id": "35345103-b9cd-4606-97ff-4830d626f80c",
   "metadata": {},
   "outputs": [
    {
     "name": "stdout",
     "output_type": "stream",
     "text": [
      "{'g': ['dog', 'log', 'bug'], 't': ['cat', 'bat', 'ant']}\n"
     ]
    }
   ],
   "source": [
    "words = [\"cat\", \"dog\", \"bat\", \"log\", \"ant\", \"bug\"]\n",
    "last_letter_groups = {}\n",
    "\n",
    "for word in words:\n",
    "    last_letter = word[-1].lower()\n",
    "    last_letter_groups.setdefault(last_letter, []).append(word)\n",
    "\n",
    "import pprint\n",
    "pprint.pprint(last_letter_groups)"
   ]
  },
  {
   "cell_type": "code",
   "execution_count": 285,
   "id": "97cdcfe9-06cd-427f-9ff9-16f98467307d",
   "metadata": {},
   "outputs": [
    {
     "name": "stdout",
     "output_type": "stream",
     "text": [
      "{'even': 5, 'odd': 3}\n"
     ]
    }
   ],
   "source": [
    "numbers = [12, 35, 20, 8, 17, 42, 9, 26]\n",
    "even_odd_counts = {'even': 0, 'odd': 0}\n",
    "\n",
    "for num in numbers:\n",
    "    if num % 2 == 0:\n",
    "        even_odd_counts['even'] += 1\n",
    "    else:\n",
    "        even_odd_counts['odd'] += 1\n",
    "\n",
    "import pprint\n",
    "pprint.pprint(even_odd_counts)"
   ]
  },
  {
   "cell_type": "code",
   "execution_count": 287,
   "id": "721a40f3-7294-4635-9227-2069788ca7e9",
   "metadata": {},
   "outputs": [
    {
     "name": "stdout",
     "output_type": "stream",
     "text": [
      "{'digits': 3, 'letters': 10, 'symbols': 2}\n"
     ]
    }
   ],
   "source": [
    "text = \"Hello123World!?\"\n",
    "char_type_counts = {'letters': 0, 'digits': 0, 'symbols': 0}\n",
    "\n",
    "for char in text:\n",
    "    if char.isalpha():\n",
    "        char_type_counts['letters'] += 1\n",
    "    elif char.isdigit():\n",
    "        char_type_counts['digits'] += 1\n",
    "    else:\n",
    "        char_type_counts['symbols'] += 1\n",
    "\n",
    "import pprint\n",
    "pprint.pprint(char_type_counts)"
   ]
  },
  {
   "cell_type": "code",
   "execution_count": 288,
   "id": "03c3874f-05b4-42d5-9710-322d8692b69d",
   "metadata": {},
   "outputs": [
    {
     "name": "stdout",
     "output_type": "stream",
     "text": [
      "{3: 4, 4: 2, 5: 4}\n"
     ]
    }
   ],
   "source": [
    "sentence = \"the quick brown fox jumps over the lazy dog again\"\n",
    "word_length_frequency = {}\n",
    "\n",
    "for word in sentence.split():\n",
    "    length = len(word)\n",
    "    word_length_frequency[length] = word_length_frequency.get(length, 0) + 1\n",
    "\n",
    "import pprint\n",
    "pprint.pprint(word_length_frequency)"
   ]
  },
  {
   "cell_type": "code",
   "execution_count": 289,
   "id": "02a88314-dc82-4ba8-97c5-1caa083c2320",
   "metadata": {},
   "outputs": [
    {
     "name": "stdout",
     "output_type": "stream",
     "text": [
      "{'False': 3, 'True': 4}\n"
     ]
    }
   ],
   "source": [
    "boolean_values = [True, False, True, True, False, False, True]\n",
    "boolean_counts = {'True': 0, 'False': 0}\n",
    "\n",
    "for value in boolean_values:\n",
    "    boolean_counts[str(value)] += 1\n",
    "\n",
    "import pprint\n",
    "pprint.pprint(boolean_counts)"
   ]
  },
  {
   "cell_type": "code",
   "execution_count": 290,
   "id": "9270e528-17f9-4a04-aca8-4fa60967fe66",
   "metadata": {},
   "outputs": [
    {
     "name": "stdout",
     "output_type": "stream",
     "text": [
      "{'consonant': ['banana', 'grape', 'kiwi'], 'vowel': ['apple', 'orange', 'egg']}\n"
     ]
    }
   ],
   "source": [
    "words = [\"apple\", \"banana\", \"orange\", \"grape\", \"kiwi\", \"egg\"]\n",
    "vowel_consonant_groups = {'vowel': [], 'consonant': []}\n",
    "vowels = \"aeiou\"\n",
    "\n",
    "for word in words:\n",
    "    first_letter = word[0].lower()\n",
    "    if first_letter in vowels:\n",
    "        vowel_consonant_groups['vowel'].append(word)\n",
    "    else:\n",
    "        vowel_consonant_groups['consonant'].append(word)\n",
    "\n",
    "import pprint\n",
    "pprint.pprint(vowel_consonant_groups)"
   ]
  },
  {
   "cell_type": "code",
   "execution_count": 291,
   "id": "1dcb56d4-46da-4f6a-b945-99a4211237b4",
   "metadata": {},
   "outputs": [
    {
     "name": "stdout",
     "output_type": "stream",
     "text": [
      "{'a': 4, 'b': 4, 'c': 4}\n"
     ]
    }
   ],
   "source": [
    "text = \"AaBbCcAaBbCc\"\n",
    "letter_counts_insensitive = {}\n",
    "\n",
    "for char in text:\n",
    "    lower_char = char.lower()\n",
    "    letter_counts_insensitive[lower_char] = letter_counts_insensitive.get(lower_char, 0) + 1\n",
    "\n",
    "import pprint\n",
    "pprint.pprint(letter_counts_insensitive)"
   ]
  },
  {
   "cell_type": "code",
   "execution_count": 293,
   "id": "04c1d255-7cd7-4c6b-adf9-d4c88bfc8c19",
   "metadata": {},
   "outputs": [
    {
     "name": "stdout",
     "output_type": "stream",
     "text": [
      "{'brown': 1, 'quick': 2, 'the': 2}\n"
     ]
    }
   ],
   "source": [
    "word_list = [\"The\", \"Quick\", \"the\", \"Brown\", \"quick\"]\n",
    "word_counts_insensitive = {}\n",
    "\n",
    "for word in word_list:\n",
    "    lower_word = word.lower()\n",
    "    word_counts_insensitive[lower_word] = word_counts_insensitive.get(lower_word, 0) + 1\n",
    "\n",
    "import pprint\n",
    "pprint.pprint(word_counts_insensitive)"
   ]
  },
  {
   "cell_type": "code",
   "execution_count": 294,
   "id": "9a7d53bc-4cc6-43c3-b575-6469b48b5bb0",
   "metadata": {},
   "outputs": [
    {
     "name": "stdout",
     "output_type": "stream",
     "text": [
      "{'A': ['Alice', 'Charlie', 'Frank'], 'B': ['Bob', 'Eve'], 'C': ['David']}\n"
     ]
    }
   ],
   "source": [
    "student_grades = [\n",
    "    (\"Alice\", \"A\"),\n",
    "    (\"Bob\", \"B\"),\n",
    "    (\"Charlie\", \"A\"),\n",
    "    (\"David\", \"C\"),\n",
    "    (\"Eve\", \"B\"),\n",
    "    (\"Frank\", \"A\")\n",
    "]\n",
    "students_by_grade = {}\n",
    "\n",
    "for name, grade in student_grades:\n",
    "    students_by_grade.setdefault(grade, []).append(name)\n",
    "\n",
    "import pprint\n",
    "pprint.pprint(students_by_grade)"
   ]
  },
  {
   "cell_type": "code",
   "execution_count": 296,
   "id": "8624a223-5df4-42b5-8fea-9c7bf60e0db4",
   "metadata": {},
   "outputs": [
    {
     "name": "stdout",
     "output_type": "stream",
     "text": [
      "{'0-10': 2, '11-20': 2, '21-30': 3, '31-40': 1, '41-50': 1}\n"
     ]
    }
   ],
   "source": [
    "data_points = [15, 22, 5, 30, 18, 28, 10, 45, 35]\n",
    "range_counts = {'0-10': 0, '11-20': 0, '21-30': 0, '31-40': 0, '41-50': 0}\n",
    "\n",
    "for num in data_points:\n",
    "    if 0 <= num <= 10:\n",
    "        range_counts['0-10'] += 1\n",
    "    elif 11 <= num <= 20:\n",
    "        range_counts['11-20'] += 1\n",
    "    elif 21 <= num <= 30:\n",
    "        range_counts['21-30'] += 1\n",
    "    elif 31 <= num <= 40:\n",
    "        range_counts['31-40'] += 1\n",
    "    elif 41 <= num <= 50:\n",
    "        range_counts['41-50'] += 1\n",
    "\n",
    "import pprint\n",
    "pprint.pprint(range_counts)"
   ]
  },
  {
   "cell_type": "code",
   "execution_count": 303,
   "id": "db3942dd-e177-4c42-ba6f-f3adcdc336d5",
   "metadata": {},
   "outputs": [
    {
     "name": "stdout",
     "output_type": "stream",
     "text": [
      "{'csv': 1, 'jpg': 1, 'pdf': 1, 'png': 1, 'txt': 2, 'zip': 1}\n"
     ]
    }
   ],
   "source": [
    "filenames = [\"document.txt\", \"image.jpg\", \"report.pdf\", \"photo.png\", \"data.csv\", \"archive.zip\", \"notes.txt\"]\n",
    "extension_counts = {}\n",
    "\n",
    "for filename in filenames:\n",
    "    if '.' in filename:\n",
    "        extension = filename.split('.')[-1].lower()\n",
    "        extension_counts[extension] = extension_counts.get(extension, 0) + 1\n",
    "    \n",
    "\n",
    "import pprint\n",
    "pprint.pprint(extension_counts)\n"
   ]
  },
  {
   "cell_type": "code",
   "execution_count": 304,
   "id": "8d544b09-4397-479c-a87d-5b0b876ce5f5",
   "metadata": {},
   "outputs": [
    {
     "name": "stdout",
     "output_type": "stream",
     "text": [
      "The count for .csv files is: 1\n"
     ]
    }
   ],
   "source": [
    "filenames = [\"document.txt\", \"image.jpg\", \"report.pdf\", \"photo.png\", \"data.csv\", \"archive.zip\", \"notes.txt\"]\n",
    "extension_counts = {}\n",
    "\n",
    "for filename in filenames:\n",
    "    if '.' in filename:\n",
    "        extension = filename.split('.')[-1].lower()\n",
    "        extension_counts[extension] = extension_counts.get(extension, 0) + 1\n",
    "\n",
    "# Print the count for 'csv' specifically\n",
    "if 'csv' in extension_counts:\n",
    "    print(f\"The count for .csv files is: {extension_counts['csv']}\")\n",
    "else:\n",
    "    print(\"There are no .csv files in the list.\")"
   ]
  },
  {
   "cell_type": "code",
   "execution_count": 305,
   "id": "c38da409-194f-4883-ae89-5cfa7e0a1bb6",
   "metadata": {},
   "outputs": [
    {
     "name": "stdout",
     "output_type": "stream",
     "text": [
      "{'even': 5, 'odd': 5}\n"
     ]
    }
   ],
   "source": [
    "numbers = [11, 22, 33, 44, 55, 66, 77, 88, 99, 100]\n",
    "parity_counts = {}\n",
    "\n",
    "for num in numbers:\n",
    "    parity = \"even\" if num % 2 == 0 else \"odd\"\n",
    "    parity_counts[parity] = parity_counts.get(parity, 0) + 1\n",
    "\n",
    "import pprint\n",
    "pprint.pprint(parity_counts)"
   ]
  },
  {
   "cell_type": "code",
   "execution_count": 306,
   "id": "ba0728a4-a87d-40fc-aa18-452d092dde29",
   "metadata": {},
   "outputs": [
    {
     "name": "stdout",
     "output_type": "stream",
     "text": [
      "Alice's grade is: A\n",
      "Bob's grade is: B\n"
     ]
    }
   ],
   "source": [
    "student_grades = {'Alice': 'A', 'Bob': 'B', 'Charlie': 'C'}\n",
    "\n",
    "# Accessing Alice's grade\n",
    "alice_grade = student_grades['Alice']\n",
    "print(f\"Alice's grade is: {alice_grade}\")\n",
    "\n",
    "# Accessing Bob's grade\n",
    "bob_grade = student_grades['Bob']\n",
    "print(f\"Bob's grade is: {bob_grade}\")\n",
    "\n",
    "# Trying to access a non-existent key will cause a KeyError\n",
    "# Uncommenting the line below will result in an error:\n",
    "# eve_grade = student_grades['Eve']\n",
    "# print(f\"Eve's grade is: {eve_grade}\")"
   ]
  },
  {
   "cell_type": "code",
   "execution_count": 307,
   "id": "e7347be9-1b51-4925-9e7c-6d369e1f46a5",
   "metadata": {},
   "outputs": [
    {
     "name": "stdout",
     "output_type": "stream",
     "text": [
      "Server address: localhost\n",
      "Port number: 8080\n",
      "Debug mode is enabled.\n"
     ]
    }
   ],
   "source": [
    "config = {\n",
    "    'server': 'localhost',\n",
    "    'port': 8080,\n",
    "    'timeout': 30,\n",
    "    'debug': True\n",
    "}\n",
    "\n",
    "# Accessing the server address\n",
    "server_address = config['server']\n",
    "print(f\"Server address: {server_address}\")\n",
    "\n",
    "# Accessing the port number\n",
    "port_number = config['port']\n",
    "print(f\"Port number: {port_number}\")\n",
    "\n",
    "# Accessing the debug status\n",
    "debug_mode = config['debug']\n",
    "if debug_mode:\n",
    "    print(\"Debug mode is enabled.\")\n",
    "else:\n",
    "    print(\"Debug mode is disabled.\")"
   ]
  },
  {
   "cell_type": "code",
   "execution_count": 314,
   "id": "4e2588b4-12da-4da4-aae4-1dbf5313dfa8",
   "metadata": {},
   "outputs": [
    {
     "name": "stdout",
     "output_type": "stream",
     "text": [
      "Number of apples: 5\n",
      "Number of bananas: 10\n",
      "Number of grapes: None\n",
      "Number of grapes: 0\n"
     ]
    }
   ],
   "source": [
    "item_counts = {'apple': 5, 'banana': 10, 'orange': 3}\n",
    "\n",
    "# Getting the count of apples\n",
    "apple_count = item_counts['apple']\n",
    "print(f\"Number of apples: {apple_count}\")\n",
    "\n",
    "# Getting the count of bananas\n",
    "banana_count = item_counts['banana']\n",
    "print(f\"Number of bananas: {banana_count}\")\n",
    "\n",
    "# Using the .get() method as a safer way to access (avoids KeyError)\n",
    "grape_count = item_counts.get('grape')\n",
    "print(f\"Number of grapes: {grape_count}\") # Output: None\n",
    "\n",
    "grape_count_default = item_counts.get('grape', 0)\n",
    "print(f\"Number of grapes: {grape_count_default}\") # Output: 0"
   ]
  },
  {
   "cell_type": "code",
   "execution_count": 327,
   "id": "1aea3110-d5a5-429a-8fe6-7a156deed5a6",
   "metadata": {},
   "outputs": [
    {
     "name": "stdout",
     "output_type": "stream",
     "text": [
      "Alice's major: Computer Science\n",
      "Bob's major: Mathematics, Bob's grade: B\n"
     ]
    }
   ],
   "source": [
    "student_data = {\n",
    "    'Alice': {'major': 'Computer Science', 'grade': 'A'},\n",
    "    'Bob': {'major': 'Mathematics', 'grade': 'B'},\n",
    "    'Charlie': {'major': 'Physics', 'grade': 'A'}\n",
    "}\n",
    "\n",
    "# Accessing Alice's major\n",
    "alice_major = student_data['Alice']['major']\n",
    "print(f\"Alice's major: {alice_major}\")\n",
    "\n",
    "# Accessing Bob's grade\n",
    "bob_major = student_data['Bob']['major']\n",
    "bob_grade = student_data['Bob']['grade']\n",
    "print(f\"Bob's major: {bob_major}, Bob's grade: {bob_grade}\")"
   ]
  },
  {
   "cell_type": "code",
   "execution_count": 326,
   "id": "a8927668-5775-4c92-b073-776e4edc8a23",
   "metadata": {},
   "outputs": [
    {
     "name": "stdout",
     "output_type": "stream",
     "text": [
      "{'name': 'Alice', 'age': 30, 'city': 'New York'}\n"
     ]
    }
   ],
   "source": [
    "keys = ['name', 'age', 'city']\n",
    "values = ['Alice', 30, 'New York']\n",
    "\n",
    "person = dict(zip(keys, values))\n",
    "print(person)"
   ]
  },
  {
   "cell_type": "code",
   "execution_count": 325,
   "id": "b4bb38cd-6819-4915-8e58-2226b19dfcc5",
   "metadata": {},
   "outputs": [
    {
     "name": "stdout",
     "output_type": "stream",
     "text": [
      "Items (key-value pairs):\n",
      "name: Bob\n",
      "major: Engineering\n",
      "grade: B\n",
      "\n",
      "Keys:\n",
      "name\n",
      "major\n",
      "grade\n",
      "\n",
      "Values:\n",
      "Bob\n",
      "Engineering\n",
      "B\n"
     ]
    }
   ],
   "source": [
    "student = {'name': 'Bob', 'major': 'Engineering', 'grade': 'B'}\n",
    "\n",
    "print(\"Items (key-value pairs):\")\n",
    "for key, value in student.items():\n",
    "    print(f\"{key}: {value}\")\n",
    "\n",
    "print(\"\\nKeys:\")\n",
    "for key in student.keys():\n",
    "    print(key)\n",
    "\n",
    "print(\"\\nValues:\")\n",
    "for value in student.values():\n",
    "    print(value)"
   ]
  },
  {
   "cell_type": "code",
   "execution_count": 319,
   "id": "33f0133a-4113-47d4-bc46-fc327bc2ac54",
   "metadata": {},
   "outputs": [
    {
     "name": "stdout",
     "output_type": "stream",
     "text": [
      "{1: 1, 2: 4, 3: 9, 4: 16, 5: 25}\n",
      "{'apple': 5, 'banana': 6, 'cherry': 6}\n"
     ]
    }
   ],
   "source": [
    "numbers = [1, 2, 3, 4, 5]\n",
    "\n",
    "squared_numbers = {num: num**2 for num in numbers}\n",
    "print(squared_numbers)\n",
    "\n",
    "words = ['apple', 'banana', 'cherry']\n",
    "word_lengths = {word: len(word) for word in words}\n",
    "print(word_lengths)"
   ]
  },
  {
   "cell_type": "code",
   "execution_count": 324,
   "id": "834b05dd-05a8-43b1-8e25-213357f5f135",
   "metadata": {},
   "outputs": [
    {
     "name": "stdout",
     "output_type": "stream",
     "text": [
      "There are 10 apples.\n",
      "Grapes are not in the inventory.\n",
      "Number of grapes (using .get()): 0\n",
      "Number of apples (using .get()): 10\n"
     ]
    }
   ],
   "source": [
    "inventory = {'apples': 10, 'bananas': 5}\n",
    "\n",
    "# Checking if a key exists using 'in'\n",
    "if 'apples' in inventory:\n",
    "    print(f\"There are {inventory['apples']} apples.\")\n",
    "else:\n",
    "    print(\"Apples are not in the inventory.\")\n",
    "\n",
    "if 'grapes' in inventory:\n",
    "    print(f\"There are {inventory['grapes']} grapes.\")\n",
    "else:\n",
    "    print(\"Grapes are not in the inventory.\")\n",
    "\n",
    "# Using the .get() method with a default value\n",
    "grape_count = inventory.get('grapes', 0)\n",
    "print(f\"Number of grapes (using .get()): {grape_count}\")\n",
    "\n",
    "apple_count = inventory.get('apples', 0)\n",
    "print(f\"Number of apples (using .get()): {apple_count}\")"
   ]
  },
  {
   "cell_type": "code",
   "execution_count": 322,
   "id": "91eba8fb-61c2-4151-b78b-91e1daf15ad1",
   "metadata": {},
   "outputs": [
    {
     "name": "stdout",
     "output_type": "stream",
     "text": [
      "Carlos\n",
      "Anytown\n",
      "hiking\n"
     ]
    }
   ],
   "source": [
    "person = {\n",
    "    'name': 'Carlos',\n",
    "    'age': 25,\n",
    "    'address': {\n",
    "        'street': '123 Main St',\n",
    "        'city': 'Anytown',\n",
    "        'zipcode': '12345'\n",
    "    },\n",
    "    'hobbies': ['reading', 'hiking', 'coding']\n",
    "}\n",
    "\n",
    "print(person['name'])\n",
    "print(person['address']['city'])\n",
    "print(person['hobbies'][1])"
   ]
  },
  {
   "cell_type": "code",
   "execution_count": 332,
   "id": "00fdaf37-5ea6-4d7a-98f2-61ae6e2a2d13",
   "metadata": {},
   "outputs": [
    {
     "name": "stdout",
     "output_type": "stream",
     "text": [
      "{'H': 1, 'e': 1, 'l': 2, 'o': 1}\n"
     ]
    }
   ],
   "source": [
    "import pprint\n",
    "\n",
    "word = \"Hello\"\n",
    "char_counts = {}\n",
    "\n",
    "for char in word:\n",
    "    char_counts.setdefault(char,0)\n",
    "    char_counts[char] += 1\n",
    "\n",
    "pprint.pprint(char_counts)"
   ]
  },
  {
   "cell_type": "code",
   "execution_count": 335,
   "id": "592b3187-8edc-4093-ab1f-77c3dfd53ba6",
   "metadata": {},
   "outputs": [
    {
     "name": "stdout",
     "output_type": "stream",
     "text": [
      "{' ': 2,\n",
      " '!': 1,\n",
      " 'P': 1,\n",
      " 'f': 1,\n",
      " 'h': 1,\n",
      " 'i': 1,\n",
      " 'n': 2,\n",
      " 'o': 1,\n",
      " 's': 1,\n",
      " 't': 1,\n",
      " 'u': 1,\n",
      " 'y': 1}\n"
     ]
    }
   ],
   "source": [
    "import pprint\n",
    "\n",
    "sentence = \"Python is fun!\"\n",
    "char_counts = {}\n",
    "\n",
    "for char in sentence:\n",
    "    char_counts.setdefault(char,0)\n",
    "    char_counts[char] += 1\n",
    "\n",
    "pprint.pprint(char_counts)"
   ]
  },
  {
   "cell_type": "code",
   "execution_count": 336,
   "id": "65ccdd3f-3f63-4cc6-aa1b-548a739de68f",
   "metadata": {},
   "outputs": [
    {
     "name": "stdout",
     "output_type": "stream",
     "text": [
      "{'1': 2, '2': 2, '3': 2, '4': 1, '5': 1}\n"
     ]
    }
   ],
   "source": [
    "import pprint\n",
    "\n",
    "number_string = \"12345123\"\n",
    "digit_counts = {}\n",
    "\n",
    "for digit in number_string:\n",
    "    digit_counts.setdefault(digit, 0)\n",
    "    digit_counts[digit] += 1\n",
    "\n",
    "pprint.pprint(digit_counts)"
   ]
  },
  {
   "cell_type": "code",
   "execution_count": 337,
   "id": "b92a21c8-49f8-4333-b13a-b891ce58bfce",
   "metadata": {},
   "outputs": [
    {
     "name": "stdout",
     "output_type": "stream",
     "text": [
      "{'\\n': 1,\n",
      " ' ': 3,\n",
      " '.': 1,\n",
      " 'T': 1,\n",
      " 'a': 1,\n",
      " 'e': 1,\n",
      " 'g': 1,\n",
      " 'h': 1,\n",
      " 'i': 5,\n",
      " 'l': 2,\n",
      " 'm': 1,\n",
      " 'n': 2,\n",
      " 'r': 1,\n",
      " 's': 3,\n",
      " 't': 2,\n",
      " 'u': 1}\n"
     ]
    }
   ],
   "source": [
    "import pprint\n",
    "\n",
    "text = \"This is a\\nmultiline string.\"\n",
    "char_counts = {}\n",
    "\n",
    "for char in text:\n",
    "    char_counts.setdefault(char, 0)\n",
    "    char_counts[char] += 1\n",
    "\n",
    "pprint.pprint(char_counts)"
   ]
  },
  {
   "cell_type": "code",
   "execution_count": 339,
   "id": "3dfb4a0b-d383-4692-9253-4fb0d5c4fb5e",
   "metadata": {},
   "outputs": [
    {
     "name": "stdout",
     "output_type": "stream",
     "text": [
      "{'#': 1, '$': 1, '%': 1, '&': 1, '*': 1, '@': 1, '^': 1}\n"
     ]
    }
   ],
   "source": [
    "import pprint\n",
    "\n",
    "symbols = \"@#$%^&*\"\n",
    "symbol_counts = {}\n",
    "\n",
    "for char in symbols:\n",
    "    symbol_counts.setdefault(char, 0)\n",
    "    symbol_counts[char] += 1\n",
    "\n",
    "pprint.pprint(symbol_counts)"
   ]
  },
  {
   "cell_type": "code",
   "execution_count": 340,
   "id": "0469e8d1-0873-4a9e-b3c4-e9e07a2f2984",
   "metadata": {},
   "outputs": [],
   "source": [
    "theBoard = {'top-L': ' ', 'top-M': ' ', 'top-R': ' ',\n",
    "            'mid-L': ' ', 'mid-M': ' ', 'mid-R': ' ',\n",
    "            'low-L': ' ', 'low-M': ' ', 'low-R': ' '}"
   ]
  },
  {
   "cell_type": "code",
   "execution_count": 341,
   "id": "b819b1dc-8e59-4435-ada0-b8d903575ddf",
   "metadata": {},
   "outputs": [],
   "source": [
    "theBoard = {'top-L': ' ', 'top-M': ' ', 'top-R': ' ',\n",
    "            'mid-L': ' ', 'mid-M': 'X', 'mid-R': ' ',\n",
    "            'low-L': ' ', 'low-M': ' ', 'low-R': ' '}"
   ]
  },
  {
   "cell_type": "code",
   "execution_count": 342,
   "id": "e1b262b1-1040-48c7-adb2-8376ba3ceba2",
   "metadata": {},
   "outputs": [],
   "source": [
    "theBoard = {'top-L': 'O', 'top-M': 'O', 'top-R': 'O',\n",
    "            'mid-L': 'X', 'mid-M': 'X', 'mid-R': ' ',\n",
    "            'low-L': ' ', 'low-M': ' ', 'low-R': 'X'}"
   ]
  },
  {
   "cell_type": "code",
   "execution_count": 343,
   "id": "19ba9f4e-e43d-4798-899e-7d7f84f0aa82",
   "metadata": {},
   "outputs": [
    {
     "name": "stdout",
     "output_type": "stream",
     "text": [
      " | | \n",
      "-+-+-\n",
      " | | \n",
      "-+-+-\n",
      " | | \n"
     ]
    }
   ],
   "source": [
    "theBoard = {'top-L': ' ', 'top-M': ' ', 'top-R': ' ',\n",
    "            'mid-L': ' ', 'mid-M': ' ', 'mid-R': ' ',\n",
    "            'low-L': ' ', 'low-M': ' ', 'low-R': ' '}\n",
    "def printBoard(board):\n",
    "    print(board['top-L'] + '|' + board['top-M'] + '|' + board['top-R'])\n",
    "    print('-+-+-')\n",
    "    print(board['mid-L'] + '|' + board['mid-M'] + '|' + board['mid-R'])\n",
    "    print('-+-+-')\n",
    "    print(board['low-L'] + '|' + board['low-M'] + '|' + board['low-R'])\n",
    "printBoard(theBoard)"
   ]
  },
  {
   "cell_type": "code",
   "execution_count": 344,
   "id": "5ccd0180-2bec-422c-85c6-0b7c916a4918",
   "metadata": {},
   "outputs": [
    {
     "name": "stdout",
     "output_type": "stream",
     "text": [
      "O|O|O\n",
      "-+-+-\n",
      "X|X| \n",
      "-+-+-\n",
      " | |X\n"
     ]
    }
   ],
   "source": [
    "theBoard = {'top-L': 'O', 'top-M': 'O', 'top-R': 'O', 'mid-L': 'X', 'mid-M':\n",
    "'X', 'mid-R': ' ', 'low-L': ' ', 'low-M': ' ', 'low-R': 'X'}\n",
    "def printBoard(board):\n",
    "    print(board['top-L'] + '|' + board['top-M'] + '|' + board['top-R'])\n",
    "    print('-+-+-')\n",
    "    print(board['mid-L'] + '|' + board['mid-M'] + '|' + board['mid-R'])\n",
    "    print('-+-+-')\n",
    "    print(board['low-L'] + '|' + board['low-M'] + '|' + board['low-R'])\n",
    "printBoard(theBoard)"
   ]
  },
  {
   "cell_type": "code",
   "execution_count": null,
   "id": "56ada0ae-8404-4adb-bf8a-b65284d9808c",
   "metadata": {},
   "outputs": [
    {
     "name": "stdout",
     "output_type": "stream",
     "text": [
      " | | \n",
      "-+-+-\n",
      " | | \n",
      "-+-+-\n",
      " | | \n",
      "Turn for X. Move on which space?\n"
     ]
    }
   ],
   "source": [
    "theBoard = {'top-L': ' ', 'top-M': ' ', 'top-R': ' ', 'mid-L': ' ', 'mid-M': ' ', 'mid-R': ' ', 'low-L': ' ', 'low-M': ' ', 'low-R': ' '}\n",
    "\n",
    "def printBoard(board):\n",
    "    print(board['top-L'] + '|' + board['top-M'] + '|' + board['top-R'])\n",
    "    print('-+-+-')\n",
    "    print(board['mid-L'] + '|' + board['mid-M'] + '|' + board['mid-R'])\n",
    "    print('-+-+-')\n",
    "    print(board['low-L'] + '|' + board['low-M'] + '|' + board['low-R'])\n",
    "turn = 'X'\n",
    "for i in range(9):\n",
    "    printBoard(theBoard)\n",
    "    print('Turn for ' + turn + '. Move on which space?')\n",
    "    move = input()\n",
    "    theBoard[move] = turn\n",
    "    if turn == 'X':\n",
    "        turn = 'O'\n",
    "    else:\n",
    "        turn = 'X'\n",
    "printBoard(theBoard)"
   ]
  },
  {
   "cell_type": "code",
   "execution_count": 3,
   "id": "f1f164c1-e678-4a62-86d8-7353ff7c10c1",
   "metadata": {},
   "outputs": [
    {
     "name": "stdout",
     "output_type": "stream",
     "text": [
      "Number of things being brought:\n",
      " - Apples         7\n",
      " - Cups           3\n",
      " - Cakes          0\n",
      " - Ham Sandwiches 3\n",
      " - Apple Pies     1\n"
     ]
    }
   ],
   "source": [
    "allGuests = {'Alice': {'apples': 5, 'pretzels': 12},\n",
    "             'Bob': {'ham sandwiches': 3, 'apples': 2},\n",
    "             'Carol': {'cups': 3, 'apple pies': 1}}\n",
    "\n",
    "def totalBrought(guests, item):\n",
    "    numBrought = 0\n",
    "    for k, v in guests.items():\n",
    "        numBrought = numBrought + v.get(item, 0)\n",
    "    return numBrought\n",
    "\n",
    "print('Number of things being brought:')\n",
    "print(' - Apples         ' + str(totalBrought(allGuests, 'apples')))\n",
    "print(' - Cups           ' + str(totalBrought(allGuests, 'cups')))\n",
    "print(' - Cakes          ' + str(totalBrought(allGuests, 'cakes')))\n",
    "print(' - Ham Sandwiches ' + str(totalBrought(allGuests, 'ham sandwiches')))\n",
    "print(' - Apple Pies     ' + str(totalBrought(allGuests, 'apple pies')))"
   ]
  },
  {
   "cell_type": "code",
   "execution_count": 6,
   "id": "93a3ca61-cc05-4256-ae45-1cca16d3eede",
   "metadata": {},
   "outputs": [
    {
     "name": "stdout",
     "output_type": "stream",
     "text": [
      "Total Scores per Team:\n",
      " - TeamA: 53\n",
      " - TeamB: 50\n",
      " - TeamC: 57\n",
      " - TeamD: 0\n"
     ]
    }
   ],
   "source": [
    "teamScores = {'TeamA': {'round1': 15, 'round2': 20, 'round3': 18},\n",
    "              'TeamB': {'round1': 12, 'round2': 22, 'round3': 16},\n",
    "              'TeamC': {'round1': 19, 'round2': 17, 'round3': 21}}\n",
    "\n",
    "def calculateTotalScore(team, team_name):\n",
    "    total_score = 0\n",
    "    if team_name in team:\n",
    "        for round_score in team[team_name].values():\n",
    "            total_score += round_score\n",
    "    return total_score\n",
    "    \n",
    "\n",
    "print('Total Scores per Team:')\n",
    "print(f\" - TeamA: {calculateTotalScore(teamScores, 'TeamA')}\")\n",
    "print(f\" - TeamB: {calculateTotalScore(teamScores, 'TeamB')}\")\n",
    "print(f\" - TeamC: {calculateTotalScore(teamScores, 'TeamC')}\")\n",
    "print(f\" - TeamD: {calculateTotalScore(teamScores, 'TeamD')}\") # Team not present\n",
    "    "
   ]
  },
  {
   "cell_type": "code",
   "execution_count": 7,
   "id": "272539cf-f932-49c4-b62f-925f5e7407a8",
   "metadata": {},
   "outputs": [
    {
     "name": "stdout",
     "output_type": "stream",
     "text": [
      "\n",
      "Total Inventory:\n",
      " - Apples: 300\n",
      " - Bananas: 110\n",
      " - Oranges: 165\n",
      " - Grapes: 0\n"
     ]
    }
   ],
   "source": [
    "storeInventory = {'StoreX': {'apples': 100, 'bananas': 50, 'oranges': 75},\n",
    "                  'StoreY': {'apples': 120, 'bananas': 60},\n",
    "                  'StoreZ': {'oranges': 90, 'apples': 80}}\n",
    "\n",
    "def getTotalInventory(inventory, product):\n",
    "    total_count = 0\n",
    "    for store_items in inventory.values():\n",
    "        total_count += store_items.get(product, 0)\n",
    "    return total_count\n",
    "\n",
    "print('\\nTotal Inventory:')\n",
    "print(f\" - Apples: {getTotalInventory(storeInventory, 'apples')}\")\n",
    "print(f\" - Bananas: {getTotalInventory(storeInventory, 'bananas')}\")\n",
    "print(f\" - Oranges: {getTotalInventory(storeInventory, 'oranges')}\")\n",
    "print(f\" - Grapes: {getTotalInventory(storeInventory, 'grapes')}\") # Product not present"
   ]
  },
  {
   "cell_type": "code",
   "execution_count": 8,
   "id": "6205fd14-cc2e-4a26-ab6f-4469d0b3c173",
   "metadata": {},
   "outputs": [
    {
     "name": "stdout",
     "output_type": "stream",
     "text": [
      "Average Grades:\n",
      " - Alice: 85.00\n",
      " - Bob: 84.67\n",
      " - Carol: 86.50\n",
      " - David: 0.00\n"
     ]
    }
   ],
   "source": [
    "studentGrades = {\n",
    "    'Alice': {'Math': 85, 'Science': 92, 'History': 78},\n",
    "    'Bob': {'Math': 76, 'Science': 88, 'English': 90},\n",
    "    'Carol': {'Math': 91, 'Art': 82}\n",
    "}\n",
    "\n",
    "def calculateAverageGrade(grades, student_name):\n",
    "    total_grade = 0 \n",
    "    num_subjects = 0\n",
    "    if student_name in grades:\n",
    "        for grade in grades[student_name].values():\n",
    "            total_grade += grade\n",
    "            num_subjects += 1\n",
    "        if num_subjects > 0:\n",
    "            return total_grade / num_subjects\n",
    "        else:\n",
    "            return 0\n",
    "    else:\n",
    "        return 0\n",
    "\n",
    "print(\"Average Grades:\")\n",
    "print(f\" - Alice: {calculateAverageGrade(studentGrades, 'Alice'):.2f}\")\n",
    "print(f\" - Bob: {calculateAverageGrade(studentGrades, 'Bob'):.2f}\")\n",
    "print(f\" - Carol: {calculateAverageGrade(studentGrades, 'Carol'):.2f}\")\n",
    "print(f\" - David: {calculateAverageGrade(studentGrades, 'David'):.2f}\") # Student not present\n",
    "    "
   ]
  },
  {
   "cell_type": "code",
   "execution_count": 9,
   "id": "59ee4de1-cb21-4ebc-be39-e23b9d780b54",
   "metadata": {},
   "outputs": [
    {
     "name": "stdout",
     "output_type": "stream",
     "text": [
      "\n",
      "Shopping Cart Totals:\n",
      " - user123: $7.50\n",
      " - guest456: $50.00\n",
      " - user789: $0.00\n"
     ]
    }
   ],
   "source": [
    "shoppingCart = {\n",
    "    'user123': {'apple': {'quantity': 3, 'price': 1.0},\n",
    "                'banana': {'quantity': 2, 'price': 0.5},\n",
    "                'milk': {'quantity': 1, 'price': 3.5}},\n",
    "    'guest456': {'bread': {'quantity': 1, 'price': 2.0},\n",
    "                 'eggs': {'quantity': 12, 'price': 4.0}}\n",
    "}\n",
    "\n",
    "def calculateCartTotal(cart, user_id):\n",
    "    total_price = 0\n",
    "    if user_id in cart:\n",
    "        for item_details in cart[user_id].values():\n",
    "            total_price += item_details.get('quantity', 0) * item_details.get('price', 0)\n",
    "    return total_price\n",
    "\n",
    "print(\"\\nShopping Cart Totals:\")\n",
    "print(f\" - user123: ${calculateCartTotal(shoppingCart, 'user123'):.2f}\")\n",
    "print(f\" - guest456: ${calculateCartTotal(shoppingCart, 'guest456'):.2f}\")\n",
    "print(f\" - user789: ${calculateCartTotal(shoppingCart, 'user789'):.2f}\") # User not present"
   ]
  },
  {
   "cell_type": "code",
   "execution_count": 10,
   "id": "a2c46cb0-044a-4814-b852-d92cdbd55a13",
   "metadata": {},
   "outputs": [
    {
     "name": "stdout",
     "output_type": "stream",
     "text": [
      "\n",
      "Completed Task Counts:\n",
      " - userA: 5\n",
      " - userB: 4\n",
      " - userC: 0\n"
     ]
    }
   ],
   "source": [
    "taskLog = {\n",
    "    'userA': {'2023-10-26': ['task1', 'task2', 'task3'],\n",
    "              '2023-10-27': ['task2', 'task4']},\n",
    "    'userB': {'2023-10-26': ['task1'],\n",
    "              '2023-10-28': ['task5', 'task3', 'task6']}\n",
    "}\n",
    "\n",
    "def countCompletedTasks(log, user):\n",
    "    total_tasks = 0\n",
    "    if user in log:\n",
    "        for tasks_on_date in log[user].values():\n",
    "            total_tasks += len(tasks_on_date)\n",
    "    return total_tasks\n",
    "\n",
    "print(\"\\nCompleted Task Counts:\")\n",
    "print(f\" - userA: {countCompletedTasks(taskLog, 'userA')}\")\n",
    "print(f\" - userB: {countCompletedTasks(taskLog, 'userB')}\")\n",
    "print(f\" - userC: {countCompletedTasks(taskLog, 'userC')}\") # User not present"
   ]
  },
  {
   "cell_type": "code",
   "execution_count": 11,
   "id": "e41f3d77-0a53-4d78-89b9-67d3170d7c72",
   "metadata": {},
   "outputs": [
    {
     "name": "stdout",
     "output_type": "stream",
     "text": [
      "'cat' in spam: True\n",
      "'cat' in spam.values(): False\n",
      "'cat' in spam2: False\n",
      "'cat' in spam2.values(): True\n"
     ]
    }
   ],
   "source": [
    "spam = {'cat': 'meow', 'dog': 'woof', 'bird': 'tweet'}\n",
    "\n",
    "print(\"'cat' in spam:\", 'cat' in spam)       # Output: True (because 'cat' is a key)\n",
    "print(\"'cat' in spam.values():\", 'cat' in spam.values()) # Output: False (because 'cat' is not a value)\n",
    "\n",
    "spam2 = {'animal1': 'dog', 'animal2': 'cat', 'animal3': 'fish'}\n",
    "\n",
    "print(\"'cat' in spam2:\", 'cat' in spam2)      # Output: False (because 'cat' is not a key)\n",
    "print(\"'cat' in spam2.values():\", 'cat' in spam2.values()) # Output: True (because 'cat' is a value)"
   ]
  },
  {
   "cell_type": "code",
   "execution_count": 14,
   "id": "dd3c9255-6d38-42f1-8240-93b70032fece",
   "metadata": {},
   "outputs": [
    {
     "name": "stdout",
     "output_type": "stream",
     "text": [
      "{'address': {'street': '123 Main St', 'zip': '10001'},\n",
      " 'age': 30,\n",
      " 'city': 'New York',\n",
      " 'hobbies': ['reading', 'hiking', 'coding'],\n",
      " 'name': 'Alice'}\n"
     ]
    }
   ],
   "source": [
    "import pprint\n",
    "my_dict = {'name': 'Alice',\n",
    "           'age': 30,\n",
    "           'city': 'New York',\n",
    "           'hobbies': ['reading', 'hiking', 'coding'],\n",
    "           'address': {'street': '123 Main St', 'zip': '10001'}}\n",
    "\n",
    "pprint.pprint(my_dict)"
   ]
  },
  {
   "cell_type": "code",
   "execution_count": 29,
   "id": "75816ebc-b7ee-48cd-aa50-2d66780def1f",
   "metadata": {},
   "outputs": [
    {
     "name": "stdout",
     "output_type": "stream",
     "text": [
      "Valid board (simple): True\n",
      "Invalid kings (simple): False\n"
     ]
    }
   ],
   "source": [
    "def isValidChessBoardSimple(board):\n",
    "    \"\"\"\n",
    "    Checks if a given dictionary represents a valid chess board (simplified).\n",
    "\n",
    "    Args:\n",
    "        board (dict): A dictionary where keys are chess board coordinates\n",
    "                      and values are chess piece names.\n",
    "\n",
    "    Returns:\n",
    "        bool: True if the board has exactly one of each king, False otherwise.\n",
    "    \"\"\"\n",
    "    white_king_count = 0\n",
    "    black_king_count = 0\n",
    "\n",
    "    for piece in board.values():\n",
    "        if piece == 'wking':\n",
    "            white_king_count += 1\n",
    "        elif piece == 'bking':\n",
    "            black_king_count += 1\n",
    "\n",
    "    return white_king_count == 1 and black_king_count == 1\n",
    "\n",
    "# Example usage:\n",
    "valid_board_simple = {'1h': 'bking', '3e': 'wking'}\n",
    "invalid_kings_simple = {'1a': 'wking', '8h': 'wking'}\n",
    "\n",
    "print(f\"Valid board (simple): {isValidChessBoardSimple(valid_board_simple)}\")\n",
    "print(f\"Invalid kings (simple): {isValidChessBoardSimple(invalid_kings_simple)}\")"
   ]
  },
  {
   "cell_type": "code",
   "execution_count": 28,
   "id": "3b033ba0-140b-43cb-a7ef-54c09028ab50",
   "metadata": {},
   "outputs": [
    {
     "name": "stdout",
     "output_type": "stream",
     "text": [
      "Valid board: True\n",
      "Invalid position: False\n",
      "Invalid piece: False\n",
      "Multiple kings: False\n",
      "Too many white pieces: False\n",
      "Too many pawns: False\n"
     ]
    }
   ],
   "source": [
    "def isValidChessBoard(board):\n",
    "    \"\"\"\n",
    "    Checks if a given dictionary represents a valid chess board.\n",
    "\n",
    "    Args:\n",
    "        board (dict): A dictionary where keys are chess board coordinates (e.g., '1a')\n",
    "                      and values are chess piece names (e.g., 'wking').\n",
    "\n",
    "    Returns:\n",
    "        bool: True if the board is valid, False otherwise.\n",
    "    \"\"\"\n",
    "    valid_ranks = [str(i) for i in range(1, 9)]\n",
    "    valid_files = ['a', 'b', 'c', 'd', 'e', 'f', 'g', 'h']\n",
    "    valid_pieces = ['wpawn', 'wknight', 'wbishop', 'wrook', 'wqueen', 'wking',\n",
    "                    'bpawn', 'bknight', 'bbishop', 'brook', 'bqueen', 'bking']\n",
    "\n",
    "    white_pieces = 0\n",
    "    black_pieces = 0\n",
    "    white_king_count = 0\n",
    "    black_king_count = 0\n",
    "    white_pawns = 0\n",
    "    black_pawns = 0\n",
    "\n",
    "    for position, piece in board.items():\n",
    "        # Check if the position is valid\n",
    "        if len(position) != 2 or position[0] not in valid_ranks or position[1] not in valid_files:\n",
    "            return False\n",
    "\n",
    "        # Check if the piece name is valid\n",
    "        if piece not in valid_pieces:\n",
    "            return False\n",
    "\n",
    "        # Count pieces\n",
    "        if piece.startswith('w'):\n",
    "            white_pieces += 1\n",
    "            if piece == 'wking':\n",
    "                white_king_count += 1\n",
    "            elif piece == 'wpawn':\n",
    "                white_pawns += 1\n",
    "        elif piece.startswith('b'):\n",
    "            black_pieces += 1\n",
    "            if piece == 'bking':\n",
    "                black_king_count += 1\n",
    "            elif piece == 'bpawn':\n",
    "                black_pawns += 1\n",
    "\n",
    "    # Check for exactly one of each king\n",
    "    if white_king_count != 1 or black_king_count != 1:\n",
    "        return False\n",
    "\n",
    "    # Check for maximum number of pieces\n",
    "    if white_pieces > 16 or black_pieces > 16:\n",
    "        return False\n",
    "\n",
    "    # Check for maximum number of pawns\n",
    "    if white_pawns > 8 or black_pawns > 8:\n",
    "        return False\n",
    "\n",
    "    return True\n",
    "\n",
    "# Example usage:\n",
    "valid_board = {'1h': 'bking', '6c': 'wqueen', '2g': 'bbishop', '5h': 'bqueen', '3e': 'wking'}\n",
    "invalid_position = {'9z': 'wrook'}\n",
    "invalid_piece = {'1a': 'goldfish'}\n",
    "multiple_kings = {'1a': 'wking', '8h': 'wking', '2b': 'bking'}\n",
    "too_many_white = {'1a': 'wpawn', '2a': 'wpawn', '3a': 'wpawn', '4a': 'wpawn', '5a': 'wpawn', '6a': 'wpawn', '7a': 'wpawn', '8a': 'wpawn',\n",
    "                  '1b': 'wpawn', '2b': 'wpawn', '3b': 'wpawn', '4b': 'wpawn', '5b': 'wpawn', '6b': 'wpawn', '7b': 'wpawn', '8b': 'wpawn',\n",
    "                  '1c': 'wrook'}\n",
    "too_many_pawns = {'1a': 'wpawn', '2a': 'wpawn', '3a': 'wpawn', '4a': 'wpawn', '5a': 'wpawn', '6a': 'wpawn', '7a': 'wpawn', '8a': 'wpawn',\n",
    "                   '1b': 'wpawn'}\n",
    "correct_board = {'a1': 'wrook', 'b1': 'wknight', 'c1': 'wbishop', 'd1': 'wqueen', 'e1': 'wking', 'f1': 'wbishop', 'g1': 'wknight', 'h1': 'wrook',\n",
    "                 'a2': 'wpawn', 'b2': 'wpawn', 'c2': 'wpawn', 'd2': 'wpawn', 'e2': 'wpawn', 'f2': 'wpawn', 'g2': 'wpawn', 'h2': 'wpawn',\n",
    "                 'a8': 'brook', 'b8': 'bknight', 'c8': 'bbishop', 'd8': 'bqueen', 'e8': 'bking', 'f8': 'bbishop', 'g8': 'bknight', 'h8': 'brook',\n",
    "                 'a7': 'bpawn', 'b7': 'bpawn', 'c7': 'bpawn', 'd7': 'bpawn', 'e7': 'bpawn', 'f7': 'bpawn', 'g7': 'bpawn', 'h7': 'bpawn'}\n",
    "\n",
    "print(f\"Valid board: {isValidChessBoard(valid_board)}\")\n",
    "print(f\"Invalid position: {isValidChessBoard(invalid_position)}\")\n",
    "print(f\"Invalid piece: {isValidChessBoard(invalid_piece)}\")\n",
    "print(f\"Multiple kings: {isValidChessBoard(multiple_kings)}\")\n",
    "print(f\"Too many white pieces: {isValidChessBoard(too_many_white)}\")\n",
    "print(f\"Too many pawns: {isValidChessBoard(too_many_pawns)}\")"
   ]
  },
  {
   "cell_type": "code",
   "execution_count": 16,
   "id": "5e27cb6d-e9f7-41c3-9370-daa120693db8",
   "metadata": {},
   "outputs": [
    {
     "name": "stdout",
     "output_type": "stream",
     "text": [
      "True\n"
     ]
    }
   ],
   "source": [
    "def isValidChessBoard(board):\n",
    "    # Check kings count\n",
    "    if list(board.values()).count('bking') != 1 or list(board.values()).count('wking') != 1:\n",
    "        return False\n",
    "\n",
    "    # Initialize piece counters\n",
    "    white_pieces = 0\n",
    "    black_pieces = 0\n",
    "    white_pawns = 0\n",
    "    black_pawns = 0\n",
    "\n",
    "    # Valid piece types\n",
    "    valid_pieces = {'pawn', 'knight', 'bishop', 'rook', 'queen', 'king'}\n",
    "\n",
    "    for pos, piece in board.items():\n",
    "        # Check position is valid (1a to 8h)\n",
    "        if len(pos) != 2:\n",
    "            return False\n",
    "        if not (pos[0] in '12345678' and pos[1] in 'abcdefgh'):\n",
    "            return False\n",
    "\n",
    "        # Check piece is valid\n",
    "        if len(piece) < 2:\n",
    "            return False\n",
    "        color = piece[0]\n",
    "        piece_type = piece[1:]\n",
    "\n",
    "        if color not in ('w', 'b'):\n",
    "            return False\n",
    "        if piece_type not in valid_pieces:\n",
    "            return False\n",
    "\n",
    "        # Count pieces\n",
    "        if color == 'w':\n",
    "            white_pieces += 1\n",
    "            if piece_type == 'pawn':\n",
    "                white_pawns += 1\n",
    "        else:\n",
    "            black_pieces += 1\n",
    "            if piece_type == 'pawn':\n",
    "                black_pawns += 1\n",
    "\n",
    "    # Check total pieces and pawn counts\n",
    "    if white_pieces > 16 or black_pieces > 16:\n",
    "        return False\n",
    "    if white_pawns > 8 or black_pawns > 8:\n",
    "        return False\n",
    "\n",
    "    return True\n",
    "\n",
    "# Test the function with the given board\n",
    "chess_board = {'1h': 'bking', '6c': 'wqueen', '2g': 'bbishop', \n",
    "               '5h': 'bqueen', '3e': 'wking'}\n",
    "print(isValidChessBoard(chess_board))  # Should return True"
   ]
  },
  {
   "cell_type": "code",
   "execution_count": 18,
   "id": "0fe847d8-8571-4327-874c-c38c1cb05910",
   "metadata": {},
   "outputs": [
    {
     "name": "stdout",
     "output_type": "stream",
     "text": [
      "True\n"
     ]
    }
   ],
   "source": [
    "def isValidChessBoard(board):\n",
    "    # Set of all valid positions from '1a' to '8h'\n",
    "    valid_positions = {f\"{r}{c}\" for r in '12345678' for c in 'abcdefgh'}\n",
    "    \n",
    "    # Valid piece names\n",
    "    valid_pieces = {'pawn', 'knight', 'bishop', 'rook', 'queen', 'king'}\n",
    "    \n",
    "    # Counters\n",
    "    piece_count = {'w': 0, 'b': 0}\n",
    "    pawn_count = {'w': 0, 'b': 0}\n",
    "    king_count = {'w': 0, 'b': 0}\n",
    "\n",
    "    for position, piece in board.items():\n",
    "        # Check for valid board position\n",
    "        if position not in valid_positions:\n",
    "            return False\n",
    "\n",
    "        # Check piece naming convention\n",
    "        if len(piece) < 2 or piece[0] not in ('w', 'b') or piece[1:] not in valid_pieces:\n",
    "            return False\n",
    "\n",
    "        color = piece[0]\n",
    "        piece_type = piece[1:]\n",
    "\n",
    "        # Count total pieces and specific ones\n",
    "        piece_count[color] += 1\n",
    "        if piece_type == 'pawn':\n",
    "            pawn_count[color] += 1\n",
    "        elif piece_type == 'king':\n",
    "            king_count[color] += 1\n",
    "\n",
    "    # Check each condition\n",
    "    if king_count['w'] != 1 or king_count['b'] != 1:\n",
    "        return False\n",
    "    if piece_count['w'] > 16 or piece_count['b'] > 16:\n",
    "        return False\n",
    "    if pawn_count['w'] > 8 or pawn_count['b'] > 8:\n",
    "        return False\n",
    "\n",
    "    return True\n",
    "\n",
    "chess_board = {\n",
    "    '1h': 'bking',\n",
    "    '6c': 'wqueen',\n",
    "    '2g': 'bbishop',\n",
    "    '5h': 'bqueen',\n",
    "    '3e': 'wking'\n",
    "}\n",
    "\n",
    "print(isValidChessBoard(chess_board)) "
   ]
  },
  {
   "cell_type": "code",
   "execution_count": 30,
   "id": "ec025faa-3d6d-4951-aec3-9833f7b06455",
   "metadata": {},
   "outputs": [
    {
     "name": "stdout",
     "output_type": "stream",
     "text": [
      "Inventory:\n",
      "1 rope\n",
      "6 torch\n",
      "42 gold coin\n",
      "1 dagger\n",
      "12 arrow\n",
      "Total number of items: 62\n",
      "Inventory:\n",
      "3 healing potion\n",
      "2 mana potion\n",
      "1 sword\n",
      "Total number of items: 6\n"
     ]
    }
   ],
   "source": [
    "def displayInventory(inventory):\n",
    "    \"\"\"\n",
    "    Displays the items in the player's inventory and the total number of items.\n",
    "\n",
    "    Args:\n",
    "        inventory (dict): A dictionary where keys are item names (strings)\n",
    "                          and values are the quantity of each item (integers).\n",
    "    \"\"\"\n",
    "    print(\"Inventory:\")\n",
    "    total_items = 0\n",
    "    for item, quantity in inventory.items():\n",
    "        print(f\"{quantity} {item}\")\n",
    "        total_items += quantity\n",
    "    print(f\"Total number of items: {total_items}\")\n",
    "\n",
    "# Example inventory\n",
    "player_inventory = {'rope': 1, 'torch': 6, 'gold coin': 42, 'dagger': 1, 'arrow': 12}\n",
    "\n",
    "# Display the inventory\n",
    "displayInventory(player_inventory)\n",
    "\n",
    "# Another example inventory\n",
    "another_inventory = {'healing potion': 3, 'mana potion': 2, 'sword': 1}\n",
    "displayInventory(another_inventory)"
   ]
  },
  {
   "cell_type": "code",
   "execution_count": 31,
   "id": "373681fc-f9fb-4d34-a663-2d79acbb5c4c",
   "metadata": {},
   "outputs": [
    {
     "name": "stdout",
     "output_type": "stream",
     "text": [
      "Inventory:\n",
      "1 rope\n",
      "6 torch\n",
      "42 gold coin\n",
      "1 dagger\n",
      "12 arrow\n",
      "Total number of items: 62\n"
     ]
    }
   ],
   "source": [
    "def displayInventory(inventory):\n",
    "    \"\"\"\n",
    "    Displays the items in the player's inventory and the total number of items.\n",
    "\n",
    "    Args:\n",
    "        inventory (dict): A dictionary where keys are item names (strings)\n",
    "                          and values are the quantity of each item (integers).\n",
    "    \"\"\"\n",
    "    print(\"Inventory:\")\n",
    "    total_items = 0\n",
    "    for item, quantity in inventory.items():\n",
    "        print(f\"{quantity} {item}\")\n",
    "        total_items += quantity\n",
    "    print(f\"Total number of items: {total_items}\")\n",
    "\n",
    "# Example inventory\n",
    "player_inventory = {'rope': 1, 'torch': 6, 'gold coin': 42, 'dagger': 1, 'arrow': 12}\n",
    "\n",
    "# Display the inventory\n",
    "displayInventory(player_inventory)"
   ]
  },
  {
   "cell_type": "code",
   "execution_count": 32,
   "id": "a9c5a605-06b0-4487-b523-8039a0a88b66",
   "metadata": {},
   "outputs": [
    {
     "name": "stdout",
     "output_type": "stream",
     "text": [
      "Inventory:\n",
      "12 arrow\n",
      "1 dagger\n",
      "42 gold coin\n",
      "1 rope\n",
      "6 torch\n",
      "Total number of items: 62\n"
     ]
    }
   ],
   "source": [
    "def displayInventory(inventory):\n",
    "    \"\"\"\n",
    "    Displays the items in the player's inventory in alphabetical order\n",
    "    and the total number of items.\n",
    "\n",
    "    Args:\n",
    "        inventory (dict): A dictionary where keys are item names (strings)\n",
    "                          and values are the quantity of each item (integers).\n",
    "    \"\"\"\n",
    "    print(\"Inventory:\")\n",
    "    total_items = 0\n",
    "    # Sort the inventory items alphabetically by key\n",
    "    sorted_inventory = sorted(inventory.items())\n",
    "    for item, quantity in sorted_inventory:\n",
    "        print(f\"{quantity} {item}\")\n",
    "        total_items += quantity\n",
    "    print(f\"Total number of items: {total_items}\")\n",
    "\n",
    "# Example inventory\n",
    "player_inventory = {'rope': 1, 'torch': 6, 'gold coin': 42, 'dagger': 1, 'arrow': 12}\n",
    "\n",
    "# Display the inventory in alphabetical order\n",
    "displayInventory(player_inventory)"
   ]
  },
  {
   "cell_type": "code",
   "execution_count": 35,
   "id": "9d01740a-0626-4631-afc6-37ca74fb799f",
   "metadata": {},
   "outputs": [
    {
     "name": "stdout",
     "output_type": "stream",
     "text": [
      "Inventory:\n",
      "1 dagger\n",
      "45 gold coin\n",
      "1 rope\n",
      "1 ruby\n",
      "Total number of items: 48\n"
     ]
    }
   ],
   "source": [
    "def addToInventory(inventory, addedItems):\n",
    "    \"\"\"\n",
    "    Adds items from a list to the player's inventory dictionary.\n",
    "\n",
    "    Args:\n",
    "        inventory (dict): The current player's inventory.\n",
    "        addedItems (list): A list of items to add to the inventory.\n",
    "\n",
    "    Returns:\n",
    "        dict: The updated inventory dictionary.\n",
    "    \"\"\"\n",
    "    for item in addedItems:\n",
    "        if item in inventory:\n",
    "            inventory[item] += 1\n",
    "        else:\n",
    "            inventory[item] = 1\n",
    "    return inventory\n",
    "\n",
    "def displayInventory(inventory):\n",
    "    \"\"\"\n",
    "    Displays the items in the player's inventory in alphabetical order\n",
    "    and the total number of items.\n",
    "\n",
    "    Args:\n",
    "        inventory (dict): A dictionary where keys are item names (strings)\n",
    "                          and values are the quantity of each item (integers).\n",
    "    \"\"\"\n",
    "    print(\"Inventory:\")\n",
    "    total_items = 0\n",
    "    sorted_inventory = sorted(inventory.items())\n",
    "    for item, quantity in sorted_inventory:\n",
    "        print(f\"{quantity} {item}\")\n",
    "        total_items += quantity\n",
    "    print(f\"Total number of items: {total_items}\")\n",
    "\n",
    "# Example usage:\n",
    "inv = {'gold coin': 42, 'rope': 1}\n",
    "dragonLoot = ['gold coin', 'dagger', 'gold coin', 'gold coin', 'ruby']\n",
    "inv = addToInventory(inv, dragonLoot)\n",
    "displayInventory(inv)"
   ]
  },
  {
   "cell_type": "code",
   "execution_count": 37,
   "id": "2674ab4b-3918-4bea-bbd1-94edc672e474",
   "metadata": {},
   "outputs": [
    {
     "name": "stdout",
     "output_type": "stream",
     "text": [
      "\n",
      "Example 1:\n",
      "Inventory:\n",
      "1 gold coin\n",
      "5 healing potion\n",
      "2 iron sword\n",
      "1 leather armor\n",
      "Total number of items: 9\n",
      "\n",
      "Example 2:\n",
      "Inventory:\n",
      "1 berries\n",
      "1 stone\n",
      "2 wooden stick\n",
      "Total number of items: 4\n",
      "\n",
      "Example 3:\n",
      "Inventory:\n",
      "10 arrow\n",
      "Total number of items: 10\n"
     ]
    }
   ],
   "source": [
    "def addToInventory(inventory, addedItems):\n",
    "    \"\"\"\n",
    "    Adds items from a list to the player's inventory dictionary.\n",
    "\n",
    "    Args:\n",
    "        inventory (dict): The current player's inventory.\n",
    "        addedItems (list): A list of items to add to the inventory.\n",
    "\n",
    "    Returns:\n",
    "        dict: The updated inventory dictionary.\n",
    "    \"\"\"\n",
    "    for item in addedItems:\n",
    "        inventory[item] = inventory.get(item, 0) + 1\n",
    "    return inventory\n",
    "\n",
    "def displayInventory(inventory):\n",
    "    \"\"\"\n",
    "    Displays the items in the player's inventory in alphabetical order\n",
    "    and the total number of items.\n",
    "\n",
    "    Args:\n",
    "        inventory (dict): A dictionary where keys are item names (strings)\n",
    "                          and values are the quantity of each item (integers).\n",
    "    \"\"\"\n",
    "    print(\"Inventory:\")\n",
    "    total_items = 0\n",
    "    sorted_inventory = sorted(inventory.items())\n",
    "    for item, quantity in sorted_inventory:\n",
    "        print(f\"{quantity} {item}\")\n",
    "        total_items += quantity\n",
    "    print(f\"Total number of items: {total_items}\")\n",
    "\n",
    "# Example 1: Adding a variety of new and existing items\n",
    "initial_inventory1 = {'iron sword': 1, 'healing potion': 3}\n",
    "found_items1 = ['gold coin', 'iron sword', 'leather armor', 'healing potion', 'healing potion']\n",
    "updated_inventory1 = addToInventory(initial_inventory1, found_items1)\n",
    "print(\"\\nExample 1:\")\n",
    "displayInventory(updated_inventory1)\n",
    "\n",
    "# Example 2: Adding only new items to an empty inventory\n",
    "initial_inventory2 = {}\n",
    "found_items2 = ['wooden stick', 'berries', 'wooden stick', 'stone']\n",
    "updated_inventory2 = addToInventory(initial_inventory2, found_items2)\n",
    "print(\"\\nExample 2:\")\n",
    "displayInventory(updated_inventory2)\n",
    "\n",
    "# Example 3: Adding the same item multiple times\n",
    "initial_inventory3 = {'arrow': 5}\n",
    "found_items3 = ['arrow', 'arrow', 'arrow', 'arrow', 'arrow']\n",
    "updated_inventory3 = addToInventory(initial_inventory3, found_items3)\n",
    "print(\"\\nExample 3:\")\n",
    "displayInventory(updated_inventory3)"
   ]
  },
  {
   "cell_type": "code",
   "execution_count": 38,
   "id": "4c98c228-066f-485c-8879-805527299bf7",
   "metadata": {},
   "outputs": [
    {
     "name": "stdout",
     "output_type": "stream",
     "text": [
      "Word Frequency:\n",
      "a: 1\n",
      "and: 1\n",
      "has: 1\n",
      "is: 1\n",
      "like: 1\n",
      "repeated: 1\n",
      "sample: 1\n",
      "some: 1\n",
      "text: 3\n",
      "this: 3\n",
      "words: 1\n"
     ]
    }
   ],
   "source": [
    "def countWordFrequency(text):\n",
    "    \"\"\"\n",
    "    Counts the frequency of each word in a given text.\n",
    "\n",
    "    Args:\n",
    "        text (str): The input text.\n",
    "\n",
    "    Returns:\n",
    "        dict: A dictionary where keys are words and values are their frequencies.\n",
    "    \"\"\"\n",
    "    word_counts = {}\n",
    "    # Remove punctuation and convert to lowercase for consistent counting\n",
    "    text = ''.join(char.lower() for char in text if char.isalnum() or char.isspace())\n",
    "    words = text.split()\n",
    "    for word in words:\n",
    "        word_counts[word] = word_counts.get(word, 0) + 1\n",
    "    return word_counts\n",
    "\n",
    "def displayWordFrequency(frequency):\n",
    "    \"\"\"\n",
    "    Displays the word frequencies in alphabetical order.\n",
    "\n",
    "    Args:\n",
    "        frequency (dict): A dictionary where keys are words and values are their frequencies.\n",
    "    \"\"\"\n",
    "    print(\"Word Frequency:\")\n",
    "    sorted_frequency = sorted(frequency.items())\n",
    "    for word, count in sorted_frequency:\n",
    "        print(f\"{word}: {count}\")\n",
    "\n",
    "# Example text\n",
    "sample_text = \"This is a sample text. This text has some repeated words like this and text.\"\n",
    "\n",
    "# Count the word frequencies\n",
    "frequency_map = countWordFrequency(sample_text)\n",
    "\n",
    "# Display the word frequencies\n",
    "displayWordFrequency(frequency_map)"
   ]
  },
  {
   "cell_type": "code",
   "execution_count": 46,
   "id": "17bafbdf-ba06-4c5c-b83c-9bb9d2cbd355",
   "metadata": {},
   "outputs": [
    {
     "name": "stdout",
     "output_type": "stream",
     "text": [
      "\n",
      "Example 4:\n",
      "Inventory:\n",
      "1 dagger\n",
      "1 healing potion\n",
      "2 iron helmet\n",
      "1 mana potion\n",
      "1 small shield\n",
      "Total number of items: 6\n"
     ]
    }
   ],
   "source": [
    "def addToinventory(inventory, addedItems):\n",
    "    for item in addedItems:\n",
    "        inventory[item] = inventory.get(item, 0) + 1\n",
    "    return inventory\n",
    "\n",
    "def display(inventory):\n",
    "    print(\"Inventory:\")\n",
    "    total_items = 0\n",
    "    sorted_inventory = sorted(inventory.items())\n",
    "    for item, quantity in sorted_inventory:\n",
    "        print(f\"{quantity} {item}\")\n",
    "        total_items += quantity\n",
    "    print(f\"Total number of items: {total_items}\")\n",
    "\n",
    "\n",
    "initial_inventory4 = {'iron helmet': 1, 'small shield': 1}\n",
    "found_items4 = ['healing potion', 'mana potion', 'iron helmet', 'dagger']\n",
    "updated_inventory4 = addToinventory(initial_inventory4, found_items4)\n",
    "print(\"\\nExample 4:\")\n",
    "display(updated_inventory4)"
   ]
  },
  {
   "cell_type": "code",
   "execution_count": 67,
   "id": "f1ab18f5-1e75-46cb-a29a-47b29598fac3",
   "metadata": {},
   "outputs": [
    {
     "name": "stdout",
     "output_type": "stream",
     "text": [
      "\n",
      "Inventory:\n",
      "10 herb\n",
      "5 stone\n",
      "10 wood\n",
      "Total number of items: 25\n",
      "\n",
      "Recipe for Wooden Sword:\n",
      "2 wood\n",
      "3 stone\n",
      "Crafting successful!\n",
      "\n",
      "Inventory:\n",
      "1 Wooden Sword\n",
      "10 herb\n",
      "2 stone\n",
      "8 wood\n",
      "Total number of items: 21\n",
      "\n",
      "Recipe for Healing Potion:\n",
      "5 herb\n",
      "Crafting successful!\n",
      "\n",
      "Inventory:\n",
      "1 Healing Potion\n",
      "1 Wooden Sword\n",
      "5 herb\n",
      "2 stone\n",
      "8 wood\n",
      "Total number of items: 17\n"
     ]
    }
   ],
   "source": [
    "def craftItem(inventory, recipes, crafted_item_name):\n",
    "    \"\"\"\n",
    "    Crafts an item if the player has the required ingredients.\n",
    "\n",
    "    Args:\n",
    "        inventory (dict): The current player's inventory.\n",
    "        recipes (dict): A dictionary where keys are required item names\n",
    "                        and values are the quantity needed.\n",
    "        crafted_item_name (str): The name of the item being crafted.\n",
    "\n",
    "    Returns:\n",
    "        tuple: A tuple containing:\n",
    "               - bool: True if the item was crafted, False otherwise.\n",
    "               - dict: The updated inventory after crafting (if successful).\n",
    "    \"\"\"\n",
    "    can_craft = True\n",
    "    for item, quantity_needed in recipes.items():\n",
    "        if item not in inventory or inventory[item] < quantity_needed:\n",
    "            can_craft = False\n",
    "            print(f\"Not enough {item} to craft.\")\n",
    "            break\n",
    "\n",
    "    if can_craft:\n",
    "        print(\"Crafting successful!\")\n",
    "        updated_inventory = inventory.copy()\n",
    "        for item, quantity_needed in recipes.items():\n",
    "            updated_inventory[item] -= quantity_needed\n",
    "            if updated_inventory[item] == 0:\n",
    "                del updated_inventory[item]\n",
    "        updated_inventory[crafted_item_name] = updated_inventory.get(crafted_item_name, 0) + 1\n",
    "        return True, updated_inventory\n",
    "    else:\n",
    "        return False, inventory\n",
    "\n",
    "def displayRecipe(recipe, itemName):\n",
    "    \"\"\"\n",
    "    Displays the recipe for a given item.\n",
    "\n",
    "    Args:\n",
    "        recipe (dict): A dictionary where keys are ingredient names\n",
    "                        and values are the quantity needed.\n",
    "        itemName (str): The name of the item the recipe is for.\n",
    "    \"\"\"\n",
    "    print(f\"\\nRecipe for {itemName}:\")\n",
    "    for ingredient, quantity in recipe.items():\n",
    "        print(f\"{quantity} {ingredient}\")\n",
    "\n",
    "def displayInventory(inventory):\n",
    "    print(\"\\nInventory:\")\n",
    "    total_items = sum(inventory.values())\n",
    "    for item, quantity in sorted(inventory.items()):\n",
    "        print(f\"{quantity} {item}\")\n",
    "    print(f\"Total number of items: {total_items}\")\n",
    "\n",
    "# Example Usage:\n",
    "player_inventory = {'wood': 10, 'stone': 5, 'herb': 10}\n",
    "sword_recipe = {'wood': 2, 'stone': 3}\n",
    "potion_recipe = {'herb': 5}\n",
    "\n",
    "displayInventory(player_inventory)\n",
    "displayRecipe(sword_recipe, \"Wooden Sword\")\n",
    "crafted_sword, player_inventory = craftItem(player_inventory, sword_recipe, \"Wooden Sword\")\n",
    "if crafted_sword:\n",
    "    displayInventory(player_inventory)\n",
    "\n",
    "displayRecipe(potion_recipe, \"Healing Potion\")\n",
    "crafted_potion, player_inventory = craftItem(player_inventory, potion_recipe, \"Healing Potion\")\n",
    "if crafted_potion:\n",
    "    displayInventory(player_inventory)"
   ]
  },
  {
   "cell_type": "code",
   "execution_count": 80,
   "id": "702da4c1-deb5-4a15-b1ac-f88a92fe919b",
   "metadata": {},
   "outputs": [
    {
     "name": "stdout",
     "output_type": "stream",
     "text": [
      "\n",
      "Attendance Record\n",
      "Alice attended 2 days\n",
      "Bob attended 1 days\n",
      "Charlie attended 1 days\n"
     ]
    }
   ],
   "source": [
    "def recordAttendance(student_name, attendance_dict):\n",
    "    \"\"\"Records the attendance of a student in the dictionary.\"\"\"\n",
    "    if student_name in attendance_dict:\n",
    "        attendance_dict[student_name] += 1\n",
    "    else:\n",
    "        attendance_dict[student_name] = 1\n",
    "    return attendance_dict\n",
    "\n",
    "def displayAttendance(attendance_dict):\n",
    "    \"\"\"Displays the attendance record.\"\"\"\n",
    "    print(\"\\nAttendance Record\")\n",
    "    if not attendance_dict:\n",
    "        print(\"No attendance yet\")\n",
    "        return\n",
    "    for student, day_attended in sorted(attendance_dict.items()):\n",
    "        print(f\"{student} attended {day_attended} days\")\n",
    "\n",
    "# Example Usage:\n",
    "class_attendance = {}\n",
    "\n",
    "class_attendance = recordAttendance(\"Alice\", class_attendance)\n",
    "class_attendance = recordAttendance(\"Bob\", class_attendance)\n",
    "class_attendance = recordAttendance(\"Alice\", class_attendance)\n",
    "class_attendance = recordAttendance(\"Charlie\", class_attendance)\n",
    "\n",
    "displayAttendance(class_attendance)"
   ]
  },
  {
   "cell_type": "code",
   "execution_count": 97,
   "id": "379aec5a-93d6-4513-b4c4-168a0d98ab27",
   "metadata": {},
   "outputs": [
    {
     "name": "stdout",
     "output_type": "stream",
     "text": [
      "Hello, Buddy the dog!\n",
      "Hello, Whiskers the cat!\n",
      "\n",
      "My dog's info: {'name': 'Buddy', 'animal_type': 'dog'}\n",
      "My cat's name: Whiskers\n"
     ]
    }
   ],
   "source": [
    "def describe_pet(name, animal_type):\n",
    "    \"\"\"Creates a dictionary describing a pet.\"\"\"\n",
    "    pet = {}\n",
    "    pet['name'] = name\n",
    "    pet['animal_type'] = animal_type\n",
    "    return pet\n",
    "\n",
    "def greet_pet(pet_info):\n",
    "    \"\"\"Greets the pet using the information in the dictionary.\"\"\"\n",
    "    print(f\"Hello, {pet_info['name']} the {pet_info['animal_type']}!\")\n",
    "\n",
    "# Example Usage:\n",
    "my_dog = describe_pet(\"Buddy\", \"dog\")\n",
    "my_cat = describe_pet(\"Whiskers\", \"cat\")\n",
    "\n",
    "greet_pet(my_dog)\n",
    "greet_pet(my_cat)\n",
    "\n",
    "print(\"\\nMy dog's info:\", my_dog)\n",
    "print(\"My cat's name:\", my_cat['name'])"
   ]
  },
  {
   "cell_type": "code",
   "execution_count": 103,
   "id": "0564586d-5b76-40bb-b506-44c281fb532a",
   "metadata": {},
   "outputs": [
    {
     "name": "stdout",
     "output_type": "stream",
     "text": [
      "Color: Red, hexcode: #FF0000\n",
      "Color: Blue, hexcode: #0000FF\n",
      "Color: Green, hexcode: #00FF00\n",
      "\n",
      "Hex code for Blue: #0000FF\n"
     ]
    }
   ],
   "source": [
    "def create_color_map(color_name, hexcode):\n",
    "    \"\"\"Creates a dictionary mapping a color name to its hex code.\"\"\"\n",
    "    color_info = {}\n",
    "    color_info['name'] = color_name\n",
    "    color_info['hex'] = hexcode\n",
    "    return color_info\n",
    "\n",
    "def display_color_info(color_dict):\n",
    "    \"\"\"Displays the name and hex code of a color.\"\"\"\n",
    "    print(f\"Color: {color_dict['name']}, hexcode: {color_dict['hex']}\")\n",
    "\n",
    "# Example Usage:\n",
    "red_color = create_color_map(\"Red\", \"#FF0000\")\n",
    "blue_color = create_color_map(\"Blue\", \"#0000FF\")\n",
    "green_color = create_color_map(\"Green\", \"#00FF00\")\n",
    "\n",
    "display_color_info(red_color)\n",
    "display_color_info(blue_color)\n",
    "display_color_info(green_color)\n",
    "\n",
    "print(\"\\nHex code for Blue:\", blue_color['hex'])"
   ]
  },
  {
   "cell_type": "code",
   "execution_count": 105,
   "id": "9be69908-ed88-4553-b523-c6a3f16c0955",
   "metadata": {},
   "outputs": [
    {
     "name": "stdout",
     "output_type": "stream",
     "text": [
      "Username: coder123\n",
      "Email: coder@example.com\n",
      "Age: 30\n",
      "\n",
      "\n",
      "Username: learner\n",
      "Email: learner@sample.org\n",
      "Age: 30\n",
      "\n",
      "User 1's email: coder@example.com\n"
     ]
    }
   ],
   "source": [
    "def create_user_profile(username, email, age):\n",
    "    \"\"\"Creates a dictionary representing a user profile.\"\"\"\n",
    "    user = {}\n",
    "    user['username'] = username\n",
    "    user['email'] = email\n",
    "    user['age'] = age\n",
    "    return user\n",
    "\n",
    "def display_user_info(user_data):\n",
    "    \"\"\"Displays the information from a user profile dictionary.\"\"\"\n",
    "    print(f\"Username: {user_data['username']}\")\n",
    "    print(f\"Email: {user_data['email']}\")\n",
    "    print(f\"Age: {user_data['age']}\")\n",
    "\n",
    "# example usage:\n",
    "user1 = create_user_profile(\"coder123\", \"coder@example.com\", 30)\n",
    "user2 = create_user_profile(\"learner\", \"learner@sample.org\", 30)\n",
    "\n",
    "display_user_info(user1)\n",
    "print(\"\\n\")\n",
    "display_user_info(user2)\n",
    "print(\"\\nUser 1's email:\", user1['email'])"
   ]
  },
  {
   "cell_type": "code",
   "execution_count": 106,
   "id": "8097a901-6295-449c-8ec9-de15bbca2a7d",
   "metadata": {},
   "outputs": [
    {
     "name": "stdout",
     "output_type": "stream",
     "text": [
      "{'Monday': 1, 'Tuesday': 2, 'Wednesday': 3, 'Thursday': 4, 'Friday': 5, 'Saturday': 6, 'Sunday': 7}\n",
      "Day 3 is: Wednesday\n",
      "Day 7 is: Sunday\n",
      "Day for number 1: Monday\n"
     ]
    }
   ],
   "source": [
    "def get_day_number_map():\n",
    "    \"\"\"Creates a dictionary mapping day names to their number (starting from Monday=1).\"\"\"\n",
    "    day_map = {\n",
    "        \"Monday\": 1,\n",
    "        \"Tuesday\": 2,\n",
    "        \"Wednesday\": 3,\n",
    "        \"Thursday\": 4,\n",
    "        \"Friday\": 5,\n",
    "        \"Saturday\": 6,\n",
    "        \"Sunday\": 7\n",
    "    }\n",
    "    return day_map\n",
    "\n",
    "def get_day_name(day_number, day_mapping):\n",
    "    \"\"\"Retrieves the day name based on its number using the provided map.\"\"\"\n",
    "    for day, number in day_mapping.items():\n",
    "        if number == day_number:\n",
    "            return day\n",
    "    return \"Invalid Day Number\"\n",
    "\n",
    "# Example Usage:\n",
    "days = get_day_number_map()\n",
    "print(days)\n",
    "print(f\"Day 3 is: {get_day_name(3, days)}\")\n",
    "print(f\"Day 7 is: {get_day_name(7, days)}\")\n",
    "print(f\"Day for number 1: {list(days.keys())[0]}\") # Accessing by index (order is guaranteed in Python 3.7+)"
   ]
  },
  {
   "cell_type": "code",
   "execution_count": 108,
   "id": "f1224556-d1e7-4753-ac1d-37c99fc259ad",
   "metadata": {},
   "outputs": [
    {
     "name": "stdout",
     "output_type": "stream",
     "text": [
      "apple: 3\n",
      "banana: 2\n",
      "orange: 1\n"
     ]
    }
   ],
   "source": [
    "def count_items(item_list):\n",
    "    \"\"\"Counts the occurrences of each item in a list and returns a dictionary.\"\"\"\n",
    "    item_counts = {}\n",
    "    for item in item_list:\n",
    "        item_counts[item] = item_counts.get(item, 0) + 1\n",
    "    return item_counts\n",
    "\n",
    "def display_counts(counts):\n",
    "    \"\"\"Displays the counts of each item in the dictionary.\"\"\"\n",
    "    for item, count in counts.items():\n",
    "        print(f\"{item}: {count}\")\n",
    "\n",
    "# Example Usage:\n",
    "my_list = [\"apple\", \"banana\", \"apple\", \"orange\", \"banana\", \"apple\"]\n",
    "item_frequencies = count_items(my_list)\n",
    "display_counts(item_frequencies)\n"
   ]
  },
  {
   "cell_type": "code",
   "execution_count": 111,
   "id": "d7f490ac-2f62-4c03-bbff-42797831b1ef",
   "metadata": {},
   "outputs": [
    {
     "name": "stdout",
     "output_type": "stream",
     "text": [
      "Number Frequencies:\n",
      "dildo: 2\n",
      "bigger dildo: 1\n",
      "lube: 1\n",
      "slam 0.5: 1\n",
      "poppers: 1\n",
      "k: 1\n",
      "g: 1\n",
      "t: 1\n",
      "--------------------\n"
     ]
    }
   ],
   "source": [
    "def count_items(item_list):\n",
    "    item_counts = {}\n",
    "    for item in item_list:\n",
    "        item_counts[item] = item_counts.get(item, 0) + 1\n",
    "    return item_counts\n",
    "\n",
    "def display_count(counts):\n",
    "    \"\"\"Displays the counts of each item in the dictionary.\"\"\"\n",
    "    for item, count in counts.items():\n",
    "        print(f\"{item} {count}\")\n",
    "\n",
    "# Example Usage 1: Counting numbers\n",
    "number_list = [\"dildo\", \"bigger dildo\", \"dildo\", \"lube\", \"slam 0.5\", \"poppers\", \"k\", \"g\", \"t\"]\n",
    "number_frequencies = count_items(number_list)\n",
    "print(\"Number Frequencies:\")\n",
    "display_counts(number_frequencies)\n",
    "print(\"-\" * 20)"
   ]
  },
  {
   "cell_type": "code",
   "execution_count": 116,
   "id": "055d50da-7d2a-48da-be57-ddb8bdb8f921",
   "metadata": {},
   "outputs": [
    {
     "name": "stdout",
     "output_type": "stream",
     "text": [
      "Word Frequencies:\n",
      "the: 2\n",
      "quick: 1\n",
      "brown: 1\n",
      "fox: 2\n",
      "jumps: 1\n",
      "over: 1\n",
      "lazy: 1\n",
      "--------------------\n"
     ]
    }
   ],
   "source": [
    "def count_items(item_list):\n",
    "    \"\"\"Counts the occurrences of each item in a list and returns a dictionary.\"\"\"\n",
    "    item_counts = {}\n",
    "    for item in item_list:\n",
    "        item_counts[item] = item_counts.get(item, 0) + 1\n",
    "    return item_counts\n",
    "\n",
    "def display_counts(counts):\n",
    "    \"\"\"Displays the counts of each item in the dictionary.\"\"\"\n",
    "    for item, count in counts.items():\n",
    "        print(f\"{item}: {count}\")\n",
    "\n",
    "# Example Usage 3: Counting words in a short phrase\n",
    "phrase = \"the quick brown fox jumps over the lazy fox\".split()\n",
    "word_frequencies = count_items(phrase)\n",
    "print(\"Word Frequencies:\")\n",
    "display_counts(word_frequencies)\n",
    "print(\"-\" * 20)"
   ]
  },
  {
   "cell_type": "code",
   "execution_count": 117,
   "id": "b5067588-198e-4bad-a761-4db9a1b01c12",
   "metadata": {},
   "outputs": [
    {
     "name": "stdout",
     "output_type": "stream",
     "text": [
      "Boolean Frequencies:\n",
      "True: 4\n",
      "False: 3\n",
      "--------------------\n"
     ]
    }
   ],
   "source": [
    "def count_items(item_list):\n",
    "    \"\"\"Counts the occurrences of each item in a list and returns a dictionary.\"\"\"\n",
    "    item_counts = {}\n",
    "    for item in item_list:\n",
    "        item_counts[item] = item_counts.get(item, 0) + 1\n",
    "    return item_counts\n",
    "\n",
    "def display_counts(counts):\n",
    "    \"\"\"Displays the counts of each item in the dictionary.\"\"\"\n",
    "    for item, count in counts.items():\n",
    "        print(f\"{item}: {count}\")\n",
    "\n",
    "# Example Usage 4: Counting boolean values\n",
    "bool_list = [True, False, True, True, False, False, True]\n",
    "bool_frequencies = count_items(bool_list)\n",
    "print(\"Boolean Frequencies:\")\n",
    "display_counts(bool_frequencies)\n",
    "print(\"-\" * 20)\n",
    "        "
   ]
  },
  {
   "cell_type": "code",
   "execution_count": 118,
   "id": "260edb90-94dc-4c2f-963a-d052c6c2f1aa",
   "metadata": {},
   "outputs": [
    {
     "name": "stdout",
     "output_type": "stream",
     "text": [
      "Mixed Data Type Frequencies:\n",
      "1: 3\n",
      "hello: 2\n",
      "3.14: 2\n",
      "world: 1\n",
      "--------------------\n"
     ]
    }
   ],
   "source": [
    "def count_items(item_list):\n",
    "    \"\"\"Counts the occurrences of each item in a list and returns a dictionary.\"\"\"\n",
    "    item_counts = {}\n",
    "    for item in item_list:\n",
    "        item_counts[item] = item_counts.get(item, 0) + 1\n",
    "    return item_counts\n",
    "\n",
    "def display_counts(counts):\n",
    "    \"\"\"Displays the counts of each item in the dictionary.\"\"\"\n",
    "    for item, count in counts.items():\n",
    "        print(f\"{item}: {count}\")\n",
    "\n",
    "# Example Usage 5: Counting mixed data types\n",
    "mixed_list = [1, \"hello\", 3.14, \"hello\", 1, True, 3.14, \"world\"]\n",
    "mixed_frequencies = count_items(mixed_list)\n",
    "print(\"Mixed Data Type Frequencies:\")\n",
    "display_counts(mixed_frequencies)\n",
    "print(\"-\" * 20)"
   ]
  },
  {
   "cell_type": "code",
   "execution_count": null,
   "id": "c8fda53d-74ff-49e2-ae33-98ac63c3ee39",
   "metadata": {},
   "outputs": [],
   "source": []
  }
 ],
 "metadata": {
  "kernelspec": {
   "display_name": "Python 3 (ipykernel)",
   "language": "python",
   "name": "python3"
  },
  "language_info": {
   "codemirror_mode": {
    "name": "ipython",
    "version": 3
   },
   "file_extension": ".py",
   "mimetype": "text/x-python",
   "name": "python",
   "nbconvert_exporter": "python",
   "pygments_lexer": "ipython3",
   "version": "3.12.7"
  }
 },
 "nbformat": 4,
 "nbformat_minor": 5
}

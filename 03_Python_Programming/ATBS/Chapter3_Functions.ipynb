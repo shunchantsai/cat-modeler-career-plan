{
 "cells": [
  {
   "cell_type": "code",
   "execution_count": 53,
   "id": "a50778ef-6d6f-4bb7-8942-f02ade576af7",
   "metadata": {},
   "outputs": [
    {
     "name": "stdout",
     "output_type": "stream",
     "text": [
      "Welcome to Magic 8 Ball! Please ask your question:\n"
     ]
    },
    {
     "name": "stdin",
     "output_type": "stream",
     "text": [
      ">  get into Bsc Data Science\n"
     ]
    },
    {
     "name": "stdout",
     "output_type": "stream",
     "text": [
      "\n",
      "The Magic 8 Ball says: It is decidedly so\n"
     ]
    }
   ],
   "source": [
    "import random\n",
    "\n",
    "def get_answer(answer_number):\n",
    "    responses = {\n",
    "        1: 'It is certain',\n",
    "        2: 'It is decidedly so',\n",
    "        3: 'Yes',\n",
    "        4: 'Reply hazy try again',\n",
    "        5: 'Ask again later',\n",
    "        6: 'Concentrate and ask again',\n",
    "        7: 'My reply is no',\n",
    "        8: 'Outlook not so good',\n",
    "        9: 'Very doubtful'\n",
    "    }\n",
    "    return responses.get(answer_number, \"I'm not sure\")\n",
    "\n",
    "print(\"Welcome to Magic 8 Ball! Please ask your question:\")\n",
    "question = input(\"> \")  # User types their question\n",
    "\n",
    "if question.strip():  # Only respond if question isn't empty\n",
    "    fortune = get_answer(random.randint(1, 9))\n",
    "    print(\"\\nThe Magic 8 Ball says:\", fortune)\n",
    "else:\n",
    "    print(\"You didn't ask a question!\")"
   ]
  },
  {
   "cell_type": "code",
   "execution_count": 62,
   "id": "558e381e-7ed4-466d-acdc-a2f79bc422af",
   "metadata": {},
   "outputs": [
    {
     "name": "stdout",
     "output_type": "stream",
     "text": [
      "🍪 Welcome to Fortune Cookie Generator! Crack your cookie? (yes/no)\n"
     ]
    },
    {
     "name": "stdin",
     "output_type": "stream",
     "text": [
      ">  jj\n"
     ]
    },
    {
     "name": "stdout",
     "output_type": "stream",
     "text": [
      "Please answer 'yes' or 'no'\n"
     ]
    },
    {
     "name": "stdin",
     "output_type": "stream",
     "text": [
      ">  yes\n"
     ]
    },
    {
     "name": "stdout",
     "output_type": "stream",
     "text": [
      "\n",
      "Breaking the cookie...\n",
      "Your fortune says: Good things come to those who wait\n",
      "Thanks for trying the Fortune Cookie Generator!\n"
     ]
    }
   ],
   "source": [
    "import random\n",
    "\n",
    "def get_fortune(fortune_number):\n",
    "    fortunes = {\n",
    "        1: \"A beautiful surprise is waiting for you\",\n",
    "        2: \"Your creativity will lead to great success\",\n",
    "        3: \"Good things come to those who wait\",\n",
    "        4: \"Adventure is on your horizon\",\n",
    "        5: \"Now is the time to try something new\",\n",
    "        6: \"Your kindness will return to you tenfold\",\n",
    "        7: \"A financial opportunity is coming your way\",\n",
    "        8: \"Someone special is thinking of you\",\n",
    "        9: \"Trust your instincts this week\"\n",
    "    }\n",
    "    return fortunes.get(fortune_number, \"The future is unwritten\")\n",
    "\n",
    "print(\"🍪 Welcome to Fortune Cookie Generator! Crack your cookie? (yes/no)\")\n",
    "\n",
    "while True:\n",
    "    user_choice = input(\"> \").lower()\n",
    "    if user_choice == 'yes':\n",
    "        print(\"\\nBreaking the cookie...\")\n",
    "        print(\"Your fortune says:\", get_fortune(random.randint(1, 9)))\n",
    "        break  # Exit the loop after getting the fortune\n",
    "    elif user_choice == 'no':\n",
    "        print(\"Maybe next time!\")\n",
    "        break  # Exit the loop if the user says 'no'\n",
    "    else:\n",
    "        print(\"Please answer 'yes' or 'no'\")\n",
    "\n",
    "print(\"Thanks for trying the Fortune Cookie Generator!\")"
   ]
  },
  {
   "cell_type": "code",
   "execution_count": 4,
   "id": "ac2b52ec-6907-4247-914a-61c68c208c9f",
   "metadata": {},
   "outputs": [
    {
     "name": "stdout",
     "output_type": "stream",
     "text": [
      "Hello!\n"
     ]
    },
    {
     "data": {
      "text/plain": [
       "True"
      ]
     },
     "execution_count": 4,
     "metadata": {},
     "output_type": "execute_result"
    }
   ],
   "source": [
    "spam = print('Hello!')\n",
    "None == spam"
   ]
  },
  {
   "cell_type": "code",
   "execution_count": 8,
   "id": "505f7aa4-e85c-49e9-bf53-306641a2d63e",
   "metadata": {},
   "outputs": [
    {
     "name": "stdout",
     "output_type": "stream",
     "text": [
      "a() starts\n",
      "b() starts\n",
      "c() starts\n",
      "c() returns\n",
      "b() returns\n",
      "d() starts\n",
      "d() returns\n",
      "a() returns\n"
     ]
    }
   ],
   "source": [
    "def a():\n",
    "    print('a() starts')\n",
    "    b()  # ➊ Calls b()\n",
    "    d()  # ➋ Calls d()\n",
    "    print('a() returns')\n",
    "\n",
    "def b():\n",
    "    print('b() starts')\n",
    "    c()  # ➌ Calls c()\n",
    "    print('b() returns')\n",
    "\n",
    "def c():\n",
    "    print('c() starts')  # ➍\n",
    "    print('c() returns')\n",
    "\n",
    "def d():\n",
    "    print('d() starts')\n",
    "    print('d() returns')\n",
    "\n",
    "a()  # ➎ Starts the chain"
   ]
  },
  {
   "cell_type": "code",
   "execution_count": 9,
   "id": "42aabbc3-cec3-4be1-9ba2-89d61811a2ef",
   "metadata": {},
   "outputs": [
    {
     "name": "stdout",
     "output_type": "stream",
     "text": [
      "Function 1 starts\n",
      "Function 2 starts\n",
      "Function 3 runs\n",
      "Function 2 ends\n",
      "Function 1 ends\n"
     ]
    }
   ],
   "source": [
    "def function1():\n",
    "    print(\"Function 1 starts\")\n",
    "    function2()\n",
    "    print(\"Function 1 ends\")\n",
    "\n",
    "def function2():\n",
    "    print(\"Function 2 starts\")\n",
    "    function3()\n",
    "    print(\"Function 2 ends\")\n",
    "\n",
    "def function3():\n",
    "    print(\"Function 3 runs\")\n",
    "\n",
    "function1()  # Trigger the call stack"
   ]
  },
  {
   "cell_type": "code",
   "execution_count": 63,
   "id": "91164f59-4fcb-4890-ae56-d56ee4d4e3f7",
   "metadata": {},
   "outputs": [
    {
     "name": "stdout",
     "output_type": "stream",
     "text": [
      "Computing factorial(3)\n",
      "Computing factorial(2)\n",
      "Computing factorial(1)\n",
      "Returning 2 for factorial(2)\n",
      "Returning 6 for factorial(3)\n",
      "6\n"
     ]
    }
   ],
   "source": [
    "def factorial(n):\n",
    "    print(f\"Computing factorial({n})\")\n",
    "    if n == 1:\n",
    "        return 1\n",
    "    result = n * factorial(n - 1)  # Recursive call\n",
    "    print(f\"Returning {result} for factorial({n})\")\n",
    "    return result\n",
    "\n",
    "print(factorial(3))  # Compute 3!"
   ]
  },
  {
   "cell_type": "code",
   "execution_count": 11,
   "id": "fc8d3765-aa63-4c64-8a2e-fa8cae8d0ad3",
   "metadata": {},
   "outputs": [
    {
     "name": "stdout",
     "output_type": "stream",
     "text": [
      "Hello, Alice!\n",
      "Greeting complete.\n",
      "Hello, Alexander!\n",
      "Warning: Long name detected!\n",
      "Greeting complete.\n"
     ]
    }
   ],
   "source": [
    "def greet(name):\n",
    "    print(f\"Hello, {name}!\")\n",
    "    if len(name) > 5:\n",
    "        print_warning()\n",
    "    print(\"Greeting complete.\")\n",
    "\n",
    "def print_warning():\n",
    "    print(\"Warning: Long name detected!\")\n",
    "\n",
    "greet(\"Alice\")      # Short name → No warning\n",
    "greet(\"Alexander\")  # Long name → Triggers warning"
   ]
  },
  {
   "cell_type": "markdown",
   "id": "e465cc37-bb4a-4234-8bf5-6f30014a6304",
   "metadata": {},
   "source": [
    "## 📘 1. Recursive Call Stack (Factorial)"
   ]
  },
  {
   "cell_type": "code",
   "execution_count": 12,
   "id": "8e7ee890-820a-4ed7-babe-ab9c979cd203",
   "metadata": {},
   "outputs": [
    {
     "name": "stdout",
     "output_type": "stream",
     "text": [
      "Calling factorial(3)\n",
      "Calling factorial(2)\n",
      "Calling factorial(1)\n",
      "6\n"
     ]
    }
   ],
   "source": [
    "def factorial(n):\n",
    "    print(f\"Calling factorial({n})\")\n",
    "    if n == 1:\n",
    "        return 1\n",
    "    return n * factorial(n - 1)\n",
    "\n",
    "print(factorial(3))\n"
   ]
  },
  {
   "cell_type": "markdown",
   "id": "5acaedbb-9cde-4c09-aab8-51d3782de9dd",
   "metadata": {},
   "source": [
    "## Fibonacci Sequence"
   ]
  },
  {
   "cell_type": "code",
   "execution_count": 6,
   "id": "09d84431-5e91-4e17-b30f-231b43df94ee",
   "metadata": {},
   "outputs": [
    {
     "name": "stdout",
     "output_type": "stream",
     "text": [
      "55\n"
     ]
    }
   ],
   "source": [
    "def fibonacci(n):\n",
    "    if n <= 1:\n",
    "        return n\n",
    "    return fibonacci(n-1) + fibonacci(n-2)\n",
    "\n",
    "print(fibonacci(10))\n",
    "\n"
   ]
  },
  {
   "cell_type": "code",
   "execution_count": null,
   "id": "f2b008fa-6d91-4eba-b718-86a1994a2268",
   "metadata": {},
   "outputs": [],
   "source": [
    "from functools import lru_cache\n",
    "\n",
    "@lru_cache(maxsize=None)  # Automatically caches results\n",
    "def fibonacci(n):\n",
    "    if n <= 1:\n",
    "        return n\n",
    "    return fibonacci(n - 1) + fibonacci(n - 2)\n",
    "\n",
    "print(fibonacci(50))  # Output: 12586269025 (instant!)"
   ]
  },
  {
   "cell_type": "code",
   "execution_count": 15,
   "id": "6cd03b3c-007e-4811-b395-6c363e66ca5b",
   "metadata": {},
   "outputs": [
    {
     "name": "stdout",
     "output_type": "stream",
     "text": [
      "Count: 1\n",
      "Count: 2\n"
     ]
    }
   ],
   "source": [
    "# \"When your program terminates, the global scope is destroyed, \n",
    "# and all its variables are forgotten. \n",
    "# Otherwise, the next time you ran a program, \n",
    "# the variables would remember their values from the last time you ran it.\"\n",
    "# Global variable\n",
    "count = 0\n",
    "\n",
    "def increment():\n",
    "    global count\n",
    "    count += 1\n",
    "    print(f\"Count: {count}\")\n",
    "\n",
    "increment()  # First run\n",
    "increment()  # Second run"
   ]
  },
  {
   "cell_type": "code",
   "execution_count": 13,
   "id": "d4b7e8a1-da7f-47a9-9ec9-4e13a49eda62",
   "metadata": {},
   "outputs": [
    {
     "name": "stdout",
     "output_type": "stream",
     "text": [
      "Count: 4\n"
     ]
    }
   ],
   "source": [
    "import os\n",
    "\n",
    "# Load count from a file (if it exists)\n",
    "if os.path.exists(\"count.txt\"):\n",
    "    with open(\"count.txt\", \"r\") as f:\n",
    "        count = int(f.read())\n",
    "else:\n",
    "    count = 0\n",
    "\n",
    "def increment():\n",
    "    global count\n",
    "    count += 1\n",
    "    print(f\"Count: {count}\")\n",
    "    # Save the new count to the file\n",
    "    with open(\"count.txt\", \"w\") as f:\n",
    "        f.write(str(count))\n",
    "\n",
    "increment()"
   ]
  },
  {
   "cell_type": "code",
   "execution_count": 16,
   "id": "de44363b-7ba4-47b7-97cb-523b1b516d47",
   "metadata": {},
   "outputs": [
    {
     "name": "stdout",
     "output_type": "stream",
     "text": [
      "99\n"
     ]
    }
   ],
   "source": [
    "def spam():\n",
    "    eggs = 99\n",
    "    bacon()\n",
    "    print(eggs)\n",
    "\n",
    "def bacon():\n",
    "    ham = 101\n",
    "    eggs = 0\n",
    "\n",
    "spam()\n",
    "\n"
   ]
  },
  {
   "cell_type": "code",
   "execution_count": 17,
   "id": "8d15726b-a295-40b5-a8df-e0cbcf29b71c",
   "metadata": {},
   "outputs": [
    {
     "name": "stdout",
     "output_type": "stream",
     "text": [
      "0\n"
     ]
    }
   ],
   "source": [
    "def spam():\n",
    "    eggs = 99\n",
    "    eggs = bacon()  # ➋ Get the updated value from bacon()\n",
    "    print(eggs)     # ➌ Now prints 0\n",
    "\n",
    "def bacon():\n",
    "    ham = 101\n",
    "    eggs = 0\n",
    "    return eggs     # Return the local eggs value\n",
    "\n",
    "spam()  # Output: 0"
   ]
  },
  {
   "cell_type": "code",
   "execution_count": 19,
   "id": "2b59aeca-331b-45bd-a667-9f5bd1d7716d",
   "metadata": {},
   "outputs": [
    {
     "name": "stdout",
     "output_type": "stream",
     "text": [
      "42\n",
      "42\n"
     ]
    }
   ],
   "source": [
    "# Global Variables Can Be Read from a Local Scope\n",
    "\n",
    "def spam():\n",
    "    print(eggs)\n",
    "eggs = 42\n",
    "spam()\n",
    "print(eggs)"
   ]
  },
  {
   "cell_type": "code",
   "execution_count": 20,
   "id": "5dbc95d4-60ac-4626-bd95-4981c3e2b628",
   "metadata": {},
   "outputs": [
    {
     "name": "stdout",
     "output_type": "stream",
     "text": [
      "spam\n"
     ]
    }
   ],
   "source": [
    "# If you need to modify a global variable from within a function, use the global statement.\n",
    "def spam():\n",
    "    global eggs      # ➊\n",
    "    eggs = 'spam'    # ➋\n",
    "\n",
    "eggs = 'global'      # Global variable declaration\n",
    "spam()               # Function call\n",
    "print(eggs)          # Output: 'spam'"
   ]
  },
  {
   "cell_type": "code",
   "execution_count": 21,
   "id": "ea1af17a-0636-4e93-9248-466267d530ae",
   "metadata": {},
   "outputs": [
    {
     "name": "stdout",
     "output_type": "stream",
     "text": [
      "spam\n"
     ]
    }
   ],
   "source": [
    "def spam():\n",
    "    return 'spam'  # ➋ Return the new value instead\n",
    "\n",
    "eggs = 'global'    # Original value\n",
    "eggs = spam()      # ➌ Capture the returned value\n",
    "print(eggs)        # Output: 'spam' (same result, but cleaner)"
   ]
  },
  {
   "cell_type": "code",
   "execution_count": 59,
   "id": "0cb5d07f-0930-48e0-b8ff-f4ca5e783374",
   "metadata": {},
   "outputs": [
    {
     "name": "stdout",
     "output_type": "stream",
     "text": [
      "1\n"
     ]
    }
   ],
   "source": [
    "def increment(count):\n",
    "    return count + 1  # Pure function: no side effects\n",
    "\n",
    "count = 0\n",
    "count = increment(count)\n",
    "print(count)  # Output: 1"
   ]
  },
  {
   "cell_type": "code",
   "execution_count": 34,
   "id": "9dce7061-e6e0-4500-8983-b843bc2ef64c",
   "metadata": {},
   "outputs": [
    {
     "ename": "UnboundLocalError",
     "evalue": "cannot access local variable 'eggs' where it is not associated with a value",
     "output_type": "error",
     "traceback": [
      "\u001b[0;31m---------------------------------------------------------------------------\u001b[0m",
      "\u001b[0;31mUnboundLocalError\u001b[0m                         Traceback (most recent call last)",
      "Cell \u001b[0;32mIn[34], line 8\u001b[0m\n\u001b[1;32m      5\u001b[0m     eggs \u001b[38;5;241m=\u001b[39m \u001b[38;5;124m'\u001b[39m\u001b[38;5;124mspam local\u001b[39m\u001b[38;5;124m'\u001b[39m\n\u001b[1;32m      7\u001b[0m eggs \u001b[38;5;241m=\u001b[39m \u001b[38;5;124m'\u001b[39m\u001b[38;5;124mglobal\u001b[39m\u001b[38;5;124m'\u001b[39m\n\u001b[0;32m----> 8\u001b[0m spam()\n",
      "Cell \u001b[0;32mIn[34], line 4\u001b[0m, in \u001b[0;36mspam\u001b[0;34m()\u001b[0m\n\u001b[1;32m      3\u001b[0m \u001b[38;5;28;01mdef\u001b[39;00m \u001b[38;5;21mspam\u001b[39m():\n\u001b[0;32m----> 4\u001b[0m     \u001b[38;5;28mprint\u001b[39m(eggs) \u001b[38;5;66;03m# ERROR!\u001b[39;00m\n\u001b[1;32m      5\u001b[0m     eggs \u001b[38;5;241m=\u001b[39m \u001b[38;5;124m'\u001b[39m\u001b[38;5;124mspam local\u001b[39m\u001b[38;5;124m'\u001b[39m\n",
      "\u001b[0;31mUnboundLocalError\u001b[0m: cannot access local variable 'eggs' where it is not associated with a value"
     ]
    }
   ],
   "source": [
    "# sameNameError\n",
    "\n",
    "def spam():\n",
    "    print(eggs) # ERROR!\n",
    "    eggs = 'spam local'\n",
    "\n",
    "eggs = 'global'\n",
    "spam()"
   ]
  },
  {
   "cell_type": "code",
   "execution_count": 60,
   "id": "54e52d89-7be3-4093-b7a9-d0b92d6c7653",
   "metadata": {},
   "outputs": [
    {
     "name": "stdout",
     "output_type": "stream",
     "text": [
      "global\n",
      "spam local\n"
     ]
    }
   ],
   "source": [
    "# Fixed version\n",
    "def spam():\n",
    "    global eggs  # Declare we're using the global variable\n",
    "    print(eggs)  # Now works: prints 'global'\n",
    "    eggs = 'spam local'  # Modifies the global variable\n",
    "\n",
    "eggs = 'global'\n",
    "spam()\n",
    "print(eggs)  # Output: 'spam local' (global was changed)"
   ]
  },
  {
   "cell_type": "code",
   "execution_count": 36,
   "id": "d6363ce2-fe9c-4742-87ce-869ec029b429",
   "metadata": {},
   "outputs": [
    {
     "name": "stdout",
     "output_type": "stream",
     "text": [
      "global\n"
     ]
    }
   ],
   "source": [
    "# No Assignment → Uses Global\n",
    "def spam():\n",
    "    print(eggs)  # Uses global eggs (no local assignment)\n",
    "\n",
    "eggs = 'global'\n",
    "spam()  # Output: 'global'"
   ]
  },
  {
   "cell_type": "code",
   "execution_count": 37,
   "id": "6752ef26-1bac-410a-9c9c-502971268211",
   "metadata": {},
   "outputs": [
    {
     "name": "stdout",
     "output_type": "stream",
     "text": [
      "spam local\n",
      "global\n"
     ]
    }
   ],
   "source": [
    "def spam():\n",
    "    eggs = 'spam local'  # Local assignment\n",
    "    print(eggs)  # Uses local variable\n",
    "\n",
    "eggs = 'global'\n",
    "spam()         # Output: 'spam local'\n",
    "print(eggs)    # Output: 'global' (unchanged)"
   ]
  },
  {
   "cell_type": "code",
   "execution_count": 39,
   "id": "f7dcb2fd-4513-42ae-a2d2-8f9adffb730a",
   "metadata": {},
   "outputs": [
    {
     "name": "stdout",
     "output_type": "stream",
     "text": [
      "1\n"
     ]
    }
   ],
   "source": [
    "# Example 1: Basic Global vs Local\n",
    "x = 1\n",
    "def foo():\n",
    "    global x\n",
    "    print(x)  # What happens here?\n",
    "    x = 2\n",
    "\n",
    "foo()"
   ]
  },
  {
   "cell_type": "code",
   "execution_count": 40,
   "id": "7daddce6-2cd4-4c52-b0f7-9baba587179e",
   "metadata": {},
   "outputs": [
    {
     "name": "stdout",
     "output_type": "stream",
     "text": [
      "10\n"
     ]
    }
   ],
   "source": [
    "# Example 2: Global Read Without Assignment\n",
    "y = 10\n",
    "def bar():\n",
    "    print(y)  # What happens here?\n",
    "\n",
    "bar()"
   ]
  },
  {
   "cell_type": "code",
   "execution_count": 41,
   "id": "61196632-a4c3-4533-a26e-135739415a34",
   "metadata": {},
   "outputs": [
    {
     "name": "stdout",
     "output_type": "stream",
     "text": [
      "outer\n",
      "global\n"
     ]
    }
   ],
   "source": [
    "# Example 3: Nested Shadowing\n",
    "z = 'global'\n",
    "def outer():\n",
    "    z = \"outer\"\n",
    "    def inner():\n",
    "        print(z)  # What prints here?\n",
    "    inner()\n",
    "\n",
    "outer()\n",
    "print(z)"
   ]
  },
  {
   "cell_type": "code",
   "execution_count": 45,
   "id": "fc619453-e383-4852-b993-a079a26551f3",
   "metadata": {},
   "outputs": [
    {
     "name": "stdout",
     "output_type": "stream",
     "text": [
      "1\n",
      "2\n"
     ]
    }
   ],
   "source": [
    "# Example 4: global Declaration\n",
    "count = 0\n",
    "def increment():\n",
    "    global count\n",
    "    count += 1\n",
    "    print(count)\n",
    "\n",
    "increment()\n",
    "increment()"
   ]
  },
  {
   "cell_type": "code",
   "execution_count": 46,
   "id": "e86fbd70-2f62-443c-aefb-0961cb1da503",
   "metadata": {},
   "outputs": [
    {
     "name": "stdout",
     "output_type": "stream",
     "text": [
      "[1, 2, 3]\n"
     ]
    }
   ],
   "source": [
    "# Example 5: List Modification Without global\n",
    "\n",
    "items = [1, 2]\n",
    "def modify():\n",
    "    items.append(3)  # Will this work?\n",
    "\n",
    "modify()\n",
    "print(items)"
   ]
  },
  {
   "cell_type": "code",
   "execution_count": 47,
   "id": "c73fcab6-9e9a-45d0-83a5-4c3d0c551ddb",
   "metadata": {},
   "outputs": [
    {
     "name": "stdout",
     "output_type": "stream",
     "text": [
      "inner\n"
     ]
    }
   ],
   "source": [
    "def outer():\n",
    "    y = \"outer\"          # Parent function's variable\n",
    "    def inner():\n",
    "        nonlocal y       # ← \"I want to modify outer()'s y, not create a new local y\"\n",
    "        y = \"inner\"      # Modifies outer()'s y\n",
    "    inner()\n",
    "    print(y)             # Now prints \"inner\" (was changed by inner())\n",
    "\n",
    "outer()"
   ]
  },
  {
   "cell_type": "code",
   "execution_count": 48,
   "id": "8409840a-6eab-4865-8daf-16f26a5ad9bf",
   "metadata": {},
   "outputs": [
    {
     "name": "stdout",
     "output_type": "stream",
     "text": [
      "outer\n"
     ]
    }
   ],
   "source": [
    "def outer():\n",
    "    y = \"outer\"\n",
    "    def inner():\n",
    "        y = \"inner\"     # ← New local y (doesn't affect outer()'s y)\n",
    "    inner()\n",
    "    print(y)            # Prints \"outer\" (unchanged)\n",
    "\n",
    "outer()"
   ]
  },
  {
   "cell_type": "code",
   "execution_count": 49,
   "id": "94a843f9-7661-4ece-abbe-414eda43ffcd",
   "metadata": {},
   "outputs": [
    {
     "name": "stdout",
     "output_type": "stream",
     "text": [
      "inner\n"
     ]
    }
   ],
   "source": [
    "def outer():\n",
    "    y = \"outer\"\n",
    "    def inner():\n",
    "        nonlocal y       # ← Targets outer()'s y\n",
    "        y = \"inner\"      # Modifies it\n",
    "    inner()\n",
    "    print(y)            # Prints \"inner\" (changed!)\n",
    "\n",
    "outer()"
   ]
  },
  {
   "cell_type": "code",
   "execution_count": 50,
   "id": "c4f15edc-caa9-4c92-83c0-43dcc6260753",
   "metadata": {},
   "outputs": [
    {
     "name": "stdout",
     "output_type": "stream",
     "text": [
      "inner\n",
      "global\n"
     ]
    }
   ],
   "source": [
    "z = \"global\"\n",
    "def outer():\n",
    "    z = \"outer\"\n",
    "    def inner():\n",
    "        nonlocal z      # Refers to outer()'s z\n",
    "        z = \"inner\"     # ← Modifies outer()'s z\n",
    "    inner()\n",
    "    print(z)           # Prints \"inner\"\n",
    "\n",
    "outer()\n",
    "print(z)               # Prints \"global\" (unchanged)"
   ]
  },
  {
   "cell_type": "code",
   "execution_count": 67,
   "id": "7595e561-c6ee-4d35-8013-50ad2947a7cb",
   "metadata": {},
   "outputs": [
    {
     "name": "stdout",
     "output_type": "stream",
     "text": [
      "1\n",
      "2\n",
      "3\n",
      "4\n"
     ]
    }
   ],
   "source": [
    "# When to Use nonlocal\n",
    "# Use it when you need a nested function to modify state from its parent function, like:\n",
    "def counter():\n",
    "    count = 0\n",
    "    def increment():\n",
    "        nonlocal count\n",
    "        count += 1     # Modifies parent's count\n",
    "        return count\n",
    "    return increment\n",
    "\n",
    "timer = counter()\n",
    "print(timer())  # 1\n",
    "print(timer())  # 2\n",
    "print(timer())  # 3\n",
    "print(timer()) "
   ]
  },
  {
   "cell_type": "code",
   "execution_count": 66,
   "id": "82b0a9af-5b12-4c80-b881-847469652406",
   "metadata": {},
   "outputs": [
    {
     "name": "stdout",
     "output_type": "stream",
     "text": [
      "2\n"
     ]
    }
   ],
   "source": [
    "def outer():\n",
    "    x = 1\n",
    "    def inner():\n",
    "        nonlocal x\n",
    "        x = 2   # ← Accidentally creates a new local x\n",
    "    inner()\n",
    "    print(x)    \n",
    "\n",
    "outer()"
   ]
  },
  {
   "cell_type": "code",
   "execution_count": 61,
   "id": "f58dbc2c-2aa8-4431-b9fe-b33694ee9c8c",
   "metadata": {},
   "outputs": [
    {
     "name": "stdout",
     "output_type": "stream",
     "text": [
      "40\n",
      "30\n"
     ]
    }
   ],
   "source": [
    "z = 30\n",
    "def demo():\n",
    "    z = 40  # Local 'z' shadows global 'z'\n",
    "    print(z)  # Prints 40 (local)\n",
    "demo()\n",
    "print(z)  # Prints 30 (global unchanged)"
   ]
  },
  {
   "cell_type": "code",
   "execution_count": 65,
   "id": "9d593159-193e-457b-a047-e8f7adb5bbcb",
   "metadata": {},
   "outputs": [
    {
     "name": "stdout",
     "output_type": "stream",
     "text": [
      "Local price: 90\n",
      "Global price: 100\n"
     ]
    }
   ],
   "source": [
    "price = 100  # Global\n",
    "def discount():\n",
    "    price = 90  # Local\n",
    "    print(\"Local price:\", price)\n",
    "\n",
    "discount()\n",
    "print(\"Global price:\", price)  # Stays 100"
   ]
  },
  {
   "cell_type": "code",
   "execution_count": 70,
   "id": "9d945c8b-0bfd-40c4-891f-c67467bab281",
   "metadata": {},
   "outputs": [
    {
     "name": "stdout",
     "output_type": "stream",
     "text": [
      "21.0\n",
      "3.5\n",
      "Error: Invalid argument.\n",
      "None\n",
      "42.0\n"
     ]
    }
   ],
   "source": [
    "def spam(divideBy):\n",
    "    try:\n",
    "        return 42 / divideBy\n",
    "    except ZeroDivisionError:\n",
    "        print('Error: Invalid argument.')\n",
    "print(spam(2))\n",
    "print(spam(12))\n",
    "print(spam(0))\n",
    "print(spam(1))"
   ]
  },
  {
   "cell_type": "markdown",
   "id": "5a62f872-d475-4556-83e1-e93b2de14875",
   "metadata": {},
   "source": [
    "## 3 examples of try and except in python"
   ]
  },
  {
   "cell_type": "code",
   "execution_count": 55,
   "id": "48dd6307-e708-46fc-9865-9f347d50e793",
   "metadata": {},
   "outputs": [
    {
     "name": "stdout",
     "output_type": "stream",
     "text": [
      "Error: Cannot divide by zero!\n",
      "Execution complete.\n"
     ]
    }
   ],
   "source": [
    "# Example 1: Handling Division by Zero\n",
    "\n",
    "try:\n",
    "    numerator = 10\n",
    "    denominator = 0\n",
    "    result = numerator / denominator  # Risky operation\n",
    "except ZeroDivisionError:\n",
    "    print(\"Error: Cannot divide by zero!\")\n",
    "else:\n",
    "    print(f\"Result: {result}\")\n",
    "finally:\n",
    "    print(\"Execution complete.\")"
   ]
  },
  {
   "cell_type": "code",
   "execution_count": 74,
   "id": "7ea18c84-c847-4172-8e36-d2bb68537b9a",
   "metadata": {},
   "outputs": [
    {
     "name": "stdout",
     "output_type": "stream",
     "text": [
      "Error: File not found!\n"
     ]
    }
   ],
   "source": [
    "# Example 2: Handling File Operations\n",
    "\n",
    "try:\n",
    "    file = open(\"nonexistent.txt\", \"r\")  # File doesn't exist\n",
    "    content = file.read()\n",
    "except FileNotFoundError:\n",
    "    print(\"Error: File not found!\")\n",
    "except PermissionError:\n",
    "    print(\"Error: No read permissions!\")\n",
    "except Exception as e:\n",
    "    print(f\"Unexpected error: {e}\")\n",
    "else:\n",
    "    print(content)\n",
    "finally:\n",
    "    file.close() if 'file' in locals() else None  # Safe cleanup\n",
    "\n",
    "# Output: Error: File not found!"
   ]
  },
  {
   "cell_type": "code",
   "execution_count": 79,
   "id": "44ecb950-c4b9-4b80-8288-e59060fcf0dc",
   "metadata": {},
   "outputs": [
    {
     "name": "stdin",
     "output_type": "stream",
     "text": [
      "Enter your age:  -2\n"
     ]
    },
    {
     "name": "stdout",
     "output_type": "stream",
     "text": [
      "Invalid input: Age cannot be negative!. Try again!\n"
     ]
    },
    {
     "name": "stdin",
     "output_type": "stream",
     "text": [
      "Enter your age:  29\n"
     ]
    },
    {
     "name": "stdout",
     "output_type": "stream",
     "text": [
      "Your age is: 29\n"
     ]
    }
   ],
   "source": [
    "# Example 3: Validating User Input\n",
    "while True:\n",
    "    try:\n",
    "        age = int(input(\"Enter your age: \"))  # Expects an integer\n",
    "        if age < 0:\n",
    "            raise ValueError(\"Age cannot be negative!\")  # Manual exception\n",
    "        break\n",
    "    except ValueError as ve:\n",
    "        print(f\"Invalid input: {ve}. Try again!\")\n",
    "\n",
    "print(f\"Your age is: {age}\")\n"
   ]
  },
  {
   "cell_type": "code",
   "execution_count": 80,
   "id": "a921f13f-c33a-46d4-ad67-713390ce7a8c",
   "metadata": {},
   "outputs": [
    {
     "name": "stdout",
     "output_type": "stream",
     "text": [
      "Phone number not found!\n"
     ]
    }
   ],
   "source": [
    "user_data = {\"name\": \"Alice\", \"email\": \"alice@example.com\"}\n",
    "try:\n",
    "    print(f\"Phone: {user_data['phone']}\")  # Key doesn't exist\n",
    "except KeyError:\n",
    "    print(\"Phone number not found!\")"
   ]
  },
  {
   "cell_type": "code",
   "execution_count": null,
   "id": "e1143034-a5fc-4be5-8cda-97c50fe4a485",
   "metadata": {},
   "outputs": [],
   "source": [
    "import time, sys\n",
    "indent = 0 # How many spaces to indent.\n",
    "indentIncreasing = True # Whether the indentation is increasing or not.\n",
    "\n",
    "try:\n",
    "    while True: # The main program loop.\n",
    "        print(' ' * indent, end='')\n",
    "        print('********')\n",
    "        time.sleep(0.1) # Pause for 1/10 of a second.\n",
    "\n",
    "        if indentIncreasing:\n",
    "            # Increase the number of spaces:\n",
    "            indent = indent + 1\n",
    "            if indent == 20:\n",
    "                # Change direction:\n",
    "                indentIncreasing = False\n",
    "\n",
    "        else:\n",
    "            # Decrease the number of spaces:\n",
    "            indent = indent - 1\n",
    "            if indent == 0:\n",
    "                # Change direction:\n",
    "                indentIncreasing = True\n",
    "except KeyboardInterrupt:\n",
    "    sys.exit()"
   ]
  },
  {
   "cell_type": "code",
   "execution_count": 1,
   "id": "17be6753-3ca1-4110-84e4-1e06ae6f601a",
   "metadata": {
    "scrolled": true
   },
   "outputs": [
    {
     "name": "stdout",
     "output_type": "stream",
     "text": [
      "********\n",
      " ********\n",
      "  ********\n",
      "   ********\n",
      "    ********\n",
      "     ********\n",
      "      ********\n",
      "       ********\n",
      "        ********\n",
      "         ********\n",
      "          ********\n",
      "           ********\n",
      "            ********\n",
      "             ********\n",
      "              ********\n",
      "               ********\n",
      "                ********\n",
      "                 ********\n",
      "                  ********\n",
      "                   ********\n",
      "                    ********\n",
      "                   ********\n",
      "                  ********\n",
      "                 ********\n",
      "                ********\n",
      "               ********\n",
      "              ********\n",
      "             ********\n",
      "            ********\n",
      "           ********\n",
      "          ********\n",
      "         ********\n",
      "        ********\n",
      "       ********\n",
      "      ********\n",
      "     ********\n",
      "    ********\n",
      "   ********\n",
      "  ********\n",
      " ********\n",
      "********\n",
      " ********\n",
      "  ********\n",
      "   ********\n",
      "    ********\n",
      "     ********\n",
      "      ********\n",
      "       ********\n",
      "        ********\n",
      "         ********\n",
      "          ********\n",
      "           ********\n",
      "            ********\n",
      "             ********\n",
      "              ********\n",
      "               ********\n",
      "                ********\n",
      "                 ********\n",
      "                  ********\n",
      "                   ********\n",
      "                    ********\n",
      "                   ********\n",
      "                  ********\n",
      "                 ********\n",
      "                ********\n",
      "               ********\n",
      "              ********\n",
      "             ********\n",
      "            ********\n",
      "           ********\n",
      "          ********\n",
      "         ********\n",
      "        ********\n",
      "       ********\n",
      "      ********\n",
      "     ********\n",
      "    ********\n",
      "   ********\n",
      "  ********\n",
      " ********\n",
      "********\n",
      " ********\n",
      "  ********\n",
      "   ********\n",
      "    ********\n",
      "     ********\n",
      "      ********\n",
      "       ********\n",
      "        ********\n",
      "         ********\n",
      "          ********\n",
      "           ********\n",
      "            ********\n",
      "             ********\n",
      "              ********\n",
      "               ********\n",
      "                ********\n",
      "                 ********\n",
      "                  ********\n",
      "                   ********\n",
      "Animation completed!\n"
     ]
    }
   ],
   "source": [
    "import time\n",
    "\n",
    "indent = 0                  # How many spaces to indent\n",
    "indentIncreasing = True      # Whether indentation is increasing\n",
    "max_iterations = 100         # Safety limit to prevent infinite runs\n",
    "\n",
    "for _ in range(max_iterations):  # Replaces while True\n",
    "    print(' ' * indent, end='')\n",
    "    print('********')\n",
    "    time.sleep(0.1)\n",
    "    \n",
    "    if indentIncreasing:\n",
    "        indent += 1\n",
    "        if indent == 20:\n",
    "            indentIncreasing = False\n",
    "    else:\n",
    "        indent -= 1\n",
    "        if indent == 0:\n",
    "            indentIncreasing = True\n",
    "\n",
    "print(\"Animation completed!\")  # Confirm exit"
   ]
  },
  {
   "cell_type": "code",
   "execution_count": 2,
   "id": "81978227-30f3-4ec8-a8df-f038b29f6784",
   "metadata": {},
   "outputs": [
    {
     "name": "stdout",
     "output_type": "stream",
     "text": [
      "\u001b[2J\u001b[H********\n",
      "Progress: |--------------------------------------------------| 1.0%\u001b[2J\u001b[H ********\n",
      "Progress: |█-------------------------------------------------| 2.0%\u001b[2J\u001b[H  ********\n",
      "Progress: |█-------------------------------------------------| 3.0%\u001b[2J\u001b[H   ********\n",
      "Progress: |██------------------------------------------------| 4.0%\u001b[2J\u001b[H    ********\n",
      "Progress: |██------------------------------------------------| 5.0%\u001b[2J\u001b[H     ********\n",
      "Progress: |███-----------------------------------------------| 6.0%\u001b[2J\u001b[H      ********\n",
      "Progress: |███-----------------------------------------------| 7.0%\u001b[2J\u001b[H       ********\n",
      "Progress: |████----------------------------------------------| 8.0%\u001b[2J\u001b[H        ********\n",
      "Progress: |████----------------------------------------------| 9.0%\u001b[2J\u001b[H         ********\n",
      "Progress: |█████---------------------------------------------| 10.0%\u001b[2J\u001b[H          ********\n",
      "Progress: |█████---------------------------------------------| 11.0%\u001b[2J\u001b[H           ********\n",
      "Progress: |██████--------------------------------------------| 12.0%\u001b[2J\u001b[H            ********\n",
      "Progress: |██████--------------------------------------------| 13.0%\u001b[2J\u001b[H             ********\n",
      "Progress: |███████-------------------------------------------| 14.0%\u001b[2J\u001b[H              ********\n",
      "Progress: |███████-------------------------------------------| 15.0%\u001b[2J\u001b[H               ********\n",
      "Progress: |████████------------------------------------------| 16.0%\u001b[2J\u001b[H                ********\n",
      "Progress: |████████------------------------------------------| 17.0%\u001b[2J\u001b[H                 ********\n",
      "Progress: |█████████-----------------------------------------| 18.0%\u001b[2J\u001b[H                  ********\n",
      "Progress: |█████████-----------------------------------------| 19.0%\u001b[2J\u001b[H                   ********\n",
      "Progress: |██████████----------------------------------------| 20.0%\u001b[2J\u001b[H                    ********\n",
      "Progress: |██████████----------------------------------------| 21.0%\u001b[2J\u001b[H                   ********\n",
      "Progress: |███████████---------------------------------------| 22.0%\u001b[2J\u001b[H                  ********\n",
      "Progress: |███████████---------------------------------------| 23.0%\u001b[2J\u001b[H                 ********\n",
      "Progress: |████████████--------------------------------------| 24.0%\u001b[2J\u001b[H                ********\n",
      "Progress: |████████████--------------------------------------| 25.0%\u001b[2J\u001b[H               ********\n",
      "Progress: |█████████████-------------------------------------| 26.0%\u001b[2J\u001b[H              ********\n",
      "Progress: |█████████████-------------------------------------| 27.0%\u001b[2J\u001b[H             ********\n",
      "Progress: |██████████████------------------------------------| 28.0%\u001b[2J\u001b[H            ********\n",
      "Progress: |██████████████------------------------------------| 29.0%\u001b[2J\u001b[H           ********\n",
      "Progress: |███████████████-----------------------------------| 30.0%\u001b[2J\u001b[H          ********\n",
      "Progress: |███████████████-----------------------------------| 31.0%\u001b[2J\u001b[H         ********\n",
      "Progress: |████████████████----------------------------------| 32.0%\u001b[2J\u001b[H        ********\n",
      "Progress: |████████████████----------------------------------| 33.0%\u001b[2J\u001b[H       ********\n",
      "Progress: |█████████████████---------------------------------| 34.0%\u001b[2J\u001b[H      ********\n",
      "Progress: |█████████████████---------------------------------| 35.0%\u001b[2J\u001b[H     ********\n",
      "Progress: |██████████████████--------------------------------| 36.0%\u001b[2J\u001b[H    ********\n",
      "Progress: |██████████████████--------------------------------| 37.0%\u001b[2J\u001b[H   ********\n",
      "Progress: |███████████████████-------------------------------| 38.0%\u001b[2J\u001b[H  ********\n",
      "Progress: |███████████████████-------------------------------| 39.0%\u001b[2J\u001b[H ********\n",
      "Progress: |████████████████████------------------------------| 40.0%\u001b[2J\u001b[H********\n",
      "Progress: |████████████████████------------------------------| 41.0%\u001b[2J\u001b[H ********\n",
      "Progress: |█████████████████████-----------------------------| 42.0%\u001b[2J\u001b[H  ********\n",
      "Progress: |█████████████████████-----------------------------| 43.0%\u001b[2J\u001b[H   ********\n",
      "Progress: |██████████████████████----------------------------| 44.0%\u001b[2J\u001b[H    ********\n",
      "Progress: |██████████████████████----------------------------| 45.0%\u001b[2J\u001b[H     ********\n",
      "Progress: |███████████████████████---------------------------| 46.0%\u001b[2J\u001b[H      ********\n",
      "Progress: |███████████████████████---------------------------| 47.0%\u001b[2J\u001b[H       ********\n",
      "Progress: |████████████████████████--------------------------| 48.0%\u001b[2J\u001b[H        ********\n",
      "Progress: |████████████████████████--------------------------| 49.0%\u001b[2J\u001b[H         ********\n",
      "Progress: |█████████████████████████-------------------------| 50.0%\u001b[2J\u001b[H          ********\n",
      "Progress: |█████████████████████████-------------------------| 51.0%\u001b[2J\u001b[H           ********\n",
      "Progress: |██████████████████████████------------------------| 52.0%\u001b[2J\u001b[H            ********\n",
      "Progress: |██████████████████████████------------------------| 53.0%\u001b[2J\u001b[H             ********\n",
      "Progress: |███████████████████████████-----------------------| 54.0%\u001b[2J\u001b[H              ********\n",
      "Progress: |███████████████████████████-----------------------| 55.0%\u001b[2J\u001b[H               ********\n",
      "Progress: |████████████████████████████----------------------| 56.0%\u001b[2J\u001b[H                ********\n",
      "Progress: |████████████████████████████----------------------| 57.0%\u001b[2J\u001b[H                 ********\n",
      "Progress: |█████████████████████████████---------------------| 58.0%\u001b[2J\u001b[H                  ********\n",
      "Progress: |█████████████████████████████---------------------| 59.0%\u001b[2J\u001b[H                   ********\n",
      "Progress: |██████████████████████████████--------------------| 60.0%\u001b[2J\u001b[H                    ********\n",
      "Progress: |██████████████████████████████--------------------| 61.0%\u001b[2J\u001b[H                   ********\n",
      "Progress: |███████████████████████████████-------------------| 62.0%\u001b[2J\u001b[H                  ********\n",
      "Progress: |███████████████████████████████-------------------| 63.0%\u001b[2J\u001b[H                 ********\n",
      "Progress: |████████████████████████████████------------------| 64.0%\u001b[2J\u001b[H                ********\n",
      "Progress: |████████████████████████████████------------------| 65.0%\u001b[2J\u001b[H               ********\n",
      "Progress: |█████████████████████████████████-----------------| 66.0%\u001b[2J\u001b[H              ********\n",
      "Progress: |█████████████████████████████████-----------------| 67.0%\u001b[2J\u001b[H             ********\n",
      "Progress: |██████████████████████████████████----------------| 68.0%\u001b[2J\u001b[H            ********\n",
      "Progress: |██████████████████████████████████----------------| 69.0%\u001b[2J\u001b[H           ********\n",
      "Progress: |███████████████████████████████████---------------| 70.0%\u001b[2J\u001b[H          ********\n",
      "Progress: |███████████████████████████████████---------------| 71.0%\u001b[2J\u001b[H         ********\n",
      "Progress: |████████████████████████████████████--------------| 72.0%\u001b[2J\u001b[H        ********\n",
      "Progress: |████████████████████████████████████--------------| 73.0%\u001b[2J\u001b[H       ********\n",
      "Progress: |█████████████████████████████████████-------------| 74.0%\u001b[2J\u001b[H      ********\n",
      "Progress: |█████████████████████████████████████-------------| 75.0%\u001b[2J\u001b[H     ********\n",
      "Progress: |██████████████████████████████████████------------| 76.0%\u001b[2J\u001b[H    ********\n",
      "Progress: |██████████████████████████████████████------------| 77.0%\u001b[2J\u001b[H   ********\n",
      "Progress: |███████████████████████████████████████-----------| 78.0%\u001b[2J\u001b[H  ********\n",
      "Progress: |███████████████████████████████████████-----------| 79.0%\u001b[2J\u001b[H ********\n",
      "Progress: |████████████████████████████████████████----------| 80.0%\u001b[2J\u001b[H********\n",
      "Progress: |████████████████████████████████████████----------| 81.0%\u001b[2J\u001b[H ********\n",
      "Progress: |█████████████████████████████████████████---------| 82.0%\u001b[2J\u001b[H  ********\n",
      "Progress: |█████████████████████████████████████████---------| 83.0%\u001b[2J\u001b[H   ********\n",
      "Progress: |██████████████████████████████████████████--------| 84.0%\u001b[2J\u001b[H    ********\n",
      "Progress: |██████████████████████████████████████████--------| 85.0%\u001b[2J\u001b[H     ********\n",
      "Progress: |███████████████████████████████████████████-------| 86.0%\u001b[2J\u001b[H      ********\n",
      "Progress: |███████████████████████████████████████████-------| 87.0%\u001b[2J\u001b[H       ********\n",
      "Progress: |████████████████████████████████████████████------| 88.0%\u001b[2J\u001b[H        ********\n",
      "Progress: |████████████████████████████████████████████------| 89.0%\u001b[2J\u001b[H         ********\n",
      "Progress: |█████████████████████████████████████████████-----| 90.0%\u001b[2J\u001b[H          ********\n",
      "Progress: |█████████████████████████████████████████████-----| 91.0%\u001b[2J\u001b[H           ********\n",
      "Progress: |██████████████████████████████████████████████----| 92.0%\u001b[2J\u001b[H            ********\n",
      "Progress: |██████████████████████████████████████████████----| 93.0%\u001b[2J\u001b[H             ********\n",
      "Progress: |███████████████████████████████████████████████---| 94.0%\u001b[2J\u001b[H              ********\n",
      "Progress: |███████████████████████████████████████████████---| 95.0%\u001b[2J\u001b[H               ********\n",
      "Progress: |████████████████████████████████████████████████--| 96.0%\u001b[2J\u001b[H                ********\n",
      "Progress: |████████████████████████████████████████████████--| 97.0%\u001b[2J\u001b[H                 ********\n",
      "Progress: |█████████████████████████████████████████████████-| 98.0%\u001b[2J\u001b[H                  ********\n",
      "Progress: |█████████████████████████████████████████████████-| 99.0%\u001b[2J\u001b[H                   ********\n",
      "Progress: |██████████████████████████████████████████████████| 100.0%\n",
      "Animation complete!\n"
     ]
    }
   ],
   "source": [
    "import time\n",
    "import sys\n",
    "\n",
    "indent = 0\n",
    "indentIncreasing = True\n",
    "max_iterations = 100\n",
    "\n",
    "def draw_progress_bar(iteration, max_iter=100, bar_length=50):\n",
    "    \"\"\"Draws a progress bar in the console\"\"\"\n",
    "    percent = 100 * (iteration / max_iter)\n",
    "    filled_length = int(bar_length * iteration // max_iter)\n",
    "    bar = '█' * filled_length + '-' * (bar_length - filled_length)\n",
    "    sys.stdout.write(f'\\rProgress: |{bar}| {percent:.1f}%')\n",
    "    sys.stdout.flush()\n",
    "\n",
    "for i in range(max_iterations):\n",
    "    # Clear previous frame (works in terminals)\n",
    "    sys.stdout.write('\\033[2J\\033[H')  \n",
    "    \n",
    "    # Draw zigzag pattern\n",
    "    print(' ' * indent + '********')\n",
    "    \n",
    "    # Update progress bar\n",
    "    draw_progress_bar(i + 1)  # i+1 because we want 1-100\n",
    "    \n",
    "    # Animation logic\n",
    "    if indentIncreasing:\n",
    "        indent += 1\n",
    "        if indent == 20:\n",
    "            indentIncreasing = False\n",
    "    else:\n",
    "        indent -= 1\n",
    "        if indent == 0:\n",
    "            indentIncreasing = True\n",
    "    \n",
    "    time.sleep(0.1)\n",
    "\n",
    "print(\"\\nAnimation complete!\")"
   ]
  },
  {
   "cell_type": "code",
   "execution_count": 4,
   "id": "7e326b4f-5b7a-41c7-82c7-96ff66310817",
   "metadata": {},
   "outputs": [
    {
     "name": "stdout",
     "output_type": "stream",
     "text": [
      "Hello!\n",
      "None\n",
      "None\n"
     ]
    }
   ],
   "source": [
    "# If a function does not have a return statement, what is the return value of a call to that function?\n",
    "# It returns None by default.\n",
    "# Example 1: No return statement\n",
    "def greet():\n",
    "    print(\"Hello!\")\n",
    "\n",
    "result = greet()\n",
    "print(result)\n",
    "\n",
    "# Example 2: return with no value\n",
    "def do_nothing():\n",
    "    return\n",
    "\n",
    "print(do_nothing())  # Output: None\n"
   ]
  },
  {
   "cell_type": "code",
   "execution_count": 5,
   "id": "d83c5bcf-24a1-4da4-af9a-51c2b8f38465",
   "metadata": {},
   "outputs": [
    {
     "name": "stdout",
     "output_type": "stream",
     "text": [
      "1\n"
     ]
    }
   ],
   "source": [
    "# How can you force a variable in a function to refer to the global variable?\n",
    "count = 0  # Global variable\n",
    "\n",
    "def increment():\n",
    "    global count  # Tell Python to use the global 'count'\n",
    "    count += 1    # Modify the global variable\n",
    "\n",
    "increment()\n",
    "print(count)  # Output: 1\n"
   ]
  },
  {
   "cell_type": "code",
   "execution_count": 6,
   "id": "ebe102f2-4ac3-4eee-ac32-7107a8e0de4b",
   "metadata": {},
   "outputs": [
    {
     "name": "stdout",
     "output_type": "stream",
     "text": [
      "Inner: 11\n",
      "Outer: 11\n"
     ]
    }
   ],
   "source": [
    "def outer():\n",
    "    x = 10  # This is in the enclosing scope\n",
    "\n",
    "    def inner():\n",
    "        nonlocal x\n",
    "        x += 1\n",
    "        print(\"Inner:\", x)\n",
    "\n",
    "    inner()\n",
    "    print(\"Outer:\", x)\n",
    "\n",
    "outer()\n"
   ]
  },
  {
   "cell_type": "code",
   "execution_count": 7,
   "id": "78701e18-dd65-46ad-8a3a-66a2b4640793",
   "metadata": {},
   "outputs": [
    {
     "name": "stdout",
     "output_type": "stream",
     "text": [
      "Inner: 20\n",
      "Outer: 10\n"
     ]
    }
   ],
   "source": [
    "def outer():\n",
    "    x = 10\n",
    "\n",
    "    def inner():\n",
    "        x = 20  # Local to 'inner', doesn't affect outer's x\n",
    "        print(\"Inner:\", x)\n",
    "\n",
    "    inner()\n",
    "    print(\"Outer:\", x)\n",
    "\n",
    "outer()\n"
   ]
  },
  {
   "cell_type": "code",
   "execution_count": 8,
   "id": "da46b8af-956d-4a61-9a8a-44b2166df47f",
   "metadata": {},
   "outputs": [
    {
     "name": "stdout",
     "output_type": "stream",
     "text": [
      "<class 'NoneType'>\n"
     ]
    }
   ],
   "source": [
    "print(type(None))  # Output: <class 'NoneType'>\n"
   ]
  },
  {
   "cell_type": "code",
   "execution_count": 9,
   "id": "c2a2344d-f9d1-4efe-b86a-d63f45ea97e4",
   "metadata": {},
   "outputs": [
    {
     "name": "stdout",
     "output_type": "stream",
     "text": [
      "None\n",
      "<class 'NoneType'>\n"
     ]
    }
   ],
   "source": [
    "def nothing():\n",
    "    pass\n",
    "\n",
    "result = nothing()\n",
    "print(result)  # Output: None\n",
    "print(type(result))  # Output: <class 'NoneType'>\n"
   ]
  },
  {
   "cell_type": "code",
   "execution_count": 10,
   "id": "57865529-6aaa-4368-aecc-772d1bab6038",
   "metadata": {},
   "outputs": [
    {
     "name": "stdout",
     "output_type": "stream",
     "text": [
      "The Zen of Python, by Tim Peters\n",
      "\n",
      "Beautiful is better than ugly.\n",
      "Explicit is better than implicit.\n",
      "Simple is better than complex.\n",
      "Complex is better than complicated.\n",
      "Flat is better than nested.\n",
      "Sparse is better than dense.\n",
      "Readability counts.\n",
      "Special cases aren't special enough to break the rules.\n",
      "Although practicality beats purity.\n",
      "Errors should never pass silently.\n",
      "Unless explicitly silenced.\n",
      "In the face of ambiguity, refuse the temptation to guess.\n",
      "There should be one-- and preferably only one --obvious way to do it.\n",
      "Although that way may not be obvious at first unless you're Dutch.\n",
      "Now is better than never.\n",
      "Although never is often better than *right* now.\n",
      "If the implementation is hard to explain, it's a bad idea.\n",
      "If the implementation is easy to explain, it may be a good idea.\n",
      "Namespaces are one honking great idea -- let's do more of those!\n"
     ]
    }
   ],
   "source": [
    "import this"
   ]
  },
  {
   "cell_type": "code",
   "execution_count": 14,
   "id": "30551d20-6387-4133-ac35-10d2dc9891d7",
   "metadata": {},
   "outputs": [
    {
     "name": "stdout",
     "output_type": "stream",
     "text": [
      "Error: Cannot divide by zero! division by zero\n"
     ]
    }
   ],
   "source": [
    "try:\n",
    "    result = 10 / 0  # This will raise a ZeroDivisionError\n",
    "except ZeroDivisionError as e:\n",
    "    print(f\"Error: Cannot divide by zero! {e}\")\n"
   ]
  },
  {
   "cell_type": "code",
   "execution_count": 17,
   "id": "6fefd513-5b7e-4a1f-81ae-1cd7d2c47802",
   "metadata": {},
   "outputs": [
    {
     "name": "stdin",
     "output_type": "stream",
     "text": [
      "Enter a number:  k\n"
     ]
    },
    {
     "name": "stdout",
     "output_type": "stream",
     "text": [
      "Invalid input: invalid literal for int() with base 10: 'k'\n"
     ]
    }
   ],
   "source": [
    "try:\n",
    "    num = int(input(\"Enter a number: \"))  # Could raise ValueError\n",
    "    result = 10 / num  # Could raise ZeroDivisionError\n",
    "except ValueError as e:\n",
    "    print(f\"Invalid input: {e}\")\n",
    "except ZeroDivisionError as e:\n",
    "    print(f\"Cannot divide by zero: {e}\")\n"
   ]
  },
  {
   "cell_type": "code",
   "execution_count": 21,
   "id": "02114688-5d5b-4070-9d6e-85debd72fb2c",
   "metadata": {},
   "outputs": [
    {
     "name": "stdin",
     "output_type": "stream",
     "text": [
      "Enter an integer:  11\n"
     ]
    },
    {
     "name": "stdout",
     "output_type": "stream",
     "text": [
      "34\n",
      "17\n",
      "52\n",
      "26\n",
      "13\n",
      "40\n",
      "20\n",
      "10\n",
      "5\n",
      "16\n",
      "8\n",
      "4\n",
      "2\n",
      "1\n",
      "The sequence has reached 1!\n"
     ]
    },
    {
     "data": {
      "image/png": "[encoded data removed]",
      "text/plain": [
       "<Figure size 640x480 with 1 Axes>"
      ]
     },
     "metadata": {},
     "output_type": "display_data"
    }
   ],
   "source": [
    "import matplotlib.pyplot as plt\n",
    "\n",
    "def collatz(number):\n",
    "    if number % 2 == 0:  # Check if the number is even\n",
    "        print(number // 2)\n",
    "        return number // 2\n",
    "    else:  # The number is odd\n",
    "        print(3 * number + 1)\n",
    "        return 3 * number + 1\n",
    "\n",
    "def main():\n",
    "    number = int(input(\"Enter an integer: \"))\n",
    "    while number != 1:\n",
    "        number = collatz(number)  # Keep calling collatz() until it returns 1\n",
    "    print(\"The sequence has reached 1!\")\n",
    "    \n",
    "    # Plotting the Collatz sequence\n",
    "    plt.plot(sequence, marker='o', linestyle='-', color='b')\n",
    "    plt.title(f\"Collatz Sequence starting with {sequence[0]}\")\n",
    "    plt.xlabel(\"Step\")\n",
    "    plt.ylabel(\"Value\")\n",
    "    plt.grid(True)\n",
    "    plt.show()\n",
    "\n",
    "# Start the program\n",
    "main()\n"
   ]
  },
  {
   "cell_type": "code",
   "execution_count": 31,
   "id": "ef5431a3-75e7-4fc3-b361-38ceeb1a4862",
   "metadata": {},
   "outputs": [
    {
     "name": "stdout",
     "output_type": "stream",
     "text": [
      "[9, 28, 14, 7, 22, 11, 34, 17, 52, 26, 13, 40, 20, 10, 5, 16, 8, 4, 2, 1]\n",
      "9\n"
     ]
    }
   ],
   "source": [
    "# iterative\n",
    "\n",
    "def collatz_sequence_iterative(n):\n",
    "    sequence = [n]\n",
    "    while n != 1:\n",
    "        if n % 2 == 0:\n",
    "            n = n // 2\n",
    "        else:\n",
    "            n = n * 3 + 1\n",
    "\n",
    "        sequence.append(n)\n",
    "\n",
    "    return sequence\n",
    "\n",
    "print(collatz_sequence_iterative(9))\n",
    "\n",
    "# length\n",
    "def collatz_length_iterative(n):\n",
    "    counter = 1\n",
    "    \n",
    "    while n != 1:\n",
    "        if n % 2 == 0:\n",
    "            n = n // 2\n",
    "        else:\n",
    "            n = n * 3 + 1\n",
    "\n",
    "        counter += 1\n",
    "\n",
    "    return counter\n",
    "\n",
    "print(collatz_length_iterative(6))"
   ]
  },
  {
   "cell_type": "code",
   "execution_count": 38,
   "id": "2cd9124f-f794-44d9-a5a5-805a30a380fa",
   "metadata": {},
   "outputs": [
    {
     "name": "stdout",
     "output_type": "stream",
     "text": [
      "16.655641078948975\n",
      "525\n",
      "837799\n"
     ]
    }
   ],
   "source": [
    "import time\n",
    "\n",
    "def collatz_length_recursive(n):\n",
    "    if n == 1:\n",
    "        return 1\n",
    "    else:\n",
    "        if n % 2 == 0:\n",
    "            return 1 + collatz_length_recursive(n // 2)\n",
    "        else:\n",
    "            return 1 + collatz_length_recursive(n * 3 + 1)\n",
    "            \n",
    "def collatz_length_iterative(n):\n",
    "    counter = 1\n",
    "    \n",
    "    while n != 1:\n",
    "        if n % 2 == 0:\n",
    "            n = n // 2\n",
    "        else:\n",
    "            n = n * 3 + 1\n",
    "\n",
    "        counter += 1\n",
    "\n",
    "    return counter\n",
    "\n",
    "longest = 0\n",
    "longest_i = 1\n",
    "\n",
    "start = time.time()\n",
    "for i in range(1, 1000000):\n",
    "    length = collatz_length_iterative(i)\n",
    "    if length > longest:\n",
    "        longest = length\n",
    "        longest_i = i\n",
    "end = time.time()\n",
    "print(end-start)\n",
    "\n",
    "print(longest)\n",
    "print(longest_i)"
   ]
  },
  {
   "cell_type": "code",
   "execution_count": 49,
   "id": "84c18265-44a1-4eda-a7b2-3b8949ae29e3",
   "metadata": {},
   "outputs": [
    {
     "name": "stdout",
     "output_type": "stream",
     "text": [
      "Pass 1:\n",
      "  Comparing 5 and 1: Swap - [1, 5, 4, 2, 8]\n",
      "  Comparing 5 and 4: Swap - [1, 4, 5, 2, 8]\n",
      "  Comparing 5 and 2: Swap - [1, 4, 2, 5, 8]\n",
      "  Comparing 5 and 8: No swap - [1, 4, 2, 5, 8]\n",
      "--------------------\n",
      "Pass 2:\n",
      "  Comparing 1 and 4: No swap - [1, 4, 2, 5, 8]\n",
      "  Comparing 4 and 2: Swap - [1, 2, 4, 5, 8]\n",
      "  Comparing 4 and 5: No swap - [1, 2, 4, 5, 8]\n",
      "--------------------\n",
      "Pass 3:\n",
      "  Comparing 1 and 2: No swap - [1, 2, 4, 5, 8]\n",
      "  Comparing 2 and 4: No swap - [1, 2, 4, 5, 8]\n",
      "  No swaps in this pass, list is sorted.\n",
      "\n",
      "Sorted list: [1, 2, 4, 5, 8]\n",
      "Pass 1:\n",
      "  Comparing 9 and 3: Swap - [3, 9, 7, 1, 6, 2]\n",
      "  Comparing 9 and 7: Swap - [3, 7, 9, 1, 6, 2]\n",
      "  Comparing 9 and 1: Swap - [3, 7, 1, 9, 6, 2]\n",
      "  Comparing 9 and 6: Swap - [3, 7, 1, 6, 9, 2]\n",
      "  Comparing 9 and 2: Swap - [3, 7, 1, 6, 2, 9]\n",
      "--------------------\n",
      "Pass 2:\n",
      "  Comparing 3 and 7: No swap - [3, 7, 1, 6, 2, 9]\n",
      "  Comparing 7 and 1: Swap - [3, 1, 7, 6, 2, 9]\n",
      "  Comparing 7 and 6: Swap - [3, 1, 6, 7, 2, 9]\n",
      "  Comparing 7 and 2: Swap - [3, 1, 6, 2, 7, 9]\n",
      "--------------------\n",
      "Pass 3:\n",
      "  Comparing 3 and 1: Swap - [1, 3, 6, 2, 7, 9]\n",
      "  Comparing 3 and 6: No swap - [1, 3, 6, 2, 7, 9]\n",
      "  Comparing 6 and 2: Swap - [1, 3, 2, 6, 7, 9]\n",
      "--------------------\n",
      "Pass 4:\n",
      "  Comparing 1 and 3: No swap - [1, 3, 2, 6, 7, 9]\n",
      "  Comparing 3 and 2: Swap - [1, 2, 3, 6, 7, 9]\n",
      "--------------------\n",
      "Pass 5:\n",
      "  Comparing 1 and 2: No swap - [1, 2, 3, 6, 7, 9]\n",
      "  No swaps in this pass, list is sorted.\n",
      "\n",
      "Sorted list: [1, 2, 3, 6, 7, 9]\n",
      "Pass 1:\n",
      "  Comparing 1 and 2: No swap - [1, 2, 3, 4, 5]\n",
      "  Comparing 2 and 3: No swap - [1, 2, 3, 4, 5]\n",
      "  Comparing 3 and 4: No swap - [1, 2, 3, 4, 5]\n",
      "  Comparing 4 and 5: No swap - [1, 2, 3, 4, 5]\n",
      "  No swaps in this pass, list is sorted.\n",
      "\n",
      "Sorted list: [1, 2, 3, 4, 5]\n"
     ]
    }
   ],
   "source": [
    "def bubble_sort_ld1(data):\n",
    "    \"\"\"\n",
    "    Performs Bubble Sort on a list and prints the passes and swaps\n",
    "    in a format suitable for Level Decision 1.\n",
    "\n",
    "    Args:\n",
    "        data: A list of numbers to be sorted.\n",
    "\n",
    "    Returns:\n",
    "        The sorted list.\n",
    "    \"\"\"\n",
    "    n = len(data)\n",
    "    for i in range(n - 1):\n",
    "        print(f\"Pass {i + 1}:\")\n",
    "        swapped = False\n",
    "        for j in range(n - 1 - i):\n",
    "            print(f\"  Comparing {data[j]} and {data[j + 1]}: \", end=\"\")\n",
    "            if data[j] > data[j + 1]:\n",
    "                data[j], data[j + 1] = data[j + 1], data[j]\n",
    "                print(f\"Swap - {data}\")\n",
    "                swapped = True\n",
    "            else:\n",
    "                print(f\"No swap - {data}\")\n",
    "        if not swapped:\n",
    "            print(\"  No swaps in this pass, list is sorted.\")\n",
    "            break\n",
    "        print(\"-\" * 20)  # Separator for clarity\n",
    "    print(\"\\nSorted list:\", data)\n",
    "    return data\n",
    "\n",
    "# Example usage:\n",
    "my_list = [5, 1, 4, 2, 8]\n",
    "sorted_list = bubble_sort_ld1(my_list)\n",
    "\n",
    "my_other_list = [9, 3, 7, 1, 6, 2]\n",
    "sorted_other_list = bubble_sort_ld1(my_other_list)\n",
    "\n",
    "my_already_sorted_list = [1, 2, 3, 4, 5]\n",
    "sorted_already_sorted_list = bubble_sort_ld1(my_already_sorted_list)"
   ]
  },
  {
   "cell_type": "code",
   "execution_count": null,
   "id": "f10169f0-c299-4191-ac52-56afcfb00966",
   "metadata": {},
   "outputs": [],
   "source": []
  },
  {
   "cell_type": "code",
   "execution_count": null,
   "id": "2fbe40dd-efc2-48a9-87e1-bcf322c5d3a0",
   "metadata": {},
   "outputs": [],
   "source": []
  },
  {
   "cell_type": "code",
   "execution_count": null,
   "id": "c704c044-2f79-4dad-8694-480307867294",
   "metadata": {},
   "outputs": [],
   "source": []
  }
 ],
 "metadata": {
  "kernelspec": {
   "display_name": "Python 3 (ipykernel)",
   "language": "python",
   "name": "python3"
  },
  "language_info": {
   "codemirror_mode": {
    "name": "ipython",
    "version": 3
   },
   "file_extension": ".py",
   "mimetype": "text/x-python",
   "name": "python",
   "nbconvert_exporter": "python",
   "pygments_lexer": "ipython3",
   "version": "3.12.7"
  }
 },
 "nbformat": 4,
 "nbformat_minor": 5
}
